{
 "cells": [
  {
   "cell_type": "markdown",
   "metadata": {},
   "source": [
    "# Get experiments"
   ]
  },
  {
   "cell_type": "code",
   "execution_count": 1,
   "metadata": {},
   "outputs": [],
   "source": [
    "import pandas as pd\n",
    "from matplotlib import pyplot as plt"
   ]
  },
  {
   "cell_type": "code",
   "execution_count": 2,
   "metadata": {},
   "outputs": [
    {
     "name": "stdout",
     "output_type": "stream",
     "text": [
      "Index(['Dimension1(nm)', 'Dimension2(nm)', 'OD', 'Dilution(%)',\n",
      "       'Nano_stock_vol(mL)', 'Diluted_vol(mL)', 'AgConc(M)', 'AgMass(mg)',\n",
      "       'MeOH_vol(mL)', 'H2O_vol(mL)', 'Doping(%)', 'AgSol(uL)', 'Time(min)',\n",
      "       'Temperature(C)', 'Experiment'],\n",
      "      dtype='object')\n",
      "\n",
      "['1_NPL-4_(5-31-22)' '2_NPL-4_(6-1-22)' '3_NPL-11_(12-26-22)'\n",
      " '4_NPL-17_(5-3-23)' '5_NPL-17_(5-22-23)' '6_NPL-6_C.L._(7-7-23)'\n",
      " '7_NPL-12_(3-8-23)' '8_NPL-13_(3-8-23)']\n"
     ]
    }
   ],
   "source": [
    "experiments = pd.read_csv('Data/experiments.csv')\n",
    "print(experiments.keys())\n",
    "print()\n",
    "print(experiments['Experiment'].unique())"
   ]
  },
  {
   "cell_type": "markdown",
   "metadata": {},
   "source": [
    "# Extend the experiment df with the experiment processed results"
   ]
  },
  {
   "cell_type": "code",
   "execution_count": 3,
   "metadata": {},
   "outputs": [],
   "source": [
    "import numpy as np \n",
    "\n",
    "def _get_peaks(x, y):\n",
    "    peaks = []\n",
    "    th = 0.001\n",
    "    for i in range(1, len(x)-1):\n",
    "        if y[i] > y[i-1]+th and y[i] > y[i+1]+th:\n",
    "            peaks.append((x[i], y[i]))\n",
    "    return peaks\n",
    "\n",
    "def get_peaks(x, y):\n",
    "    x = np.array(x)\n",
    "    p1_i = np.where(x == 450)[0][0]\n",
    "    p1_e = np.where(x == 550)[0][0]\n",
    "    p2_i = np.where(x == 550)[0][0]\n",
    "    p2_e = np.where(x == 700)[0][0]\n",
    "\n",
    "    x1 = x[p1_i:p1_e]\n",
    "    y1 = y[p1_i:p1_e]\n",
    "    x2 = x[p2_i:p2_e]\n",
    "    y2 = y[p2_i:p2_e]\n",
    "\n",
    "    return x1[np.argmax(y1)], x2[np.argmax(y2)]\n",
    "\n",
    "def get_area_under_peaks(x, y, norm=None):\n",
    "    if not norm:\n",
    "        return np.trapz(y, x)\n",
    "    \n",
    "    x = np.array(x)\n",
    "    p1_i = np.where(x == 450)[0][0]\n",
    "    p1_e = np.where(x == 550)[0][0]\n",
    "    p2_i = np.where(x == 550)[0][0]\n",
    "    p2_e = np.where(x == 700)[0][0]\n",
    "\n",
    "    x1 = x[p1_i:p1_e]\n",
    "    y1 = y[p1_i:p1_e]\n",
    "    x2 = x[p2_i:p2_e]\n",
    "    y2 = y[p2_i:p2_e]\n",
    "\n",
    "    return np.trapz(y1, x1)/norm, np.trapz(y2, x2)/norm\n",
    "\n",
    "def process_spectrum(x, y, norm_area):\n",
    "    peaks = get_peaks(x, y)\n",
    "    areas = get_area_under_peaks(x, y, norm_area)\n",
    "    return peaks, areas"
   ]
  },
  {
   "cell_type": "code",
   "execution_count": 10,
   "metadata": {},
   "outputs": [],
   "source": [
    "def f_(d):\n",
    "    if d.is_integer():\n",
    "        return f\"{int(d)}\"\n",
    "    else:\n",
    "        decimal = len(str(d).split('.')[1])\n",
    "        s = f\"{d:.{decimal}f}\"\n",
    "        return s\n",
    "\n",
    "processed_df = pd.DataFrame()\n",
    "for exp in experiments['Experiment'].unique():\n",
    "    exp_df = experiments[experiments['Experiment'] == exp]\n",
    "\n",
    "    for i, setup in exp_df[['Temperature(C)', 'Doping(%)', 'Time(min)']].iterrows():\n",
    "        T, d, t = setup\n",
    "        with open(f\"Data/fluorescence_data/{exp}/{int(T)}-{f_(d)}-{int(t)}.txt\", 'r') as input:\n",
    "            lines = input.readlines()\n",
    "            x = []\n",
    "            y = []\n",
    "            for line in lines:\n",
    "                x.append(float(line.split()[0]))\n",
    "                y.append(float(line.split()[1]))\n",
    "            norm_y = [yi/max(y) for yi in y]\n",
    "            norm_area = get_area_under_peaks(x, y)\n",
    "            peaks, areas = process_spectrum(x, y, norm_area=1)\n",
    "            results_df = pd.DataFrame({'Temperature(C)': [T], \n",
    "                                        'Doping(%)': [d], \n",
    "                                        'Time(min)': [t], \n",
    "                                        'Peak1': [peaks[0]], \n",
    "                                        'Peak2': [peaks[1]], \n",
    "                                        'Area1': [areas[0]], \n",
    "                                        'Area2': [areas[1]],\n",
    "                                        'Distance_peaks': [peaks[1]-peaks[0]],\n",
    "                                        'ratioP2P1': [areas[1]/areas[0]],\n",
    "                                        'Wavelengths': [x],\n",
    "                                        'Fluorescence': [y],\n",
    "                                        'Fluorescence_norm': [norm_y],}) # we can add other labels here\n",
    "            new_entry = exp_df.merge(results_df, how='inner', on=['Temperature(C)', 'Doping(%)', 'Time(min)'])\n",
    "        processed_df = pd.concat([processed_df, new_entry], ignore_index=True)\n",
    "processed_df.to_csv('Data/processed_data.csv', index=False)"
   ]
  },
  {
   "cell_type": "code",
   "execution_count": 12,
   "metadata": {},
   "outputs": [
    {
     "data": {
      "text/plain": [
       "[<matplotlib.lines.Line2D at 0x2bc1cc650>]"
      ]
     },
     "execution_count": 12,
     "metadata": {},
     "output_type": "execute_result"
    },
    {
     "data": {
      "image/png": "[encoded data removed]",
      "text/plain": [
       "<Figure size 640x480 with 1 Axes>"
      ]
     },
     "metadata": {},
     "output_type": "display_data"
    }
   ],
   "source": [
    "asd = pd.read_csv('Data/processed_data.csv')\n",
    "sample = asd.iloc[0]\n",
    "w = [float(a) for a in sample['Wavelengths'][1:-1].split(',')]\n",
    "i = [float(a) for a in sample['Fluorescence'][1:-1].split(',')]\n",
    "\n",
    "plt.plot(w, i, color=\"C0\")"
   ]
  },
  {
   "cell_type": "markdown",
   "metadata": {},
   "source": [
    "# Entire espectra"
   ]
  },
  {
   "cell_type": "code",
   "execution_count": 6,
   "metadata": {},
   "outputs": [],
   "source": [
    "original_columns = ['Dimension1(nm)',\n",
    "                    'Dimension2(nm)',\n",
    "                    'OD',\n",
    "                    'Dilution(%)',\n",
    "                    'Nano_stock_vol(mL)',\n",
    "                    'Diluted_vol(mL)',\n",
    "                    'AgConc(M)',\n",
    "                    'AgMass(mg)',\n",
    "                    'MeOH_vol(mL)',\n",
    "                    'H2O_vol(mL)',\n",
    "                    'Doping(%)',\n",
    "                    'AgSol(uL)',\n",
    "                    'Time(min)',\n",
    "                    'Temperature(C)',\n",
    "                    'Experiment'\n",
    "                ]\n",
    "\n",
    "new_columns = ['Wavelength(nm)', 'Fluorescence', 'Fluorescence_norm']\n",
    "\n",
    "with open('Data/spectra_data.csv', 'w') as output:\n",
    "    output.write(','.join(original_columns + new_columns) + '\\n')\n",
    "    for exp in experiments['Experiment'].unique():\n",
    "        exp_df = experiments[experiments['Experiment'] == exp]\n",
    "\n",
    "        for i, setup in exp_df[['Temperature(C)', 'Doping(%)', 'Time(min)']].iterrows():\n",
    "            T, d, t = setup\n",
    "            props = exp_df[(exp_df['Doping(%)'] == d) & (exp_df['Time(min)'] == t) & (exp_df['Temperature(C)'] == T)].iloc[0].to_list()\n",
    "            with open(f\"Data/fluorescence_data/{exp}/{int(T)}-{f_(d)}-{int(t)}.txt\", 'r') as input:\n",
    "                lines = input.readlines()\n",
    "                x = []\n",
    "                y = []\n",
    "                for line in lines:\n",
    "                    x.append(float(line.split()[0]))\n",
    "                    y.append(float(line.split()[1]))\n",
    "                norm_y = [yi/max(y) for yi in y]\n",
    "                for xi, yi, norm_yi in zip(x, y, norm_y):\n",
    "                    new_line = props + [xi, yi, norm_yi]\n",
    "                    output.write(','.join([str(p) for p in new_line]) + '\\n')\n"
   ]
  },
  {
   "cell_type": "code",
   "execution_count": 15,
   "metadata": {},
   "outputs": [
    {
     "data": {
      "image/png": "[encoded data removed]",
      "text/plain": [
       "<Figure size 640x480 with 1 Axes>"
      ]
     },
     "metadata": {},
     "output_type": "display_data"
    }
   ],
   "source": [
    "asd = pd.read_csv('Data/spectra_data.csv')\n",
    "\n",
    "for group, df in asd.groupby(['Experiment', 'Temperature(C)', 'Doping(%)', 'Time(min)']):\n",
    "    plt.plot(df['Wavelength(nm)'], df['Fluorescence'], label=group[0])\n",
    "    # plt.legend()\n",
    "    # break\n"
   ]
  },
  {
   "cell_type": "markdown",
   "metadata": {},
   "source": [
    "# Creating bolift pool"
   ]
  },
  {
   "cell_type": "code",
   "execution_count": 8,
   "metadata": {},
   "outputs": [
    {
     "data": {
      "text/html": [
       "<div>\n",
       "<style scoped>\n",
       "    .dataframe tbody tr th:only-of-type {\n",
       "        vertical-align: middle;\n",
       "    }\n",
       "\n",
       "    .dataframe tbody tr th {\n",
       "        vertical-align: top;\n",
       "    }\n",
       "\n",
       "    .dataframe thead th {\n",
       "        text-align: right;\n",
       "    }\n",
       "</style>\n",
       "<table border=\"1\" class=\"dataframe\">\n",
       "  <thead>\n",
       "    <tr style=\"text-align: right;\">\n",
       "      <th></th>\n",
       "      <th>Dimension1(nm)</th>\n",
       "      <th>Dimension2(nm)</th>\n",
       "      <th>OD</th>\n",
       "      <th>Dilution(%)</th>\n",
       "      <th>Nano_stock_vol(mL)</th>\n",
       "      <th>Diluted_vol(mL)</th>\n",
       "      <th>AgConc(M)</th>\n",
       "      <th>AgMass(mg)</th>\n",
       "      <th>MeOH_vol(mL)</th>\n",
       "      <th>H2O_vol(mL)</th>\n",
       "      <th>Doping(%)</th>\n",
       "      <th>AgSol(uL)</th>\n",
       "      <th>Time(min)</th>\n",
       "      <th>Temperature(C)</th>\n",
       "      <th>Experiment</th>\n",
       "    </tr>\n",
       "  </thead>\n",
       "  <tbody>\n",
       "    <tr>\n",
       "      <th>0</th>\n",
       "      <td>18.8</td>\n",
       "      <td>14.04</td>\n",
       "      <td>100x</td>\n",
       "      <td>0.175</td>\n",
       "      <td>0.25</td>\n",
       "      <td>1.75</td>\n",
       "      <td>0.0060</td>\n",
       "      <td>7.8</td>\n",
       "      <td>5</td>\n",
       "      <td>2</td>\n",
       "      <td>1.00</td>\n",
       "      <td>1.4</td>\n",
       "      <td>60</td>\n",
       "      <td>25</td>\n",
       "      <td>1_NPL-4_(5-31-22)</td>\n",
       "    </tr>\n",
       "    <tr>\n",
       "      <th>1</th>\n",
       "      <td>18.8</td>\n",
       "      <td>14.04</td>\n",
       "      <td>100x</td>\n",
       "      <td>0.175</td>\n",
       "      <td>0.25</td>\n",
       "      <td>1.75</td>\n",
       "      <td>0.0060</td>\n",
       "      <td>7.8</td>\n",
       "      <td>5</td>\n",
       "      <td>2</td>\n",
       "      <td>2.50</td>\n",
       "      <td>3.4</td>\n",
       "      <td>60</td>\n",
       "      <td>25</td>\n",
       "      <td>1_NPL-4_(5-31-22)</td>\n",
       "    </tr>\n",
       "    <tr>\n",
       "      <th>2</th>\n",
       "      <td>18.8</td>\n",
       "      <td>14.04</td>\n",
       "      <td>100x</td>\n",
       "      <td>0.175</td>\n",
       "      <td>0.25</td>\n",
       "      <td>1.75</td>\n",
       "      <td>0.0060</td>\n",
       "      <td>7.8</td>\n",
       "      <td>5</td>\n",
       "      <td>2</td>\n",
       "      <td>5.00</td>\n",
       "      <td>6.8</td>\n",
       "      <td>60</td>\n",
       "      <td>25</td>\n",
       "      <td>1_NPL-4_(5-31-22)</td>\n",
       "    </tr>\n",
       "    <tr>\n",
       "      <th>3</th>\n",
       "      <td>18.8</td>\n",
       "      <td>14.04</td>\n",
       "      <td>100x</td>\n",
       "      <td>0.175</td>\n",
       "      <td>0.25</td>\n",
       "      <td>1.75</td>\n",
       "      <td>0.0060</td>\n",
       "      <td>7.8</td>\n",
       "      <td>5</td>\n",
       "      <td>2</td>\n",
       "      <td>10.00</td>\n",
       "      <td>13.7</td>\n",
       "      <td>60</td>\n",
       "      <td>25</td>\n",
       "      <td>1_NPL-4_(5-31-22)</td>\n",
       "    </tr>\n",
       "    <tr>\n",
       "      <th>4</th>\n",
       "      <td>18.8</td>\n",
       "      <td>14.04</td>\n",
       "      <td>100x</td>\n",
       "      <td>0.175</td>\n",
       "      <td>0.25</td>\n",
       "      <td>1.75</td>\n",
       "      <td>0.0007</td>\n",
       "      <td>3.5</td>\n",
       "      <td>20</td>\n",
       "      <td>8</td>\n",
       "      <td>0.25</td>\n",
       "      <td>3.0</td>\n",
       "      <td>60</td>\n",
       "      <td>25</td>\n",
       "      <td>2_NPL-4_(6-1-22)</td>\n",
       "    </tr>\n",
       "  </tbody>\n",
       "</table>\n",
       "</div>"
      ],
      "text/plain": [
       "   Dimension1(nm)  Dimension2(nm)    OD  Dilution(%)  Nano_stock_vol(mL)  \\\n",
       "0            18.8           14.04  100x        0.175                0.25   \n",
       "1            18.8           14.04  100x        0.175                0.25   \n",
       "2            18.8           14.04  100x        0.175                0.25   \n",
       "3            18.8           14.04  100x        0.175                0.25   \n",
       "4            18.8           14.04  100x        0.175                0.25   \n",
       "\n",
       "   Diluted_vol(mL)  AgConc(M)  AgMass(mg)  MeOH_vol(mL)  H2O_vol(mL)  \\\n",
       "0             1.75     0.0060         7.8             5            2   \n",
       "1             1.75     0.0060         7.8             5            2   \n",
       "2             1.75     0.0060         7.8             5            2   \n",
       "3             1.75     0.0060         7.8             5            2   \n",
       "4             1.75     0.0007         3.5            20            8   \n",
       "\n",
       "   Doping(%)  AgSol(uL)  Time(min)  Temperature(C)         Experiment  \n",
       "0       1.00        1.4         60              25  1_NPL-4_(5-31-22)  \n",
       "1       2.50        3.4         60              25  1_NPL-4_(5-31-22)  \n",
       "2       5.00        6.8         60              25  1_NPL-4_(5-31-22)  \n",
       "3      10.00       13.7         60              25  1_NPL-4_(5-31-22)  \n",
       "4       0.25        3.0         60              25   2_NPL-4_(6-1-22)  "
      ]
     },
     "execution_count": 8,
     "metadata": {},
     "output_type": "execute_result"
    }
   ],
   "source": [
    "experiments.head()"
   ]
  },
  {
   "cell_type": "code",
   "execution_count": 9,
   "metadata": {},
   "outputs": [
    {
     "name": "stderr",
     "output_type": "stream",
     "text": [
      "/Users/maykcaldas/miniconda3/envs/doe/lib/python3.11/site-packages/tqdm/auto.py:21: TqdmWarning: IProgress not found. Please update jupyter and ipywidgets. See https://ipywidgets.readthedocs.io/en/stable/user_install.html\n",
      "  from .autonotebook import tqdm as notebook_tqdm\n"
     ]
    }
   ],
   "source": [
    "import itertools\n",
    "import bolift\n",
    "import cloudpickle\n",
    "from dotenv import load_dotenv\n",
    "load_dotenv()\n",
    "\n",
    "prompt_template = \"Stock nanoplatelets have dimensions {Dimension1(nm)} nm by {Dimension2(nm)} nm and the optical density of 100x hexanes dilution of stock is {Dilution(%)}% \" \\\n",
    "                    \"recorded at 512nm. {Nano_stock_vol(mL)} mL nanoplatelets stock is diluted 7x by hexanes using {Diluted_vol(mL)} mL for each trial of doping. \" \\\n",
    "                    \"Silver acetate solution of {AgConc(M)} M is made with {AgMass(mg)} mg of silver acetate in {MeOH_vol(mL)} mL of MeOH and {H2O_vol(mL)} mL of water. \" \\\n",
    "                    \"{Doping(%)} % Ag doping requires {AgSol(uL)} uL of silver doping solution, respectively. \" \\\n",
    "                    \"The reaction was performed at 1000 rpm for {Time(min)} minutes at {Temperature(C)} oC. \" \\\n",
    "                    \"Fluorescence of each doped sample was collected as a 30x dilution with hexanes.\"\n",
    "\n",
    "def get_partial_pool(experiments, feats):\n",
    "    dict_df = experiments.groupby(by=feats).size().reset_index()[feats].to_dict()\n",
    "    return [{k:v[i] for (k,v) in zip(dict_df.keys(), dict_df.values())} for i in range(len(list(dict_df.values())[0]))]\n",
    "\n",
    "def explode_dict(dict):\n",
    "    return [{k:v[i] for (k,v) in zip(dict.keys(), dict.values())} for i in range(len(list(dict.values())[0]))]\n",
    "\n",
    "features = experiments.keys()[:-1]\n",
    "feats_1=features[0:2]\n",
    "feats_2=features[2:6]\n",
    "feats_3=features[6:12]\n",
    "feats_4=features[12:14]\n",
    "\n",
    "pool_p1 = get_partial_pool(experiments, feats_1.to_list())\n",
    "pool_p2 = get_partial_pool(experiments, feats_2.to_list())\n",
    "pool_p3 = get_partial_pool(experiments, feats_3.to_list())\n",
    "pool_p4 = {\n",
    "    \"Time(min)\": [10, 60, 180],\n",
    "    \"Temperature(C)\": [0, 25, 50],\n",
    "}\n",
    "pool_p4 = [{\"Time(min)\": v1, \"Temperature(C)\": v2} for (v1,v2) in itertools.product(*pool_p4.values())]\n",
    "\n",
    "\n",
    "iter = itertools.product(pool_p1, pool_p2, pool_p3, pool_p4)\n",
    "\n",
    "pool_list = []\n",
    "for props in iter:\n",
    "    d = {}\n",
    "    for prop in props:\n",
    "        d.update(prop)\n",
    "    pool_list.append(prompt_template.format(**d))\n",
    "\n",
    "with open('Data/pool.txt', 'w') as output:\n",
    "    output.write('\\n'.join(pool_list))\n",
    "\n",
    "pool = bolift.Pool(pool_list)\n",
    "cloudpickle.dump(pool, open('Data/pool.pkl', 'wb'))"
   ]
  },
  {
   "cell_type": "code",
   "execution_count": null,
   "metadata": {},
   "outputs": [],
   "source": []
  }
 ],
 "metadata": {
  "kernelspec": {
   "display_name": "doe",
   "language": "python",
   "name": "python3"
  },
  "language_info": {
   "codemirror_mode": {
    "name": "ipython",
    "version": 3
   },
   "file_extension": ".py",
   "mimetype": "text/x-python",
   "name": "python",
   "nbconvert_exporter": "python",
   "pygments_lexer": "ipython3",
   "version": "3.11.4"
  },
  "orig_nbformat": 4
 },
 "nbformat": 4,
 "nbformat_minor": 2
}
