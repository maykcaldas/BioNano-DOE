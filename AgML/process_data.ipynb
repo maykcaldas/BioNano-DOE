{
 "cells": [
  {
   "cell_type": "code",
   "execution_count": 17,
   "metadata": {},
   "outputs": [],
   "source": [
    "# Process it all into a single file\n",
    "import glob\n",
    "with open(\"./dataset.tsv\", \"w\") as out:\n",
    "    out.write(\"Temperature(C)\\tDoping(%)\\tTime\\tWavelength\\tIntensity\\n\")\n",
    "    for data in glob.glob('fluorescence_data/*.txt'):\n",
    "        with open(data, 'r') as f:\n",
    "            filename = data.split('/')[-1].split('.')[0]\n",
    "            T = filename.split('-')[0]\n",
    "            dop = filename.split('-')[1]\n",
    "            t = filename.split('-')[2]\n",
    "            if dop != \"NPL\":\n",
    "                setup = [T, dop, t]\n",
    "                for line in f:\n",
    "                    new_line = setup + line.split()\n",
    "                    out.write(\"\\t\".join(new_line)+\"\\n\")\n",
    "        "
   ]
  },
  {
   "cell_type": "code",
   "execution_count": 18,
   "metadata": {},
   "outputs": [],
   "source": [
    "# Process it all into a single file filtering just the peak values\n",
    "import glob\n",
    "with open(\"./peak_dataset.tsv\", \"w\") as out:\n",
    "    out.write(\"Temperature(C)\\tDoping(%)\\tTime\\tWavelength\\n\")\n",
    "    for data in glob.glob('fluorescence_data/*.txt'):\n",
    "        with open(data, 'r') as f:\n",
    "            filename = data.split('/')[-1].split('.')[0]\n",
    "            T = filename.split('-')[0]\n",
    "            dop = filename.split('-')[1]\n",
    "            t = filename.split('-')[2]\n",
    "            if dop != \"NPL\":\n",
    "                setup = [T, dop, t]\n",
    "                best_intensity = -1\n",
    "                out_line = \"\"\n",
    "                for line in f:\n",
    "                    new_line = setup + line.split()\n",
    "                    if float(new_line[4]) > best_intensity:\n",
    "                        best_intensity = float(new_line[4])\n",
    "                        out_line = new_line\n",
    "                out.write(\"\\t\".join(out_line[:-1])+\"\\n\")\n",
    "                \n",
    "        "
   ]
  },
  {
   "cell_type": "code",
   "execution_count": null,
   "metadata": {},
   "outputs": [],
   "source": []
  }
 ],
 "metadata": {
  "kernelspec": {
   "display_name": "doe",
   "language": "python",
   "name": "python3"
  },
  "language_info": {
   "codemirror_mode": {
    "name": "ipython",
    "version": 3
   },
   "file_extension": ".py",
   "mimetype": "text/x-python",
   "name": "python",
   "nbconvert_exporter": "python",
   "pygments_lexer": "ipython3",
   "version": "3.11.4"
  },
  "orig_nbformat": 4
 },
 "nbformat": 4,
 "nbformat_minor": 2
}
