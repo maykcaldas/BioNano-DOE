{
 "cells": [
  {
   "cell_type": "markdown",
   "metadata": {},
   "source": [
    "# Making pool of values for DOE - BO experiment"
   ]
  },
  {
   "cell_type": "code",
   "execution_count": 1,
   "metadata": {},
   "outputs": [],
   "source": [
    "import numpy as np\n",
    "import matplotlib.pyplot as plt\n",
    "# Length = [28.639, 28.276, 31.121, 19.835, 33.654, 30.594, 29.529]#np.arange(12,51)\n",
    "# Width = [9.008, 9.004, 7.358, 14.762, 6.926, 8.897, 8.737]#np.arange(6,26)\n",
    "Length = [28.639, 31.121, 33.654, 30.594]#np.arange(12,51)\n",
    "Width = [9.008, 7.358, 6.926, 8.897]#np.arange(6,26)\n",
    "Thickness = 1.22 #nm average(?)\n",
    "Unit_volume = 0.221445125 #nm^3\n",
    "epsilon = 31947800  # (1/M*cm)ROUGH ESTIMATE from JPCC 2015, 119, 26768\t\t *for 4 ML NPLs with lateral size of ~300nm^2\t\n",
    "Cd_atoms_per_unit_volume = 4\n",
    "Se_atoms_per_unit_volume = 0.875\n",
    "Ag_acet_concentration = [0.006,0.0007] #M\n",
    "Dilution_factor_for_OD = 100\n",
    "Ag_percentage_doping = [2,5,10]  # % of doping\n",
    "Optical_density_at_dilution_factor_100 = [0.15,0.3]  #Experimentally measured  \n",
    "Aliquote = [0.25,0.5] #mL of NPL Aliquote for experiments from Ag_acet_concentration\n",
    "Mass_Ag_acet = [3.5,7.8,14] #mg Ag_acet\n",
    "Ag_Acet_mw = 166.91 #g/mol\n",
    "\n"
   ]
  },
  {
   "cell_type": "code",
   "execution_count": null,
   "metadata": {},
   "outputs": [],
   "source": [
    "# Create nested loops to iterate through the possible values of each parameter\n",
    "import pandas as pd \n",
    "from tqdm import tqdm\n",
    "from itertools import product\n",
    "data = { 'Dimension1(nm)': [], 'Dimension2(nm)': [],  'Dilution(%)': [], 'Nano_stock_vol(mL)': [], \n",
    "        'Diluted_vol(mL)': [], 'AgConc(M)': [], 'AgMass(mg)': [], 'MeOH_vol(mL)': [], \n",
    "        'H2O_vol(mL)': [], 'Doping(%)': [], 'AgSol(uL)': [],'Temperature(C)': [],'Time(min)':[]}\n",
    "Time = [10, 60, 180] # min\n",
    "Temperature = [0, 25, 50] # C\n",
    "areas = []\n",
    "#get combinations of L and W without considering order\n",
    "# L_w_combs = list(product(Length, Width))\n",
    "L_w_combs = [(L,W) for (L, W) in zip(Length, Width)]\n",
    "print(L_w_combs)\n",
    "depurated_L_w_combs = []\n",
    "areas = []\n",
    "for L, W in L_w_combs:\n",
    "    if L*W not in areas:\n",
    "        areas.append(L*W)\n",
    "        depurated_L_w_combs.append((L,W))\n",
    "\n",
    "total_iterations = len(depurated_L_w_combs) * len([Dilution_factor_for_OD]) * len(Optical_density_at_dilution_factor_100) * len(Aliquote) * len(Ag_acet_concentration) * len(Mass_Ag_acet) * len(Ag_percentage_doping)\n",
    "with tqdm(total=total_iterations) as pbar:\n",
    "    for DF in [Dilution_factor_for_OD]:\n",
    "        for OD in Optical_density_at_dilution_factor_100:\n",
    "            for NSV in Aliquote:\n",
    "                for AAC in Ag_acet_concentration:\n",
    "                    for AM in Mass_Ag_acet:\n",
    "                        for DP in Ag_percentage_doping:\n",
    "                            for L, W in depurated_L_w_combs:\n",
    "                                    # Calculations based on spreadsheet\n",
    "                                    pbar.update(1)\n",
    "\n",
    "                                    Unique_unit_areas = L * W\n",
    "                                    Unique_unit_volumes = Unique_unit_areas * Thickness  # nm^3\n",
    "                                    Unique_number_qd = Unique_unit_volumes / Unit_volume  # NUMBER OF QD per unit\n",
    "\n",
    "                                    Concentration_at_dilution = OD / epsilon  # [NPL] M at dilution\n",
    "                                    Concentration = Concentration_at_dilution * DF  # [NPL] M\n",
    "                                    Cd_concentration = Concentration * Unique_number_qd * Cd_atoms_per_unit_volume # [Cd] M= [NPL] M * qd_number per NPL * Cd_atoms_per_unit_volume\n",
    "\n",
    "                                    # Solution of ag_acet to get Ag_mol of 0.006M or 0.0007M from Ag_acet mass\n",
    "                                    Ag_total_sol_volume = (AM / Ag_Acet_mw) / AAC  # mL\n",
    "                                    Me_OH_vol = Ag_total_sol_volume * 5 / 7  # mL MeOH\n",
    "                                    Water_vol = Ag_total_sol_volume * 2 / 7  # mL H2O\n",
    "                                    Cd_mols = Cd_concentration * NSV / 1000\n",
    "                                    Ag_mols_needed = Cd_mols * DP / 100  # mol of Ag needed\n",
    "                                    Vol_Ag_acet_needed = Ag_mols_needed / AAC * 1000 * 1000 #micro liters\n",
    "                                    # Append values to lists\n",
    "                                    for T in Temperature:\n",
    "                                        for t in Time:\n",
    "                                            data['Dimension1(nm)'].append(L)\n",
    "                                            data['Dimension2(nm)'].append(W)\n",
    "                                            data['Dilution(%)'].append(OD)    #wrong name, it should be OD w dilution\n",
    "                                            data['Nano_stock_vol(mL)'].append(NSV)\n",
    "                                            data['Diluted_vol(mL)'].append(NSV*7)\n",
    "                                            data['AgConc(M)'].append(AAC)\n",
    "                                            data['AgMass(mg)'].append(AM)\n",
    "                                            data['MeOH_vol(mL)'].append(Me_OH_vol)\n",
    "                                            data['H2O_vol(mL)'].append(Water_vol)\n",
    "                                            data['Doping(%)'].append(DP)\n",
    "                                            data['AgSol(uL)'].append(Vol_Ag_acet_needed)\n",
    "                                            data['Time(min)'].append(t)\n",
    "                                            data['Temperature(C)'].append(T)\n",
    "\n",
    "data = pd.DataFrame(data)\n",
    "display(data)"
   ]
  },
  {
   "cell_type": "markdown",
   "metadata": {},
   "source": []
  },
  {
   "cell_type": "code",
   "execution_count": null,
   "metadata": {},
   "outputs": [],
   "source": [
    "print(len(data))"
   ]
  },
  {
   "cell_type": "code",
   "execution_count": 4,
   "metadata": {},
   "outputs": [],
   "source": [
    "data.to_csv('Data/pool_processed.csv', index=False)"
   ]
  },
  {
   "cell_type": "code",
   "execution_count": null,
   "metadata": {},
   "outputs": [],
   "source": []
  }
 ],
 "metadata": {
  "kernelspec": {
   "display_name": "bolift",
   "language": "python",
   "name": "python3"
  },
  "language_info": {
   "codemirror_mode": {
    "name": "ipython",
    "version": 3
   },
   "file_extension": ".py",
   "mimetype": "text/x-python",
   "name": "python",
   "nbconvert_exporter": "python",
   "pygments_lexer": "ipython3",
   "version": "3.10.14"
  },
  "orig_nbformat": 4
 },
 "nbformat": 4,
 "nbformat_minor": 2
}
