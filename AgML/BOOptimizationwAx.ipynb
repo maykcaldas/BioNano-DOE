{
 "cells": [
  {
   "cell_type": "code",
   "execution_count": 1,
   "metadata": {},
   "outputs": [
    {
     "name": "stderr",
     "output_type": "stream",
     "text": [
      "[WARNING 01-31 12:56:31] ax.service.utils.with_db_settings_base: Ax currently requires a sqlalchemy version below 2.0. This will be addressed in a future release. Disabling SQL storage in Ax for now, if you would like to use SQL storage please install Ax with mysql extras via `pip install ax-platform[mysql]`.\n"
     ]
    }
   ],
   "source": [
    "#Core libraries\n",
    "import gpytorch\n",
    "import torch\n",
    "import numpy as np\n",
    "import pandas as pd\n",
    "\n",
    "#Ax library\n",
    "from ax.modelbridge.generation_strategy import GenerationStep, GenerationStrategy\n",
    "from ax.modelbridge.registry import Models\n",
    "from botorch.models.gpytorch import GPyTorchModel\n",
    "from botorch.utils.datasets import SupervisedDataset\n",
    "from gpytorch.distributions import MultivariateNormal\n",
    "from gpytorch.kernels import RBFKernel, ScaleKernel\n",
    "from gpytorch.likelihoods import GaussianLikelihood\n",
    "from gpytorch.means import ConstantMean\n",
    "from gpytorch.models import ExactGP\n",
    "from ax.models.torch.botorch_modular.model import BoTorchModel\n",
    "from ax.models.torch.botorch_modular.surrogate import Surrogate\n",
    "from botorch.fit import fit_gpytorch_model\n",
    "from gpytorch.mlls import ExactMarginalLogLikelihood, LeaveOneOutPseudoLikelihood, SumMarginalLogLikelihood\n",
    "from gpytorch.mlls import VariationalELBO\n",
    "from botorch.acquisition.monte_carlo import qExpectedImprovement\n",
    "from botorch.acquisition import qNoisyExpectedImprovement\n",
    "from botorch.acquisition.analytic import ExpectedImprovement, LogProbabilityOfImprovement\n",
    "from ax.service.ax_client import AxClient, ObjectiveProperties\n",
    "from botorch.models.gp_regression import FixedNoiseGP\n",
    "\n",
    "#Deveper API\n",
    "from ax import (\n",
    "    ComparisonOp,\n",
    "    ParameterType,\n",
    "    RangeParameter,\n",
    "    ChoiceParameter,\n",
    "    FixedParameter,\n",
    "    SearchSpace,\n",
    "    Experiment,\n",
    "    OutcomeConstraint,\n",
    "    OrderConstraint,\n",
    "    SumConstraint,\n",
    "    OptimizationConfig,\n",
    "    Objective,\n",
    "    Metric,\n",
    "    Runner,\n",
    "    Data,\n",
    "    Arm,\n",
    ")\n",
    "from ax.core import ObservationFeatures\n",
    "#For Visualization Purposes\n",
    "from ax.utils.notebook.plotting import render\n",
    "from ax.modelbridge.cross_validation import cross_validate\n",
    "from ax.plot.diagnostic import interact_cross_validation\n",
    "from ax.plot.slice import plot_slice\n",
    "\n"
   ]
  },
  {
   "cell_type": "markdown",
   "metadata": {},
   "source": [
    "## Get Data"
   ]
  },
  {
   "cell_type": "code",
   "execution_count": 2,
   "metadata": {},
   "outputs": [
    {
     "name": "stdout",
     "output_type": "stream",
     "text": [
      "You have a total of  51  data points\n",
      "With  9  number of features each\n"
     ]
    },
    {
     "data": {
      "text/html": [
       "<div>\n",
       "<style scoped>\n",
       "    .dataframe tbody tr th:only-of-type {\n",
       "        vertical-align: middle;\n",
       "    }\n",
       "\n",
       "    .dataframe tbody tr th {\n",
       "        vertical-align: top;\n",
       "    }\n",
       "\n",
       "    .dataframe thead th {\n",
       "        text-align: right;\n",
       "    }\n",
       "</style>\n",
       "<table border=\"1\" class=\"dataframe\">\n",
       "  <thead>\n",
       "    <tr style=\"text-align: right;\">\n",
       "      <th></th>\n",
       "      <th>0</th>\n",
       "      <th>1</th>\n",
       "      <th>2</th>\n",
       "      <th>3</th>\n",
       "      <th>4</th>\n",
       "      <th>5</th>\n",
       "      <th>6</th>\n",
       "      <th>7</th>\n",
       "      <th>8</th>\n",
       "    </tr>\n",
       "  </thead>\n",
       "  <tbody>\n",
       "    <tr>\n",
       "      <th>0</th>\n",
       "      <td>18.8</td>\n",
       "      <td>14.04</td>\n",
       "      <td>0.175</td>\n",
       "      <td>0.25</td>\n",
       "      <td>0.0060</td>\n",
       "      <td>7.8</td>\n",
       "      <td>1.25</td>\n",
       "      <td>60.0</td>\n",
       "      <td>25.0</td>\n",
       "    </tr>\n",
       "    <tr>\n",
       "      <th>1</th>\n",
       "      <td>18.8</td>\n",
       "      <td>14.04</td>\n",
       "      <td>0.175</td>\n",
       "      <td>0.25</td>\n",
       "      <td>0.0060</td>\n",
       "      <td>7.8</td>\n",
       "      <td>2.50</td>\n",
       "      <td>60.0</td>\n",
       "      <td>25.0</td>\n",
       "    </tr>\n",
       "    <tr>\n",
       "      <th>2</th>\n",
       "      <td>18.8</td>\n",
       "      <td>14.04</td>\n",
       "      <td>0.175</td>\n",
       "      <td>0.25</td>\n",
       "      <td>0.0060</td>\n",
       "      <td>7.8</td>\n",
       "      <td>5.00</td>\n",
       "      <td>60.0</td>\n",
       "      <td>25.0</td>\n",
       "    </tr>\n",
       "    <tr>\n",
       "      <th>3</th>\n",
       "      <td>18.8</td>\n",
       "      <td>14.04</td>\n",
       "      <td>0.175</td>\n",
       "      <td>0.25</td>\n",
       "      <td>0.0060</td>\n",
       "      <td>7.8</td>\n",
       "      <td>10.00</td>\n",
       "      <td>60.0</td>\n",
       "      <td>25.0</td>\n",
       "    </tr>\n",
       "    <tr>\n",
       "      <th>4</th>\n",
       "      <td>18.8</td>\n",
       "      <td>14.04</td>\n",
       "      <td>0.175</td>\n",
       "      <td>0.25</td>\n",
       "      <td>0.0007</td>\n",
       "      <td>3.5</td>\n",
       "      <td>0.25</td>\n",
       "      <td>60.0</td>\n",
       "      <td>25.0</td>\n",
       "    </tr>\n",
       "  </tbody>\n",
       "</table>\n",
       "</div>"
      ],
      "text/plain": [
       "      0      1      2     3       4    5      6     7     8\n",
       "0  18.8  14.04  0.175  0.25  0.0060  7.8   1.25  60.0  25.0\n",
       "1  18.8  14.04  0.175  0.25  0.0060  7.8   2.50  60.0  25.0\n",
       "2  18.8  14.04  0.175  0.25  0.0060  7.8   5.00  60.0  25.0\n",
       "3  18.8  14.04  0.175  0.25  0.0060  7.8  10.00  60.0  25.0\n",
       "4  18.8  14.04  0.175  0.25  0.0007  3.5   0.25  60.0  25.0"
      ]
     },
     "execution_count": 2,
     "metadata": {},
     "output_type": "execute_result"
    }
   ],
   "source": [
    "#get modified features and train_final label from the csv file\n",
    "# NAME_OF_FILE = 'modified_features.csv'\n",
    "NAME_OF_FILE =  '/Users/jorgemedina/DOEFinal/DOE/AgML/Data/modified_features.csv'\n",
    "mod_dataset = pd.read_csv(NAME_OF_FILE, index_col=0)\n",
    "modified_features = mod_dataset.iloc[:,0:9] #the first ones are the features, the last one is the label\n",
    "train_final_label = mod_dataset.iloc[:,9]\n",
    "#transform to torch\n",
    "train_final_label_pt = torch.tensor(train_final_label.values, dtype=torch.float)\n",
    "modified_features_pt = torch.tensor(modified_features.values, dtype=torch.float)\n",
    "\n",
    "print(\"You have a total of \", len(modified_features), \" data points\")\n",
    "print(\"With \", len(modified_features.columns), \" number of features each\")\n",
    "#print(\" and \", len() , \" label(s) each\") # In theory you could want to do multi-objective optimization\n",
    "\n",
    "\n",
    "\n",
    "############################################################################################################\n",
    "\n",
    "modified_features.head() # What are the columns? That might be good to have it in the .csv file"
   ]
  },
  {
   "cell_type": "markdown",
   "metadata": {},
   "source": [
    "## Define your models with GPyTorch-BoTorch"
   ]
  },
  {
   "cell_type": "code",
   "execution_count": 3,
   "metadata": {},
   "outputs": [],
   "source": [
    "### This is how i figure base on a lot of conversation and trial and error that you can \n",
    "### initialize your model classes for use with Ax.dev framework. (e.g. speficying the likelihood directly in the __init__)\n",
    "class ExactGPModel(gpytorch.models.ExactGP, GPyTorchModel):\n",
    "    \n",
    "    _num_outputs = 1 \n",
    "\n",
    "    def __init__(self, train_X, train_Y,**kwargs):\n",
    "        super().__init__(train_X, train_Y.squeeze(-1), GaussianLikelihood(), **kwargs)\n",
    "        self.mean_module = gpytorch.means.ConstantMean()\n",
    "        self.covar_module = gpytorch.kernels.ScaleKernel(gpytorch.kernels.RBFKernel(ard_num_dims=9))\n",
    "        self.to(train_X)\n",
    "        \n",
    "    def forward(self, x):\n",
    "        mean_x = self.mean_module(x)\n",
    "        covar_x = self.covar_module(x)\n",
    "        return gpytorch.distributions.MultivariateNormal(mean_x, covar_x)\n",
    "\n",
    "#matern models\n",
    "\n",
    "class BaseGPMatern(gpytorch.models.ExactGP, GPyTorchModel):\n",
    "    _num_outputs = 1 \n",
    "    \n",
    "    def __init__(self, train_X, train_Y, **kwargs):\n",
    "        super().__init__(train_X, train_Y.squeeze(-1), GaussianLikelihood(), **kwargs)\n",
    "        self.mean_module = gpytorch.means.ConstantMean()\n",
    "        self.covar_module = gpytorch.kernels.ScaleKernel(gpytorch.kernels.MaternKernel(nu=2.5,ard_num_dims=9))\n",
    "        self.to(train_X)\n",
    "            \n",
    "    def forward(self, x):\n",
    "        mean_x = self.mean_module(x)\n",
    "        covar_x = self.covar_module(x)\n",
    "        return gpytorch.distributions.MultivariateNormal(mean_x, covar_x)\n",
    "    "
   ]
  },
  {
   "cell_type": "markdown",
   "metadata": {},
   "source": [
    "# Ax.dev ingredients\n",
    "Either Service or Developer API work for our purposes. Choose the one you prefer, Developer gives more flexibility to the creation of the optimization loop"
   ]
  },
  {
   "cell_type": "markdown",
   "metadata": {},
   "source": [
    "## Using the Service API"
   ]
  },
  {
   "cell_type": "markdown",
   "metadata": {},
   "source": [
    "### Generation Strategy"
   ]
  },
  {
   "cell_type": "code",
   "execution_count": 4,
   "metadata": {},
   "outputs": [],
   "source": [
    "# Because we already have a warm start with raw data, we dont need SOBOL sampling to begin with. So we want to use BoTorch w qExpectedImprovement for sampling\n",
    "# the mll_class can be either ExactMarginalLogLikelihood or LeaveOneOutPseudoLikelihood for our ExactGP models. The later is more stable.\n",
    "gs = GenerationStrategy(\n",
    "    steps=[\n",
    "        GenerationStep(\n",
    "            model=Models.BOTORCH_MODULAR,\n",
    "            num_trials=-1,  # No limitation on how many trials should be produced from this step\n",
    "            # For `BOTORCH_MODULAR`, we pass in kwargs to specify what surrogate or acquisition function to use.\n",
    "            model_gen_kwargs={\"max_retries\": 10},\n",
    "            model_kwargs={\n",
    "                \"surrogate\":Surrogate(ExactGPModel,\n",
    "                                      mll_class=LeaveOneOutPseudoLikelihood),\n",
    "                \n",
    "                \"botorch_acqf_class\": qExpectedImprovement,\n",
    "                },\n",
    "        ),\n",
    "    ]\n",
    ")"
   ]
  },
  {
   "cell_type": "markdown",
   "metadata": {},
   "source": [
    "### SearchSpace\n"
   ]
  },
  {
   "cell_type": "code",
   "execution_count": 5,
   "metadata": {},
   "outputs": [],
   "source": [
    "## Points to consider\n",
    "#for the \"choice\" variables, add ordered = False \n",
    "# as parameter if you prefer one-hot encoding rather than ordinal encoding\n",
    "# for more options look at Ax documentation on parameters and Trasformations (Transforms)\n",
    "ax_parameters = [\n",
    "    {\n",
    "        \"name\": \"Dimension1\",\n",
    "        \"type\": \"range\",\n",
    "        \"bounds\": [12.0000,51.00000],\n",
    "        \"value_type\":'float'\n",
    "    },\n",
    "    {\n",
    "        \"name\": \"Dimension2\",\n",
    "        \"type\": \"range\",\n",
    "        \"bounds\": [6,26],\n",
    "        \"value_type\": 'float'\n",
    "    },\n",
    "    {\n",
    "        \"name\": \"Dilution(OD)\",\n",
    "        \"type\": \"range\",\n",
    "        \"bounds\": [0.12,0.44]\n",
    "    },\n",
    "    {   \"name\":\"Nano_stock_vol\",\n",
    "        \"type\":\"choice\",\n",
    "        \"values\": [0.25,0.5],\n",
    "\n",
    "    },\n",
    "    {\n",
    "        \"name\": \"Ag_acet_conc\",\n",
    "        \"type\": \"choice\",\n",
    "        \"values\": [0.0007,0.006],\n",
    "\n",
    "    },\n",
    "     {\n",
    "        \"name\": \"Ag_acet_mass\",\n",
    "        \"type\": \"choice\",\n",
    "        \"values\": [3.5,7.8,14.0],\n",
    "\n",
    "     },\n",
    "    {\n",
    "        \"name\": \"Doping%\",\n",
    "        \"type\": \"range\",\n",
    "        \"bounds\": [0.1,10.0],\n",
    "        \"value_type\": 'float'\n",
    "\n",
    "    },\n",
    "    {\n",
    "        \"name\": \"Time\",\n",
    "        \"type\": \"choice\",\n",
    "        \"values\": [10.0,60.0,180.0],\n",
    "        'value_type': 'float'\n",
    "    },\n",
    "    {\n",
    "        \"name\": \"Temperature\",\n",
    "        \"type\": \"choice\",\n",
    "        \"values\": [0.0,25.0,50.0],\n",
    "        \"value_type\": 'float',\n",
    "\n",
    "    },\n",
    "]\n",
    "\n"
   ]
  },
  {
   "cell_type": "markdown",
   "metadata": {},
   "source": [
    "### Initialize the AxClient for the service api"
   ]
  },
  {
   "cell_type": "code",
   "execution_count": 6,
   "metadata": {},
   "outputs": [
    {
     "name": "stderr",
     "output_type": "stream",
     "text": [
      "[INFO 01-31 12:56:47] ax.service.ax_client: Starting optimization with verbose logging. To disable logging, set the `verbose_logging` argument to `False`. Note that float values in the logs are rounded to 6 decimal points.\n",
      "[INFO 01-31 12:56:47] ax.service.utils.instantiation: Inferred value type of ParameterType.FLOAT for parameter Dilution(OD). If that is not the expected value type, you can explicity specify 'value_type' ('int', 'float', 'bool' or 'str') in parameter dict.\n",
      "[INFO 01-31 12:56:47] ax.service.utils.instantiation: Inferred value type of ParameterType.FLOAT for parameter Nano_stock_vol. If that is not the expected value type, you can explicity specify 'value_type' ('int', 'float', 'bool' or 'str') in parameter dict.\n",
      "/Users/jorgemedina/miniforge3/envs/DOEv2/lib/python3.10/site-packages/ax/core/parameter.py:517: UserWarning:\n",
      "\n",
      "`is_ordered` is not specified for `ChoiceParameter` \"Nano_stock_vol\". Defaulting to `True` for parameters of `ParameterType` FLOAT. To override this behavior (or avoid this warning), specify `is_ordered` during `ChoiceParameter` construction.\n",
      "\n",
      "/Users/jorgemedina/miniforge3/envs/DOEv2/lib/python3.10/site-packages/ax/core/parameter.py:517: UserWarning:\n",
      "\n",
      "`sort_values` is not specified for `ChoiceParameter` \"Nano_stock_vol\". Defaulting to `True` for parameters of `ParameterType` FLOAT. To override this behavior (or avoid this warning), specify `sort_values` during `ChoiceParameter` construction.\n",
      "\n",
      "[INFO 01-31 12:56:47] ax.service.utils.instantiation: Inferred value type of ParameterType.FLOAT for parameter Ag_acet_conc. If that is not the expected value type, you can explicity specify 'value_type' ('int', 'float', 'bool' or 'str') in parameter dict.\n",
      "/Users/jorgemedina/miniforge3/envs/DOEv2/lib/python3.10/site-packages/ax/core/parameter.py:517: UserWarning:\n",
      "\n",
      "`is_ordered` is not specified for `ChoiceParameter` \"Ag_acet_conc\". Defaulting to `True` for parameters of `ParameterType` FLOAT. To override this behavior (or avoid this warning), specify `is_ordered` during `ChoiceParameter` construction.\n",
      "\n",
      "/Users/jorgemedina/miniforge3/envs/DOEv2/lib/python3.10/site-packages/ax/core/parameter.py:517: UserWarning:\n",
      "\n",
      "`sort_values` is not specified for `ChoiceParameter` \"Ag_acet_conc\". Defaulting to `True` for parameters of `ParameterType` FLOAT. To override this behavior (or avoid this warning), specify `sort_values` during `ChoiceParameter` construction.\n",
      "\n",
      "[INFO 01-31 12:56:47] ax.service.utils.instantiation: Inferred value type of ParameterType.FLOAT for parameter Ag_acet_mass. If that is not the expected value type, you can explicity specify 'value_type' ('int', 'float', 'bool' or 'str') in parameter dict.\n",
      "/Users/jorgemedina/miniforge3/envs/DOEv2/lib/python3.10/site-packages/ax/core/parameter.py:517: UserWarning:\n",
      "\n",
      "`is_ordered` is not specified for `ChoiceParameter` \"Ag_acet_mass\". Defaulting to `True` for parameters of `ParameterType` FLOAT. To override this behavior (or avoid this warning), specify `is_ordered` during `ChoiceParameter` construction.\n",
      "\n",
      "/Users/jorgemedina/miniforge3/envs/DOEv2/lib/python3.10/site-packages/ax/core/parameter.py:517: UserWarning:\n",
      "\n",
      "`sort_values` is not specified for `ChoiceParameter` \"Ag_acet_mass\". Defaulting to `True` for parameters of `ParameterType` FLOAT. To override this behavior (or avoid this warning), specify `sort_values` during `ChoiceParameter` construction.\n",
      "\n",
      "/Users/jorgemedina/miniforge3/envs/DOEv2/lib/python3.10/site-packages/ax/core/parameter.py:517: UserWarning:\n",
      "\n",
      "`is_ordered` is not specified for `ChoiceParameter` \"Time\". Defaulting to `True` for parameters of `ParameterType` FLOAT. To override this behavior (or avoid this warning), specify `is_ordered` during `ChoiceParameter` construction.\n",
      "\n",
      "/Users/jorgemedina/miniforge3/envs/DOEv2/lib/python3.10/site-packages/ax/core/parameter.py:517: UserWarning:\n",
      "\n",
      "`sort_values` is not specified for `ChoiceParameter` \"Time\". Defaulting to `True` for parameters of `ParameterType` FLOAT. To override this behavior (or avoid this warning), specify `sort_values` during `ChoiceParameter` construction.\n",
      "\n",
      "/Users/jorgemedina/miniforge3/envs/DOEv2/lib/python3.10/site-packages/ax/core/parameter.py:517: UserWarning:\n",
      "\n",
      "`is_ordered` is not specified for `ChoiceParameter` \"Temperature\". Defaulting to `True` for parameters of `ParameterType` FLOAT. To override this behavior (or avoid this warning), specify `is_ordered` during `ChoiceParameter` construction.\n",
      "\n",
      "/Users/jorgemedina/miniforge3/envs/DOEv2/lib/python3.10/site-packages/ax/core/parameter.py:517: UserWarning:\n",
      "\n",
      "`sort_values` is not specified for `ChoiceParameter` \"Temperature\". Defaulting to `True` for parameters of `ParameterType` FLOAT. To override this behavior (or avoid this warning), specify `sort_values` during `ChoiceParameter` construction.\n",
      "\n",
      "[INFO 01-31 12:56:47] ax.service.utils.instantiation: Created search space: SearchSpace(parameters=[RangeParameter(name='Dimension1', parameter_type=FLOAT, range=[12.0, 51.0]), RangeParameter(name='Dimension2', parameter_type=FLOAT, range=[6.0, 26.0]), RangeParameter(name='Dilution(OD)', parameter_type=FLOAT, range=[0.12, 0.44]), ChoiceParameter(name='Nano_stock_vol', parameter_type=FLOAT, values=[0.25, 0.5], is_ordered=True, sort_values=True), ChoiceParameter(name='Ag_acet_conc', parameter_type=FLOAT, values=[0.0007, 0.006], is_ordered=True, sort_values=True), ChoiceParameter(name='Ag_acet_mass', parameter_type=FLOAT, values=[3.5, 7.8, 14.0], is_ordered=True, sort_values=True), RangeParameter(name='Doping%', parameter_type=FLOAT, range=[0.1, 10.0]), ChoiceParameter(name='Time', parameter_type=FLOAT, values=[10.0, 60.0, 180.0], is_ordered=True, sort_values=True), ChoiceParameter(name='Temperature', parameter_type=FLOAT, values=[0.0, 25.0, 50.0], is_ordered=True, sort_values=True)], parameter_constraints=[]).\n"
     ]
    }
   ],
   "source": [
    "ax_client = AxClient(generation_strategy = gs)\n",
    "ax_client.create_experiment(parameters = ax_parameters, \n",
    "                            objectives= {\"f\":ObjectiveProperties(minimize=False)},)  #we want to maximze f, but it shouldnt matter\n",
    "                                                                                     # f = QT*AUC2 "
   ]
  },
  {
   "cell_type": "markdown",
   "metadata": {},
   "source": [
    "### Adding Raw data"
   ]
  },
  {
   "cell_type": "code",
   "execution_count": 7,
   "metadata": {},
   "outputs": [
    {
     "name": "stderr",
     "output_type": "stream",
     "text": [
      "[INFO 01-31 12:56:56] ax.core.experiment: Attached custom parameterizations [{'Dimension1': 18.8, 'Dimension2': 14.04, 'Dilution(OD)': 0.175, 'Nano_stock_vol': 0.25, 'Ag_acet_conc': 0.006, 'Ag_acet_mass': 7.8, 'Doping%': 1.25, 'Time': 60.0, 'Temperature': 25.0}] as trial 0.\n",
      "[INFO 01-31 12:56:56] ax.service.ax_client: Completed trial 0 with data: {'f': (0.086372, None)}.\n",
      "[INFO 01-31 12:56:56] ax.core.experiment: Attached custom parameterizations [{'Dimension1': 18.8, 'Dimension2': 14.04, 'Dilution(OD)': 0.175, 'Nano_stock_vol': 0.25, 'Ag_acet_conc': 0.006, 'Ag_acet_mass': 7.8, 'Doping%': 2.5, 'Time': 60.0, 'Temperature': 25.0}] as trial 1.\n",
      "[INFO 01-31 12:56:56] ax.service.ax_client: Completed trial 1 with data: {'f': (0.040938, None)}.\n",
      "[INFO 01-31 12:56:56] ax.core.experiment: Attached custom parameterizations [{'Dimension1': 18.8, 'Dimension2': 14.04, 'Dilution(OD)': 0.175, 'Nano_stock_vol': 0.25, 'Ag_acet_conc': 0.006, 'Ag_acet_mass': 7.8, 'Doping%': 5.0, 'Time': 60.0, 'Temperature': 25.0}] as trial 2.\n",
      "[INFO 01-31 12:56:56] ax.service.ax_client: Completed trial 2 with data: {'f': (0.048279, None)}.\n",
      "[INFO 01-31 12:56:56] ax.core.experiment: Attached custom parameterizations [{'Dimension1': 18.8, 'Dimension2': 14.04, 'Dilution(OD)': 0.175, 'Nano_stock_vol': 0.25, 'Ag_acet_conc': 0.006, 'Ag_acet_mass': 7.8, 'Doping%': 10.0, 'Time': 60.0, 'Temperature': 25.0}] as trial 3.\n",
      "[INFO 01-31 12:56:56] ax.service.ax_client: Completed trial 3 with data: {'f': (0.0149, None)}.\n",
      "[INFO 01-31 12:56:56] ax.core.experiment: Attached custom parameterizations [{'Dimension1': 18.8, 'Dimension2': 14.04, 'Dilution(OD)': 0.175, 'Nano_stock_vol': 0.25, 'Ag_acet_conc': 0.0007, 'Ag_acet_mass': 3.5, 'Doping%': 0.25, 'Time': 60.0, 'Temperature': 25.0}] as trial 4.\n",
      "[INFO 01-31 12:56:56] ax.service.ax_client: Completed trial 4 with data: {'f': (0.018834, None)}.\n",
      "[INFO 01-31 12:56:56] ax.core.experiment: Attached custom parameterizations [{'Dimension1': 18.8, 'Dimension2': 14.04, 'Dilution(OD)': 0.175, 'Nano_stock_vol': 0.25, 'Ag_acet_conc': 0.0007, 'Ag_acet_mass': 3.5, 'Doping%': 0.5, 'Time': 60.0, 'Temperature': 25.0}] as trial 5.\n",
      "[INFO 01-31 12:56:56] ax.service.ax_client: Completed trial 5 with data: {'f': (0.030368, None)}.\n",
      "[INFO 01-31 12:56:56] ax.core.experiment: Attached custom parameterizations [{'Dimension1': 18.8, 'Dimension2': 14.04, 'Dilution(OD)': 0.175, 'Nano_stock_vol': 0.25, 'Ag_acet_conc': 0.0007, 'Ag_acet_mass': 3.5, 'Doping%': 0.75, 'Time': 60.0, 'Temperature': 25.0}] as trial 6.\n",
      "[INFO 01-31 12:56:56] ax.service.ax_client: Completed trial 6 with data: {'f': (0.031297, None)}.\n",
      "[INFO 01-31 12:56:56] ax.core.experiment: Attached custom parameterizations [{'Dimension1': 18.8, 'Dimension2': 14.04, 'Dilution(OD)': 0.175, 'Nano_stock_vol': 0.25, 'Ag_acet_conc': 0.0007, 'Ag_acet_mass': 3.5, 'Doping%': 1.0, 'Time': 60.0, 'Temperature': 25.0}] as trial 7.\n",
      "[INFO 01-31 12:56:56] ax.service.ax_client: Completed trial 7 with data: {'f': (0.028292, None)}.\n",
      "[INFO 01-31 12:56:56] ax.core.experiment: Attached custom parameterizations [{'Dimension1': 18.8, 'Dimension2': 14.04, 'Dilution(OD)': 0.175, 'Nano_stock_vol': 0.25, 'Ag_acet_conc': 0.0007, 'Ag_acet_mass': 3.5, 'Doping%': 1.25, 'Time': 60.0, 'Temperature': 25.0}] as trial 8.\n",
      "[INFO 01-31 12:56:56] ax.service.ax_client: Completed trial 8 with data: {'f': (0.028218, None)}.\n",
      "[INFO 01-31 12:56:56] ax.core.experiment: Attached custom parameterizations [{'Dimension1': 18.8, 'Dimension2': 14.04, 'Dilution(OD)': 0.175, 'Nano_stock_vol': 0.25, 'Ag_acet_conc': 0.0007, 'Ag_acet_mass': 3.5, 'Doping%': 1.5, 'Time': 60.0, 'Temperature': 25.0}] as trial 9.\n",
      "[INFO 01-31 12:56:56] ax.service.ax_client: Completed trial 9 with data: {'f': (0.034974, None)}.\n",
      "[INFO 01-31 12:56:56] ax.core.experiment: Attached custom parameterizations [{'Dimension1': 18.8, 'Dimension2': 14.04, 'Dilution(OD)': 0.175, 'Nano_stock_vol': 0.25, 'Ag_acet_conc': 0.0007, 'Ag_acet_mass': 3.5, 'Doping%': 1.75, 'Time': 60.0, 'Temperature': 25.0}] as trial 10.\n",
      "[INFO 01-31 12:56:56] ax.service.ax_client: Completed trial 10 with data: {'f': (0.031356, None)}.\n",
      "[INFO 01-31 12:56:56] ax.core.experiment: Attached custom parameterizations [{'Dimension1': 18.8, 'Dimension2': 14.04, 'Dilution(OD)': 0.175, 'Nano_stock_vol': 0.25, 'Ag_acet_conc': 0.0007, 'Ag_acet_mass': 3.5, 'Doping%': 2.0, 'Time': 60.0, 'Temperature': 25.0}] as trial 11.\n",
      "[INFO 01-31 12:56:56] ax.service.ax_client: Completed trial 11 with data: {'f': (0.029296, None)}.\n",
      "[INFO 01-31 12:56:56] ax.core.experiment: Attached custom parameterizations [{'Dimension1': 18.8, 'Dimension2': 14.04, 'Dilution(OD)': 0.175, 'Nano_stock_vol': 0.25, 'Ag_acet_conc': 0.0007, 'Ag_acet_mass': 3.5, 'Doping%': 3.0, 'Time': 60.0, 'Temperature': 25.0}] as trial 12.\n",
      "[INFO 01-31 12:56:56] ax.service.ax_client: Completed trial 12 with data: {'f': (0.025614, None)}.\n",
      "[INFO 01-31 12:56:56] ax.core.experiment: Attached custom parameterizations [{'Dimension1': 35.0, 'Dimension2': 15.0, 'Dilution(OD)': 0.212, 'Nano_stock_vol': 0.5, 'Ag_acet_conc': 0.0007, 'Ag_acet_mass': 3.5, 'Doping%': 0.5, 'Time': 60.0, 'Temperature': 25.0}] as trial 13.\n",
      "[INFO 01-31 12:56:56] ax.service.ax_client: Completed trial 13 with data: {'f': (0.039652, None)}.\n",
      "[INFO 01-31 12:56:56] ax.core.experiment: Attached custom parameterizations [{'Dimension1': 35.0, 'Dimension2': 15.0, 'Dilution(OD)': 0.212, 'Nano_stock_vol': 0.5, 'Ag_acet_conc': 0.0007, 'Ag_acet_mass': 3.5, 'Doping%': 1.0, 'Time': 60.0, 'Temperature': 25.0}] as trial 14.\n",
      "[INFO 01-31 12:56:56] ax.service.ax_client: Completed trial 14 with data: {'f': (0.036991, None)}.\n",
      "[INFO 01-31 12:56:56] ax.core.experiment: Attached custom parameterizations [{'Dimension1': 35.0, 'Dimension2': 15.0, 'Dilution(OD)': 0.212, 'Nano_stock_vol': 0.5, 'Ag_acet_conc': 0.0007, 'Ag_acet_mass': 3.5, 'Doping%': 2.0, 'Time': 60.0, 'Temperature': 25.0}] as trial 15.\n",
      "[INFO 01-31 12:56:56] ax.service.ax_client: Completed trial 15 with data: {'f': (0.047392, None)}.\n",
      "[INFO 01-31 12:56:56] ax.core.experiment: Attached custom parameterizations [{'Dimension1': 35.0, 'Dimension2': 15.0, 'Dilution(OD)': 0.212, 'Nano_stock_vol': 0.5, 'Ag_acet_conc': 0.0007, 'Ag_acet_mass': 3.5, 'Doping%': 3.0, 'Time': 60.0, 'Temperature': 25.0}] as trial 16.\n",
      "[INFO 01-31 12:56:56] ax.service.ax_client: Completed trial 16 with data: {'f': (0.038832, None)}.\n",
      "[INFO 01-31 12:56:56] ax.core.experiment: Attached custom parameterizations [{'Dimension1': 35.0, 'Dimension2': 15.0, 'Dilution(OD)': 0.212, 'Nano_stock_vol': 0.5, 'Ag_acet_conc': 0.0007, 'Ag_acet_mass': 3.5, 'Doping%': 5.0, 'Time': 60.0, 'Temperature': 25.0}] as trial 17.\n",
      "[INFO 01-31 12:56:56] ax.service.ax_client: Completed trial 17 with data: {'f': (0.045656, None)}.\n",
      "[INFO 01-31 12:56:56] ax.core.experiment: Attached custom parameterizations [{'Dimension1': 31.63, 'Dimension2': 13.8, 'Dilution(OD)': 0.12, 'Nano_stock_vol': 0.5, 'Ag_acet_conc': 0.0007, 'Ag_acet_mass': 3.5, 'Doping%': 0.5, 'Time': 60.0, 'Temperature': 25.0}] as trial 18.\n",
      "[INFO 01-31 12:56:56] ax.service.ax_client: Completed trial 18 with data: {'f': (0.052198, None)}.\n",
      "[INFO 01-31 12:56:56] ax.core.experiment: Attached custom parameterizations [{'Dimension1': 31.63, 'Dimension2': 13.8, 'Dilution(OD)': 0.12, 'Nano_stock_vol': 0.5, 'Ag_acet_conc': 0.0007, 'Ag_acet_mass': 3.5, 'Doping%': 0.75, 'Time': 60.0, 'Temperature': 25.0}] as trial 19.\n",
      "[INFO 01-31 12:56:56] ax.service.ax_client: Completed trial 19 with data: {'f': (0.042829, None)}.\n",
      "[INFO 01-31 12:56:56] ax.core.experiment: Attached custom parameterizations [{'Dimension1': 31.63, 'Dimension2': 13.8, 'Dilution(OD)': 0.12, 'Nano_stock_vol': 0.5, 'Ag_acet_conc': 0.0007, 'Ag_acet_mass': 3.5, 'Doping%': 1.0, 'Time': 60.0, 'Temperature': 25.0}] as trial 20.\n",
      "[INFO 01-31 12:56:56] ax.service.ax_client: Completed trial 20 with data: {'f': (0.052308, None)}.\n",
      "[INFO 01-31 12:56:56] ax.core.experiment: Attached custom parameterizations [{'Dimension1': 31.63, 'Dimension2': 13.8, 'Dilution(OD)': 0.12, 'Nano_stock_vol': 0.5, 'Ag_acet_conc': 0.0007, 'Ag_acet_mass': 3.5, 'Doping%': 5.0, 'Time': 60.0, 'Temperature': 25.0}] as trial 21.\n",
      "[INFO 01-31 12:56:56] ax.service.ax_client: Completed trial 21 with data: {'f': (0.040648, None)}.\n",
      "[INFO 01-31 12:56:56] ax.core.experiment: Attached custom parameterizations [{'Dimension1': 31.63, 'Dimension2': 13.8, 'Dilution(OD)': 0.12, 'Nano_stock_vol': 0.5, 'Ag_acet_conc': 0.006, 'Ag_acet_mass': 14.0, 'Doping%': 0.25, 'Time': 60.0, 'Temperature': 25.0}] as trial 22.\n",
      "[INFO 01-31 12:56:56] ax.service.ax_client: Completed trial 22 with data: {'f': (0.091661, None)}.\n",
      "[INFO 01-31 12:56:56] ax.core.experiment: Attached custom parameterizations [{'Dimension1': 31.63, 'Dimension2': 13.8, 'Dilution(OD)': 0.12, 'Nano_stock_vol': 0.5, 'Ag_acet_conc': 0.006, 'Ag_acet_mass': 14.0, 'Doping%': 0.5, 'Time': 60.0, 'Temperature': 25.0}] as trial 23.\n",
      "[INFO 01-31 12:56:56] ax.service.ax_client: Completed trial 23 with data: {'f': (0.096917, None)}.\n",
      "[INFO 01-31 12:56:56] ax.core.experiment: Attached custom parameterizations [{'Dimension1': 31.63, 'Dimension2': 13.8, 'Dilution(OD)': 0.12, 'Nano_stock_vol': 0.5, 'Ag_acet_conc': 0.006, 'Ag_acet_mass': 14.0, 'Doping%': 1.0, 'Time': 60.0, 'Temperature': 25.0}] as trial 24.\n",
      "[INFO 01-31 12:56:56] ax.service.ax_client: Completed trial 24 with data: {'f': (0.070257, None)}.\n",
      "[INFO 01-31 12:56:56] ax.core.experiment: Attached custom parameterizations [{'Dimension1': 31.63, 'Dimension2': 13.8, 'Dilution(OD)': 0.12, 'Nano_stock_vol': 0.5, 'Ag_acet_conc': 0.006, 'Ag_acet_mass': 14.0, 'Doping%': 5.0, 'Time': 60.0, 'Temperature': 25.0}] as trial 25.\n",
      "[INFO 01-31 12:56:56] ax.service.ax_client: Completed trial 25 with data: {'f': (0.030164, None)}.\n",
      "[INFO 01-31 12:56:56] ax.core.experiment: Attached custom parameterizations [{'Dimension1': 39.16, 'Dimension2': 6.34, 'Dilution(OD)': 0.42, 'Nano_stock_vol': 0.5, 'Ag_acet_conc': 0.006, 'Ag_acet_mass': 14.0, 'Doping%': 0.5, 'Time': 60.0, 'Temperature': 25.0}] as trial 26.\n",
      "[INFO 01-31 12:56:56] ax.service.ax_client: Completed trial 26 with data: {'f': (0.122408, None)}.\n",
      "[INFO 01-31 12:56:56] ax.core.experiment: Attached custom parameterizations [{'Dimension1': 39.16, 'Dimension2': 6.34, 'Dilution(OD)': 0.42, 'Nano_stock_vol': 0.5, 'Ag_acet_conc': 0.006, 'Ag_acet_mass': 14.0, 'Doping%': 5.0, 'Time': 60.0, 'Temperature': 25.0}] as trial 27.\n",
      "[INFO 01-31 12:56:56] ax.service.ax_client: Completed trial 27 with data: {'f': (0.172115, None)}.\n",
      "[INFO 01-31 12:56:56] ax.core.experiment: Attached custom parameterizations [{'Dimension1': 36.27, 'Dimension2': 6.52, 'Dilution(OD)': 0.12, 'Nano_stock_vol': 0.5, 'Ag_acet_conc': 0.0007, 'Ag_acet_mass': 3.5, 'Doping%': 3.0, 'Time': 10.0, 'Temperature': 0.0}] as trial 28.\n",
      "[INFO 01-31 12:56:56] ax.service.ax_client: Completed trial 28 with data: {'f': (0.070967, None)}.\n",
      "[INFO 01-31 12:56:56] ax.core.experiment: Attached custom parameterizations [{'Dimension1': 36.27, 'Dimension2': 6.52, 'Dilution(OD)': 0.12, 'Nano_stock_vol': 0.5, 'Ag_acet_conc': 0.0007, 'Ag_acet_mass': 3.5, 'Doping%': 3.0, 'Time': 10.0, 'Temperature': 25.0}] as trial 29.\n",
      "[INFO 01-31 12:56:56] ax.service.ax_client: Completed trial 29 with data: {'f': (0.059456, None)}.\n",
      "[INFO 01-31 12:56:56] ax.core.experiment: Attached custom parameterizations [{'Dimension1': 36.27, 'Dimension2': 6.52, 'Dilution(OD)': 0.12, 'Nano_stock_vol': 0.5, 'Ag_acet_conc': 0.0007, 'Ag_acet_mass': 3.5, 'Doping%': 3.0, 'Time': 10.0, 'Temperature': 50.0}] as trial 30.\n",
      "[INFO 01-31 12:56:56] ax.service.ax_client: Completed trial 30 with data: {'f': (0.059758, None)}.\n",
      "[INFO 01-31 12:56:56] ax.core.experiment: Attached custom parameterizations [{'Dimension1': 36.27, 'Dimension2': 6.52, 'Dilution(OD)': 0.12, 'Nano_stock_vol': 0.5, 'Ag_acet_conc': 0.0007, 'Ag_acet_mass': 3.5, 'Doping%': 3.0, 'Time': 60.0, 'Temperature': 0.0}] as trial 31.\n",
      "[INFO 01-31 12:56:56] ax.service.ax_client: Completed trial 31 with data: {'f': (0.060734, None)}.\n",
      "[INFO 01-31 12:56:56] ax.core.experiment: Attached custom parameterizations [{'Dimension1': 36.27, 'Dimension2': 6.52, 'Dilution(OD)': 0.12, 'Nano_stock_vol': 0.5, 'Ag_acet_conc': 0.0007, 'Ag_acet_mass': 3.5, 'Doping%': 3.0, 'Time': 60.0, 'Temperature': 25.0}] as trial 32.\n",
      "[INFO 01-31 12:56:56] ax.service.ax_client: Completed trial 32 with data: {'f': (0.050504, None)}.\n",
      "[INFO 01-31 12:56:56] ax.core.experiment: Attached custom parameterizations [{'Dimension1': 36.27, 'Dimension2': 6.52, 'Dilution(OD)': 0.12, 'Nano_stock_vol': 0.5, 'Ag_acet_conc': 0.0007, 'Ag_acet_mass': 3.5, 'Doping%': 3.0, 'Time': 60.0, 'Temperature': 50.0}] as trial 33.\n",
      "[INFO 01-31 12:56:56] ax.service.ax_client: Completed trial 33 with data: {'f': (0.037159, None)}.\n",
      "[INFO 01-31 12:56:56] ax.core.experiment: Attached custom parameterizations [{'Dimension1': 36.27, 'Dimension2': 6.52, 'Dilution(OD)': 0.12, 'Nano_stock_vol': 0.5, 'Ag_acet_conc': 0.0007, 'Ag_acet_mass': 3.5, 'Doping%': 3.0, 'Time': 180.0, 'Temperature': 25.0}] as trial 34.\n",
      "[INFO 01-31 12:56:56] ax.service.ax_client: Completed trial 34 with data: {'f': (0.033961, None)}.\n",
      "[INFO 01-31 12:56:56] ax.core.experiment: Attached custom parameterizations [{'Dimension1': 36.27, 'Dimension2': 6.52, 'Dilution(OD)': 0.12, 'Nano_stock_vol': 0.5, 'Ag_acet_conc': 0.0007, 'Ag_acet_mass': 3.5, 'Doping%': 10.0, 'Time': 10.0, 'Temperature': 0.0}] as trial 35.\n",
      "[INFO 01-31 12:56:56] ax.service.ax_client: Completed trial 35 with data: {'f': (0.084113, None)}.\n",
      "[INFO 01-31 12:56:56] ax.core.experiment: Attached custom parameterizations [{'Dimension1': 36.27, 'Dimension2': 6.52, 'Dilution(OD)': 0.12, 'Nano_stock_vol': 0.5, 'Ag_acet_conc': 0.0007, 'Ag_acet_mass': 3.5, 'Doping%': 10.0, 'Time': 10.0, 'Temperature': 25.0}] as trial 36.\n",
      "[INFO 01-31 12:56:56] ax.service.ax_client: Completed trial 36 with data: {'f': (0.017174, None)}.\n",
      "[INFO 01-31 12:56:56] ax.core.experiment: Attached custom parameterizations [{'Dimension1': 36.27, 'Dimension2': 6.52, 'Dilution(OD)': 0.12, 'Nano_stock_vol': 0.5, 'Ag_acet_conc': 0.0007, 'Ag_acet_mass': 3.5, 'Doping%': 10.0, 'Time': 10.0, 'Temperature': 50.0}] as trial 37.\n",
      "[INFO 01-31 12:56:56] ax.service.ax_client: Completed trial 37 with data: {'f': (0.079898, None)}.\n",
      "[INFO 01-31 12:56:56] ax.core.experiment: Attached custom parameterizations [{'Dimension1': 36.27, 'Dimension2': 6.52, 'Dilution(OD)': 0.12, 'Nano_stock_vol': 0.5, 'Ag_acet_conc': 0.0007, 'Ag_acet_mass': 3.5, 'Doping%': 10.0, 'Time': 60.0, 'Temperature': 0.0}] as trial 38.\n",
      "[INFO 01-31 12:56:56] ax.service.ax_client: Completed trial 38 with data: {'f': (0.098796, None)}.\n",
      "[INFO 01-31 12:56:56] ax.core.experiment: Attached custom parameterizations [{'Dimension1': 36.27, 'Dimension2': 6.52, 'Dilution(OD)': 0.12, 'Nano_stock_vol': 0.5, 'Ag_acet_conc': 0.0007, 'Ag_acet_mass': 3.5, 'Doping%': 10.0, 'Time': 60.0, 'Temperature': 25.0}] as trial 39.\n",
      "[INFO 01-31 12:56:56] ax.service.ax_client: Completed trial 39 with data: {'f': (0.077328, None)}.\n",
      "[INFO 01-31 12:56:56] ax.core.experiment: Attached custom parameterizations [{'Dimension1': 36.27, 'Dimension2': 6.52, 'Dilution(OD)': 0.12, 'Nano_stock_vol': 0.5, 'Ag_acet_conc': 0.0007, 'Ag_acet_mass': 3.5, 'Doping%': 10.0, 'Time': 60.0, 'Temperature': 50.0}] as trial 40.\n",
      "[INFO 01-31 12:56:56] ax.service.ax_client: Completed trial 40 with data: {'f': (0.101572, None)}.\n",
      "[INFO 01-31 12:56:56] ax.core.experiment: Attached custom parameterizations [{'Dimension1': 36.27, 'Dimension2': 6.52, 'Dilution(OD)': 0.12, 'Nano_stock_vol': 0.5, 'Ag_acet_conc': 0.0007, 'Ag_acet_mass': 3.5, 'Doping%': 10.0, 'Time': 180.0, 'Temperature': 25.0}] as trial 41.\n",
      "[INFO 01-31 12:56:56] ax.service.ax_client: Completed trial 41 with data: {'f': (0.072702, None)}.\n",
      "[INFO 01-31 12:56:56] ax.core.experiment: Attached custom parameterizations [{'Dimension1': 45.77, 'Dimension2': 7.29, 'Dilution(OD)': 0.26, 'Nano_stock_vol': 0.5, 'Ag_acet_conc': 0.0007, 'Ag_acet_mass': 3.5, 'Doping%': 1.0, 'Time': 10.0, 'Temperature': 0.0}] as trial 42.\n",
      "[INFO 01-31 12:56:56] ax.service.ax_client: Completed trial 42 with data: {'f': (0.006815, None)}.\n",
      "[INFO 01-31 12:56:56] ax.core.experiment: Attached custom parameterizations [{'Dimension1': 45.77, 'Dimension2': 7.29, 'Dilution(OD)': 0.26, 'Nano_stock_vol': 0.5, 'Ag_acet_conc': 0.0007, 'Ag_acet_mass': 3.5, 'Doping%': 1.0, 'Time': 10.0, 'Temperature': 25.0}] as trial 43.\n",
      "[INFO 01-31 12:56:56] ax.service.ax_client: Completed trial 43 with data: {'f': (0.006637, None)}.\n",
      "[INFO 01-31 12:56:56] ax.core.experiment: Attached custom parameterizations [{'Dimension1': 45.77, 'Dimension2': 7.29, 'Dilution(OD)': 0.26, 'Nano_stock_vol': 0.5, 'Ag_acet_conc': 0.0007, 'Ag_acet_mass': 3.5, 'Doping%': 1.0, 'Time': 10.0, 'Temperature': 50.0}] as trial 44.\n",
      "[INFO 01-31 12:56:56] ax.service.ax_client: Completed trial 44 with data: {'f': (0.005929, None)}.\n",
      "[INFO 01-31 12:56:56] ax.core.experiment: Attached custom parameterizations [{'Dimension1': 45.77, 'Dimension2': 7.29, 'Dilution(OD)': 0.26, 'Nano_stock_vol': 0.5, 'Ag_acet_conc': 0.0007, 'Ag_acet_mass': 3.5, 'Doping%': 1.0, 'Time': 60.0, 'Temperature': 0.0}] as trial 45.\n",
      "[INFO 01-31 12:56:56] ax.service.ax_client: Completed trial 45 with data: {'f': (0.007898, None)}.\n",
      "[INFO 01-31 12:56:56] ax.core.experiment: Attached custom parameterizations [{'Dimension1': 45.77, 'Dimension2': 7.29, 'Dilution(OD)': 0.26, 'Nano_stock_vol': 0.5, 'Ag_acet_conc': 0.0007, 'Ag_acet_mass': 3.5, 'Doping%': 1.0, 'Time': 60.0, 'Temperature': 25.0}] as trial 46.\n",
      "[INFO 01-31 12:56:56] ax.service.ax_client: Completed trial 46 with data: {'f': (0.007014, None)}.\n",
      "[INFO 01-31 12:56:56] ax.core.experiment: Attached custom parameterizations [{'Dimension1': 45.77, 'Dimension2': 7.29, 'Dilution(OD)': 0.26, 'Nano_stock_vol': 0.5, 'Ag_acet_conc': 0.0007, 'Ag_acet_mass': 3.5, 'Doping%': 1.0, 'Time': 60.0, 'Temperature': 50.0}] as trial 47.\n",
      "[INFO 01-31 12:56:56] ax.service.ax_client: Completed trial 47 with data: {'f': (0.006404, None)}.\n",
      "[INFO 01-31 12:56:56] ax.core.experiment: Attached custom parameterizations [{'Dimension1': 45.77, 'Dimension2': 7.29, 'Dilution(OD)': 0.26, 'Nano_stock_vol': 0.5, 'Ag_acet_conc': 0.0007, 'Ag_acet_mass': 3.5, 'Doping%': 5.0, 'Time': 10.0, 'Temperature': 0.0}] as trial 48.\n",
      "[INFO 01-31 12:56:56] ax.service.ax_client: Completed trial 48 with data: {'f': (0.039425, None)}.\n",
      "[INFO 01-31 12:56:56] ax.core.experiment: Attached custom parameterizations [{'Dimension1': 45.77, 'Dimension2': 7.29, 'Dilution(OD)': 0.26, 'Nano_stock_vol': 0.5, 'Ag_acet_conc': 0.0007, 'Ag_acet_mass': 3.5, 'Doping%': 5.0, 'Time': 10.0, 'Temperature': 25.0}] as trial 49.\n",
      "[INFO 01-31 12:56:56] ax.service.ax_client: Completed trial 49 with data: {'f': (0.019595, None)}.\n",
      "[INFO 01-31 12:56:56] ax.core.experiment: Attached custom parameterizations [{'Dimension1': 30.928, 'Dimension2': 7.955, 'Dilution(OD)': 0.42, 'Nano_stock_vol': 0.5, 'Ag_acet_conc': 0.006, 'Ag_acet_mass': 14.0, 'Doping%': 5.5883, 'Time': 60.0, 'Temperature': 25.0}] as trial 50.\n",
      "[INFO 01-31 12:56:56] ax.service.ax_client: Completed trial 50 with data: {'f': (0.11299, None)}.\n"
     ]
    }
   ],
   "source": [
    "### Learn this from githum issue https://github.com/facebook/Ax/issues/768\n",
    "for i in range(len(modified_features)):\n",
    "    ax_client.attach_trial(parameters = {ax_parameters[j]['name']: modified_features.values[i][j] for j in range(9)})\n",
    "    ax_client.complete_trial(trial_index = i, raw_data = {\"f\": train_final_label.values[i]})\n"
   ]
  },
  {
   "cell_type": "markdown",
   "metadata": {},
   "source": [
    "### Evaluating model so far (optional) \n",
    "We want to do a BO loop in the end, but is always nice to see how the model is doing"
   ]
  },
  {
   "cell_type": "code",
   "execution_count": 8,
   "metadata": {},
   "outputs": [],
   "source": [
    "### For evaluation purposes you can train the model\n",
    "#AxClient.fit_model(ax_client)\n",
    "#render(interact_cross_validation(cv_results, show_context=True,autoset_axis_limits=False))\n"
   ]
  },
  {
   "cell_type": "markdown",
   "metadata": {},
   "source": [
    "### Get the new trials! (Finally)"
   ]
  },
  {
   "cell_type": "code",
   "execution_count": 18,
   "metadata": {},
   "outputs": [
    {
     "name": "stderr",
     "output_type": "stream",
     "text": [
      "[INFO 01-31 12:06:16] ax.service.ax_client: Generated new trial 51 with parameters {'Dimension1': 12.625996, 'Dimension2': 6.0, 'Dilution(OD)': 0.264996, 'Nano_stock_vol': 0.5, 'Ag_acet_conc': 0.006, 'Ag_acet_mass': 7.8, 'Doping%': 6.858187, 'Time': 60.0, 'Temperature': 25.0}.\n"
     ]
    },
    {
     "data": {
      "text/plain": [
       "\"\\nRunning it directly, gave me this error\\nModelFittingError: All attempts to fit the model have failed. For more information, try enabling botorch.settings.debug mode.\\nIs that the problem you showed me yesterday with some points?\\n\\nCouldn't fix it. Jumped to the dev API\\n\""
      ]
     },
     "execution_count": 18,
     "metadata": {},
     "output_type": "execute_result"
    }
   ],
   "source": [
    "ax_client.get_next_trial() \n",
    "\n",
    "#########################\n",
    "#                       #\n",
    "#     Mayk's comments   #\n",
    "#                       #\n",
    "#########################\n",
    "'''\n",
    "Running it directly, gave me this error\n",
    "ModelFittingError: All attempts to fit the model have failed. For more information, try enabling botorch.settings.debug mode.\n",
    "Is that the problem you showed me yesterday with some points?\n",
    "\n",
    "Couldn't fix it. Jumped to the dev API\n",
    "'''"
   ]
  },
  {
   "cell_type": "markdown",
   "metadata": {},
   "source": [
    "##### [Red]Important! For the purposes of this experiment we need to fix the dimensions (Dimension1 and Dimension2 features) as this cannot be controlled from the beggining. In other words, Farwa synthesizes NPLs, reports tu us the dimensions obtained, and then we get the rest of experimental parameters for the experiment. \n",
    "\n",
    "##### For this, we HAVE to use the Developer API (this is now a feature request in Ax.dev) https://github.com/facebook/Ax/issues/1951"
   ]
  },
  {
   "cell_type": "code",
   "execution_count": null,
   "metadata": {},
   "outputs": [],
   "source": [
    "###More visualizations\n",
    "render(ax_client.get_contour_plot(param_x='Dimension1', param_y='Doping%', metric_name='f'))\n",
    "render(ax_client.get_contour_plot(param_x='Dimension1', param_y='Doping%', metric_name='f'))\n",
    "render(plot_slice(ax_client.generation_strategy.model, 'Dilution(OD)', metric_name='f'))\n",
    "render(plot_slice(ax_client.generation_strategy.model, 'Doping%', metric_name='f'))\n",
    "render(plot_slice(ax_client.generation_strategy.model, 'Dimension2', metric_name='f'))\n",
    "render(plot_slice(ax_client.generation_strategy.model, 'Dimension1', metric_name='f'))\n",
    "cv_results = cross_validate(ax_client.generation_strategy.model,)\n",
    "render(interact_cross_validation(cv_results, show_context=True,autoset_axis_limits=False))"
   ]
  },
  {
   "cell_type": "markdown",
   "metadata": {},
   "source": [
    "## Using the Developer API"
   ]
  },
  {
   "cell_type": "markdown",
   "metadata": {},
   "source": [
    "### Specify The Loop Ingredients"
   ]
  },
  {
   "cell_type": "code",
   "execution_count": 8,
   "metadata": {},
   "outputs": [
    {
     "name": "stderr",
     "output_type": "stream",
     "text": [
      "/Users/jorgemedina/miniforge3/envs/DOEv2/lib/python3.10/site-packages/ax/core/parameter.py:517: UserWarning:\n",
      "\n",
      "`is_ordered` is not specified for `ChoiceParameter` \"Nano_stock_vol\". Defaulting to `True` for parameters of `ParameterType` FLOAT. To override this behavior (or avoid this warning), specify `is_ordered` during `ChoiceParameter` construction.\n",
      "\n",
      "/Users/jorgemedina/miniforge3/envs/DOEv2/lib/python3.10/site-packages/ax/core/parameter.py:517: UserWarning:\n",
      "\n",
      "`sort_values` is not specified for `ChoiceParameter` \"Nano_stock_vol\". Defaulting to `True` for parameters of `ParameterType` FLOAT. To override this behavior (or avoid this warning), specify `sort_values` during `ChoiceParameter` construction.\n",
      "\n",
      "/Users/jorgemedina/miniforge3/envs/DOEv2/lib/python3.10/site-packages/ax/core/parameter.py:517: UserWarning:\n",
      "\n",
      "`is_ordered` is not specified for `ChoiceParameter` \"Ag_acet_conc\". Defaulting to `True` for parameters of `ParameterType` FLOAT. To override this behavior (or avoid this warning), specify `is_ordered` during `ChoiceParameter` construction.\n",
      "\n",
      "/Users/jorgemedina/miniforge3/envs/DOEv2/lib/python3.10/site-packages/ax/core/parameter.py:517: UserWarning:\n",
      "\n",
      "`sort_values` is not specified for `ChoiceParameter` \"Ag_acet_conc\". Defaulting to `True` for parameters of `ParameterType` FLOAT. To override this behavior (or avoid this warning), specify `sort_values` during `ChoiceParameter` construction.\n",
      "\n",
      "/Users/jorgemedina/miniforge3/envs/DOEv2/lib/python3.10/site-packages/ax/core/parameter.py:517: UserWarning:\n",
      "\n",
      "`is_ordered` is not specified for `ChoiceParameter` \"Ag_acet_mass\". Defaulting to `True` for parameters of `ParameterType` FLOAT. To override this behavior (or avoid this warning), specify `is_ordered` during `ChoiceParameter` construction.\n",
      "\n",
      "/Users/jorgemedina/miniforge3/envs/DOEv2/lib/python3.10/site-packages/ax/core/parameter.py:517: UserWarning:\n",
      "\n",
      "`sort_values` is not specified for `ChoiceParameter` \"Ag_acet_mass\". Defaulting to `True` for parameters of `ParameterType` FLOAT. To override this behavior (or avoid this warning), specify `sort_values` during `ChoiceParameter` construction.\n",
      "\n",
      "/Users/jorgemedina/miniforge3/envs/DOEv2/lib/python3.10/site-packages/ax/core/parameter.py:517: UserWarning:\n",
      "\n",
      "`is_ordered` is not specified for `ChoiceParameter` \"Time\". Defaulting to `True` for parameters of `ParameterType` FLOAT. To override this behavior (or avoid this warning), specify `is_ordered` during `ChoiceParameter` construction.\n",
      "\n",
      "/Users/jorgemedina/miniforge3/envs/DOEv2/lib/python3.10/site-packages/ax/core/parameter.py:517: UserWarning:\n",
      "\n",
      "`sort_values` is not specified for `ChoiceParameter` \"Time\". Defaulting to `True` for parameters of `ParameterType` FLOAT. To override this behavior (or avoid this warning), specify `sort_values` during `ChoiceParameter` construction.\n",
      "\n",
      "/Users/jorgemedina/miniforge3/envs/DOEv2/lib/python3.10/site-packages/ax/core/parameter.py:517: UserWarning:\n",
      "\n",
      "`is_ordered` is not specified for `ChoiceParameter` \"Temperature\". Defaulting to `True` for parameters of `ParameterType` FLOAT. To override this behavior (or avoid this warning), specify `is_ordered` during `ChoiceParameter` construction.\n",
      "\n",
      "/Users/jorgemedina/miniforge3/envs/DOEv2/lib/python3.10/site-packages/ax/core/parameter.py:517: UserWarning:\n",
      "\n",
      "`sort_values` is not specified for `ChoiceParameter` \"Temperature\". Defaulting to `True` for parameters of `ParameterType` FLOAT. To override this behavior (or avoid this warning), specify `sort_values` during `ChoiceParameter` construction.\n",
      "\n",
      "[INFO 01-31 12:57:12] ax.core.experiment: Copied 51 completed trials and their data from None.\n"
     ]
    },
    {
     "data": {
      "text/plain": [
       "[Trial(experiment_name='None', index=0, status=TrialStatus.COMPLETED, arm=Arm(name='0_0', parameters={'Dimension1': 18.8, 'Dimension2': 14.04, 'Dilution(OD)': 0.175, 'Nano_stock_vol': 0.25, 'Ag_acet_conc': 0.006, 'Ag_acet_mass': 7.8, 'Doping%': 1.25, 'Time': 60.0, 'Temperature': 25.0})),\n",
       " Trial(experiment_name='None', index=1, status=TrialStatus.COMPLETED, arm=Arm(name='1_0', parameters={'Dimension1': 18.8, 'Dimension2': 14.04, 'Dilution(OD)': 0.175, 'Nano_stock_vol': 0.25, 'Ag_acet_conc': 0.006, 'Ag_acet_mass': 7.8, 'Doping%': 2.5, 'Time': 60.0, 'Temperature': 25.0})),\n",
       " Trial(experiment_name='None', index=2, status=TrialStatus.COMPLETED, arm=Arm(name='2_0', parameters={'Dimension1': 18.8, 'Dimension2': 14.04, 'Dilution(OD)': 0.175, 'Nano_stock_vol': 0.25, 'Ag_acet_conc': 0.006, 'Ag_acet_mass': 7.8, 'Doping%': 5.0, 'Time': 60.0, 'Temperature': 25.0})),\n",
       " Trial(experiment_name='None', index=3, status=TrialStatus.COMPLETED, arm=Arm(name='3_0', parameters={'Dimension1': 18.8, 'Dimension2': 14.04, 'Dilution(OD)': 0.175, 'Nano_stock_vol': 0.25, 'Ag_acet_conc': 0.006, 'Ag_acet_mass': 7.8, 'Doping%': 10.0, 'Time': 60.0, 'Temperature': 25.0})),\n",
       " Trial(experiment_name='None', index=4, status=TrialStatus.COMPLETED, arm=Arm(name='4_0', parameters={'Dimension1': 18.8, 'Dimension2': 14.04, 'Dilution(OD)': 0.175, 'Nano_stock_vol': 0.25, 'Ag_acet_conc': 0.0007, 'Ag_acet_mass': 3.5, 'Doping%': 0.25, 'Time': 60.0, 'Temperature': 25.0})),\n",
       " Trial(experiment_name='None', index=5, status=TrialStatus.COMPLETED, arm=Arm(name='5_0', parameters={'Dimension1': 18.8, 'Dimension2': 14.04, 'Dilution(OD)': 0.175, 'Nano_stock_vol': 0.25, 'Ag_acet_conc': 0.0007, 'Ag_acet_mass': 3.5, 'Doping%': 0.5, 'Time': 60.0, 'Temperature': 25.0})),\n",
       " Trial(experiment_name='None', index=6, status=TrialStatus.COMPLETED, arm=Arm(name='6_0', parameters={'Dimension1': 18.8, 'Dimension2': 14.04, 'Dilution(OD)': 0.175, 'Nano_stock_vol': 0.25, 'Ag_acet_conc': 0.0007, 'Ag_acet_mass': 3.5, 'Doping%': 0.75, 'Time': 60.0, 'Temperature': 25.0})),\n",
       " Trial(experiment_name='None', index=7, status=TrialStatus.COMPLETED, arm=Arm(name='7_0', parameters={'Dimension1': 18.8, 'Dimension2': 14.04, 'Dilution(OD)': 0.175, 'Nano_stock_vol': 0.25, 'Ag_acet_conc': 0.0007, 'Ag_acet_mass': 3.5, 'Doping%': 1.0, 'Time': 60.0, 'Temperature': 25.0})),\n",
       " Trial(experiment_name='None', index=8, status=TrialStatus.COMPLETED, arm=Arm(name='8_0', parameters={'Dimension1': 18.8, 'Dimension2': 14.04, 'Dilution(OD)': 0.175, 'Nano_stock_vol': 0.25, 'Ag_acet_conc': 0.0007, 'Ag_acet_mass': 3.5, 'Doping%': 1.25, 'Time': 60.0, 'Temperature': 25.0})),\n",
       " Trial(experiment_name='None', index=9, status=TrialStatus.COMPLETED, arm=Arm(name='9_0', parameters={'Dimension1': 18.8, 'Dimension2': 14.04, 'Dilution(OD)': 0.175, 'Nano_stock_vol': 0.25, 'Ag_acet_conc': 0.0007, 'Ag_acet_mass': 3.5, 'Doping%': 1.5, 'Time': 60.0, 'Temperature': 25.0})),\n",
       " Trial(experiment_name='None', index=10, status=TrialStatus.COMPLETED, arm=Arm(name='10_0', parameters={'Dimension1': 18.8, 'Dimension2': 14.04, 'Dilution(OD)': 0.175, 'Nano_stock_vol': 0.25, 'Ag_acet_conc': 0.0007, 'Ag_acet_mass': 3.5, 'Doping%': 1.75, 'Time': 60.0, 'Temperature': 25.0})),\n",
       " Trial(experiment_name='None', index=11, status=TrialStatus.COMPLETED, arm=Arm(name='11_0', parameters={'Dimension1': 18.8, 'Dimension2': 14.04, 'Dilution(OD)': 0.175, 'Nano_stock_vol': 0.25, 'Ag_acet_conc': 0.0007, 'Ag_acet_mass': 3.5, 'Doping%': 2.0, 'Time': 60.0, 'Temperature': 25.0})),\n",
       " Trial(experiment_name='None', index=12, status=TrialStatus.COMPLETED, arm=Arm(name='12_0', parameters={'Dimension1': 18.8, 'Dimension2': 14.04, 'Dilution(OD)': 0.175, 'Nano_stock_vol': 0.25, 'Ag_acet_conc': 0.0007, 'Ag_acet_mass': 3.5, 'Doping%': 3.0, 'Time': 60.0, 'Temperature': 25.0})),\n",
       " Trial(experiment_name='None', index=13, status=TrialStatus.COMPLETED, arm=Arm(name='13_0', parameters={'Dimension1': 35.0, 'Dimension2': 15.0, 'Dilution(OD)': 0.212, 'Nano_stock_vol': 0.5, 'Ag_acet_conc': 0.0007, 'Ag_acet_mass': 3.5, 'Doping%': 0.5, 'Time': 60.0, 'Temperature': 25.0})),\n",
       " Trial(experiment_name='None', index=14, status=TrialStatus.COMPLETED, arm=Arm(name='14_0', parameters={'Dimension1': 35.0, 'Dimension2': 15.0, 'Dilution(OD)': 0.212, 'Nano_stock_vol': 0.5, 'Ag_acet_conc': 0.0007, 'Ag_acet_mass': 3.5, 'Doping%': 1.0, 'Time': 60.0, 'Temperature': 25.0})),\n",
       " Trial(experiment_name='None', index=15, status=TrialStatus.COMPLETED, arm=Arm(name='15_0', parameters={'Dimension1': 35.0, 'Dimension2': 15.0, 'Dilution(OD)': 0.212, 'Nano_stock_vol': 0.5, 'Ag_acet_conc': 0.0007, 'Ag_acet_mass': 3.5, 'Doping%': 2.0, 'Time': 60.0, 'Temperature': 25.0})),\n",
       " Trial(experiment_name='None', index=16, status=TrialStatus.COMPLETED, arm=Arm(name='16_0', parameters={'Dimension1': 35.0, 'Dimension2': 15.0, 'Dilution(OD)': 0.212, 'Nano_stock_vol': 0.5, 'Ag_acet_conc': 0.0007, 'Ag_acet_mass': 3.5, 'Doping%': 3.0, 'Time': 60.0, 'Temperature': 25.0})),\n",
       " Trial(experiment_name='None', index=17, status=TrialStatus.COMPLETED, arm=Arm(name='17_0', parameters={'Dimension1': 35.0, 'Dimension2': 15.0, 'Dilution(OD)': 0.212, 'Nano_stock_vol': 0.5, 'Ag_acet_conc': 0.0007, 'Ag_acet_mass': 3.5, 'Doping%': 5.0, 'Time': 60.0, 'Temperature': 25.0})),\n",
       " Trial(experiment_name='None', index=18, status=TrialStatus.COMPLETED, arm=Arm(name='18_0', parameters={'Dimension1': 31.63, 'Dimension2': 13.8, 'Dilution(OD)': 0.12, 'Nano_stock_vol': 0.5, 'Ag_acet_conc': 0.0007, 'Ag_acet_mass': 3.5, 'Doping%': 0.5, 'Time': 60.0, 'Temperature': 25.0})),\n",
       " Trial(experiment_name='None', index=19, status=TrialStatus.COMPLETED, arm=Arm(name='19_0', parameters={'Dimension1': 31.63, 'Dimension2': 13.8, 'Dilution(OD)': 0.12, 'Nano_stock_vol': 0.5, 'Ag_acet_conc': 0.0007, 'Ag_acet_mass': 3.5, 'Doping%': 0.75, 'Time': 60.0, 'Temperature': 25.0})),\n",
       " Trial(experiment_name='None', index=20, status=TrialStatus.COMPLETED, arm=Arm(name='20_0', parameters={'Dimension1': 31.63, 'Dimension2': 13.8, 'Dilution(OD)': 0.12, 'Nano_stock_vol': 0.5, 'Ag_acet_conc': 0.0007, 'Ag_acet_mass': 3.5, 'Doping%': 1.0, 'Time': 60.0, 'Temperature': 25.0})),\n",
       " Trial(experiment_name='None', index=21, status=TrialStatus.COMPLETED, arm=Arm(name='21_0', parameters={'Dimension1': 31.63, 'Dimension2': 13.8, 'Dilution(OD)': 0.12, 'Nano_stock_vol': 0.5, 'Ag_acet_conc': 0.0007, 'Ag_acet_mass': 3.5, 'Doping%': 5.0, 'Time': 60.0, 'Temperature': 25.0})),\n",
       " Trial(experiment_name='None', index=22, status=TrialStatus.COMPLETED, arm=Arm(name='22_0', parameters={'Dimension1': 31.63, 'Dimension2': 13.8, 'Dilution(OD)': 0.12, 'Nano_stock_vol': 0.5, 'Ag_acet_conc': 0.006, 'Ag_acet_mass': 14.0, 'Doping%': 0.25, 'Time': 60.0, 'Temperature': 25.0})),\n",
       " Trial(experiment_name='None', index=23, status=TrialStatus.COMPLETED, arm=Arm(name='23_0', parameters={'Dimension1': 31.63, 'Dimension2': 13.8, 'Dilution(OD)': 0.12, 'Nano_stock_vol': 0.5, 'Ag_acet_conc': 0.006, 'Ag_acet_mass': 14.0, 'Doping%': 0.5, 'Time': 60.0, 'Temperature': 25.0})),\n",
       " Trial(experiment_name='None', index=24, status=TrialStatus.COMPLETED, arm=Arm(name='24_0', parameters={'Dimension1': 31.63, 'Dimension2': 13.8, 'Dilution(OD)': 0.12, 'Nano_stock_vol': 0.5, 'Ag_acet_conc': 0.006, 'Ag_acet_mass': 14.0, 'Doping%': 1.0, 'Time': 60.0, 'Temperature': 25.0})),\n",
       " Trial(experiment_name='None', index=25, status=TrialStatus.COMPLETED, arm=Arm(name='25_0', parameters={'Dimension1': 31.63, 'Dimension2': 13.8, 'Dilution(OD)': 0.12, 'Nano_stock_vol': 0.5, 'Ag_acet_conc': 0.006, 'Ag_acet_mass': 14.0, 'Doping%': 5.0, 'Time': 60.0, 'Temperature': 25.0})),\n",
       " Trial(experiment_name='None', index=26, status=TrialStatus.COMPLETED, arm=Arm(name='26_0', parameters={'Dimension1': 39.16, 'Dimension2': 6.34, 'Dilution(OD)': 0.42, 'Nano_stock_vol': 0.5, 'Ag_acet_conc': 0.006, 'Ag_acet_mass': 14.0, 'Doping%': 0.5, 'Time': 60.0, 'Temperature': 25.0})),\n",
       " Trial(experiment_name='None', index=27, status=TrialStatus.COMPLETED, arm=Arm(name='27_0', parameters={'Dimension1': 39.16, 'Dimension2': 6.34, 'Dilution(OD)': 0.42, 'Nano_stock_vol': 0.5, 'Ag_acet_conc': 0.006, 'Ag_acet_mass': 14.0, 'Doping%': 5.0, 'Time': 60.0, 'Temperature': 25.0})),\n",
       " Trial(experiment_name='None', index=28, status=TrialStatus.COMPLETED, arm=Arm(name='28_0', parameters={'Dimension1': 36.27, 'Dimension2': 6.52, 'Dilution(OD)': 0.12, 'Nano_stock_vol': 0.5, 'Ag_acet_conc': 0.0007, 'Ag_acet_mass': 3.5, 'Doping%': 3.0, 'Time': 10.0, 'Temperature': 0.0})),\n",
       " Trial(experiment_name='None', index=29, status=TrialStatus.COMPLETED, arm=Arm(name='29_0', parameters={'Dimension1': 36.27, 'Dimension2': 6.52, 'Dilution(OD)': 0.12, 'Nano_stock_vol': 0.5, 'Ag_acet_conc': 0.0007, 'Ag_acet_mass': 3.5, 'Doping%': 3.0, 'Time': 10.0, 'Temperature': 25.0})),\n",
       " Trial(experiment_name='None', index=30, status=TrialStatus.COMPLETED, arm=Arm(name='30_0', parameters={'Dimension1': 36.27, 'Dimension2': 6.52, 'Dilution(OD)': 0.12, 'Nano_stock_vol': 0.5, 'Ag_acet_conc': 0.0007, 'Ag_acet_mass': 3.5, 'Doping%': 3.0, 'Time': 10.0, 'Temperature': 50.0})),\n",
       " Trial(experiment_name='None', index=31, status=TrialStatus.COMPLETED, arm=Arm(name='31_0', parameters={'Dimension1': 36.27, 'Dimension2': 6.52, 'Dilution(OD)': 0.12, 'Nano_stock_vol': 0.5, 'Ag_acet_conc': 0.0007, 'Ag_acet_mass': 3.5, 'Doping%': 3.0, 'Time': 60.0, 'Temperature': 0.0})),\n",
       " Trial(experiment_name='None', index=32, status=TrialStatus.COMPLETED, arm=Arm(name='32_0', parameters={'Dimension1': 36.27, 'Dimension2': 6.52, 'Dilution(OD)': 0.12, 'Nano_stock_vol': 0.5, 'Ag_acet_conc': 0.0007, 'Ag_acet_mass': 3.5, 'Doping%': 3.0, 'Time': 60.0, 'Temperature': 25.0})),\n",
       " Trial(experiment_name='None', index=33, status=TrialStatus.COMPLETED, arm=Arm(name='33_0', parameters={'Dimension1': 36.27, 'Dimension2': 6.52, 'Dilution(OD)': 0.12, 'Nano_stock_vol': 0.5, 'Ag_acet_conc': 0.0007, 'Ag_acet_mass': 3.5, 'Doping%': 3.0, 'Time': 60.0, 'Temperature': 50.0})),\n",
       " Trial(experiment_name='None', index=34, status=TrialStatus.COMPLETED, arm=Arm(name='34_0', parameters={'Dimension1': 36.27, 'Dimension2': 6.52, 'Dilution(OD)': 0.12, 'Nano_stock_vol': 0.5, 'Ag_acet_conc': 0.0007, 'Ag_acet_mass': 3.5, 'Doping%': 3.0, 'Time': 180.0, 'Temperature': 25.0})),\n",
       " Trial(experiment_name='None', index=35, status=TrialStatus.COMPLETED, arm=Arm(name='35_0', parameters={'Dimension1': 36.27, 'Dimension2': 6.52, 'Dilution(OD)': 0.12, 'Nano_stock_vol': 0.5, 'Ag_acet_conc': 0.0007, 'Ag_acet_mass': 3.5, 'Doping%': 10.0, 'Time': 10.0, 'Temperature': 0.0})),\n",
       " Trial(experiment_name='None', index=36, status=TrialStatus.COMPLETED, arm=Arm(name='36_0', parameters={'Dimension1': 36.27, 'Dimension2': 6.52, 'Dilution(OD)': 0.12, 'Nano_stock_vol': 0.5, 'Ag_acet_conc': 0.0007, 'Ag_acet_mass': 3.5, 'Doping%': 10.0, 'Time': 10.0, 'Temperature': 25.0})),\n",
       " Trial(experiment_name='None', index=37, status=TrialStatus.COMPLETED, arm=Arm(name='37_0', parameters={'Dimension1': 36.27, 'Dimension2': 6.52, 'Dilution(OD)': 0.12, 'Nano_stock_vol': 0.5, 'Ag_acet_conc': 0.0007, 'Ag_acet_mass': 3.5, 'Doping%': 10.0, 'Time': 10.0, 'Temperature': 50.0})),\n",
       " Trial(experiment_name='None', index=38, status=TrialStatus.COMPLETED, arm=Arm(name='38_0', parameters={'Dimension1': 36.27, 'Dimension2': 6.52, 'Dilution(OD)': 0.12, 'Nano_stock_vol': 0.5, 'Ag_acet_conc': 0.0007, 'Ag_acet_mass': 3.5, 'Doping%': 10.0, 'Time': 60.0, 'Temperature': 0.0})),\n",
       " Trial(experiment_name='None', index=39, status=TrialStatus.COMPLETED, arm=Arm(name='39_0', parameters={'Dimension1': 36.27, 'Dimension2': 6.52, 'Dilution(OD)': 0.12, 'Nano_stock_vol': 0.5, 'Ag_acet_conc': 0.0007, 'Ag_acet_mass': 3.5, 'Doping%': 10.0, 'Time': 60.0, 'Temperature': 25.0})),\n",
       " Trial(experiment_name='None', index=40, status=TrialStatus.COMPLETED, arm=Arm(name='40_0', parameters={'Dimension1': 36.27, 'Dimension2': 6.52, 'Dilution(OD)': 0.12, 'Nano_stock_vol': 0.5, 'Ag_acet_conc': 0.0007, 'Ag_acet_mass': 3.5, 'Doping%': 10.0, 'Time': 60.0, 'Temperature': 50.0})),\n",
       " Trial(experiment_name='None', index=41, status=TrialStatus.COMPLETED, arm=Arm(name='41_0', parameters={'Dimension1': 36.27, 'Dimension2': 6.52, 'Dilution(OD)': 0.12, 'Nano_stock_vol': 0.5, 'Ag_acet_conc': 0.0007, 'Ag_acet_mass': 3.5, 'Doping%': 10.0, 'Time': 180.0, 'Temperature': 25.0})),\n",
       " Trial(experiment_name='None', index=42, status=TrialStatus.COMPLETED, arm=Arm(name='42_0', parameters={'Dimension1': 45.77, 'Dimension2': 7.29, 'Dilution(OD)': 0.26, 'Nano_stock_vol': 0.5, 'Ag_acet_conc': 0.0007, 'Ag_acet_mass': 3.5, 'Doping%': 1.0, 'Time': 10.0, 'Temperature': 0.0})),\n",
       " Trial(experiment_name='None', index=43, status=TrialStatus.COMPLETED, arm=Arm(name='43_0', parameters={'Dimension1': 45.77, 'Dimension2': 7.29, 'Dilution(OD)': 0.26, 'Nano_stock_vol': 0.5, 'Ag_acet_conc': 0.0007, 'Ag_acet_mass': 3.5, 'Doping%': 1.0, 'Time': 10.0, 'Temperature': 25.0})),\n",
       " Trial(experiment_name='None', index=44, status=TrialStatus.COMPLETED, arm=Arm(name='44_0', parameters={'Dimension1': 45.77, 'Dimension2': 7.29, 'Dilution(OD)': 0.26, 'Nano_stock_vol': 0.5, 'Ag_acet_conc': 0.0007, 'Ag_acet_mass': 3.5, 'Doping%': 1.0, 'Time': 10.0, 'Temperature': 50.0})),\n",
       " Trial(experiment_name='None', index=45, status=TrialStatus.COMPLETED, arm=Arm(name='45_0', parameters={'Dimension1': 45.77, 'Dimension2': 7.29, 'Dilution(OD)': 0.26, 'Nano_stock_vol': 0.5, 'Ag_acet_conc': 0.0007, 'Ag_acet_mass': 3.5, 'Doping%': 1.0, 'Time': 60.0, 'Temperature': 0.0})),\n",
       " Trial(experiment_name='None', index=46, status=TrialStatus.COMPLETED, arm=Arm(name='46_0', parameters={'Dimension1': 45.77, 'Dimension2': 7.29, 'Dilution(OD)': 0.26, 'Nano_stock_vol': 0.5, 'Ag_acet_conc': 0.0007, 'Ag_acet_mass': 3.5, 'Doping%': 1.0, 'Time': 60.0, 'Temperature': 25.0})),\n",
       " Trial(experiment_name='None', index=47, status=TrialStatus.COMPLETED, arm=Arm(name='47_0', parameters={'Dimension1': 45.77, 'Dimension2': 7.29, 'Dilution(OD)': 0.26, 'Nano_stock_vol': 0.5, 'Ag_acet_conc': 0.0007, 'Ag_acet_mass': 3.5, 'Doping%': 1.0, 'Time': 60.0, 'Temperature': 50.0})),\n",
       " Trial(experiment_name='None', index=48, status=TrialStatus.COMPLETED, arm=Arm(name='48_0', parameters={'Dimension1': 45.77, 'Dimension2': 7.29, 'Dilution(OD)': 0.26, 'Nano_stock_vol': 0.5, 'Ag_acet_conc': 0.0007, 'Ag_acet_mass': 3.5, 'Doping%': 5.0, 'Time': 10.0, 'Temperature': 0.0})),\n",
       " Trial(experiment_name='None', index=49, status=TrialStatus.COMPLETED, arm=Arm(name='49_0', parameters={'Dimension1': 45.77, 'Dimension2': 7.29, 'Dilution(OD)': 0.26, 'Nano_stock_vol': 0.5, 'Ag_acet_conc': 0.0007, 'Ag_acet_mass': 3.5, 'Doping%': 5.0, 'Time': 10.0, 'Temperature': 25.0})),\n",
       " Trial(experiment_name='None', index=50, status=TrialStatus.COMPLETED, arm=Arm(name='50_0', parameters={'Dimension1': 30.928, 'Dimension2': 7.955, 'Dilution(OD)': 0.42, 'Nano_stock_vol': 0.5, 'Ag_acet_conc': 0.006, 'Ag_acet_mass': 14.0, 'Doping%': 5.5883, 'Time': 60.0, 'Temperature': 25.0}))]"
      ]
     },
     "execution_count": 8,
     "metadata": {},
     "output_type": "execute_result"
    }
   ],
   "source": [
    "#optimization_config =  {\"f\":ObjectiveProperties(minimize=False)}\n",
    "objective_metric = Metric(name=\"f\", lower_is_better=None)  \n",
    "\n",
    "### Not sure why i have to do this still. It seems to be a way of handling data communitation between the model and the experiment\n",
    "class MyRunner(Runner):\n",
    "    def run(self, trial):\n",
    "        trial_metadata = {\"name\": str(trial.index)}\n",
    "        return trial_metadata\n",
    "\n",
    "# Define the search space based on the ax_parameters\n",
    "# Run the cell of search_space above to have the ax_parameters. Is just easier at this point haha\n",
    "search_space = SearchSpace(\n",
    "    parameters=[\n",
    "        RangeParameter(\n",
    "            name=param[\"name\"], \n",
    "            parameter_type=ParameterType.FLOAT, \n",
    "            lower=float(param[\"bounds\"][0]), \n",
    "            upper=float(param[\"bounds\"][1])\n",
    "        )\n",
    "        if param[\"type\"] == \"range\" else\n",
    "        ChoiceParameter(\n",
    "            name=param[\"name\"],\n",
    "            values=param[\"values\"],\n",
    "            parameter_type=ParameterType.FLOAT\n",
    "        )\n",
    "        for param in ax_parameters\n",
    "    ]\n",
    ")\n",
    "\n",
    "# Define the experiment with the search space\n",
    "#the optimization configuration (the objective and metrics)\n",
    "experiment = Experiment(\n",
    "    #name=\"f\",\n",
    "    search_space=search_space,\n",
    "    optimization_config=OptimizationConfig(objective=Objective(objective_metric, minimize=False)),\n",
    "    runner=MyRunner(),\n",
    ")\n",
    "\n",
    "experiment.warm_start_from_old_experiment(ax_client.generation_strategy.experiment)\n"
   ]
  },
  {
   "cell_type": "markdown",
   "metadata": {},
   "source": [
    "### Data\n"
   ]
  },
  {
   "cell_type": "markdown",
   "metadata": {},
   "source": [
    "Option 1: If you already went through the Service API part.\n"
   ]
  },
  {
   "cell_type": "code",
   "execution_count": 11,
   "metadata": {},
   "outputs": [
    {
     "ename": "NameError",
     "evalue": "name 'ax_client' is not defined",
     "output_type": "error",
     "traceback": [
      "\u001b[0;31m---------------------------------------------------------------------------\u001b[0m",
      "\u001b[0;31mNameError\u001b[0m                                 Traceback (most recent call last)",
      "Cell \u001b[0;32mIn[11], line 1\u001b[0m\n\u001b[0;32m----> 1\u001b[0m \u001b[43max_client\u001b[49m\u001b[38;5;241m.\u001b[39mgeneration_strategy\u001b[38;5;241m.\u001b[39mexperiment\u001b[38;5;241m.\u001b[39mfetch_data()\u001b[38;5;241m.\u001b[39mdf\n\u001b[1;32m      2\u001b[0m data \u001b[38;5;241m=\u001b[39m ax_client\u001b[38;5;241m.\u001b[39mgeneration_strategy\u001b[38;5;241m.\u001b[39mexperiment\u001b[38;5;241m.\u001b[39mfetch_data() \n\u001b[1;32m      3\u001b[0m data\u001b[38;5;241m.\u001b[39mdf\n",
      "\u001b[0;31mNameError\u001b[0m: name 'ax_client' is not defined"
     ]
    }
   ],
   "source": [
    "ax_client.generation_strategy.experiment.fetch_data().df\n",
    "data = ax_client.generation_strategy.experiment.fetch_data() \n",
    "data.df"
   ]
  },
  {
   "cell_type": "markdown",
   "metadata": {},
   "source": [
    "Option 2: If you are only using the Developer API you can add the data manually (learned from https://github.com/facebook/Ax/issues/768)"
   ]
  },
  {
   "cell_type": "code",
   "execution_count": 14,
   "metadata": {},
   "outputs": [
    {
     "data": {
      "text/html": [
       "<div>\n",
       "<style scoped>\n",
       "    .dataframe tbody tr th:only-of-type {\n",
       "        vertical-align: middle;\n",
       "    }\n",
       "\n",
       "    .dataframe tbody tr th {\n",
       "        vertical-align: top;\n",
       "    }\n",
       "\n",
       "    .dataframe thead th {\n",
       "        text-align: right;\n",
       "    }\n",
       "</style>\n",
       "<table border=\"1\" class=\"dataframe\">\n",
       "  <thead>\n",
       "    <tr style=\"text-align: right;\">\n",
       "      <th></th>\n",
       "      <th>arm_name</th>\n",
       "      <th>metric_name</th>\n",
       "      <th>mean</th>\n",
       "      <th>sem</th>\n",
       "      <th>trial_index</th>\n",
       "    </tr>\n",
       "  </thead>\n",
       "  <tbody>\n",
       "    <tr>\n",
       "      <th>46</th>\n",
       "      <td>46_0</td>\n",
       "      <td>f</td>\n",
       "      <td>0.007014</td>\n",
       "      <td>0.0</td>\n",
       "      <td>46</td>\n",
       "    </tr>\n",
       "    <tr>\n",
       "      <th>47</th>\n",
       "      <td>47_0</td>\n",
       "      <td>f</td>\n",
       "      <td>0.006404</td>\n",
       "      <td>0.0</td>\n",
       "      <td>47</td>\n",
       "    </tr>\n",
       "    <tr>\n",
       "      <th>48</th>\n",
       "      <td>48_0</td>\n",
       "      <td>f</td>\n",
       "      <td>0.039425</td>\n",
       "      <td>0.0</td>\n",
       "      <td>48</td>\n",
       "    </tr>\n",
       "    <tr>\n",
       "      <th>49</th>\n",
       "      <td>49_0</td>\n",
       "      <td>f</td>\n",
       "      <td>0.019595</td>\n",
       "      <td>0.0</td>\n",
       "      <td>49</td>\n",
       "    </tr>\n",
       "    <tr>\n",
       "      <th>50</th>\n",
       "      <td>50_0</td>\n",
       "      <td>f</td>\n",
       "      <td>0.112990</td>\n",
       "      <td>0.0</td>\n",
       "      <td>50</td>\n",
       "    </tr>\n",
       "  </tbody>\n",
       "</table>\n",
       "</div>"
      ],
      "text/plain": [
       "   arm_name metric_name      mean  sem  trial_index\n",
       "46     46_0           f  0.007014  0.0           46\n",
       "47     47_0           f  0.006404  0.0           47\n",
       "48     48_0           f  0.039425  0.0           48\n",
       "49     49_0           f  0.019595  0.0           49\n",
       "50     50_0           f  0.112990  0.0           50"
      ]
     },
     "execution_count": 14,
     "metadata": {},
     "output_type": "execute_result"
    }
   ],
   "source": [
    "for i in range(len(modified_features)):\n",
    "    #parameters\n",
    "    start_params = {ax_parameters[j]['name']: modified_features.values[i][j] for j in range(9)} #change this accordingly, this is for 9 features ordered as in the search_space defined above (you better run that cell!)\n",
    "    start_data = Data(\n",
    "        df=pd.DataFrame.from_records([{\"arm_name\": f\"{i}_0\",\n",
    "                                       \"metric_name\":\"f\",\n",
    "                                       \"mean\": train_final_label.values[i],\n",
    "                                       \"sem\": 0.0,\n",
    "                                       \"trial_index\": i}]),\n",
    "    )\n",
    "    trial = experiment.new_trial()\n",
    "    trial.add_arm(Arm(name=f\"{i}_0\", parameters=start_params))\n",
    "    experiment.attach_data(start_data)\n",
    "    trial.run().complete()\n",
    "    \n",
    "experiment.fetch_data().df.tail()"
   ]
  },
  {
   "cell_type": "code",
   "execution_count": null,
   "metadata": {},
   "outputs": [],
   "source": [
    "#########################\n",
    "#                       #\n",
    "#     Mayk's comments   #\n",
    "#                       #\n",
    "#########################\n",
    "\n",
    "#start_data.true_df\n",
    "#start_data has only one point. Should that be the case?\n",
    "\n",
    "#ax_client.generation_strategy.experiment.fetch_data().df\n",
    "\n",
    "#########################\n",
    "#                       #\n",
    "#     Jorge's comments  #\n",
    "#                       #\n",
    "#########################\n",
    "## It iterates through the whole data points, so the experiment ends up with all the data points"
   ]
  },
  {
   "cell_type": "markdown",
   "metadata": {},
   "source": [
    "### Models and Acquisition Function"
   ]
  },
  {
   "cell_type": "code",
   "execution_count": 9,
   "metadata": {},
   "outputs": [
    {
     "ename": "DataRequiredError",
     "evalue": "`StandardizeY` transform requires non-empty data.",
     "output_type": "error",
     "traceback": [
      "\u001b[0;31m---------------------------------------------------------------------------\u001b[0m",
      "\u001b[0;31mDataRequiredError\u001b[0m                         Traceback (most recent call last)",
      "Cell \u001b[0;32mIn[9], line 1\u001b[0m\n\u001b[0;32m----> 1\u001b[0m model_bridge_with_GPEI \u001b[38;5;241m=\u001b[39m \u001b[43mModels\u001b[49m\u001b[38;5;241;43m.\u001b[39;49m\u001b[43mBOTORCH_MODULAR\u001b[49m\u001b[43m(\u001b[49m\n\u001b[1;32m      2\u001b[0m \u001b[43m    \u001b[49m\u001b[43mexperiment\u001b[49m\u001b[38;5;241;43m=\u001b[39;49m\u001b[43mexperiment\u001b[49m\u001b[43m,\u001b[49m\n\u001b[1;32m      3\u001b[0m \u001b[43m    \u001b[49m\u001b[38;5;66;43;03m#data=experiment.fetch_data(),                     ###if option 1 for Data uncomment this line\u001b[39;49;00m\n\u001b[1;32m      4\u001b[0m \u001b[43m    \u001b[49m\u001b[43msurrogate\u001b[49m\u001b[38;5;241;43m=\u001b[39;49m\u001b[43mSurrogate\u001b[49m\u001b[43m(\u001b[49m\u001b[43mExactGPModel\u001b[49m\u001b[43m,\u001b[49m\u001b[43mmll_class\u001b[49m\u001b[38;5;241;43m=\u001b[39;49m\u001b[43mLeaveOneOutPseudoLikelihood\u001b[49m\u001b[43m)\u001b[49m\u001b[43m,\u001b[49m\n\u001b[1;32m      5\u001b[0m \u001b[43m                                   \u001b[49m\u001b[38;5;66;43;03m# ),  # Optional, will use default if unspecified\u001b[39;49;00m\n\u001b[1;32m      6\u001b[0m \u001b[43m    \u001b[49m\u001b[43mbotorch_acqf_class\u001b[49m\u001b[38;5;241;43m=\u001b[39;49m\u001b[43mqExpectedImprovement\u001b[49m\u001b[43m,\u001b[49m\u001b[43m  \u001b[49m\u001b[38;5;66;43;03m# Optional, will use default if unspecified\u001b[39;49;00m\n\u001b[1;32m      7\u001b[0m \u001b[43m    \u001b[49m\u001b[38;5;66;43;03m#transforms=[StandardizeY(), UnitX()],    # Optional, will use default if unspecified (see Transforms documentation)\u001b[39;49;00m\n\u001b[1;32m      8\u001b[0m \u001b[43m)\u001b[49m\n\u001b[1;32m     10\u001b[0m \u001b[38;5;66;03m#########################\u001b[39;00m\n\u001b[1;32m     11\u001b[0m \u001b[38;5;66;03m#                       #\u001b[39;00m\n\u001b[1;32m     12\u001b[0m \u001b[38;5;66;03m#     Mayk's comments   #\u001b[39;00m\n\u001b[0;32m   (...)\u001b[0m\n\u001b[1;32m     17\u001b[0m \u001b[38;5;66;03m# It works if I uncomment the line with `data=data` in the `model_bridge_with_GPEI` definition\u001b[39;00m\n\u001b[1;32m     18\u001b[0m \u001b[38;5;66;03m# But it's not working for option 2\u001b[39;00m\n",
      "File \u001b[0;32m~/miniforge3/envs/DOEv2/lib/python3.10/site-packages/ax/modelbridge/registry.py:372\u001b[0m, in \u001b[0;36mModelRegistryBase.__call__\u001b[0;34m(self, search_space, experiment, data, silently_filter_kwargs, **kwargs)\u001b[0m\n\u001b[1;32m    359\u001b[0m bridge_kwargs \u001b[38;5;241m=\u001b[39m consolidate_kwargs(\n\u001b[1;32m    360\u001b[0m     kwargs_iterable\u001b[38;5;241m=\u001b[39m[\n\u001b[1;32m    361\u001b[0m         get_function_default_arguments(bridge_class),\n\u001b[0;32m   (...)\u001b[0m\n\u001b[1;32m    368\u001b[0m     ),\n\u001b[1;32m    369\u001b[0m )\n\u001b[1;32m    371\u001b[0m \u001b[38;5;66;03m# Create model bridge with the consolidated kwargs.\u001b[39;00m\n\u001b[0;32m--> 372\u001b[0m model_bridge \u001b[38;5;241m=\u001b[39m \u001b[43mbridge_class\u001b[49m\u001b[43m(\u001b[49m\n\u001b[1;32m    373\u001b[0m \u001b[43m    \u001b[49m\u001b[43msearch_space\u001b[49m\u001b[38;5;241;43m=\u001b[39;49m\u001b[43msearch_space\u001b[49m\u001b[43m \u001b[49m\u001b[38;5;129;43;01mor\u001b[39;49;00m\u001b[43m \u001b[49m\u001b[43mnot_none\u001b[49m\u001b[43m(\u001b[49m\u001b[43mexperiment\u001b[49m\u001b[43m)\u001b[49m\u001b[38;5;241;43m.\u001b[39;49m\u001b[43msearch_space\u001b[49m\u001b[43m,\u001b[49m\n\u001b[1;32m    374\u001b[0m \u001b[43m    \u001b[49m\u001b[43mexperiment\u001b[49m\u001b[38;5;241;43m=\u001b[39;49m\u001b[43mexperiment\u001b[49m\u001b[43m,\u001b[49m\n\u001b[1;32m    375\u001b[0m \u001b[43m    \u001b[49m\u001b[43mdata\u001b[49m\u001b[38;5;241;43m=\u001b[39;49m\u001b[43mdata\u001b[49m\u001b[43m,\u001b[49m\n\u001b[1;32m    376\u001b[0m \u001b[43m    \u001b[49m\u001b[43mmodel\u001b[49m\u001b[38;5;241;43m=\u001b[39;49m\u001b[43mmodel\u001b[49m\u001b[43m,\u001b[49m\n\u001b[1;32m    377\u001b[0m \u001b[43m    \u001b[49m\u001b[38;5;241;43m*\u001b[39;49m\u001b[38;5;241;43m*\u001b[39;49m\u001b[43mbridge_kwargs\u001b[49m\u001b[43m,\u001b[49m\n\u001b[1;32m    378\u001b[0m \u001b[43m\u001b[49m\u001b[43m)\u001b[49m\n\u001b[1;32m    380\u001b[0m \u001b[38;5;28;01mif\u001b[39;00m model_setup_info\u001b[38;5;241m.\u001b[39mnot_saved_model_kwargs:\n\u001b[1;32m    381\u001b[0m     \u001b[38;5;28;01mfor\u001b[39;00m key \u001b[38;5;129;01min\u001b[39;00m model_setup_info\u001b[38;5;241m.\u001b[39mnot_saved_model_kwargs:\n",
      "File \u001b[0;32m~/miniforge3/envs/DOEv2/lib/python3.10/site-packages/ax/modelbridge/torch.py:126\u001b[0m, in \u001b[0;36mTorchModelBridge.__init__\u001b[0;34m(self, experiment, search_space, data, model, transforms, transform_configs, torch_dtype, torch_device, status_quo_name, status_quo_features, optimization_config, fit_out_of_design, fit_abandoned, fit_tracking_metrics, fit_on_init, default_model_gen_options)\u001b[0m\n\u001b[1;32m    121\u001b[0m     optimization_config \u001b[38;5;241m=\u001b[39m not_none(\n\u001b[1;32m    122\u001b[0m         optimization_config \u001b[38;5;129;01mor\u001b[39;00m experiment\u001b[38;5;241m.\u001b[39moptimization_config\n\u001b[1;32m    123\u001b[0m     )\n\u001b[1;32m    124\u001b[0m     \u001b[38;5;28mself\u001b[39m\u001b[38;5;241m.\u001b[39mis_moo_problem \u001b[38;5;241m=\u001b[39m optimization_config\u001b[38;5;241m.\u001b[39mis_moo_problem\n\u001b[0;32m--> 126\u001b[0m \u001b[38;5;28;43msuper\u001b[39;49m\u001b[43m(\u001b[49m\u001b[43m)\u001b[49m\u001b[38;5;241;43m.\u001b[39;49m\u001b[38;5;21;43m__init__\u001b[39;49m\u001b[43m(\u001b[49m\n\u001b[1;32m    127\u001b[0m \u001b[43m    \u001b[49m\u001b[43mexperiment\u001b[49m\u001b[38;5;241;43m=\u001b[39;49m\u001b[43mexperiment\u001b[49m\u001b[43m,\u001b[49m\n\u001b[1;32m    128\u001b[0m \u001b[43m    \u001b[49m\u001b[43msearch_space\u001b[49m\u001b[38;5;241;43m=\u001b[39;49m\u001b[43msearch_space\u001b[49m\u001b[43m,\u001b[49m\n\u001b[1;32m    129\u001b[0m \u001b[43m    \u001b[49m\u001b[43mdata\u001b[49m\u001b[38;5;241;43m=\u001b[39;49m\u001b[43mdata\u001b[49m\u001b[43m,\u001b[49m\n\u001b[1;32m    130\u001b[0m \u001b[43m    \u001b[49m\u001b[43mmodel\u001b[49m\u001b[38;5;241;43m=\u001b[39;49m\u001b[43mmodel\u001b[49m\u001b[43m,\u001b[49m\n\u001b[1;32m    131\u001b[0m \u001b[43m    \u001b[49m\u001b[43mtransforms\u001b[49m\u001b[38;5;241;43m=\u001b[39;49m\u001b[43mtransforms\u001b[49m\u001b[43m,\u001b[49m\n\u001b[1;32m    132\u001b[0m \u001b[43m    \u001b[49m\u001b[43mtransform_configs\u001b[49m\u001b[38;5;241;43m=\u001b[39;49m\u001b[43mtransform_configs\u001b[49m\u001b[43m,\u001b[49m\n\u001b[1;32m    133\u001b[0m \u001b[43m    \u001b[49m\u001b[43mstatus_quo_name\u001b[49m\u001b[38;5;241;43m=\u001b[39;49m\u001b[43mstatus_quo_name\u001b[49m\u001b[43m,\u001b[49m\n\u001b[1;32m    134\u001b[0m \u001b[43m    \u001b[49m\u001b[43mstatus_quo_features\u001b[49m\u001b[38;5;241;43m=\u001b[39;49m\u001b[43mstatus_quo_features\u001b[49m\u001b[43m,\u001b[49m\n\u001b[1;32m    135\u001b[0m \u001b[43m    \u001b[49m\u001b[43moptimization_config\u001b[49m\u001b[38;5;241;43m=\u001b[39;49m\u001b[43moptimization_config\u001b[49m\u001b[43m,\u001b[49m\n\u001b[1;32m    136\u001b[0m \u001b[43m    \u001b[49m\u001b[43mfit_out_of_design\u001b[49m\u001b[38;5;241;43m=\u001b[39;49m\u001b[43mfit_out_of_design\u001b[49m\u001b[43m,\u001b[49m\n\u001b[1;32m    137\u001b[0m \u001b[43m    \u001b[49m\u001b[43mfit_abandoned\u001b[49m\u001b[38;5;241;43m=\u001b[39;49m\u001b[43mfit_abandoned\u001b[49m\u001b[43m,\u001b[49m\n\u001b[1;32m    138\u001b[0m \u001b[43m    \u001b[49m\u001b[43mfit_tracking_metrics\u001b[49m\u001b[38;5;241;43m=\u001b[39;49m\u001b[43mfit_tracking_metrics\u001b[49m\u001b[43m,\u001b[49m\n\u001b[1;32m    139\u001b[0m \u001b[43m    \u001b[49m\u001b[43mfit_on_init\u001b[49m\u001b[38;5;241;43m=\u001b[39;49m\u001b[43mfit_on_init\u001b[49m\u001b[43m,\u001b[49m\n\u001b[1;32m    140\u001b[0m \u001b[43m\u001b[49m\u001b[43m)\u001b[49m\n",
      "File \u001b[0;32m~/miniforge3/envs/DOEv2/lib/python3.10/site-packages/ax/modelbridge/base.py:206\u001b[0m, in \u001b[0;36mModelBridge.__init__\u001b[0;34m(self, search_space, model, transforms, experiment, data, transform_configs, status_quo_name, status_quo_features, optimization_config, fit_out_of_design, fit_abandoned, fit_tracking_metrics, fit_on_init)\u001b[0m\n\u001b[1;32m    204\u001b[0m \u001b[38;5;28mself\u001b[39m\u001b[38;5;241m.\u001b[39mmodel \u001b[38;5;241m=\u001b[39m model\n\u001b[1;32m    205\u001b[0m \u001b[38;5;28;01mif\u001b[39;00m fit_on_init:\n\u001b[0;32m--> 206\u001b[0m     observations, search_space \u001b[38;5;241m=\u001b[39m \u001b[38;5;28;43mself\u001b[39;49m\u001b[38;5;241;43m.\u001b[39;49m\u001b[43m_transform_data\u001b[49m\u001b[43m(\u001b[49m\n\u001b[1;32m    207\u001b[0m \u001b[43m        \u001b[49m\u001b[43mobservations\u001b[49m\u001b[38;5;241;43m=\u001b[39;49m\u001b[43mobservations_raw\u001b[49m\u001b[43m,\u001b[49m\n\u001b[1;32m    208\u001b[0m \u001b[43m        \u001b[49m\u001b[43msearch_space\u001b[49m\u001b[38;5;241;43m=\u001b[39;49m\u001b[38;5;28;43mself\u001b[39;49m\u001b[38;5;241;43m.\u001b[39;49m\u001b[43m_model_space\u001b[49m\u001b[43m,\u001b[49m\n\u001b[1;32m    209\u001b[0m \u001b[43m        \u001b[49m\u001b[43mtransforms\u001b[49m\u001b[38;5;241;43m=\u001b[39;49m\u001b[38;5;28;43mself\u001b[39;49m\u001b[38;5;241;43m.\u001b[39;49m\u001b[43m_raw_transforms\u001b[49m\u001b[43m,\u001b[49m\n\u001b[1;32m    210\u001b[0m \u001b[43m        \u001b[49m\u001b[43mtransform_configs\u001b[49m\u001b[38;5;241;43m=\u001b[39;49m\u001b[38;5;28;43mself\u001b[39;49m\u001b[38;5;241;43m.\u001b[39;49m\u001b[43m_transform_configs\u001b[49m\u001b[43m,\u001b[49m\n\u001b[1;32m    211\u001b[0m \u001b[43m    \u001b[49m\u001b[43m)\u001b[49m\n\u001b[1;32m    212\u001b[0m     \u001b[38;5;28mself\u001b[39m\u001b[38;5;241m.\u001b[39m_fit_if_implemented(\n\u001b[1;32m    213\u001b[0m         search_space\u001b[38;5;241m=\u001b[39msearch_space,\n\u001b[1;32m    214\u001b[0m         observations\u001b[38;5;241m=\u001b[39mobservations,\n\u001b[1;32m    215\u001b[0m         time_so_far\u001b[38;5;241m=\u001b[39mtime\u001b[38;5;241m.\u001b[39mmonotonic() \u001b[38;5;241m-\u001b[39m t_fit_start,\n\u001b[1;32m    216\u001b[0m     )\n",
      "File \u001b[0;32m~/miniforge3/envs/DOEv2/lib/python3.10/site-packages/ax/modelbridge/base.py:293\u001b[0m, in \u001b[0;36mModelBridge._transform_data\u001b[0;34m(self, observations, search_space, transforms, transform_configs, assign_transforms)\u001b[0m\n\u001b[1;32m    290\u001b[0m     transform_configs \u001b[38;5;241m=\u001b[39m {}\n\u001b[1;32m    292\u001b[0m \u001b[38;5;28;01mfor\u001b[39;00m t \u001b[38;5;129;01min\u001b[39;00m transforms:\n\u001b[0;32m--> 293\u001b[0m     t_instance \u001b[38;5;241m=\u001b[39m \u001b[43mt\u001b[49m\u001b[43m(\u001b[49m\n\u001b[1;32m    294\u001b[0m \u001b[43m        \u001b[49m\u001b[43msearch_space\u001b[49m\u001b[38;5;241;43m=\u001b[39;49m\u001b[43msearch_space\u001b[49m\u001b[43m,\u001b[49m\n\u001b[1;32m    295\u001b[0m \u001b[43m        \u001b[49m\u001b[43mobservations\u001b[49m\u001b[38;5;241;43m=\u001b[39;49m\u001b[43mobservations\u001b[49m\u001b[43m,\u001b[49m\n\u001b[1;32m    296\u001b[0m \u001b[43m        \u001b[49m\u001b[43mmodelbridge\u001b[49m\u001b[38;5;241;43m=\u001b[39;49m\u001b[38;5;28;43mself\u001b[39;49m\u001b[43m,\u001b[49m\n\u001b[1;32m    297\u001b[0m \u001b[43m        \u001b[49m\u001b[43mconfig\u001b[49m\u001b[38;5;241;43m=\u001b[39;49m\u001b[43mtransform_configs\u001b[49m\u001b[38;5;241;43m.\u001b[39;49m\u001b[43mget\u001b[49m\u001b[43m(\u001b[49m\u001b[43mt\u001b[49m\u001b[38;5;241;43m.\u001b[39;49m\u001b[38;5;18;43m__name__\u001b[39;49m\u001b[43m,\u001b[49m\u001b[43m \u001b[49m\u001b[38;5;28;43;01mNone\u001b[39;49;00m\u001b[43m)\u001b[49m\u001b[43m,\u001b[49m\n\u001b[1;32m    298\u001b[0m \u001b[43m    \u001b[49m\u001b[43m)\u001b[49m\n\u001b[1;32m    299\u001b[0m     search_space \u001b[38;5;241m=\u001b[39m t_instance\u001b[38;5;241m.\u001b[39mtransform_search_space(search_space)\n\u001b[1;32m    300\u001b[0m     observations \u001b[38;5;241m=\u001b[39m t_instance\u001b[38;5;241m.\u001b[39mtransform_observations(observations)\n",
      "File \u001b[0;32m~/miniforge3/envs/DOEv2/lib/python3.10/site-packages/ax/modelbridge/transforms/standardize_y.py:45\u001b[0m, in \u001b[0;36mStandardizeY.__init__\u001b[0;34m(self, search_space, observations, modelbridge, config)\u001b[0m\n\u001b[1;32m     37\u001b[0m \u001b[38;5;28;01mdef\u001b[39;00m \u001b[38;5;21m__init__\u001b[39m(\n\u001b[1;32m     38\u001b[0m     \u001b[38;5;28mself\u001b[39m,\n\u001b[1;32m     39\u001b[0m     search_space: Optional[SearchSpace] \u001b[38;5;241m=\u001b[39m \u001b[38;5;28;01mNone\u001b[39;00m,\n\u001b[0;32m   (...)\u001b[0m\n\u001b[1;32m     42\u001b[0m     config: Optional[TConfig] \u001b[38;5;241m=\u001b[39m \u001b[38;5;28;01mNone\u001b[39;00m,\n\u001b[1;32m     43\u001b[0m ) \u001b[38;5;241m-\u001b[39m\u001b[38;5;241m>\u001b[39m \u001b[38;5;28;01mNone\u001b[39;00m:\n\u001b[1;32m     44\u001b[0m     \u001b[38;5;28;01mif\u001b[39;00m observations \u001b[38;5;129;01mis\u001b[39;00m \u001b[38;5;28;01mNone\u001b[39;00m \u001b[38;5;129;01mor\u001b[39;00m \u001b[38;5;28mlen\u001b[39m(observations) \u001b[38;5;241m==\u001b[39m \u001b[38;5;241m0\u001b[39m:\n\u001b[0;32m---> 45\u001b[0m         \u001b[38;5;28;01mraise\u001b[39;00m DataRequiredError(\u001b[38;5;124m\"\u001b[39m\u001b[38;5;124m`StandardizeY` transform requires non-empty data.\u001b[39m\u001b[38;5;124m\"\u001b[39m)\n\u001b[1;32m     46\u001b[0m     observation_data \u001b[38;5;241m=\u001b[39m [obs\u001b[38;5;241m.\u001b[39mdata \u001b[38;5;28;01mfor\u001b[39;00m obs \u001b[38;5;129;01min\u001b[39;00m observations]\n\u001b[1;32m     47\u001b[0m     Ys \u001b[38;5;241m=\u001b[39m get_data(observation_data\u001b[38;5;241m=\u001b[39mobservation_data)\n",
      "\u001b[0;31mDataRequiredError\u001b[0m: `StandardizeY` transform requires non-empty data."
     ]
    }
   ],
   "source": [
    "model_bridge_with_GPEI = Models.BOTORCH_MODULAR(\n",
    "    experiment=experiment,\n",
    "    #data=experiment.fetch_data(),                     ###if option 1 for Data uncomment this line\n",
    "    surrogate=Surrogate(ExactGPModel,mll_class=LeaveOneOutPseudoLikelihood),\n",
    "                                   # ),  # Optional, will use default if unspecified\n",
    "    botorch_acqf_class=qExpectedImprovement,  # Optional, will use default if unspecified\n",
    "    #transforms=[StandardizeY(), UnitX()],    # Optional, will use default if unspecified (see Transforms documentation)\n",
    ")\n",
    "\n",
    "#########################\n",
    "#                       #\n",
    "#     Mayk's comments   #\n",
    "#                       #\n",
    "#########################\n",
    "# `experiment` has only one point. Might that be the problem?\n",
    "# DataRequiredError: `StandardizeY` transform requires non-empty data.\n",
    "# It works if I uncomment the line with `data=data` in the `model_bridge_with_GPEI` definition\n",
    "# But it's not working for option 2"
   ]
  },
  {
   "cell_type": "markdown",
   "metadata": {},
   "source": [
    "### And get my new experiments! "
   ]
  },
  {
   "cell_type": "code",
   "execution_count": null,
   "metadata": {},
   "outputs": [],
   "source": [
    "### Assuming the NPL synthesized in the lab has Dimension1 = 27.5728 and Dimension2 = 8.1029\n",
    "### We can generate a new trial with these values fixed, so that the model can optimize the acquisition function for the remaining variables\n",
    "\n",
    "generator_run = model_bridge_with_GPEI.gen(n=1,fixed_features=ObservationFeatures({'Dimension1':27.5728,'Dimension2':8.1029}))\n",
    "trial = experiment.new_trial(generator_run=generator_run)\n",
    "\n",
    "#########################\n",
    "#                       #\n",
    "#     Mayk's comments   #\n",
    "#                       #\n",
    "#########################\n",
    "# Maybe print the new point here"
   ]
  },
  {
   "cell_type": "code",
   "execution_count": null,
   "metadata": {},
   "outputs": [
    {
     "data": {
      "text/plain": [
       "Trial(experiment_name='test_f', index=102, status=TrialStatus.COMPLETED, arm=Arm(name='102_0', parameters={'Dimension1': 27.5728, 'Dimension2': 8.1029, 'Dilution(OD)': 0.40492337655113503, 'Nano_stock_vol': 0.25, 'Ag_acet_conc': 0.006, 'Ag_acet_mass': 14.0, 'Doping%': 10.0, 'Time': 60.0, 'Temperature': 50.0}))"
      ]
     },
     "execution_count": 39,
     "metadata": {},
     "output_type": "execute_result"
    }
   ],
   "source": [
    "trial.run().complete()"
   ]
  },
  {
   "cell_type": "code",
   "execution_count": null,
   "metadata": {},
   "outputs": [],
   "source": [
    "\n",
    "#########################\n",
    "#                       #\n",
    "#     Mayk's comments   #\n",
    "#                       #\n",
    "#########################\n",
    "'''\n",
    "A few considerations:\n",
    "- Are both approaches (service or dev API) supposed to be independent?\n",
    "    One can only use the dev api is initialize the ax.Client, which is defined in the service API section.\n",
    "\n",
    "- The service API didn't work for me. Got that error where the GP couldn't be fitted.\n",
    "- However, if I load the data using the code in the service API and use the dev API to run, it works.\n",
    "    While just using the dev API to start an experiment without the \"old data\", doesn't work. I got this error with the StandardizeY.\n",
    "\n",
    "Which API do you think is the best? Maybe we should just stick with one of them for the project and use that one only.\n",
    "'''\n",
    "\n",
    "#########################\n",
    "#                       #\n",
    "# Jorge's comments      #\n",
    "#                       #\n",
    "#########################\n",
    "''' \n",
    "Both APIs are equivalent in this setting. I put both, cause the Service API is more user-friendly.\n",
    "And also so this notebook can be used as a sort of tutorial for Ax too. \n",
    "\n",
    "Im curious that the Developer API worked, yesterday i had the issue with both of them.\n",
    "----> I figure it out, one of them uses a different mll. The developer one, and it doesnt crash (the second one is supposed to be more stable)\n",
    "'''"
   ]
  }
 ],
 "metadata": {
  "kernelspec": {
   "display_name": "Python 3",
   "language": "python",
   "name": "python3"
  },
  "language_info": {
   "codemirror_mode": {
    "name": "ipython",
    "version": 3
   },
   "file_extension": ".py",
   "mimetype": "text/x-python",
   "name": "python",
   "nbconvert_exporter": "python",
   "pygments_lexer": "ipython3",
   "version": "3.11.7"
  }
 },
 "nbformat": 4,
 "nbformat_minor": 2
}
