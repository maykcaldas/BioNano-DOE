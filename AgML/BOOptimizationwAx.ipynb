{
 "cells": [
  {
   "cell_type": "code",
   "execution_count": 7,
   "metadata": {},
   "outputs": [],
   "source": [
    "import matplotlib.pyplot as plt\n",
    "import matplotlib.font_manager as font_manager\n",
    "import urllib.request\n",
    "\n",
    "urllib.request.urlretrieve(\n",
    "    \"https://github.com/google/fonts/raw/main/ofl/ibmplexmono/IBMPlexMono-Regular.ttf\",\n",
    "    \"IBMPlexMono-Regular.ttf\",\n",
    ")\n",
    "fe = font_manager.FontEntry(fname=\"IBMPlexMono-Regular.ttf\", name=\"plexmono\")\n",
    "font_manager.fontManager.ttflist.append(fe)\n",
    "plt.rcParams.update(\n",
    "    {\n",
    "        \"axes.facecolor\": \"#f5f4e9\",\n",
    "        \"grid.color\": \"#AAAAAA\",\n",
    "        \"axes.edgecolor\": \"#333333\",\n",
    "        \"figure.facecolor\": \"#FFFFFF\",\n",
    "        \"axes.grid\": False,\n",
    "        \"axes.prop_cycle\": plt.cycler(\"color\", plt.cm.Dark2.colors),\n",
    "        \"font.family\": fe.name,\n",
    "        \"figure.figsize\": (3.5, 3.5 / 1.2),\n",
    "        \"ytick.left\": True,\n",
    "        \"xtick.bottom\": True,\n",
    "    }\n",
    ")\n",
    "\n",
    "import random\n",
    "import numpy as np\n",
    "import pandas as pd\n",
    "import torch\n",
    "np.random.seed(0)\n",
    "random.seed(0)"
   ]
  },
  {
   "cell_type": "code",
   "execution_count": null,
   "metadata": {},
   "outputs": [],
   "source": [
    "#Core libraries\n",
    "import torch\n",
    "import numpy as np\n",
    "import pandas as pd\n",
    "import gpytorch\n",
    "\n",
    "#Ax library\n",
    "from ax.modelbridge.generation_strategy import GenerationStep, GenerationStrategy\n",
    "from ax.modelbridge.registry import Models\n",
    "from botorch.models.gpytorch import GPyTorchModel\n",
    "from botorch.utils.datasets import SupervisedDataset\n",
    "from gpytorch.distributions import MultivariateNormal\n",
    "from gpytorch.kernels import RBFKernel, ScaleKernel\n",
    "from gpytorch.likelihoods import GaussianLikelihood\n",
    "from gpytorch.means import ConstantMean\n",
    "from gpytorch.models import ExactGP\n",
    "from ax.models.torch.botorch_modular.model import BoTorchModel\n",
    "from ax.models.torch.botorch_modular.surrogate import Surrogate\n",
    "from botorch.fit import fit_gpytorch_model\n",
    "from gpytorch.mlls import ExactMarginalLogLikelihood, LeaveOneOutPseudoLikelihood, SumMarginalLogLikelihood\n",
    "from gpytorch.mlls import VariationalELBO\n",
    "from botorch.acquisition.monte_carlo import qExpectedImprovement\n",
    "from botorch.acquisition import qNoisyExpectedImprovement\n",
    "from botorch.acquisition.analytic import ExpectedImprovement, LogProbabilityOfImprovement\n",
    "from ax.service.ax_client import AxClient, ObjectiveProperties\n",
    "from botorch.models.gp_regression import FixedNoiseGP\n",
    "\n",
    "#Deveper API\n",
    "from ax import (\n",
    "    ComparisonOp,\n",
    "    ParameterType,\n",
    "    RangeParameter,\n",
    "    ChoiceParameter,\n",
    "    FixedParameter,\n",
    "    SearchSpace,\n",
    "    Experiment,\n",
    "    OutcomeConstraint,\n",
    "    OrderConstraint,\n",
    "    SumConstraint,\n",
    "    OptimizationConfig,\n",
    "    Objective,\n",
    "    Metric,\n",
    "    Runner,\n",
    "    Data,\n",
    "    Arm,\n",
    ")\n",
    "from ax.core import ObservationFeatures\n",
    "#For Visualization Purposes\n",
    "from ax.utils.notebook.plotting import render\n",
    "from ax.modelbridge.cross_validation import cross_validate\n",
    "from ax.plot.diagnostic import interact_cross_validation\n",
    "from ax.plot.slice import plot_slice\n",
    "\n"
   ]
  },
  {
   "cell_type": "markdown",
   "metadata": {},
   "source": [
    "## Get Data"
   ]
  },
  {
   "cell_type": "code",
   "execution_count": 5,
   "metadata": {},
   "outputs": [
    {
     "name": "stdout",
     "output_type": "stream",
     "text": [
      "You have a total of  70  data points\n",
      "With  10  number of features each\n"
     ]
    },
    {
     "data": {
      "text/html": [
       "<div>\n",
       "<style scoped>\n",
       "    .dataframe tbody tr th:only-of-type {\n",
       "        vertical-align: middle;\n",
       "    }\n",
       "\n",
       "    .dataframe tbody tr th {\n",
       "        vertical-align: top;\n",
       "    }\n",
       "\n",
       "    .dataframe thead th {\n",
       "        text-align: right;\n",
       "    }\n",
       "</style>\n",
       "<table border=\"1\" class=\"dataframe\">\n",
       "  <thead>\n",
       "    <tr style=\"text-align: right;\">\n",
       "      <th></th>\n",
       "      <th>0</th>\n",
       "      <th>1</th>\n",
       "      <th>2</th>\n",
       "      <th>3</th>\n",
       "      <th>4</th>\n",
       "      <th>5</th>\n",
       "      <th>6</th>\n",
       "      <th>7</th>\n",
       "      <th>8</th>\n",
       "      <th>9</th>\n",
       "    </tr>\n",
       "  </thead>\n",
       "  <tbody>\n",
       "    <tr>\n",
       "      <th>0</th>\n",
       "      <td>18.8</td>\n",
       "      <td>14.04</td>\n",
       "      <td>0.175</td>\n",
       "      <td>0.25</td>\n",
       "      <td>0.0060</td>\n",
       "      <td>7.8</td>\n",
       "      <td>1.25</td>\n",
       "      <td>60.0</td>\n",
       "      <td>25</td>\n",
       "      <td>0.405553</td>\n",
       "    </tr>\n",
       "    <tr>\n",
       "      <th>1</th>\n",
       "      <td>18.8</td>\n",
       "      <td>14.04</td>\n",
       "      <td>0.175</td>\n",
       "      <td>0.25</td>\n",
       "      <td>0.0060</td>\n",
       "      <td>7.8</td>\n",
       "      <td>2.50</td>\n",
       "      <td>60.0</td>\n",
       "      <td>25</td>\n",
       "      <td>0.405553</td>\n",
       "    </tr>\n",
       "    <tr>\n",
       "      <th>2</th>\n",
       "      <td>18.8</td>\n",
       "      <td>14.04</td>\n",
       "      <td>0.175</td>\n",
       "      <td>0.25</td>\n",
       "      <td>0.0060</td>\n",
       "      <td>7.8</td>\n",
       "      <td>5.00</td>\n",
       "      <td>60.0</td>\n",
       "      <td>25</td>\n",
       "      <td>0.405553</td>\n",
       "    </tr>\n",
       "    <tr>\n",
       "      <th>3</th>\n",
       "      <td>18.8</td>\n",
       "      <td>14.04</td>\n",
       "      <td>0.175</td>\n",
       "      <td>0.25</td>\n",
       "      <td>0.0060</td>\n",
       "      <td>7.8</td>\n",
       "      <td>10.00</td>\n",
       "      <td>60.0</td>\n",
       "      <td>25</td>\n",
       "      <td>0.405553</td>\n",
       "    </tr>\n",
       "    <tr>\n",
       "      <th>4</th>\n",
       "      <td>18.8</td>\n",
       "      <td>14.04</td>\n",
       "      <td>0.175</td>\n",
       "      <td>0.25</td>\n",
       "      <td>0.0007</td>\n",
       "      <td>3.5</td>\n",
       "      <td>0.25</td>\n",
       "      <td>60.0</td>\n",
       "      <td>25</td>\n",
       "      <td>0.405553</td>\n",
       "    </tr>\n",
       "  </tbody>\n",
       "</table>\n",
       "</div>"
      ],
      "text/plain": [
       "      0      1      2     3       4    5      6     7   8         9\n",
       "0  18.8  14.04  0.175  0.25  0.0060  7.8   1.25  60.0  25  0.405553\n",
       "1  18.8  14.04  0.175  0.25  0.0060  7.8   2.50  60.0  25  0.405553\n",
       "2  18.8  14.04  0.175  0.25  0.0060  7.8   5.00  60.0  25  0.405553\n",
       "3  18.8  14.04  0.175  0.25  0.0060  7.8  10.00  60.0  25  0.405553\n",
       "4  18.8  14.04  0.175  0.25  0.0007  3.5   0.25  60.0  25  0.405553"
      ]
     },
     "execution_count": 5,
     "metadata": {},
     "output_type": "execute_result"
    }
   ],
   "source": [
    "#get modified features and train_final label from the csv file\n",
    "# NAME_OF_FILE = 'modified_features.csv'\n",
    "NAME_OF_FILE =  'Data/modified_featuresforBOwpreQY_corrected.csv'\n",
    "NAME_OF_FILE_GPR = '/Users/jorgemedina/DOEFinal/DOE/AgML/Data/modified_featuresforBO_corrected_onlyJ.csv'\n",
    "mod_dataset = pd.read_csv(NAME_OF_FILE, index_col=0)\n",
    "modified_features = mod_dataset.iloc[:,0:9] #the first ones are the features, the last one is the label\n",
    "train_final_label = mod_dataset.iloc[:,10]\n",
    "#transform to torch\n",
    "train_final_label_pt = torch.tensor(train_final_label.values, dtype=torch.float)\n",
    "modified_features_pt = torch.tensor(modified_features.values, dtype=torch.float)\n",
    "\n",
    "print(\"You have a total of \", len(modified_features), \" data points\")\n",
    "print(\"With \", len(modified_features.columns), \" number of features each\")\n",
    "#print(\" and \", len() , \" label(s) each\") # In theory you could want to do multi-objective optimization\n",
    "\n",
    "#get the first 50 data points to train the model\n",
    "train_x = modified_features_pt[:50]\n",
    "\n",
    "\n",
    "############################################################################################################\n",
    "\n",
    "modified_features.head() # What are the columns? That might be good to have it in the .csv file"
   ]
  },
  {
   "cell_type": "markdown",
   "metadata": {},
   "source": [
    "## Define your models with GPyTorch-BoTorch"
   ]
  },
  {
   "cell_type": "code",
   "execution_count": 6,
   "metadata": {},
   "outputs": [
    {
     "data": {
      "text/plain": [
       "Text(0.5, 0, 'Trial')"
      ]
     },
     "execution_count": 6,
     "metadata": {},
     "output_type": "execute_result"
    },
    {
     "data": {
      "image/png": "[encoded data removed]",
      "text/plain": [
       "<Figure size 350x291.667 with 1 Axes>"
      ]
     },
     "metadata": {},
     "output_type": "display_data"
    }
   ],
   "source": [
    "#make a plot of f vs trial\n",
    "import matplotlib.pyplot as plt\n",
    "plt.plot(train_final_label)\n",
    "#add a vertical line at trial 49\n",
    "plt.axvline(x=48, color='r', linestyle='--')\n",
    "plt.ylabel('QY*AUC2')\n",
    "plt.xlabel('Trial')\n"
   ]
  },
  {
   "cell_type": "code",
   "execution_count": 11,
   "metadata": {},
   "outputs": [
    {
     "name": "stderr",
     "output_type": "stream",
     "text": [
      "findfont: Font family 'xkcd' not found.\n",
      "findfont: Font family 'xkcd Script' not found.\n",
      "findfont: Font family 'Comic Neue' not found.\n",
      "findfont: Font family 'xkcd' not found.\n",
      "findfont: Font family 'xkcd Script' not found.\n",
      "findfont: Font family 'Comic Neue' not found.\n",
      "findfont: Font family 'xkcd' not found.\n",
      "findfont: Font family 'xkcd Script' not found.\n",
      "findfont: Font family 'Comic Neue' not found.\n",
      "findfont: Font family 'xkcd' not found.\n",
      "findfont: Font family 'xkcd Script' not found.\n",
      "findfont: Font family 'Comic Neue' not found.\n",
      "findfont: Font family 'xkcd' not found.\n",
      "findfont: Font family 'xkcd Script' not found.\n",
      "findfont: Font family 'Comic Neue' not found.\n",
      "findfont: Font family 'xkcd' not found.\n",
      "findfont: Font family 'xkcd Script' not found.\n",
      "findfont: Font family 'Comic Neue' not found.\n",
      "findfont: Font family 'xkcd' not found.\n",
      "findfont: Font family 'xkcd Script' not found.\n",
      "findfont: Font family 'Comic Neue' not found.\n",
      "findfont: Font family 'xkcd' not found.\n",
      "findfont: Font family 'xkcd Script' not found.\n",
      "findfont: Font family 'Comic Neue' not found.\n",
      "findfont: Font family 'xkcd' not found.\n",
      "findfont: Font family 'xkcd Script' not found.\n",
      "findfont: Font family 'Comic Neue' not found.\n",
      "findfont: Font family 'xkcd' not found.\n",
      "findfont: Font family 'xkcd Script' not found.\n",
      "findfont: Font family 'Comic Neue' not found.\n",
      "findfont: Font family 'xkcd' not found.\n",
      "findfont: Font family 'xkcd Script' not found.\n",
      "findfont: Font family 'Comic Neue' not found.\n",
      "findfont: Font family 'xkcd' not found.\n",
      "findfont: Font family 'xkcd Script' not found.\n",
      "findfont: Font family 'Comic Neue' not found.\n",
      "findfont: Font family 'xkcd' not found.\n",
      "findfont: Font family 'xkcd Script' not found.\n",
      "findfont: Font family 'Comic Neue' not found.\n",
      "findfont: Font family 'xkcd' not found.\n",
      "findfont: Font family 'xkcd Script' not found.\n",
      "findfont: Font family 'Comic Neue' not found.\n",
      "findfont: Font family 'xkcd' not found.\n",
      "findfont: Font family 'xkcd Script' not found.\n",
      "findfont: Font family 'Comic Neue' not found.\n",
      "findfont: Font family 'xkcd' not found.\n",
      "findfont: Font family 'xkcd Script' not found.\n",
      "findfont: Font family 'Comic Neue' not found.\n",
      "findfont: Font family 'xkcd' not found.\n",
      "findfont: Font family 'xkcd Script' not found.\n",
      "findfont: Font family 'Comic Neue' not found.\n",
      "findfont: Font family 'xkcd' not found.\n",
      "findfont: Font family 'xkcd Script' not found.\n",
      "findfont: Font family 'Comic Neue' not found.\n",
      "findfont: Font family 'xkcd' not found.\n",
      "findfont: Font family 'xkcd Script' not found.\n",
      "findfont: Font family 'Comic Neue' not found.\n",
      "findfont: Font family 'xkcd' not found.\n",
      "findfont: Font family 'xkcd Script' not found.\n",
      "findfont: Font family 'Comic Neue' not found.\n",
      "findfont: Font family 'xkcd' not found.\n",
      "findfont: Font family 'xkcd Script' not found.\n",
      "findfont: Font family 'Comic Neue' not found.\n",
      "findfont: Font family 'xkcd' not found.\n",
      "findfont: Font family 'xkcd Script' not found.\n",
      "findfont: Font family 'Comic Neue' not found.\n",
      "findfont: Font family 'xkcd' not found.\n",
      "findfont: Font family 'xkcd Script' not found.\n",
      "findfont: Font family 'Comic Neue' not found.\n",
      "findfont: Font family 'xkcd' not found.\n",
      "findfont: Font family 'xkcd Script' not found.\n",
      "findfont: Font family 'Comic Neue' not found.\n",
      "findfont: Font family 'xkcd' not found.\n",
      "findfont: Font family 'xkcd Script' not found.\n",
      "findfont: Font family 'Comic Neue' not found.\n",
      "findfont: Font family 'xkcd' not found.\n",
      "findfont: Font family 'xkcd Script' not found.\n",
      "findfont: Font family 'Comic Neue' not found.\n",
      "findfont: Font family 'xkcd' not found.\n",
      "findfont: Font family 'xkcd Script' not found.\n",
      "findfont: Font family 'Comic Neue' not found.\n",
      "findfont: Font family 'xkcd' not found.\n",
      "findfont: Font family 'xkcd Script' not found.\n",
      "findfont: Font family 'Comic Neue' not found.\n",
      "findfont: Font family 'xkcd' not found.\n",
      "findfont: Font family 'xkcd Script' not found.\n",
      "findfont: Font family 'Comic Neue' not found.\n",
      "findfont: Font family 'xkcd' not found.\n",
      "findfont: Font family 'xkcd Script' not found.\n",
      "findfont: Font family 'Comic Neue' not found.\n",
      "findfont: Font family 'xkcd' not found.\n",
      "findfont: Font family 'xkcd Script' not found.\n",
      "findfont: Font family 'Comic Neue' not found.\n",
      "findfont: Font family 'xkcd' not found.\n",
      "findfont: Font family 'xkcd Script' not found.\n",
      "findfont: Font family 'Comic Neue' not found.\n"
     ]
    },
    {
     "name": "stdout",
     "output_type": "stream",
     "text": [
      "You have a total of  65  data points\n",
      "With  9  number of features each\n",
      "You have a total of  65  data points\n",
      "With  9  number of features each\n",
      "[3.07496970e-01 2.30742619e-01 2.34684107e-01 8.38879571e-02\n",
      " 4.92881452e-08 9.42982443e-02 1.03654015e-01 9.22627459e-02\n",
      " 9.34143199e-02 1.24480295e-01 1.06450998e-01 1.03100328e-01\n",
      " 9.54507535e-02 1.28165598e-01 1.21407889e-01 1.67580554e-01\n",
      " 1.44038875e-01 1.74468493e-01 1.69743032e-01 1.33224468e-01\n",
      " 1.88305054e-01 1.76120614e-01 3.20538401e-01 3.63978916e-01\n",
      " 2.91011751e-01 1.86055683e-01 1.80357236e-01 1.12833506e-08\n",
      " 1.62788692e-01 1.12656084e-08 9.41715779e-02 9.79803656e-02\n",
      " 8.22179125e-02 2.46886664e-01 5.65085035e-02 2.73843033e-01\n",
      " 3.08192770e-01 2.48769315e-01 3.66135998e-01 6.00843240e-09\n",
      " 5.37608234e-23 3.60971019e-23 3.11985015e-02 1.25092534e-23\n",
      " 2.63425864e-23 3.23517737e-02 1.53250921e-01 6.49503127e-02\n",
      " 4.65995851e-01 1.75614846e-01 1.90240699e-01 1.46220986e-01\n",
      " 1.99923407e-01 1.91591800e-01 1.53554262e-20 1.75761917e-01\n",
      " 3.60512906e-01 3.81980579e-01 4.53762474e-01 3.28337302e-01\n",
      " 3.50817280e-01 5.00314490e-01 1.00396191e-01 1.86187465e-01\n",
      " 2.43603585e-01]\n"
     ]
    },
    {
     "data": {
      "image/png": "[encoded data removed]",
      "text/plain": [
       "<Figure size 350x291.667 with 1 Axes>"
      ]
     },
     "metadata": {},
     "output_type": "display_data"
    }
   ],
   "source": [
    "\n",
    "NAME_OF_FILE_GPR = '/Users/jorgemedina/DOEFinal/DOE/AgML/Data/modified_featuresforBO_corrected_onlyJ.csv'\n",
    "mod_dataset_only_J = pd.read_csv(NAME_OF_FILE_GPR, index_col=0)\n",
    "modified_features_onlyj = mod_dataset_only_J.iloc[:,0:9] #the first ones are the features, the last one is the label\n",
    "train_final_label_onlyj = mod_dataset_only_J.iloc[:,9]\n",
    "#transform to torch\n",
    "train_final_label_pt_onlyj = torch.tensor(train_final_label_onlyj.values, dtype=torch.float)\n",
    "modified_features_pt_onlyj = torch.tensor(modified_features_onlyj.values, dtype=torch.float)\n",
    "\n",
    "print(\"You have a total of \", len(modified_features_onlyj), \" data points\")\n",
    "print(\"With \", len(modified_features_onlyj.columns), \" number of features each\")\n",
    "#print(\" and \", len() , \" label(s) each\") # In theory you could want to do multi-objective optimization\n",
    "\n",
    "NAME_OF_FILE_NLP = '/Users/jorgemedina/DOEFinal/DOE/AgML/Data/modified_featuresforBO_corrected_onlyM.csv'\n",
    "mod_dataset_only_NLP = pd.read_csv(NAME_OF_FILE_NLP, index_col=0)\n",
    "modified_features_onlyNLP = mod_dataset_only_NLP.iloc[:,0:9] #the first ones are the features, the last one is the label\n",
    "train_final_label_onlyNLP = mod_dataset_only_NLP.iloc[:,9]\n",
    "#transform to torch\n",
    "train_final_label_pt_onlyNLP = torch.tensor(train_final_label_onlyNLP.values, dtype=torch.float)\n",
    "modified_features_pt_onlyNLP = torch.tensor(modified_features_onlyNLP.values, dtype=torch.float)\n",
    "\n",
    "print(\"You have a total of \", len(modified_features_onlyNLP), \" data points\")\n",
    "print(\"With \", len(modified_features_onlyNLP.columns), \" number of features each\")\n",
    "#print(\" and \", len() , \" label(s) each\") # In theory you could want to do multi-objective optimization\n",
    "\n",
    "\n",
    "print(train_final_label_onlyj.to_numpy())\n",
    "with plt.xkcd():\n",
    "    plt.plot(train_final_label_onlyNLP.to_numpy(),label='BO-ICL')\n",
    "    plt.plot(train_final_label_onlyj.to_numpy(),label='GPR')\n",
    "    #add a vertical line at trial 49\n",
    "    plt.axvline(x=45, color='r', linestyle='--')\n",
    "    #remove ticks \n",
    "    plt.xticks([])\n",
    "    plt.yticks([])\n",
    "\n",
    "    plt.legend()\n",
    "    plt.show()\n",
    "############################################################################################################\n",
    "# plt.plot(train_final_label_onlyj,label='GPR')\n",
    "# plt.plot(train_final_label_onlyNLP,label='BO-ICL')\n",
    "# #add a vertical line at trial 49\n",
    "# plt.axvline(x=45, color='r', linestyle='--')\n",
    "# plt.ylabel('QY*AUC2')\n",
    "# plt.xlabel('Trial')\n",
    "# plt.title(\"BO-ICL vs GPR\")\n",
    "# plt.legend()\n",
    "# plt.show()\n",
    "\n",
    "\n",
    "# modified_features.head() # What are the columns? That might be good to have it in the .csv file"
   ]
  },
  {
   "cell_type": "code",
   "execution_count": null,
   "metadata": {},
   "outputs": [],
   "source": [
    "### This is how i figure base on a lot of conversation and trial and error that you can \n",
    "### initialize your model classes for use with Ax.dev framework. (e.g. speficying the likelihood directly in the __init__)\n",
    "class ExactGPModel1(gpytorch.models.ExactGP, GPyTorchModel):\n",
    "    \n",
    "    _num_outputs = 1 \n",
    "\n",
    "    def __init__(self, train_X, train_Y,**kwargs):\n",
    "        super().__init__(train_X, train_Y.squeeze(-1), GaussianLikelihood(), **kwargs)\n",
    "        self.mean_module = gpytorch.means.ConstantMean()\n",
    "        self.covar_module = gpytorch.kernels.ScaleKernel(gpytorch.kernels.RBFKernel(ard_num_dims=9))\n",
    "        self.to(train_X)\n",
    "        \n",
    "    def forward(self, x):\n",
    "        mean_x = self.mean_module(x)\n",
    "        covar_x = self.covar_module(x)\n",
    "        return gpytorch.distributions.MultivariateNormal(mean_x, covar_x)\n",
    "\n",
    "#matern models\n",
    "\n",
    "class BaseGPMatern(gpytorch.models.ExactGP, GPyTorchModel):\n",
    "    _num_outputs = 1 \n",
    "    \n",
    "    def __init__(self, train_X, train_Y, **kwargs):\n",
    "        super().__init__(train_X, train_Y.squeeze(-1), GaussianLikelihood(), **kwargs)\n",
    "        self.mean_module = gpytorch.means.ConstantMean()\n",
    "        self.covar_module = gpytorch.kernels.ScaleKernel(gpytorch.kernels.MaternKernel(nu=0.5, ard_num_dims=9))\n",
    "        self.to(train_X)\n",
    "            \n",
    "    def forward(self, x):\n",
    "        mean_x = self.mean_module(x)\n",
    "        covar_x = self.covar_module(x)\n",
    "        return gpytorch.distributions.MultivariateNormal(mean_x, covar_x)\n",
    "    "
   ]
  },
  {
   "cell_type": "markdown",
   "metadata": {},
   "source": [
    "# Ax.dev ingredients\n",
    "Either Service or Developer API work for our purposes. Choose the one you prefer, Developer gives more flexibility to the creation of the optimization loop"
   ]
  },
  {
   "cell_type": "markdown",
   "metadata": {},
   "source": [
    "## Using the Service API"
   ]
  },
  {
   "cell_type": "markdown",
   "metadata": {},
   "source": [
    "### Generation Strategy"
   ]
  },
  {
   "cell_type": "code",
   "execution_count": 8,
   "metadata": {},
   "outputs": [],
   "source": [
    "# Because we already have a warm start with raw data, we dont need SOBOL sampling to begin with. So we want to use BoTorch w qExpectedImprovement for sampling\n",
    "# the mll_class can be either ExactMarginalLogLikelihood or LeaveOneOutPseudoLikelihood for our ExactGP models. The later is more stable.\n",
    "gs = GenerationStrategy(\n",
    "    steps=[\n",
    "        GenerationStep(\n",
    "            model=Models.BOTORCH_MODULAR,\n",
    "            num_trials=-1,  # No limitation on how many trials should be produced from this step\n",
    "            # For `BOTORCH_MODULAR`, we pass in kwargs to specify what surrogate or acquisition function to use.\n",
    "            model_gen_kwargs={\"max_retries\": 10},\n",
    "            model_kwargs={\n",
    "                \"surrogate\":Surrogate(BaseGPMatern, mll_class=LeaveOneOutPseudoLikelihood),\n",
    "                \n",
    "                \"botorch_acqf_class\": qExpectedImprovement,\n",
    "                },\n",
    "        ),\n",
    "    ]\n",
    ")"
   ]
  },
  {
   "cell_type": "markdown",
   "metadata": {},
   "source": [
    "### SearchSpace\n"
   ]
  },
  {
   "cell_type": "code",
   "execution_count": null,
   "metadata": {},
   "outputs": [],
   "source": [
    "## Points to consider\n",
    "#for the \"choice\" variables, add ordered = False \n",
    "# as parameter if you prefer one-hot encoding rather than ordinal encoding\n",
    "# for more options look at Ax documentation on parameters and Trasformations (Transforms)\n",
    "ax_parameters = [\n",
    "    {\n",
    "        \"name\": \"Dimension1\",\n",
    "        \"type\": \"range\",\n",
    "        \"bounds\": [12.0000,51.00000],\n",
    "        \"value_type\":'float'\n",
    "    },\n",
    "    {\n",
    "        \"name\": \"Dimension2\",\n",
    "        \"type\": \"range\",\n",
    "        \"bounds\": [6,26],\n",
    "        \"value_type\": 'float'\n",
    "    },\n",
    "    {\n",
    "        \"name\": \"Dilution(OD)\",\n",
    "        \"type\": \"range\",\n",
    "        \"bounds\": [0.12,0.465]\n",
    "    },\n",
    "    {   \"name\":\"Nano_stock_vol\",\n",
    "        \"type\":\"choice\",\n",
    "        \"values\": [0.25,0.5],\n",
    "\n",
    "    },\n",
    "    {\n",
    "        \"name\": \"Ag_acet_conc\",\n",
    "        \"type\": \"choice\",\n",
    "        \"values\": [0.0007,0.006],\n",
    "\n",
    "    },\n",
    "     {\n",
    "        \"name\": \"Ag_acet_mass\",\n",
    "        \"type\": \"choice\",\n",
    "        \"values\": [3.5,7.8,14.0],\n",
    "\n",
    "     },\n",
    "    {\n",
    "        \"name\": \"Doping%\",\n",
    "        \"type\": \"range\",\n",
    "        \"bounds\": [0.1,10.0],\n",
    "        \"value_type\": 'float'\n",
    "\n",
    "    },\n",
    "    {\n",
    "        \"name\": \"Time\",\n",
    "        \"type\": \"choice\",\n",
    "        \"values\": [10.0,60.0,180.0],\n",
    "        'value_type': 'float'\n",
    "    },\n",
    "    {\n",
    "        \"name\": \"Temperature\",\n",
    "        \"type\": \"choice\",\n",
    "        \"values\": [0.0,25.0,50.0],\n",
    "        \"value_type\": 'float',\n",
    "    },\n",
    "    # {\n",
    "    #     \"name\": \"pre-QY\",\n",
    "    #     \"type\": \"range\",\n",
    "    #     \"bounds\": [0.0,1.0],\n",
    "    #     \"value_type\": 'float',\n",
    "\n",
    "    # },  uncomment this if you want to add pre-QY as a parameter, make sure to check that the ARD_num_dims is correct in the model class\n",
    "]\n",
    "\n"
   ]
  },
  {
   "cell_type": "markdown",
   "metadata": {},
   "source": [
    "### Initialize the AxClient for the service api"
   ]
  },
  {
   "cell_type": "code",
   "execution_count": null,
   "metadata": {},
   "outputs": [],
   "source": [
    "ax_client = AxClient(generation_strategy = gs)\n",
    "ax_client.create_experiment(parameters = ax_parameters, \n",
    "                            objectives= {\"f\":ObjectiveProperties(minimize=False)},)  #we want to maximze f, but it shouldnt matter\n",
    "                                                                                     # f = QT*AUC2 "
   ]
  },
  {
   "cell_type": "markdown",
   "metadata": {},
   "source": [
    "### Adding Raw data"
   ]
  },
  {
   "cell_type": "code",
   "execution_count": 11,
   "metadata": {},
   "outputs": [
    {
     "name": "stderr",
     "output_type": "stream",
     "text": [
      "[INFO 09-11 12:33:35] ax.core.experiment: Attached custom parameterizations [{'Dimension1': 18.8, 'Dimension2': 14.04, 'Dilution(OD)': 0.175, 'Nano_stock_vol': 0.25, 'Ag_acet_conc': 0.006, 'Ag_acet_mass': 7.8, 'Doping%': 1.25, 'Time': 60.0, 'Temperature': 25.0, 'pre-QY': 0.405553}] as trial 0.\n",
      "[INFO 09-11 12:33:35] ax.service.ax_client: Completed trial 0 with data: {'f': (0.307497, None)}.\n",
      "[INFO 09-11 12:33:35] ax.core.experiment: Attached custom parameterizations [{'Dimension1': 18.8, 'Dimension2': 14.04, 'Dilution(OD)': 0.175, 'Nano_stock_vol': 0.25, 'Ag_acet_conc': 0.006, 'Ag_acet_mass': 7.8, 'Doping%': 2.5, 'Time': 60.0, 'Temperature': 25.0, 'pre-QY': 0.405553}] as trial 1.\n",
      "[INFO 09-11 12:33:35] ax.service.ax_client: Completed trial 1 with data: {'f': (0.230743, None)}.\n",
      "[INFO 09-11 12:33:35] ax.core.experiment: Attached custom parameterizations [{'Dimension1': 18.8, 'Dimension2': 14.04, 'Dilution(OD)': 0.175, 'Nano_stock_vol': 0.25, 'Ag_acet_conc': 0.006, 'Ag_acet_mass': 7.8, 'Doping%': 5.0, 'Time': 60.0, 'Temperature': 25.0, 'pre-QY': 0.405553}] as trial 2.\n",
      "[INFO 09-11 12:33:35] ax.service.ax_client: Completed trial 2 with data: {'f': (0.234684, None)}.\n",
      "[INFO 09-11 12:33:35] ax.core.experiment: Attached custom parameterizations [{'Dimension1': 18.8, 'Dimension2': 14.04, 'Dilution(OD)': 0.175, 'Nano_stock_vol': 0.25, 'Ag_acet_conc': 0.006, 'Ag_acet_mass': 7.8, 'Doping%': 10.0, 'Time': 60.0, 'Temperature': 25.0, 'pre-QY': 0.405553}] as trial 3.\n",
      "[INFO 09-11 12:33:35] ax.service.ax_client: Completed trial 3 with data: {'f': (0.083888, None)}.\n",
      "[INFO 09-11 12:33:35] ax.core.experiment: Attached custom parameterizations [{'Dimension1': 18.8, 'Dimension2': 14.04, 'Dilution(OD)': 0.175, 'Nano_stock_vol': 0.25, 'Ag_acet_conc': 0.0007, 'Ag_acet_mass': 3.5, 'Doping%': 0.25, 'Time': 60.0, 'Temperature': 25.0, 'pre-QY': 0.405553}] as trial 4.\n",
      "[INFO 09-11 12:33:35] ax.service.ax_client: Completed trial 4 with data: {'f': (0.0, None)}.\n",
      "[INFO 09-11 12:33:35] ax.core.experiment: Attached custom parameterizations [{'Dimension1': 18.8, 'Dimension2': 14.04, 'Dilution(OD)': 0.175, 'Nano_stock_vol': 0.25, 'Ag_acet_conc': 0.0007, 'Ag_acet_mass': 3.5, 'Doping%': 0.5, 'Time': 60.0, 'Temperature': 25.0, 'pre-QY': 0.405553}] as trial 5.\n",
      "[INFO 09-11 12:33:35] ax.service.ax_client: Completed trial 5 with data: {'f': (0.094298, None)}.\n",
      "[INFO 09-11 12:33:35] ax.core.experiment: Attached custom parameterizations [{'Dimension1': 18.8, 'Dimension2': 14.04, 'Dilution(OD)': 0.175, 'Nano_stock_vol': 0.25, 'Ag_acet_conc': 0.0007, 'Ag_acet_mass': 3.5, 'Doping%': 0.75, 'Time': 60.0, 'Temperature': 25.0, 'pre-QY': 0.405553}] as trial 6.\n",
      "[INFO 09-11 12:33:35] ax.service.ax_client: Completed trial 6 with data: {'f': (0.103654, None)}.\n",
      "[INFO 09-11 12:33:35] ax.core.experiment: Attached custom parameterizations [{'Dimension1': 18.8, 'Dimension2': 14.04, 'Dilution(OD)': 0.175, 'Nano_stock_vol': 0.25, 'Ag_acet_conc': 0.0007, 'Ag_acet_mass': 3.5, 'Doping%': 1.0, 'Time': 60.0, 'Temperature': 25.0, 'pre-QY': 0.405553}] as trial 7.\n",
      "[INFO 09-11 12:33:35] ax.service.ax_client: Completed trial 7 with data: {'f': (0.092263, None)}.\n",
      "[INFO 09-11 12:33:35] ax.core.experiment: Attached custom parameterizations [{'Dimension1': 18.8, 'Dimension2': 14.04, 'Dilution(OD)': 0.175, 'Nano_stock_vol': 0.25, 'Ag_acet_conc': 0.0007, 'Ag_acet_mass': 3.5, 'Doping%': 1.25, 'Time': 60.0, 'Temperature': 25.0, 'pre-QY': 0.405553}] as trial 8.\n",
      "[INFO 09-11 12:33:35] ax.service.ax_client: Completed trial 8 with data: {'f': (0.093414, None)}.\n",
      "[INFO 09-11 12:33:35] ax.core.experiment: Attached custom parameterizations [{'Dimension1': 18.8, 'Dimension2': 14.04, 'Dilution(OD)': 0.175, 'Nano_stock_vol': 0.25, 'Ag_acet_conc': 0.0007, 'Ag_acet_mass': 3.5, 'Doping%': 1.5, 'Time': 60.0, 'Temperature': 25.0, 'pre-QY': 0.405553}] as trial 9.\n",
      "[INFO 09-11 12:33:35] ax.service.ax_client: Completed trial 9 with data: {'f': (0.12448, None)}.\n",
      "[INFO 09-11 12:33:35] ax.core.experiment: Attached custom parameterizations [{'Dimension1': 18.8, 'Dimension2': 14.04, 'Dilution(OD)': 0.175, 'Nano_stock_vol': 0.25, 'Ag_acet_conc': 0.0007, 'Ag_acet_mass': 3.5, 'Doping%': 1.75, 'Time': 60.0, 'Temperature': 25.0, 'pre-QY': 0.405553}] as trial 10.\n",
      "[INFO 09-11 12:33:35] ax.service.ax_client: Completed trial 10 with data: {'f': (0.106451, None)}.\n",
      "[INFO 09-11 12:33:35] ax.core.experiment: Attached custom parameterizations [{'Dimension1': 18.8, 'Dimension2': 14.04, 'Dilution(OD)': 0.175, 'Nano_stock_vol': 0.25, 'Ag_acet_conc': 0.0007, 'Ag_acet_mass': 3.5, 'Doping%': 2.0, 'Time': 60.0, 'Temperature': 25.0, 'pre-QY': 0.405553}] as trial 11.\n",
      "[INFO 09-11 12:33:35] ax.service.ax_client: Completed trial 11 with data: {'f': (0.1031, None)}.\n",
      "[INFO 09-11 12:33:35] ax.core.experiment: Attached custom parameterizations [{'Dimension1': 18.8, 'Dimension2': 14.04, 'Dilution(OD)': 0.175, 'Nano_stock_vol': 0.25, 'Ag_acet_conc': 0.0007, 'Ag_acet_mass': 3.5, 'Doping%': 3.0, 'Time': 60.0, 'Temperature': 25.0, 'pre-QY': 0.405553}] as trial 12.\n",
      "[INFO 09-11 12:33:35] ax.service.ax_client: Completed trial 12 with data: {'f': (0.095451, None)}.\n",
      "[INFO 09-11 12:33:35] ax.core.experiment: Attached custom parameterizations [{'Dimension1': 35.0, 'Dimension2': 15.0, 'Dilution(OD)': 0.212, 'Nano_stock_vol': 0.5, 'Ag_acet_conc': 0.0007, 'Ag_acet_mass': 3.5, 'Doping%': 0.5, 'Time': 60.0, 'Temperature': 25.0, 'pre-QY': 0.641724}] as trial 13.\n",
      "[INFO 09-11 12:33:35] ax.service.ax_client: Completed trial 13 with data: {'f': (0.128166, None)}.\n",
      "[INFO 09-11 12:33:35] ax.core.experiment: Attached custom parameterizations [{'Dimension1': 35.0, 'Dimension2': 15.0, 'Dilution(OD)': 0.212, 'Nano_stock_vol': 0.5, 'Ag_acet_conc': 0.0007, 'Ag_acet_mass': 3.5, 'Doping%': 1.0, 'Time': 60.0, 'Temperature': 25.0, 'pre-QY': 0.641724}] as trial 14.\n",
      "[INFO 09-11 12:33:35] ax.service.ax_client: Completed trial 14 with data: {'f': (0.121408, None)}.\n",
      "[INFO 09-11 12:33:35] ax.core.experiment: Attached custom parameterizations [{'Dimension1': 35.0, 'Dimension2': 15.0, 'Dilution(OD)': 0.212, 'Nano_stock_vol': 0.5, 'Ag_acet_conc': 0.0007, 'Ag_acet_mass': 3.5, 'Doping%': 2.0, 'Time': 60.0, 'Temperature': 25.0, 'pre-QY': 0.641724}] as trial 15.\n",
      "[INFO 09-11 12:33:35] ax.service.ax_client: Completed trial 15 with data: {'f': (0.167581, None)}.\n",
      "[INFO 09-11 12:33:35] ax.core.experiment: Attached custom parameterizations [{'Dimension1': 35.0, 'Dimension2': 15.0, 'Dilution(OD)': 0.212, 'Nano_stock_vol': 0.5, 'Ag_acet_conc': 0.0007, 'Ag_acet_mass': 3.5, 'Doping%': 3.0, 'Time': 60.0, 'Temperature': 25.0, 'pre-QY': 0.641724}] as trial 16.\n",
      "[INFO 09-11 12:33:35] ax.service.ax_client: Completed trial 16 with data: {'f': (0.144039, None)}.\n",
      "[INFO 09-11 12:33:35] ax.core.experiment: Attached custom parameterizations [{'Dimension1': 35.0, 'Dimension2': 15.0, 'Dilution(OD)': 0.212, 'Nano_stock_vol': 0.5, 'Ag_acet_conc': 0.0007, 'Ag_acet_mass': 3.5, 'Doping%': 5.0, 'Time': 60.0, 'Temperature': 25.0, 'pre-QY': 0.641724}] as trial 17.\n",
      "[INFO 09-11 12:33:35] ax.service.ax_client: Completed trial 17 with data: {'f': (0.174468, None)}.\n",
      "[INFO 09-11 12:33:35] ax.core.experiment: Attached custom parameterizations [{'Dimension1': 31.63, 'Dimension2': 13.8, 'Dilution(OD)': 0.12, 'Nano_stock_vol': 0.5, 'Ag_acet_conc': 0.0007, 'Ag_acet_mass': 3.5, 'Doping%': 0.5, 'Time': 60.0, 'Temperature': 25.0, 'pre-QY': 0.387678}] as trial 18.\n",
      "[INFO 09-11 12:33:35] ax.service.ax_client: Completed trial 18 with data: {'f': (0.169743, None)}.\n",
      "[INFO 09-11 12:33:35] ax.core.experiment: Attached custom parameterizations [{'Dimension1': 31.63, 'Dimension2': 13.8, 'Dilution(OD)': 0.12, 'Nano_stock_vol': 0.5, 'Ag_acet_conc': 0.0007, 'Ag_acet_mass': 3.5, 'Doping%': 0.75, 'Time': 60.0, 'Temperature': 25.0, 'pre-QY': 0.387678}] as trial 19.\n",
      "[INFO 09-11 12:33:35] ax.service.ax_client: Completed trial 19 with data: {'f': (0.133224, None)}.\n",
      "[INFO 09-11 12:33:35] ax.core.experiment: Attached custom parameterizations [{'Dimension1': 31.63, 'Dimension2': 13.8, 'Dilution(OD)': 0.12, 'Nano_stock_vol': 0.5, 'Ag_acet_conc': 0.0007, 'Ag_acet_mass': 3.5, 'Doping%': 1.0, 'Time': 60.0, 'Temperature': 25.0, 'pre-QY': 0.387678}] as trial 20.\n",
      "[INFO 09-11 12:33:35] ax.service.ax_client: Completed trial 20 with data: {'f': (0.188305, None)}.\n",
      "[INFO 09-11 12:33:35] ax.core.experiment: Attached custom parameterizations [{'Dimension1': 31.63, 'Dimension2': 13.8, 'Dilution(OD)': 0.12, 'Nano_stock_vol': 0.5, 'Ag_acet_conc': 0.0007, 'Ag_acet_mass': 3.5, 'Doping%': 5.0, 'Time': 60.0, 'Temperature': 25.0, 'pre-QY': 0.387678}] as trial 21.\n",
      "[INFO 09-11 12:33:35] ax.service.ax_client: Completed trial 21 with data: {'f': (0.176121, None)}.\n",
      "[INFO 09-11 12:33:35] ax.core.experiment: Attached custom parameterizations [{'Dimension1': 31.63, 'Dimension2': 13.8, 'Dilution(OD)': 0.12, 'Nano_stock_vol': 0.5, 'Ag_acet_conc': 0.006, 'Ag_acet_mass': 14.0, 'Doping%': 0.25, 'Time': 60.0, 'Temperature': 25.0, 'pre-QY': 0.446692}] as trial 22.\n",
      "[INFO 09-11 12:33:35] ax.service.ax_client: Completed trial 22 with data: {'f': (0.320538, None)}.\n",
      "[INFO 09-11 12:33:35] ax.core.experiment: Attached custom parameterizations [{'Dimension1': 31.63, 'Dimension2': 13.8, 'Dilution(OD)': 0.12, 'Nano_stock_vol': 0.5, 'Ag_acet_conc': 0.006, 'Ag_acet_mass': 14.0, 'Doping%': 0.5, 'Time': 60.0, 'Temperature': 25.0, 'pre-QY': 0.446692}] as trial 23.\n",
      "[INFO 09-11 12:33:35] ax.service.ax_client: Completed trial 23 with data: {'f': (0.363979, None)}.\n",
      "[INFO 09-11 12:33:35] ax.core.experiment: Attached custom parameterizations [{'Dimension1': 31.63, 'Dimension2': 13.8, 'Dilution(OD)': 0.12, 'Nano_stock_vol': 0.5, 'Ag_acet_conc': 0.006, 'Ag_acet_mass': 14.0, 'Doping%': 1.0, 'Time': 60.0, 'Temperature': 25.0, 'pre-QY': 0.446692}] as trial 24.\n",
      "[INFO 09-11 12:33:35] ax.service.ax_client: Completed trial 24 with data: {'f': (0.291012, None)}.\n",
      "[INFO 09-11 12:33:35] ax.core.experiment: Attached custom parameterizations [{'Dimension1': 31.63, 'Dimension2': 13.8, 'Dilution(OD)': 0.12, 'Nano_stock_vol': 0.5, 'Ag_acet_conc': 0.006, 'Ag_acet_mass': 14.0, 'Doping%': 5.0, 'Time': 60.0, 'Temperature': 25.0, 'pre-QY': 0.446692}] as trial 25.\n",
      "[INFO 09-11 12:33:35] ax.service.ax_client: Completed trial 25 with data: {'f': (0.186056, None)}.\n",
      "[INFO 09-11 12:33:35] ax.core.experiment: Attached custom parameterizations [{'Dimension1': 36.27, 'Dimension2': 6.52, 'Dilution(OD)': 0.12, 'Nano_stock_vol': 0.5, 'Ag_acet_conc': 0.0007, 'Ag_acet_mass': 3.5, 'Doping%': 3.0, 'Time': 10.0, 'Temperature': 0.0, 'pre-QY': 0.826609}] as trial 26.\n",
      "[INFO 09-11 12:33:35] ax.service.ax_client: Completed trial 26 with data: {'f': (0.180357, None)}.\n",
      "[INFO 09-11 12:33:35] ax.core.experiment: Attached custom parameterizations [{'Dimension1': 36.27, 'Dimension2': 6.52, 'Dilution(OD)': 0.12, 'Nano_stock_vol': 0.5, 'Ag_acet_conc': 0.0007, 'Ag_acet_mass': 3.5, 'Doping%': 3.0, 'Time': 10.0, 'Temperature': 25.0, 'pre-QY': 0.826609}] as trial 27.\n",
      "[INFO 09-11 12:33:35] ax.service.ax_client: Completed trial 27 with data: {'f': (0.0, None)}.\n",
      "[INFO 09-11 12:33:35] ax.core.experiment: Attached custom parameterizations [{'Dimension1': 36.27, 'Dimension2': 6.52, 'Dilution(OD)': 0.12, 'Nano_stock_vol': 0.5, 'Ag_acet_conc': 0.0007, 'Ag_acet_mass': 3.5, 'Doping%': 3.0, 'Time': 10.0, 'Temperature': 50.0, 'pre-QY': 0.826609}] as trial 28.\n",
      "[INFO 09-11 12:33:35] ax.service.ax_client: Completed trial 28 with data: {'f': (0.162789, None)}.\n",
      "[INFO 09-11 12:33:35] ax.core.experiment: Attached custom parameterizations [{'Dimension1': 36.27, 'Dimension2': 6.52, 'Dilution(OD)': 0.12, 'Nano_stock_vol': 0.5, 'Ag_acet_conc': 0.0007, 'Ag_acet_mass': 3.5, 'Doping%': 3.0, 'Time': 60.0, 'Temperature': 0.0, 'pre-QY': 0.826609}] as trial 29.\n",
      "[INFO 09-11 12:33:35] ax.service.ax_client: Completed trial 29 with data: {'f': (0.0, None)}.\n",
      "[INFO 09-11 12:33:35] ax.core.experiment: Attached custom parameterizations [{'Dimension1': 36.27, 'Dimension2': 6.52, 'Dilution(OD)': 0.12, 'Nano_stock_vol': 0.5, 'Ag_acet_conc': 0.0007, 'Ag_acet_mass': 3.5, 'Doping%': 3.0, 'Time': 60.0, 'Temperature': 25.0, 'pre-QY': 0.826609}] as trial 30.\n",
      "[INFO 09-11 12:33:35] ax.service.ax_client: Completed trial 30 with data: {'f': (0.094172, None)}.\n",
      "[INFO 09-11 12:33:35] ax.core.experiment: Attached custom parameterizations [{'Dimension1': 36.27, 'Dimension2': 6.52, 'Dilution(OD)': 0.12, 'Nano_stock_vol': 0.5, 'Ag_acet_conc': 0.0007, 'Ag_acet_mass': 3.5, 'Doping%': 3.0, 'Time': 60.0, 'Temperature': 50.0, 'pre-QY': 0.826609}] as trial 31.\n",
      "[INFO 09-11 12:33:35] ax.service.ax_client: Completed trial 31 with data: {'f': (0.09798, None)}.\n",
      "[INFO 09-11 12:33:35] ax.core.experiment: Attached custom parameterizations [{'Dimension1': 36.27, 'Dimension2': 6.52, 'Dilution(OD)': 0.12, 'Nano_stock_vol': 0.5, 'Ag_acet_conc': 0.0007, 'Ag_acet_mass': 3.5, 'Doping%': 3.0, 'Time': 180.0, 'Temperature': 25.0, 'pre-QY': 0.826609}] as trial 32.\n",
      "[INFO 09-11 12:33:35] ax.service.ax_client: Completed trial 32 with data: {'f': (0.082218, None)}.\n",
      "[INFO 09-11 12:33:35] ax.core.experiment: Attached custom parameterizations [{'Dimension1': 36.27, 'Dimension2': 6.52, 'Dilution(OD)': 0.12, 'Nano_stock_vol': 0.5, 'Ag_acet_conc': 0.0007, 'Ag_acet_mass': 3.5, 'Doping%': 10.0, 'Time': 10.0, 'Temperature': 0.0, 'pre-QY': 0.826609}] as trial 33.\n",
      "[INFO 09-11 12:33:35] ax.service.ax_client: Completed trial 33 with data: {'f': (0.246887, None)}.\n",
      "[INFO 09-11 12:33:35] ax.core.experiment: Attached custom parameterizations [{'Dimension1': 36.27, 'Dimension2': 6.52, 'Dilution(OD)': 0.12, 'Nano_stock_vol': 0.5, 'Ag_acet_conc': 0.0007, 'Ag_acet_mass': 3.5, 'Doping%': 10.0, 'Time': 10.0, 'Temperature': 25.0, 'pre-QY': 0.826609}] as trial 34.\n",
      "[INFO 09-11 12:33:35] ax.service.ax_client: Completed trial 34 with data: {'f': (0.056509, None)}.\n",
      "[INFO 09-11 12:33:35] ax.core.experiment: Attached custom parameterizations [{'Dimension1': 36.27, 'Dimension2': 6.52, 'Dilution(OD)': 0.12, 'Nano_stock_vol': 0.5, 'Ag_acet_conc': 0.0007, 'Ag_acet_mass': 3.5, 'Doping%': 10.0, 'Time': 10.0, 'Temperature': 50.0, 'pre-QY': 0.826609}] as trial 35.\n",
      "[INFO 09-11 12:33:35] ax.service.ax_client: Completed trial 35 with data: {'f': (0.273843, None)}.\n",
      "[INFO 09-11 12:33:35] ax.core.experiment: Attached custom parameterizations [{'Dimension1': 36.27, 'Dimension2': 6.52, 'Dilution(OD)': 0.12, 'Nano_stock_vol': 0.5, 'Ag_acet_conc': 0.0007, 'Ag_acet_mass': 3.5, 'Doping%': 10.0, 'Time': 60.0, 'Temperature': 0.0, 'pre-QY': 0.826609}] as trial 36.\n",
      "[INFO 09-11 12:33:35] ax.service.ax_client: Completed trial 36 with data: {'f': (0.308193, None)}.\n",
      "[INFO 09-11 12:33:35] ax.core.experiment: Attached custom parameterizations [{'Dimension1': 36.27, 'Dimension2': 6.52, 'Dilution(OD)': 0.12, 'Nano_stock_vol': 0.5, 'Ag_acet_conc': 0.0007, 'Ag_acet_mass': 3.5, 'Doping%': 10.0, 'Time': 60.0, 'Temperature': 25.0, 'pre-QY': 0.826609}] as trial 37.\n",
      "[INFO 09-11 12:33:35] ax.service.ax_client: Completed trial 37 with data: {'f': (0.248769, None)}.\n",
      "[INFO 09-11 12:33:35] ax.core.experiment: Attached custom parameterizations [{'Dimension1': 36.27, 'Dimension2': 6.52, 'Dilution(OD)': 0.12, 'Nano_stock_vol': 0.5, 'Ag_acet_conc': 0.0007, 'Ag_acet_mass': 3.5, 'Doping%': 10.0, 'Time': 60.0, 'Temperature': 50.0, 'pre-QY': 0.826609}] as trial 38.\n",
      "[INFO 09-11 12:33:35] ax.service.ax_client: Completed trial 38 with data: {'f': (0.366136, None)}.\n",
      "[INFO 09-11 12:33:35] ax.core.experiment: Attached custom parameterizations [{'Dimension1': 36.27, 'Dimension2': 6.52, 'Dilution(OD)': 0.12, 'Nano_stock_vol': 0.5, 'Ag_acet_conc': 0.0007, 'Ag_acet_mass': 3.5, 'Doping%': 10.0, 'Time': 180.0, 'Temperature': 25.0, 'pre-QY': 0.826609}] as trial 39.\n",
      "[INFO 09-11 12:33:35] ax.service.ax_client: Completed trial 39 with data: {'f': (0.0, None)}.\n",
      "[INFO 09-11 12:33:35] ax.core.experiment: Attached custom parameterizations [{'Dimension1': 45.77, 'Dimension2': 7.29, 'Dilution(OD)': 0.26, 'Nano_stock_vol': 0.5, 'Ag_acet_conc': 0.0007, 'Ag_acet_mass': 3.5, 'Doping%': 1.0, 'Time': 10.0, 'Temperature': 0.0, 'pre-QY': 0.771967}] as trial 40.\n",
      "[INFO 09-11 12:33:35] ax.service.ax_client: Completed trial 40 with data: {'f': (0.0, None)}.\n",
      "[INFO 09-11 12:33:35] ax.core.experiment: Attached custom parameterizations [{'Dimension1': 45.77, 'Dimension2': 7.29, 'Dilution(OD)': 0.26, 'Nano_stock_vol': 0.5, 'Ag_acet_conc': 0.0007, 'Ag_acet_mass': 3.5, 'Doping%': 1.0, 'Time': 10.0, 'Temperature': 25.0, 'pre-QY': 0.771967}] as trial 41.\n",
      "[INFO 09-11 12:33:35] ax.service.ax_client: Completed trial 41 with data: {'f': (0.0, None)}.\n",
      "[INFO 09-11 12:33:35] ax.core.experiment: Attached custom parameterizations [{'Dimension1': 45.77, 'Dimension2': 7.29, 'Dilution(OD)': 0.26, 'Nano_stock_vol': 0.5, 'Ag_acet_conc': 0.0007, 'Ag_acet_mass': 3.5, 'Doping%': 1.0, 'Time': 10.0, 'Temperature': 50.0, 'pre-QY': 0.771967}] as trial 42.\n",
      "[INFO 09-11 12:33:35] ax.service.ax_client: Completed trial 42 with data: {'f': (0.031199, None)}.\n",
      "[INFO 09-11 12:33:35] ax.core.experiment: Attached custom parameterizations [{'Dimension1': 45.77, 'Dimension2': 7.29, 'Dilution(OD)': 0.26, 'Nano_stock_vol': 0.5, 'Ag_acet_conc': 0.0007, 'Ag_acet_mass': 3.5, 'Doping%': 1.0, 'Time': 60.0, 'Temperature': 0.0, 'pre-QY': 0.771967}] as trial 43.\n",
      "[INFO 09-11 12:33:35] ax.service.ax_client: Completed trial 43 with data: {'f': (0.0, None)}.\n",
      "[INFO 09-11 12:33:35] ax.core.experiment: Attached custom parameterizations [{'Dimension1': 45.77, 'Dimension2': 7.29, 'Dilution(OD)': 0.26, 'Nano_stock_vol': 0.5, 'Ag_acet_conc': 0.0007, 'Ag_acet_mass': 3.5, 'Doping%': 1.0, 'Time': 60.0, 'Temperature': 25.0, 'pre-QY': 0.771967}] as trial 44.\n",
      "[INFO 09-11 12:33:35] ax.service.ax_client: Completed trial 44 with data: {'f': (0.0, None)}.\n",
      "[INFO 09-11 12:33:35] ax.core.experiment: Attached custom parameterizations [{'Dimension1': 45.77, 'Dimension2': 7.29, 'Dilution(OD)': 0.26, 'Nano_stock_vol': 0.5, 'Ag_acet_conc': 0.0007, 'Ag_acet_mass': 3.5, 'Doping%': 1.0, 'Time': 60.0, 'Temperature': 50.0, 'pre-QY': 0.771967}] as trial 45.\n",
      "[INFO 09-11 12:33:35] ax.service.ax_client: Completed trial 45 with data: {'f': (0.032352, None)}.\n",
      "[INFO 09-11 12:33:35] ax.core.experiment: Attached custom parameterizations [{'Dimension1': 45.77, 'Dimension2': 7.29, 'Dilution(OD)': 0.26, 'Nano_stock_vol': 0.5, 'Ag_acet_conc': 0.0007, 'Ag_acet_mass': 3.5, 'Doping%': 5.0, 'Time': 10.0, 'Temperature': 0.0, 'pre-QY': 0.771967}] as trial 46.\n",
      "[INFO 09-11 12:33:35] ax.service.ax_client: Completed trial 46 with data: {'f': (0.153251, None)}.\n",
      "[INFO 09-11 12:33:35] ax.core.experiment: Attached custom parameterizations [{'Dimension1': 45.77, 'Dimension2': 7.29, 'Dilution(OD)': 0.26, 'Nano_stock_vol': 0.5, 'Ag_acet_conc': 0.0007, 'Ag_acet_mass': 3.5, 'Doping%': 5.0, 'Time': 10.0, 'Temperature': 25.0, 'pre-QY': 0.771967}] as trial 47.\n",
      "[INFO 09-11 12:33:35] ax.service.ax_client: Completed trial 47 with data: {'f': (0.06495, None)}.\n",
      "[INFO 09-11 12:33:35] ax.core.experiment: Attached custom parameterizations [{'Dimension1': 30.928, 'Dimension2': 7.955, 'Dilution(OD)': 0.42, 'Nano_stock_vol': 0.5, 'Ag_acet_conc': 0.006, 'Ag_acet_mass': 14.0, 'Doping%': 5.5883, 'Time': 60.0, 'Temperature': 25.0, 'pre-QY': 0.595737}] as trial 48.\n",
      "[INFO 09-11 12:33:35] ax.service.ax_client: Completed trial 48 with data: {'f': (0.465996, None)}.\n",
      "[INFO 09-11 12:33:35] ax.core.experiment: Attached custom parameterizations [{'Dimension1': 46.35, 'Dimension2': 8.09, 'Dilution(OD)': 0.42, 'Nano_stock_vol': 0.5, 'Ag_acet_conc': 0.006, 'Ag_acet_mass': 14.0, 'Doping%': 4.72, 'Time': 60.0, 'Temperature': 25.0, 'pre-QY': 0.173829}] as trial 49.\n",
      "[INFO 09-11 12:33:35] ax.service.ax_client: Completed trial 49 with data: {'f': (0.175615, None)}.\n",
      "[INFO 09-11 12:33:35] ax.core.experiment: Attached custom parameterizations [{'Dimension1': 36.9235, 'Dimension2': 7.443, 'Dilution(OD)': 0.42, 'Nano_stock_vol': 0.5, 'Ag_acet_conc': 0.006, 'Ag_acet_mass': 14.0, 'Doping%': 4.11, 'Time': 60.0, 'Temperature': 25.0, 'pre-QY': 0.164136}] as trial 50.\n",
      "[INFO 09-11 12:33:35] ax.service.ax_client: Completed trial 50 with data: {'f': (0.190241, None)}.\n",
      "[INFO 09-11 12:33:35] ax.core.experiment: Attached custom parameterizations [{'Dimension1': 27.5727, 'Dimension2': 8.1029, 'Dilution(OD)': 0.44, 'Nano_stock_vol': 0.25, 'Ag_acet_conc': 0.006, 'Ag_acet_mass': 14.0, 'Doping%': 2.77, 'Time': 60.0, 'Temperature': 25.0, 'pre-QY': 0.214952}] as trial 51.\n",
      "[INFO 09-11 12:33:35] ax.service.ax_client: Completed trial 51 with data: {'f': (0.146221, None)}.\n",
      "[INFO 09-11 12:33:35] ax.core.experiment: Attached custom parameterizations [{'Dimension1': 50.5758, 'Dimension2': 6.84, 'Dilution(OD)': 0.42, 'Nano_stock_vol': 0.5, 'Ag_acet_conc': 0.006, 'Ag_acet_mass': 14.0, 'Doping%': 4.842, 'Time': 60.0, 'Temperature': 25.0, 'pre-QY': 0.279689}] as trial 52.\n",
      "[INFO 09-11 12:33:35] ax.service.ax_client: Completed trial 52 with data: {'f': (0.199923, None)}.\n",
      "[INFO 09-11 12:33:35] ax.core.experiment: Attached custom parameterizations [{'Dimension1': 30.3477, 'Dimension2': 6.1498, 'Dilution(OD)': 0.12, 'Nano_stock_vol': 0.25, 'Ag_acet_conc': 0.006, 'Ag_acet_mass': 14.0, 'Doping%': 1.5238, 'Time': 10.0, 'Temperature': 0.0, 'pre-QY': 0.595736}] as trial 53.\n",
      "[INFO 09-11 12:33:36] ax.service.ax_client: Completed trial 53 with data: {'f': (0.191592, None)}.\n",
      "[INFO 09-11 12:33:36] ax.core.experiment: Attached custom parameterizations [{'Dimension1': 35.66948, 'Dimension2': 9.795, 'Dilution(OD)': 0.1877, 'Nano_stock_vol': 0.5, 'Ag_acet_conc': 0.0007, 'Ag_acet_mass': 14.0, 'Doping%': 0.191, 'Time': 10.0, 'Temperature': 50.0, 'pre-QY': 0.377847}] as trial 54.\n",
      "[INFO 09-11 12:33:36] ax.service.ax_client: Completed trial 54 with data: {'f': (0.0, None)}.\n",
      "[INFO 09-11 12:33:36] ax.core.experiment: Attached custom parameterizations [{'Dimension1': 30.9282, 'Dimension2': 7.9553, 'Dilution(OD)': 0.1935, 'Nano_stock_vol': 0.25, 'Ag_acet_conc': 0.006, 'Ag_acet_mass': 3.5, 'Doping%': 8.133, 'Time': 180.0, 'Temperature': 50.0, 'pre-QY': 0.493237}] as trial 55.\n",
      "[INFO 09-11 12:33:36] ax.service.ax_client: Completed trial 55 with data: {'f': (0.175762, None)}.\n",
      "[INFO 09-11 12:33:36] ax.core.experiment: Attached custom parameterizations [{'Dimension1': 28.2762, 'Dimension2': 9.0038, 'Dilution(OD)': 0.437, 'Nano_stock_vol': 0.5, 'Ag_acet_conc': 0.006, 'Ag_acet_mass': 14.0, 'Doping%': 6.373548, 'Time': 60.0, 'Temperature': 25.0, 'pre-QY': 0.703332}] as trial 56.\n",
      "[INFO 09-11 12:33:36] ax.service.ax_client: Completed trial 56 with data: {'f': (0.360513, None)}.\n",
      "[INFO 09-11 12:33:36] ax.core.experiment: Attached custom parameterizations [{'Dimension1': 31.1209, 'Dimension2': 7.35795, 'Dilution(OD)': 0.414, 'Nano_stock_vol': 0.5, 'Ag_acet_conc': 0.006, 'Ag_acet_mass': 14.0, 'Doping%': 6.787258, 'Time': 60.0, 'Temperature': 25.0, 'pre-QY': 0.684229}] as trial 57.\n",
      "[INFO 09-11 12:33:36] ax.service.ax_client: Completed trial 57 with data: {'f': (0.381981, None)}.\n",
      "[INFO 09-11 12:33:36] ax.core.experiment: Attached custom parameterizations [{'Dimension1': 33.65365, 'Dimension2': 6.9259, 'Dilution(OD)': 0.45, 'Nano_stock_vol': 0.5, 'Ag_acet_conc': 0.006, 'Ag_acet_mass': 14.0, 'Doping%': 7.068255, 'Time': 60.0, 'Temperature': 25.0, 'pre-QY': 0.477395}] as trial 58.\n",
      "[INFO 09-11 12:33:36] ax.service.ax_client: Completed trial 58 with data: {'f': (0.453762, None)}.\n",
      "[INFO 09-11 12:33:36] ax.core.experiment: Attached custom parameterizations [{'Dimension1': 30.5937, 'Dimension2': 8.8969, 'Dilution(OD)': 0.427, 'Nano_stock_vol': 0.5, 'Ag_acet_conc': 0.006, 'Ag_acet_mass': 14.0, 'Doping%': 6.656585, 'Time': 60.0, 'Temperature': 25.0, 'pre-QY': 0.801495}] as trial 59.\n",
      "[INFO 09-11 12:33:36] ax.service.ax_client: Completed trial 59 with data: {'f': (0.328337, None)}.\n",
      "[INFO 09-11 12:33:36] ax.core.experiment: Attached custom parameterizations [{'Dimension1': 29.5289, 'Dimension2': 8.7368, 'Dilution(OD)': 0.465, 'Nano_stock_vol': 0.5, 'Ag_acet_conc': 0.006, 'Ag_acet_mass': 14.0, 'Doping%': 6.533683, 'Time': 60.0, 'Temperature': 25.0, 'pre-QY': 0.561626}] as trial 60.\n",
      "[INFO 09-11 12:33:36] ax.service.ax_client: Completed trial 60 with data: {'f': (0.350817, None)}.\n",
      "[INFO 09-11 12:33:36] ax.core.experiment: Attached custom parameterizations [{'Dimension1': 28.2762, 'Dimension2': 9.0038, 'Dilution(OD)': 0.3407, 'Nano_stock_vol': 0.5, 'Ag_acet_conc': 0.006, 'Ag_acet_mass': 3.5, 'Doping%': 0.5088, 'Time': 180.0, 'Temperature': 25.0, 'pre-QY': 0.703332}] as trial 61.\n",
      "[INFO 09-11 12:33:36] ax.service.ax_client: Completed trial 61 with data: {'f': (0.500314, None)}.\n",
      "[INFO 09-11 12:33:36] ax.core.experiment: Attached custom parameterizations [{'Dimension1': 31.1209, 'Dimension2': 7.35795, 'Dilution(OD)': 0.4, 'Nano_stock_vol': 0.25, 'Ag_acet_conc': 0.006, 'Ag_acet_mass': 3.5, 'Doping%': 9.1994, 'Time': 60.0, 'Temperature': 50.0, 'pre-QY': 0.684229}] as trial 62.\n",
      "[INFO 09-11 12:33:36] ax.service.ax_client: Completed trial 62 with data: {'f': (0.100396, None)}.\n",
      "[INFO 09-11 12:33:36] ax.core.experiment: Attached custom parameterizations [{'Dimension1': 33.65365, 'Dimension2': 6.9259, 'Dilution(OD)': 0.2559, 'Nano_stock_vol': 0.25, 'Ag_acet_conc': 0.006, 'Ag_acet_mass': 3.5, 'Doping%': 8.2027, 'Time': 60.0, 'Temperature': 0.0, 'pre-QY': 0.804999}] as trial 63.\n",
      "[INFO 09-11 12:33:36] ax.service.ax_client: Completed trial 63 with data: {'f': (0.186187, None)}.\n",
      "[INFO 09-11 12:33:36] ax.core.experiment: Attached custom parameterizations [{'Dimension1': 30.5937, 'Dimension2': 8.8969, 'Dilution(OD)': 0.313, 'Nano_stock_vol': 0.25, 'Ag_acet_conc': 0.006, 'Ag_acet_mass': 3.5, 'Doping%': 6.8903, 'Time': 10.0, 'Temperature': 50.0, 'pre-QY': 0.773533}] as trial 64.\n",
      "[INFO 09-11 12:33:36] ax.service.ax_client: Completed trial 64 with data: {'f': (0.243604, None)}.\n",
      "[INFO 09-11 12:33:36] ax.core.experiment: Attached custom parameterizations [{'Dimension1': 33.65365, 'Dimension2': 6.9259, 'Dilution(OD)': 0.3, 'Nano_stock_vol': 0.5, 'Ag_acet_conc': 0.0007, 'Ag_acet_mass': 14.0, 'Doping%': 10.0, 'Time': 60.0, 'Temperature': 0.0, 'pre-QY': 0.804999}] as trial 65.\n",
      "[INFO 09-11 12:33:36] ax.service.ax_client: Completed trial 65 with data: {'f': (0.482376, None)}.\n",
      "[INFO 09-11 12:33:36] ax.core.experiment: Attached custom parameterizations [{'Dimension1': 30.5937, 'Dimension2': 8.8969, 'Dilution(OD)': 0.3, 'Nano_stock_vol': 0.5, 'Ag_acet_conc': 0.006, 'Ag_acet_mass': 3.5, 'Doping%': 2.0, 'Time': 60.0, 'Temperature': 0.0, 'pre-QY': 0.773533}] as trial 66.\n",
      "[INFO 09-11 12:33:36] ax.service.ax_client: Completed trial 66 with data: {'f': (0.314646, None)}.\n",
      "[INFO 09-11 12:33:36] ax.core.experiment: Attached custom parameterizations [{'Dimension1': 33.65365, 'Dimension2': 6.9259, 'Dilution(OD)': 0.15, 'Nano_stock_vol': 0.25, 'Ag_acet_conc': 0.0007, 'Ag_acet_mass': 14.0, 'Doping%': 5.0, 'Time': 10.0, 'Temperature': 0.0, 'pre-QY': 0.804999}] as trial 67.\n",
      "[INFO 09-11 12:33:36] ax.service.ax_client: Completed trial 67 with data: {'f': (0.469385, None)}.\n",
      "[INFO 09-11 12:33:36] ax.core.experiment: Attached custom parameterizations [{'Dimension1': 33.65365, 'Dimension2': 6.9259, 'Dilution(OD)': 0.15, 'Nano_stock_vol': 0.5, 'Ag_acet_conc': 0.006, 'Ag_acet_mass': 7.8, 'Doping%': 5.0, 'Time': 10.0, 'Temperature': 25.0, 'pre-QY': 0.804999}] as trial 68.\n",
      "[INFO 09-11 12:33:36] ax.service.ax_client: Completed trial 68 with data: {'f': (0.72739, None)}.\n",
      "[INFO 09-11 12:33:36] ax.core.experiment: Attached custom parameterizations [{'Dimension1': 33.65365, 'Dimension2': 6.9259, 'Dilution(OD)': 0.15, 'Nano_stock_vol': 0.5, 'Ag_acet_conc': 0.0007, 'Ag_acet_mass': 3.5, 'Doping%': 5.0, 'Time': 60.0, 'Temperature': 25.0, 'pre-QY': 0.804999}] as trial 69.\n",
      "[INFO 09-11 12:33:36] ax.service.ax_client: Completed trial 69 with data: {'f': (0.630708, None)}.\n"
     ]
    }
   ],
   "source": [
    "### Learn this from githum issue https://github.com/facebook/Ax/issues/768\n",
    "for i in range(len(modified_features)):\n",
    "    ax_client.attach_trial(parameters = {ax_parameters[j]['name']: modified_features.values[i][j] for j in range(10)})\n",
    "    ax_client.complete_trial(trial_index = i, raw_data = {\"f\": train_final_label.values[i]})\n"
   ]
  },
  {
   "cell_type": "markdown",
   "metadata": {},
   "source": [
    "### Evaluating model so far (optional) \n",
    "We want to do a BO loop in the end, but is always nice to see how the model is doing"
   ]
  },
  {
   "cell_type": "code",
   "execution_count": 12,
   "metadata": {},
   "outputs": [
    {
     "name": "stderr",
     "output_type": "stream",
     "text": [
      "[INFO 09-11 12:33:38] ax.service.ax_client: get_model_predictions() has been called when no model is instantiated. Attempting to instantiate the model for the first time.\n",
      "[INFO 09-11 12:33:39] ax.service.ax_client: Successfully instantiated a model for the first time.\n",
      "[INFO 09-11 12:33:39] ax.modelbridge.torch: The observations are identical to the last set of observations used to fit the model. Skipping model fitting.\n"
     ]
    }
   ],
   "source": [
    "### For evaluation purposes you can train the model\n",
    "AxClient.fit_model(ax_client)\n",
    "# render(interact_cross_validation(cv_results, show_context=True,autoset_axis_limits=False))\n"
   ]
  },
  {
   "cell_type": "markdown",
   "metadata": {},
   "source": [
    "### Get the new trials! (Finally)"
   ]
  },
  {
   "cell_type": "code",
   "execution_count": 69,
   "metadata": {},
   "outputs": [
    {
     "name": "stderr",
     "output_type": "stream",
     "text": [
      "[INFO 08-27 21:16:36] ax.modelbridge.torch: The observations are identical to the last set of observations used to fit the model. Skipping model fitting.\n",
      "[INFO 08-27 21:16:37] ax.service.ax_client: Generated new trial 70 with parameters {'Dimension1': 33.536537, 'Dimension2': 6.948798, 'Dilution(OD)': 0.144839, 'Nano_stock_vol': 0.5, 'Ag_acet_conc': 0.006, 'Ag_acet_mass': 3.5, 'Doping%': 5.327831, 'Time': 10.0, 'Temperature': 25.0, 'pre-QY': 0.863028}.\n"
     ]
    },
    {
     "data": {
      "text/plain": [
       "\"\\nRunning it directly, gave me this error\\nModelFittingError: All attempts to fit the model have failed. For more information, try enabling botorch.settings.debug mode.\\nIs that the problem you showed me yesterday with some points?\\n\\nCouldn't fix it. Jumped to the dev API\\n\""
      ]
     },
     "execution_count": 69,
     "metadata": {},
     "output_type": "execute_result"
    }
   ],
   "source": [
    "ax_client.get_next_trial() \n",
    "\n",
    "#########################\n",
    "#                       #\n",
    "#     Mayk's comments   #\n",
    "#                       #\n",
    "#########################\n",
    "'''\n",
    "Running it directly, gave me this error\n",
    "ModelFittingError: All attempts to fit the model have failed. For more information, try enabling botorch.settings.debug mode.\n",
    "Is that the problem you showed me yesterday with some points?\n",
    "\n",
    "Couldn't fix it. Jumped to the dev API\n",
    "'''"
   ]
  },
  {
   "cell_type": "markdown",
   "metadata": {},
   "source": [
    "##### [Important!](Red) For the purposes of this experiment we need to fix the dimensions (Dimension1 and Dimension2 features) as this cannot be controlled from the beggining. In other words, after the synthesizes of NPLs, we get the reports on the dimensions obtained, and then we get the rest of experimental parameters for the experiment. \n",
    "\n",
    "##### For this, we HAVE to use the Developer API (this is now a feature request in Ax.dev) https://github.com/facebook/Ax/issues/1951"
   ]
  },
  {
   "cell_type": "code",
   "execution_count": 57,
   "metadata": {},
   "outputs": [
    {
     "name": "stderr",
     "output_type": "stream",
     "text": [
      "[INFO 08-27 21:12:57] ax.service.ax_client: Retrieving contour plot with parameter 'Dimension1' on X-axis and 'Doping%' on Y-axis, for metric 'f'. Remaining parameters are affixed to the middle of their range.\n"
     ]
    },
    {
     "data": {
      "application/vnd.plotly.v1+json": {
       "config": {
        "linkText": "Export to plot.ly",
        "plotlyServerURL": "https://plot.ly",
        "showLink": false
       },
       "data": [
        {
         "autocolorscale": false,
         "autocontour": true,
         "colorbar": {
          "tickfont": {
           "size": 8
          },
          "ticksuffix": "",
          "x": 0.45,
          "y": 0.5
         },
         "colorscale": [
          [
           0,
           "rgb(247,252,253)"
          ],
          [
           0.125,
           "rgb(229,245,249)"
          ],
          [
           0.25,
           "rgb(204,236,230)"
          ],
          [
           0.375,
           "rgb(153,216,201)"
          ],
          [
           0.5,
           "rgb(102,194,164)"
          ],
          [
           0.625,
           "rgb(65,174,118)"
          ],
          [
           0.75,
           "rgb(35,139,69)"
          ],
          [
           0.875,
           "rgb(0,109,44)"
          ],
          [
           1,
           "rgb(0,68,27)"
          ]
         ],
         "contours": {
          "coloring": "heatmap"
         },
         "hoverinfo": "x+y+z",
         "ncontours": 25,
         "type": "contour",
         "x": [
          12,
          12.795918367346939,
          13.591836734693878,
          14.387755102040817,
          15.183673469387756,
          15.979591836734695,
          16.775510204081634,
          17.57142857142857,
          18.367346938775512,
          19.163265306122447,
          19.95918367346939,
          20.755102040816325,
          21.551020408163264,
          22.346938775510203,
          23.142857142857142,
          23.93877551020408,
          24.73469387755102,
          25.53061224489796,
          26.3265306122449,
          27.122448979591837,
          27.918367346938776,
          28.714285714285715,
          29.510204081632654,
          30.306122448979593,
          31.10204081632653,
          31.897959183673468,
          32.69387755102041,
          33.48979591836735,
          34.285714285714285,
          35.08163265306122,
          35.87755102040816,
          36.673469387755105,
          37.46938775510204,
          38.265306122448976,
          39.06122448979592,
          39.85714285714286,
          40.6530612244898,
          41.44897959183673,
          42.244897959183675,
          43.04081632653062,
          43.83673469387755,
          44.63265306122449,
          45.42857142857143,
          46.224489795918366,
          47.02040816326531,
          47.816326530612244,
          48.61224489795919,
          49.40816326530612,
          50.20408163265306,
          51
         ],
         "xaxis": "x",
         "y": [
          0.1,
          0.3020408163265306,
          0.5040816326530613,
          0.7061224489795919,
          0.9081632653061225,
          1.1102040816326533,
          1.3122448979591839,
          1.5142857142857145,
          1.716326530612245,
          1.9183673469387756,
          2.1204081632653065,
          2.322448979591837,
          2.5244897959183676,
          2.7265306122448982,
          2.928571428571429,
          3.1306122448979594,
          3.33265306122449,
          3.5346938775510206,
          3.736734693877551,
          3.938775510204082,
          4.140816326530612,
          4.3428571428571425,
          4.544897959183674,
          4.746938775510204,
          4.948979591836735,
          5.151020408163265,
          5.353061224489796,
          5.555102040816326,
          5.757142857142857,
          5.959183673469387,
          6.161224489795918,
          6.3632653061224485,
          6.5653061224489795,
          6.7673469387755105,
          6.969387755102041,
          7.171428571428572,
          7.373469387755102,
          7.575510204081633,
          7.777551020408163,
          7.979591836734694,
          8.181632653061225,
          8.383673469387755,
          8.585714285714285,
          8.787755102040816,
          8.989795918367347,
          9.191836734693878,
          9.393877551020408,
          9.595918367346938,
          9.79795918367347,
          10
         ],
         "yaxis": "y",
         "z": [
          [
           -0.06127953380027518,
           -0.05395193091589548,
           -0.04673338570138477,
           -0.039627854908404175,
           -0.032639087281208456,
           -0.025770639508590182,
           -0.01902589730946505,
           -0.012408098204957363,
           -0.005920350781154077,
           0.00043435615803058547,
           0.006653160486989468,
           0.012733353513583734,
           0.018672426383996105,
           0.024468132029963507,
           0.03011855605505534,
           0.035622189249674335,
           0.040977995487501584,
           0.04618547048245425,
           0.05124468867077073,
           0.05615633651457505,
           0.060921731330732115,
           0.0655428248411635,
           0.07002219053271008,
           0.07436299395618168,
           0.07856894525134325,
           0.08264423373660147,
           0.08659344548028661,
           0.09042146622567217,
           0.09413337351049993,
           0.09773432321099505,
           0.10122943642685278,
           0.1046236926911322,
           0.10792183466701832,
           0.11112828815784703,
           0.11424709971359247,
           0.11728189258705653,
           0.12023584049742231,
           0.12311165772642708,
           0.1259116036329614,
           0.12863749921252854,
           0.13129075350332303,
           0.13387239752698193,
           0.13638312382007328,
           0.13882332968880517,
           0.14119316263024137,
           0.14349256657164955,
           0.14572132777200864,
           0.14787911944344995,
           0.149965544293854,
           0.15198017437753705
          ],
          [
           -0.033988966212294275,
           -0.02702922143015729,
           -0.02021280239704104,
           -0.013544749526634092,
           -0.007029781612552133,
           -0.0006722764013593896,
           0.005523745635880928,
           0.011554635205167807,
           0.017417127764382895,
           0.02310835972484393,
           0.028625890379926577,
           0.03396773137390924,
           0.03913238339347935,
           0.04411887739575385,
           0.04892681645683683,
           0.05355641424922783,
           0.058008527110004926,
           0.062284677777833725,
           0.06638706970252739,
           0.07031859129552079,
           0.07408280940473516,
           0.07768395092702184,
           0.08112687082757,
           0.08441700443264508,
           0.08756030143965236,
           0.09056313975381336,
           0.09343221871798289,
           0.09617443383067441,
           0.0987967383348332,
           0.10130599978766874,
           0.10370886129522165,
           0.10601161677059262,
           0.10822010745521593,
           0.11033964401555572,
           0.11237495529150564,
           0.11433016234868638,
           0.11620877484132175,
           0.11801370595521431,
           0.1197473020762493,
           0.12141138351087163,
           0.12300729314425375,
           0.12453595030553645,
           0.12599790768388225,
           0.12739340953953707,
           0.12872244984018033,
           0.12998482919049725,
           0.13118020958798743,
           0.13230816630499215,
           0.13336823617187943,
           0.13435996175433979
          ],
          [
           -0.008949714862169,
           -0.0023695542797508573,
           0.0040344104598623864,
           0.010255894525137782,
           0.01628902218657069,
           0.02212839116992968,
           0.027769141234502137,
           0.03320702466951839,
           0.0384384749207822,
           0.04346066844611457,
           0.04827157483972744,
           0.052869991749354556,
           0.05725556376316879,
           0.06142878718494821,
           0.06539100416925275,
           0.06914438984135438,
           0.07269193481077917,
           0.0760374240418907,
           0.07918541160976156,
           0.08214118989903497,
           0.08491075107372018,
           0.08750073821680374,
           0.08991838331314345,
           0.09217142920229063,
           0.09426803295690503,
           0.09621664920888717,
           0.09802589403714747,
           0.09970439309455197,
           0.10126062126394664,
           0.10270274414057065,
           0.10403847300746281,
           0.10527494371131825,
           0.1064186266323546,
           0.10747527058240645,
           0.10844987934178937,
           0.10934671663327131,
           0.11016933382586339,
           0.1109206144163719,
           0.11160282987970209,
           0.11221770227184916,
           0.11276647029582737,
           0.11324995630882861,
           0.11366863282482557,
           0.11402268759878482,
           0.11431208672731101,
           0.1145366354208372,
           0.11469603594038683,
           0.11478994205560113,
           0.11481800940719528,
           0.11477994099221295
          ],
          [
           0.013079800002156444,
           0.019261513722595103,
           0.025238122732146928,
           0.03100239265089985,
           0.0365475860314394,
           0.04186755830261782,
           0.04695685999838381,
           0.05181084090393681,
           0.05642574951487489,
           0.060798819786189645,
           0.06492833746929325,
           0.0688136808121454,
           0.07245533453531296,
           0.07585488014210398,
           0.07901496832563525,
           0.08193927955759474,
           0.08463247757238784,
           0.08710015809404835,
           0.08934879286497215,
           0.09138566718267341,
           0.09321880802339391,
           0.09485689914390315,
           0.09630917984769044,
           0.09758532491461715,
           0.09869530503706096,
           0.09964922970186361,
           0.1004571773078343,
           0.10112902019059648,
           0.101674254119697,
           0.10210184286079156,
           0.10242008790077184,
           0.1026365315247706,
           0.10275789781215626,
           0.10279007167319026,
           0.10273811199108718,
           0.10260629194815443,
           0.10239815841061571,
           0.10211660259210523,
           0.10176393537819654,
           0.10134196243248772,
           0.10085205608345167,
           0.10029522265854875,
           0.0996721654169467,
           0.09898334417413428,
           0.09822903300230842,
           0.09740937699337478,
           0.09652444805446266,
           0.09557429882582018,
           0.09455901318244812,
           0.09347875168292363
          ],
          [
           0.03165879596156046,
           0.03742485317599384,
           0.0429632659067794,
           0.048266411235431905,
           0.05332724075850373,
           0.058139382585163074,
           0.0626972449125483,
           0.06699611702803945,
           0.07103226269332215,
           0.07480300090652914,
           0.07830676954465361,
           0.0815431687923017,
           0.08451298320109606,
           0.08721818301015763,
           0.08966190680764878,
           0.0918484281618179,
           0.09378310869173917,
           0.09547233919124241,
           0.09692346935634075,
           0.09814472561352176,
           0.09914511574763228,
           0.09993431866448783,
           0.10052255780407023,
           0.10092045745761961,
           0.10113888257962919,
           0.10118876452437738,
           0.10108091763286876,
           0.10082585428540355,
           0.10043360892158291,
           0.09991358320737753,
           0.09927442440194635,
           0.09852394592551124,
           0.09766909361314159,
           0.09671595477782197,
           0.09566980205887272,
           0.09453516131512216,
           0.09331589275335062,
           0.09201527610883074,
           0.09063609295208706,
           0.08918070173307692,
           0.08765110326991579,
           0.08604899659903896,
           0.08437582714240459,
           0.08263283079228918,
           0.080821078058414,
           0.07894152131270378,
           0.07699504538427503,
           0.07498251922558158,
           0.07290484519745205,
           0.07076300301698427
          ],
          [
           0.04676578145423671,
           0.0521099613925016,
           0.05721171684009782,
           0.06206352096234097,
           0.06665844229583934,
           0.0709902350964742,
           0.07505342713827651,
           0.07884340199186714,
           0.08235647321813021,
           0.08558994877973321,
           0.08854218440430303,
           0.09121262501872296,
           0.09360183301959658,
           0.09571150199436163,
           0.09754445462195291,
           0.09910462405399469,
           0.10039701873454109,
           0.10142767127954186,
           0.10220357213511909,
           0.1027325887092632,
           0.10302337054305208,
           0.10308524078466409,
           0.10292807436322642,
           0.10256216320176215,
           0.10199806917522951,
           0.10124646628839744,
           0.10031797514045093,
           0.09922299544836438,
           0.09797154558637504,
           0.0965731205801825,
           0.09503658038271755,
           0.09337007723497723,
           0.09158102550783694,
           0.08967611092208445,
           0.0876613310340877,
           0.08554205645141875,
           0.08332310234237288,
           0.08100880158673299,
           0.0786030733702387,
           0.0761094834756311,
           0.07353129465421666,
           0.07087150759951123,
           0.06813289488713759,
           0.06531803169413619,
           0.06242932761490644,
           0.059469062570086384,
           0.056439427172538886,
           0.053342565440576334,
           0.05018061656995623,
           0.046955752762077335
          ],
          [
           0.05876785639162957,
           0.06369451923527789,
           0.06837138904026402,
           0.0727913170754827,
           0.07694769226394159,
           0.08083451332256548,
           0.08444645879220344,
           0.08777895297000142,
           0.09082822606909624,
           0.09359136724338153,
           0.09606636946880465,
           0.09825216536543806,
           0.10014865303489254,
           0.10175671087308052,
           0.10307820042250808,
           0.10411595677981905,
           0.10487376639365609,
           0.10535633259452101,
           0.10556922924890887,
           0.10551884308795144,
           0.10521230513756777,
           0.10465741160696015,
           0.10386253448912108,
           0.10283652229693264,
           0.10158859146403293,
           0.10012820980358003,
           0.09846497445625649,
           0.09660848840195269,
           0.09456824117723961,
           0.0923535005580064,
           0.08997322185962214,
           0.08743597983428553,
           0.0847499256121324,
           0.0819227677324911,
           0.07896177368344841,
           0.0758737866439622,
           0.07266525171034639,
           0.06934224637465325,
           0.06591051134637532,
           0.062375479119267,
           0.05874229923710392,
           0.05501586046679105,
           0.05120081109698171,
           0.047301579182334325,
           0.0433223944875038,
           0.03926731329879407,
           0.03514024623766884,
           0.030944988163495585,
           0.02668524862161606,
           0.02236468108705894
          ],
          [
           0.06834046997372187,
           0.07285737767549288,
           0.07712251998826102,
           0.08112927425957862,
           0.08487144419679438,
           0.08834331028017124,
           0.09153968010798094,
           0.09445593764240658,
           0.09708808991608986,
           0.0994328095892434,
           0.10148747164990868,
           0.10325018299935176,
           0.10471980429985392,
           0.10589596422151347,
           0.106779066641355,
           0.1073702915447122,
           0.10767159001667553,
           0.10768567376661144,
           0.10741599916426438,
           0.10686674585532326,
           0.10604278976590048,
           0.1049496703067959,
           0.1035935514005699,
           0.10198117604310825,
           0.1001198141100808,
           0.0980172034830061,
           0.09568148505860617,
           0.09312113289092148,
           0.09034488113859716,
           0.08736165010708614,
           0.08418047368917712,
           0.08081043036764984,
           0.07726057956916184,
           0.07353990464701377,
           0.06965726317103602,
           0.06562134470063263,
           0.06144063589056206,
           0.057123392412020635,
           0.05267761721884129,
           0.04811104459597648,
           0.04343112961058604,
           0.0386450427534058,
           0.033759669637195316,
           0.02878161573177329,
           0.023717215948646148,
           0.018572548755747653,
           0.01335345421249648,
           0.008065554959750643,
           0.0027142792067784416,
           -0.0026951155574191366
          ],
          [
           0.07640723629483645,
           0.08052135547739084,
           0.08438418059172832,
           0.08798966424343217,
           0.09133205765624497,
           0.09440593657437452,
           0.09720622750207113,
           0.09972823419366827,
           0.10196766423213904,
           0.10392065555286388,
           0.10558380271451581,
           0.10695418269491953,
           0.10802938002787914,
           0.10880751101258053,
           0.10928724689744665,
           0.10946783592353132,
           0.10934912426253077,
           0.10893157598624263,
           0.10821629223447152,
           0.10720502979946925,
           0.10590021908229587,
           0.10430498119703661,
           0.1024231433428382,
           0.10025925084307682,
           0.09781857384852183,
           0.09510710621153201,
           0.09213155443137874,
           0.08889931506474266,
           0.08541843949749621,
           0.08169758530902038,
           0.07774595371667381,
           0.07357321343505273,
           0.06918941254809663,
           0.06460488162978228,
           0.059830132634337785,
           0.054875758648847,
           0.04975233917048852,
           0.04447035466357835,
           0.03904011280385147,
           0.03347168764678646,
           0.027774871922478406,
           0.021959141983030367,
           0.016033634436471822,
           0.010007133287608244,
           0.0038880662092503626,
           -0.002315491392312935,
           -0.008595806007995838,
           -0.014945470658148746,
           -0.021357385907448123,
           -0.0278247384645241
          ],
          [
           0.08408850643403014,
           0.08780890739498197,
           0.0912778741575441,
           0.09448984466278226,
           0.09743942887358438,
           0.10012141112090293,
           0.10253075322472566,
           0.10466259945851217,
           0.10651228494355333,
           0.10807534906355229,
           0.10934755545158742,
           0.1103249193668779,
           0.11100374250717558,
           0.11138065435653828,
           0.11145265860469836,
           0.1112171831250009,
           0.11067213221077984,
           0.10981594029629793,
           0.10864762690353305,
           0.1071668528842579,
           0.105373978172868,
           0.10327012097396546,
           0.10085721749071536,
           0.0981380798016248,
           0.09511644755187686,
           0.09179702821998546,
           0.0881855210552459,
           0.08428862205099466,
           0.08011400862892738,
           0.07567030267130057,
           0.07096700963389815,
           0.06601443212655239,
           0.06082355896577549,
           0.055405934599473156,
           0.049773516690868214,
           0.0439385310734145,
           0.03791333233572494,
           0.03171027640567908,
           0.025341609108105234,
           0.018819372616919655,
           0.012155330156070954,
           0.005360908183526886,
           -0.0015528453717555957,
           -0.00857528860641979,
           -0.015696200757024714,
           -0.022905786955145696,
           -0.030194674437410834,
           -0.03755390199416983,
           -0.04497490426175141,
           -0.052449492265884884
          ],
          [
           0.09262212578033341,
           0.09596715510751141,
           0.09905741325880242,
           0.10188759671590489,
           0.1044524626688111,
           0.10674681414270483,
           0.10876548751237121,
           0.1105033447479415,
           0.11195527298625958,
           0.11311619407481038,
           0.11398108633810997,
           0.1145450197633729,
           0.11480320470763425,
           0.11475105291058385,
           0.11438424867165235,
           0.11369882768287488,
           0.11269126097262684,
           0.11135854191981084,
           0.10969827469312238,
           0.10770876302644833,
           0.10538909853233179,
           0.10273924747736508,
           0.09976013441640431,
           0.09645371968630885,
           0.0928230663982996,
           0.08887239152846611,
           0.08460709651739591,
           0.08003377458071123,
           0.07516019325292284,
           0.06999525094743508,
           0.06454890592803003,
           0.05883207688366007,
           0.052856517121781244,
           0.046634667772017246,
           0.04017949841913246,
           0.03350434465473845,
           0.026622751225429925,
           0.019548327586817932,
           0.012294620234470255,
           0.004875004103497144,
           -0.002697406467983693,
           -0.010409827814179623,
           -0.018249859489085973,
           -0.026205521140645283,
           -0.03426527574832405,
           -0.042418041300959136,
           -0.050653192922991114,
           -0.05896055729411581,
           -0.06733040107589228,
           -0.07575341479685571
          ],
          [
           0.10325282275676162,
           0.106258613359153,
           0.10900142895820768,
           0.111475926151495,
           0.1136767450112789,
           0.1155984856731823,
           0.11723568924690705,
           0.11858282613112966,
           0.11963429507597215,
           0.12038443620125336,
           0.12082756059127714,
           0.12095799787344684,
           0.12077016179180665,
           0.12025863213511803,
           0.11941825035730352,
           0.11824422531759983,
           0.11673224546273812,
           0.1148785938867472,
           0.11268026306430064,
           0.11013506640759295,
           0.10724174407949705,
           0.10400006047739725,
           0.10041089067856868,
           0.09647629281550195,
           0.09219956315304441,
           0.08758527066598251,
           0.08263926842914031,
           0.07736867990252716,
           0.07178185896495425,
           0.06588832367064651,
           0.0596986644689973,
           0.053224429227161835,
           0.046477988900953615,
           0.03947238947494991,
           0.03222119692947428,
           0.024738342320145212,
           0.017037973417141167,
           0.009134318098162647,
           0.0010415629773834478,
           -0.007226250785388327,
           -0.01565531395769748,
           -0.024232118549703918,
           -0.03294351109083499,
           -0.0417767315520505,
           -0.05071943970652479,
           -0.05975973072624602,
           -0.06888614185415626,
           -0.07808765176433224,
           -0.08735367406872674,
           -0.09667404635954607
          ],
          [
           0.11710328991889364,
           0.11983153132123077,
           0.12228320868263592,
           0.12445262240344994,
           0.1263340236113571,
           0.12792159091825828,
           0.1292094129170206,
           0.13019147992928448,
           0.1308616886862791,
           0.13121386350548556,
           0.13124179680206247,
           0.13093931038587048,
           0.13030033733675228,
           0.1293190223779423,
           0.12798983728182234,
           0.12630770684066983,
           0.12426814058325981,
           0.12186736546542673,
           0.11910245497644142,
           0.1159714505684064,
           0.11247347157885962,
           0.10860881017226386,
           0.10437900824515754,
           0.09978691328869733,
           0.09483671084840338,
           0.08953393150895182,
           0.08388543105649351,
           0.0778993434110697,
           0.07158500700665603,
           0.06495286671105621,
           0.0580143548768039,
           0.050781756513978926,
           0.043268064573711656,
           0.03548683183577683,
           0.027452025412389086,
           0.019177889099607992,
           0.010678817305550675,
           0.001969242888134687,
           -0.006936460113015269,
           -0.01602405884636965,
           -0.02527952978643694,
           -0.034689113780166175,
           -0.04423935925255959,
           -0.053917154988747024,
           -0.06370975375835752,
           -0.07360478812230853,
           -0.08359027958182796,
           -0.09365464214043923,
           -0.10378668129385449,
           -0.11397558929977814
          ],
          [
           0.13503718689533953,
           0.1375793334679009,
           0.13982646042193084,
           0.1417721992855625,
           0.14341014240438152,
           0.14473382734738816,
           0.14573672805881582,
           0.14641225607942376,
           0.14675377559264646,
           0.1467546356771378,
           0.1464082224487966,
           0.145708032437944,
           0.14464776649594474,
           0.1432214419795218,
           0.14142351910417283,
           0.13924903661865967,
           0.1366937512454111,
           0.1337542755748848,
           0.13042820925904255,
           0.12671425881586548,
           0.12261234187910895,
           0.11812367226826884,
           0.1132508226840731,
           0.10799776248658546,
           0.10236986837432979,
           0.09637390644785232,
           0.09001798463978788,
           0.08331147550815698,
           0.07626491069487559,
           0.06888985034691095,
           0.06119873333061018,
           0.05320471641995633,
           0.04492151219579238,
           0.036363235101749436,
           0.02754426296798504,
           0.0184791179670227,
           0.009182367667982277,
           -0.0003314555321643209,
           -0.010047919509100556,
           -0.01995274504088254,
           -0.03003184853767163,
           -0.04027137686650695,
           -0.05065773567413881,
           -0.061177612211056664,
           -0.07181799338476236,
           -0.08256617959985368,
           -0.09340979483376072,
           -0.10433679341262853,
           -0.11533546382134668,
           -0.12639442998902295
          ],
          [
           0.15753044349347955,
           0.16000639671484518,
           0.16216527275146095,
           0.16399973307626453,
           0.16550244241508436,
           0.16666606686048097,
           0.1674832789605614,
           0.1679467726305048,
           0.16804929119277093,
           0.16778367159751545,
           0.16714290725299036,
           0.1661202304734735,
           0.16470921369372263,
           0.16290388660491928,
           0.16069886502765932,
           0.15808948620875538,
           0.15507194517738465,
           0.15164342680806991,
           0.14780222865779188,
           0.14354787017961126,
           0.13888118441895214,
           0.13380438886280896,
           0.12832113271382056,
           0.12243651836222384,
           0.11615709525960936,
           0.10949082486474715,
           0.10244701553639088,
           0.09503622681691798,
           0.08727014375971777,
           0.07916142408246157,
           0.07072352467879003,
           0.06197051836947834,
           0.05291691493054493,
           0.04357750010291009,
           0.033967202005716374,
           0.024100987717371652,
           0.013993787171168948,
           0.0036604383789857475,
           -0.00688435240132948,
           -0.01762604071513657,
           -0.028550267856423783,
           -0.03964288090799398,
           -0.05088995017057227,
           -0.0622777845699925,
           -0.07379294532707992,
           -0.08542225798344238,
           -0.09715282282173515,
           -0.10897202363443448,
           -0.12086753494201613,
           -0.13282732760119614
          ],
          [
           0.18457200386317354,
           0.18712307122233335,
           0.1893331306928537,
           0.19119359331145344,
           0.1926959291774882,
           0.19383168302678022,
           0.19459249698491876,
           0.19497014270339588,
           0.19495656518838836,
           0.19454394056539748,
           0.19372474931767564,
           0.19249186539306168,
           0.19083866007661787,
           0.1887591178203227,
           0.1862479602004368,
           0.18330077324103705,
           0.1799141332663644,
           0.1760857265357072,
           0.1718144582503912,
           0.16710054703902752,
           0.16194560146391468,
           0.15635267562045244,
           0.15032630144162848,
           0.14387249578527297,
           0.13699874082364427,
           0.12971393654607255,
           0.12202832477511498,
           0.11395338446041722,
           0.10550169944339668,
           0.09668680197111153,
           0.08752299857510164,
           0.07802518884248241,
           0.06820868996163845,
           0.05808907966386956,
           0.047682066037745274,
           0.037003386955608925,
           0.026068736542849275,
           0.014893713119267654,
           0.0034937824646658344,
           -0.008115748882522755,
           -0.019919754166345865,
           -0.03190330331760574,
           -0.04405167774798005,
           -0.05635038384130714,
           -0.06878516550791153,
           -0.08134201595694307,
           -0.09400718867036523,
           -0.10676720749847152,
           -0.11960887583324242,
           -0.13251928474669172
          ],
          [
           0.2156112241636698,
           0.2183881317346578,
           0.2208001187571399,
           0.22283711179781085,
           0.22448914725489177,
           0.22574640521164616,
           0.22659925088291566,
           0.22703828495651435,
           0.22705440414156772,
           0.22663887285050968,
           0.22578340646500242,
           0.22448026572982216,
           0.22272236101214865,
           0.22050336405141172,
           0.2178178241404865,
           0.21466128503380125,
           0.2110303986729969,
           0.2069230317570242,
           0.20233836132046418,
           0.19727695588901095,
           0.19174083903493433,
           0.18573353272002024,
           0.17926007814634715,
           0.17232703250126052,
           0.16494244037169553,
           0.15711577929319379,
           0.14885787961021962,
           0.14018081977087532,
           0.1310977995760168,
           0.12162299544995055,
           0.11177140377513586,
           0.10155867981645833,
           0.09100098058545994,
           0.08011481933260758,
           0.06891693737730709,
           0.05742419625204773,
           0.045653490214612014,
           0.033621677164634434,
           0.021345524752460293,
           0.008841668302040667,
           -0.0038734225622921448,
           -0.016783471032592506,
           -0.02987241587159789,
           -0.04312443100962404,
           -0.05652394285384843,
           -0.07005564579952472,
           -0.083704516224898,
           -0.09745582514286938,
           -0.11129514949460934,
           -0.12520838220423147
          ],
          [
           0.24956452648154404,
           0.2527125828768431,
           0.2554736367746835,
           0.2578359741129148,
           0.2597880228090025,
           0.2613184023934366,
           0.26241598132923055,
           0.2630699426341313,
           0.2632698582491194,
           0.26300577218763554,
           0.2622682922489409,
           0.2610486893617816,
           0.25933900317611425,
           0.2571321519357591,
           0.25442204411269215,
           0.25120368894442235,
           0.24747330272245993,
           0.2432284075701616,
           0.2384679195068708,
           0.23319222266770467,
           0.2274032268979925,
           0.22110440627494204,
           0.21430081648992755,
           0.2069990896926479,
           0.19920740590303004,
           0.1909354409319613,
           0.1821942915084483,
           0.1729963793574787,
           0.16335533687196907,
           0.153285878083804,
           0.14280365951160812,
           0.13192513600238515,
           0.1206674167806431,
           0.1090481266122336,
           0.09708527599511294,
           0.08479714320740041,
           0.0722021696094938,
           0.05931886850093962,
           0.04616574682464239,
           0.03276123851006996,
           0.01912364790955637,
           0.005271101786784443,
           -0.008778491503591973,
           -0.0230074768829861,
           -0.03739848239384494,
           -0.05193444477592607,
           -0.06659863133144989,
           -0.08137465853252274,
           -0.09624650771379434,
           -0.11119853809327107
          ],
          [
           0.2848826017563404,
           0.2885264594870286,
           0.29176463086239146,
           0.29458370454121263,
           0.2969704144184822,
           0.29891170014897417,
           0.3003947752456273,
           0.3014072029983547,
           0.3019369802813061,
           0.30197262886577136,
           0.3015032937712425,
           0.3005188475695303,
           0.2990099994156623,
           0.29696840698813837,
           0.2943867893011113,
           0.2912590379873189,
           0.28758032441208453,
           0.2833471998930337,
           0.27855768609880743,
           0.2732113529425462,
           0.26730938122387377,
           0.260854607721522,
           0.25385155064394943,
           0.24630641394300026,
           0.23822706952788705,
           0.22962301711722122,
           0.22050532223286448,
           0.21088653367529486,
           0.20078058255904663,
           0.19020266584760934,
           0.17916911778141997,
           0.16769727309735083,
           0.15580532597680358,
           0.14351218860345094,
           0.13083735268953633,
           0.11780075686799318,
           0.10442266202794749,
           0.09072353606393635,
           0.07672394878126697,
           0.06244447721651747,
           0.047905621250224906,
           0.033127729076296436,
           0.018130932022235896,
           0.0029350880591625106,
           -0.012440266603616773,
           -0.027975958504347642,
           -0.04365321111491982,
           -0.0594536728564562,
           -0.07535943953483804,
           -0.09135307180809371
          ],
          [
           0.3196683209518094,
           0.32389801530397744,
           0.3277078987397566,
           0.33108292354240587,
           0.3340081587013558,
           0.3364688554991271,
           0.3384505206815914,
           0.33993899734861743,
           0.3409205534943762,
           0.3413819778994515,
           0.3413106828235964,
           0.340694812714444,
           0.3395233577666664,
           0.3377862709598677,
           0.3354745867902344,
           0.33258053977890406,
           0.32909768039088527,
           0.3250209860265419,
           0.32034696430478743,
           0.31507374608895794,
           0.3092011654042097,
           0.3027308236991173,
           0.2956661359872556,
           0.28801235677682896,
           0.2797765841408404,
           0.27096774085721304,
           0.2615965321926495,
           0.2516753808177783,
           0.24121833996829128,
           0.2302409869565316,
           0.21876029970381203,
           0.20679451964568513,
           0.1943630046448708,
           0.18148607568202316,
           0.168184861046704,
           0.15448114136342353,
           0.140397198438383,
           0.12595567039099376,
           0.11117941495362707,
           0.0960913824886244,
           0.0807144997036439,
           0.06507156476350906,
           0.04918515417169303,
           0.03307754142584979,
           0.016770627335111227,
           0.0002858815252616831,
           -0.016355705469036363,
           -0.033133660336979176,
           -0.05002805625511533,
           -0.06701953436072211
          ],
          [
           0.3518341164413671,
           0.35669393069705596,
           0.36112498866864506,
           0.36511079978468275,
           0.368634936718805,
           0.3716811004905271,
           0.3742331931849556,
           0.37627539846332836,
           0.377792269908783,
           0.3787688271931241,
           0.37919065971294275,
           0.3790440372414101,
           0.3783160268523235,
           0.37699461511028354,
           0.375068834268852,
           0.3725288909174138,
           0.369366295215774,
           0.36557398857076007,
           0.3611464673301738,
           0.3560798997886657,
           0.3503722335712678,
           0.3440232903257008,
           0.3370348445233601,
           0.32941068326964285,
           0.32115664417682854,
           0.3122806287926063,
           0.3027925896175433,
           0.29270448958953177,
           0.2820302338439535,
           0.27078557464695846,
           0.2589879914640107,
           0.24665654918690416,
           0.23381173827050603,
           0.2204753011424085,
           0.20667004954552867,
           0.19241967742189436,
           0.17774857366351354,
           0.1626816387522541,
           0.14724410876946076,
           0.131461389616786,
           0.11535890386050769,
           0.098961951945604,
           0.08229558903289641,
           0.06538451808684281,
           0.04825299937649674,
           0.030924776014507327,
           0.013423014679311895,
           -0.004229739709736863,
           -0.02201159684787657,
           -0.03990134316154678
          ],
          [
           0.3792876546369017,
           0.384769660561142,
           0.38981914560313424,
           0.39441849873635626,
           0.3985501089530703,
           0.40219642547510626,
           0.405340025299516,
           0.40796368848126324,
           0.41005048143770917,
           0.4115838485195219,
           0.41254771193894496,
           0.41292657989931214,
           0.4127056628281855,
           0.4118709970666118,
           0.4104095755075938,
           0.4083094840716356,
           0.4055600428972562,
           0.40215195056965186,
           0.3980774294812798,
           0.393330369911238,
           0.387906469924329,
           0.381803367735308,
           0.375020762567336,
           0.3675605196714821,
           0.3594267547921626,
           0.3506258932913974,
           0.3411666994327961,
           0.33106027201552896,
           0.32032000368373487,
           0.30896150287279744,
           0.29700247914587147,
           0.2844625945835384,
           0.27136328565395573,
           0.2577275612747715,
           0.2435797836882826,
           0.22894543898335643,
           0.21385090409578192,
           0.19832321639436912,
           0.18238985145691047,
           0.16607851358390324,
           0.1494169428649005,
           0.13243274153394383,
           0.11515322163215574,
           0.09760527494903365,
           0.07981526544452301,
           0.061808943469073174,
           0.04361138040612064,
           0.025246921682774343,
           0.006739155676660197,
           -0.011889104228343828
          ],
          [
           0.40013055678830384,
           0.40617474660784936,
           0.4117872521024635,
           0.41694975777035764,
           0.4216438940549474,
           0.4258512901681093,
           0.4295536335790322,
           0.43273273680777025,
           0.43537061200606686,
           0.4374495538174107,
           0.43895223098451774,
           0.4398617869251047,
           0.4401619495588609,
           0.43983715035730125,
           0.438872652507206,
           0.4372546879434459,
           0.4349706027252209,
           0.43200901011646053,
           0.4283599503042108,
           0.4240150553640831,
           0.41896771741811206,
           0.41321325716717017,
           0.4067490889484898,
           0.39957487719247897,
           0.39169267787622164,
           0.383107057165332,
           0.37382517879060095,
           0.3638568514155676,
           0.35321452865259967,
           0.34191325665588945,
           0.32997056790826684,
           0.3174063237736313,
           0.30424251214602893,
           0.2905030092854816,
           0.27621331633938706,
           0.2614002813001952,
           0.2460918163531396,
           0.23031661935433367,
           0.21410390674521645,
           0.19748316372704247,
           0.18048391628330526,
           0.1631355283404114,
           0.1454670263199201,
           0.12750695209843266,
           0.10928324439619265,
           0.0908231474620474,
           0.07215314496454163,
           0.05329891600958439,
           0.03428530976909655,
           0.01513633467992792
          ],
          [
           0.412848170583197,
           0.4193505407959969,
           0.4254257269995747,
           0.4310551573471891,
           0.43622017676147135,
           0.4409020924780267,
           0.44508222534513486,
           0.44874196750969336,
           0.4518628472049302,
           0.45442660130503787,
           0.4564152562458466,
           0.4578112179019766,
           0.4585973707484898,
           0.45875718666466325,
           0.4582748435143656,
           0.4571353536992802,
           0.45532470282372595,
           0.45282999865194995,
           0.4496396305006277,
           0.44574343907994785,
           0.4411328964704867,
           0.4358012952407091,
           0.4297439446300925,
           0.4229583698964836,
           0.4154445084267876,
           0.40720489285018285,
           0.398244807872908,
           0.3885724048368541,
           0.3781987574950144,
           0.36713784600460886,
           0.35540646332756565,
           0.3430240473984072,
           0.3300124506598301,
           0.31639566335666003,
           0.3021995078862228,
           0.28745131973811905,
           0.2721796275129777,
           0.25641384170699394,
           0.24018395948996563,
           0.2235202909726446,
           0.20645321119551968,
           0.1890129409127557,
           0.17122935824429783,
           0.15313184225477577,
           0.1347491483655683,
           0.1161093141904614,
           0.0972395934039724,
           0.0781664139117196,
           0.05891535611775936,
           0.039511146361169536
          ],
          [
           0.4164623911329872,
           0.4232908294045642,
           0.4296993661916919,
           0.43566959275836914,
           0.44118301973766144,
           0.4462211177887085,
           0.45076536299716274,
           0.4547972877741492,
           0.45829853782497276,
           0.46125093599617134,
           0.4636365535607562,
           0.46543778957519866,
           0.46663745858082517,
           0.4672188869436313,
           0.46716601799190005,
           0.4664635261249567,
           0.4650969403487315,
           0.46305277783725074,
           0.4603186885017005,
           0.45688361165444324,
           0.4527379461331545,
           0.4478737348887818,
           0.4422848644271098,
           0.435967277844642,
           0.4289191974170921,
           0.4211413478851872,
           0.41263716546250395,
           0.4034129708177314,
           0.39347808009589796,
           0.382844830907485,
           0.37152851126803416,
           0.3595471959348228,
           0.3469215082932125,
           0.3336743320342346,
           0.31983049527667073,
           0.3054164447026249,
           0.29045992191908726,
           0.27498965040882534,
           0.2590350390465698,
           0.24262590679399776,
           0.22579223227681128,
           0.20856393117390393,
           0.19097066365513737,
           0.17304167297617012,
           0.15480565546159017,
           0.1362906606924857,
           0.11752401962478895,
           0.09853229722398228,
           0.07934126536668816,
           0.0599758913563625
          ],
          [
           0.41061914809991784,
           0.4176346151960276,
           0.4242398664715984,
           0.43041701972687996,
           0.43614814405443075,
           0.4414152986777057,
           0.446200575931963,
           0.45048614890777205,
           0.45425432426687007,
           0.45748760082521867,
           0.46016873429887833,
           0.46228080862311854,
           0.4638073138977022,
           0.4647322311066306,
           0.4650401234600782,
           0.46471623447293375,
           0.46374659300792515,
           0.46211812583890266,
           0.45981877884144023,
           0.4568376483055654,
           0.4531651243316304,
           0.44879304849547047,
           0.443714887468067,
           0.43792592304111977,
           0.43142345594816006,
           0.42420701646126246,
           0.4162785682586929,
           0.40764268600701414,
           0.3983066832335039,
           0.38828066913846526,
           0.37757752205011325,
           0.366212779980981,
           0.35420446057818367,
           0.34157282891272867,
           0.32834013194811373,
           0.31453031544747057,
           0.3001687353847481,
           0.28528187264664207,
           0.26989705771548145,
           0.2540422105620629,
           0.23774560011830184,
           0.22103562663169002,
           0.20394062955746325,
           0.18648872259301055,
           0.16870765634022386,
           0.15062470813314233,
           0.13226659728917667,
           0.11365942326291562,
           0.09482862331101498,
           0.07579894600130349
          ],
          [
           0.395591790508911,
           0.40267008707669516,
           0.4093505834865802,
           0.41561623926307434,
           0.42145001908396595,
           0.4268349319385366,
           0.4317540738702435,
           0.4361906747450286,
           0.4401281492308253,
           0.4435501523599719,
           0.4464406397889483,
           0.4487839328598912,
           0.4505647883269857,
           0.451768472582087,
           0.452380840015831,
           0.45238841522406614,
           0.4517784787734245,
           0.45053915651706633,
           0.4486595127385268,
           0.4461296478877196,
           0.44294080230329647,
           0.43908546785533503,
           0.4345575097741947,
           0.429352300536471,
           0.4234668661323707,
           0.41690004183773804,
           0.4096526302439495,
           0.4017275494996788,
           0.3931299566577591,
           0.38386733078997054,
           0.37394950414323874,
           0.36338863562753654,
           0.35219912769170353,
           0.34039749301754124,
           0.32800218078573373,
           0.31503337338853415,
           0.3015127639677856,
           0.28746332429900967,
           0.2729090708670363,
           0.2578748360012749,
           0.2423860494723782,
           0.22646853499687286,
           0.2101483249447732,
           0.1934514955601298,
           0.17640402390584506,
           0.15903166683388054,
           0.14135986125451294,
           0.12341364422946711,
           0.10521759083996685,
           0.08679576729974016
          ],
          [
           0.3722000360073233,
           0.3792487797724135,
           0.38591568533923365,
           0.3921848248020413,
           0.39804034081043393,
           0.4034664861096598,
           0.4084476659255373,
           0.41296848335720837,
           0.41701378775623993,
           0.42056872618243646,
           0.4236187977626076,
           0.4261499108092687,
           0.42814844235118876,
           0.42960129957129994,
           0.43049598266000977,
           0.43082064833579803,
           0.43056417331230545,
           0.4297162170856147,
           0.4282672835121918,
           0.42620878104983867,
           0.42353308230574427,
           0.4202335844642884,
           0.4163047735032427,
           0.4117422962759404,
           0.40654304479114456,
           0.40070525572136384,
           0.39422862453750773,
           0.38711442852416866,
           0.37936564808378603,
           0.3709870730241181,
           0.36198538098566846,
           0.3523691784749574,
           0.34214899944428145,
           0.3313372610453982,
           0.31994817984076396,
           0.3079976541300907,
           0.29550311949683683,
           0.2824833849499197,
           0.2689584568714284,
           0.25494935740021135,
           0.24047794301796876,
           0.22556672824920618,
           0.21023871843749026,
           0.1945172545521916,
           0.17842587217998315,
           0.1619881758025627,
           0.14522772888031057,
           0.12816795939351125,
           0.11083208003908714,
           0.0932430218291056
          ],
          [
           0.34166444343059693,
           0.34863135908030296,
           0.35523672755187174,
           0.361465927873588,
           0.36730447221712464,
           0.3727380440650026,
           0.37775253799382347,
           0.3823341010647353,
           0.38646917549837656,
           0.3901445424253881,
           0.3933473663402154,
           0.39606523976751884,
           0.39828622770231387,
           0.39999891110632024,
           0.4011924288485932,
           0.40185651737775485,
           0.40198154750194537,
           0.40155855775493193,
           0.40057928418429417,
           0.39903618697993104,
           0.39692247508747747,
           0.3942321311847501,
           0.3909599406695894,
           0.38710152939868564,
           0.38265341527047414,
           0.37761307762877117,
           0.3719790456011425,
           0.36575100233670443,
           0.3589298978797817,
           0.3515180605662593,
           0.34351929618651555,
           0.3349389654000375,
           0.3257840327796723,
           0.3160630838525167,
           0.3057863095657916,
           0.29496545985608846,
           0.283613769816235,
           0.2717458628397549,
           0.2593776357698312,
           0.24652613110131527,
           0.233209401089074,
           0.21944636830289121,
           0.20525668643197753,
           0.19066060474538976,
           0.1756788387277908,
           0.16033244895203314,
           0.1446427294585285,
           0.12863110638197756,
           0.11231904716472332,
           0.09572798009174992
          ],
          [
           0.3054309864014583,
           0.31230272244132107,
           0.3188378160550273,
           0.3250230224639391,
           0.3308452733677777,
           0.3362917110451878,
           0.34134972275855696,
           0.34600697506889677,
           0.35025144766545085,
           0.35407146617281593,
           0.35745573341771375,
           0.36039335855814525,
           0.36287388348078853,
           0.36488730590608565,
           0.3664240987446366,
           0.36747522536634614,
           0.36803215079427865,
           0.368086849267081,
           0.36763180896846825,
           0.36666003568825484,
           0.3651650576618447,
           0.36314093475639586,
           0.3605822756175875,
           0.3574842665947036,
           0.3538427157379086,
           0.3496541139245014,
           0.34491571314901404,
           0.33962561958765014,
           0.33378289671938977,
           0.3273876719178598,
           0.320441239211402,
           0.3129461510068216,
           0.30490629272613884,
           0.296326935833347,
           0.2872147666237339,
           0.2775778898585865,
           0.26742580790971826,
           0.25676937721217374,
           0.24562074480994725,
           0.23399326822199162,
           0.22190142219220904,
           0.20936069588384437,
           0.19638748393069938,
           0.18299897453871583,
           0.16921303727618725,
           0.15504811302037363,
           0.1405231077911338,
           0.12565729198872855,
           0.11047020598371148,
           0.09498157272007439
          ],
          [
           0.26500267163794766,
           0.27179632433726625,
           0.27828252099884554,
           0.28444931994399525,
           0.29028496711429674,
           0.29577792390147895,
           0.30091689413881273,
           0.3056908497528108,
           0.3100890545410083,
           0.31410108550687316,
           0.3177168511857424,
           0.32092660639169673,
           0.3237209628722082,
           0.32609089553072684,
           0.32802774401569956,
           0.3295232098652894,
           0.3305693497067304,
           0.331158565682657,
           0.33128359483943337,
           0.3309374998130541,
           0.3301136639667418,
           0.32880579429859813,
           0.32700793563404296,
           0.32471449910106104,
           0.3219203069669556,
           0.3186206546612898,
           0.31481138918879703,
           0.3104890015401963,
           0.30565072935406695,
           0.3002946647798199,
           0.29441986190776537,
           0.2880264380726525,
           0.2811156635522234,
           0.27369003534413633,
           0.26575333165409093,
           0.2573106452062947,
           0.2483683946503541,
           0.238934314623293,
           0.22901742581094747,
           0.21862798721594212,
           0.20777743318156608,
           0.1964782979664897,
           0.18474413082237198,
           0.1725894043323009,
           0.16002941857105174,
           0.14708020347638384,
           0.13375842139921926,
           0.12008127148632983,
           0.10606639727592597,
           0.09173179849291577
          ],
          [
           0.22180507954855186,
           0.2285557076492604,
           0.23503157109625505,
           0.2412218505327211,
           0.247115888460268,
           0.2527032096526759,
           0.2579735401576559,
           0.2629168243329012,
           0.2675232395488459,
           0.27178320799416217,
           0.275687405136151,
           0.2792267644086729,
           0.28239247776829035,
           0.285175991890358,
           0.28756900008816905,
           0.2895634301740288,
           0.29115142907369934,
           0.2923253453722455,
           0.2930777117480263,
           0.2934012298003179,
           0.2932887605459429,
           0.29273332415429165,
           0.2917281126717065,
           0.2902665187999876,
           0.28834218307085063,
           0.2859490601944813,
           0.28308150392585785,
           0.2797343680569191,
           0.27590311949514656,
           0.27158395801699114,
           0.2667739365383069,
           0.26147107554130766,
           0.2556744659507589,
           0.24938435586838584,
           0.24260221793836512,
           0.23533079552220712,
           0.22757412728541843,
           0.2193375507543639,
           0.21062768640587684,
           0.20145240419512986,
           0.19182077505002199,
           0.18174300974421276,
           0.17123038775789035,
           0.1602951785847973,
           0.1489505577214673,
           0.1372105194496793,
           0.12508978816565552,
           0.11260372987946114,
           0.09976826512809744,
           0.08659978437358862
          ],
          [
           0.1770989970652077,
           0.18384585696337505,
           0.1903531364355231,
           0.1966109139551281,
           0.20260937083642327,
           0.20833880394284435,
           0.21378963684260344,
           0.21895242915068155,
           0.22381788371171443,
           0.22837685129745844,
           0.2326203325103106,
           0.23653947669052092,
           0.24012557758659414,
           0.24337006578632076,
           0.2462644980057753,
           0.24880054356501538,
           0.2509699687025395,
           0.25276461979083764,
           0.25417640706140665,
           0.25519729098510247,
           0.2558192741737828,
           0.2560344022592054,
           0.2558347776167029,
           0.25521258991955864,
           0.254160167093893,
           0.2526700490524668,
           0.2507350845559139,
           0.24834854862817923,
           0.2455042750117023,
           0.24219679571725564,
           0.23842147882395567,
           0.2341746561386457,
           0.22945373406399797,
           0.2242572832902378,
           0.21858510516931315,
           0.21243827451748915,
           0.20581915993574024,
           0.19873142365235685,
           0.19118000328210932,
           0.183171078086721,
           0.17471202233677133,
           0.16581134815300635,
           0.15647864008022916,
           0.14672448346834555,
           0.13656038836513754,
           0.1259987106725845,
           0.11505257181933179,
           0.10373577826310092,
           0.09206274178732388,
           0.08004840147645034
          ],
          [
           0.13194386080386877,
           0.13871731695848308,
           0.14528771282141437,
           0.15164581414184133,
           0.1577824064731813,
           0.16368830023486614,
           0.16935433458014826,
           0.17477137986985208,
           0.17993033859624127,
           0.18482214462977936,
           0.18943776068432827,
           0.1937681739839928,
           0.19780439008550277,
           0.20153742509635017,
           0.20495829643155866,
           0.2080580125888083,
           0.210827562592835,
           0.213257905992699,
           0.21533996480156622,
           0.21706461905924032,
           0.2184227086004899,
           0.21940504403430186,
           0.22000243108620002,
           0.2202057128606361,
           0.22000583454716002,
           0.21939393388260267,
           0.21836145751371452,
           0.21690029935488453,
           0.21500295263509553,
           0.21266266455752386,
           0.20987358211209595,
           0.20663087961476231,
           0.20293086184852596,
           0.19877104022374978,
           0.19415018233358033,
           0.18906833714143756,
           0.1835268388836867,
           0.17752829319696584,
           0.17107654857662405,
           0.1641766561018127,
           0.15683481981004593,
           0.14905833980761662,
           0.14085554985046822,
           0.13223575084208974,
           0.1232091415321997,
           0.11378674746346856,
           0.10398034916172856,
           0.09380241031394483,
           0.08326600667936078,
           0.0723847563268175
          ],
          [
           0.08721050779965353,
           0.09402141861246464,
           0.10066584260634326,
           0.10713506865202349,
           0.11342030954489023,
           0.11951270003229686,
           0.12540329402830075,
           0.13108306108526285,
           0.1365428821217427,
           0.14177354443102297,
           0.1467657360751456,
           0.15151003979467137,
           0.155996926688469,
           0.1602167499411775,
           0.1641597390646872,
           0.16781599527225552,
           0.17117548877635047,
           0.17422805917971484,
           0.17696342040778346,
           0.1793711722069361,
           0.18144082082507268,
           0.18316181203717788,
           0.1845235803759255,
           0.1855156183143802,
           0.18612756845594938,
           0.18634933961596234,
           0.18617124433571236,
           0.1855841511913312,
           0.18457964188345094,
           0.18315016137765058,
           0.18128915040631705,
           0.1789911527628083,
           0.17625189395088142,
           0.17306833142903222,
           0.1694386793582514,
           0.1653624118571923,
           0.16084024901123967,
           0.1558741294524824,
           0.15046717262892745,
           0.1446236332952661,
           0.13834885010772258,
           0.13164918988788166,
           0.12453198867994698,
           0.11700549060890392,
           0.10907878531452904,
           0.10076174466417928,
           0.09206495927972602,
           0.08299967542623779,
           0.0735777327331684,
           0.06381150304149105
          ],
          [
           0.04363636317624803,
           0.05046984972933105,
           0.05717215113962973,
           0.06373497638377934,
           0.07014986119145791,
           0.0764081597355583,
           0.08250103616738605,
           0.08841945614033023,
           0.09415417850387774,
           0.09969574742640357,
           0.10503448522452334,
           0.11016048627726463,
           0.11506361247347144,
           0.11973349079241516,
           0.12415951368133937,
           0.128330843212295,
           0.13223642007462288,
           0.13586497884822785,
           0.13920507132042131,
           0.14224509986526512,
           0.14497336330437877,
           0.14737811771385276,
           0.1494476544870805,
           0.15117039715998687,
           0.1525350171739784,
           0.15353056627349188,
           0.15414662082943317,
           0.1543734304826797,
           0.15420206189358848,
           0.15362452825807948,
           0.15263389693864368,
           0.151224370656826,
           0.1493913411728957,
           0.14713141729318163,
           0.1444424308779156,
           0.1413234250865396,
           0.13777462907935742,
           0.13379742262238922,
           0.12939429347988213,
           0.12456878960558236,
           0.11932546781741912,
           0.11366984003145274,
           0.10760831798294,
           0.10114815707575894,
           0.09429739989114681,
           0.08706481976759244,
           0.07945986482786214,
           0.07149260271913443,
           0.0631736663288025,
           0.05451420070093474
          ],
          [
           0.0019086659210555135,
           0.008723680742659168,
           0.015440359227527678,
           0.022050803345200737,
           0.02854685558321382,
           0.03492008557407106,
           0.041161777242285424,
           0.047262916742939254,
           0.05321418167525907,
           0.059005931960205316,
           0.06462820297393851,
           0.07007070150383468,
           0.07532280534817129,
           0.08037356725779177,
           0.08521172433160604,
           0.08982571384799908,
           0.09420369684722152,
           0.09833359076532075,
           0.1022031125929341,
           0.10579983395186066,
           0.1091112494128823,
           0.1121248589362935,
           0.11482826469613382,
           0.11720928160532658,
           0.11925605950300985,
           0.12095721347423674,
           0.12230195733860419,
           0.12328023419892789,
           0.12388283749878506,
           0.12410151660043568,
           0.12392906228641098,
           0.12335936959944821,
           0.12238747764977313,
           0.12100958787728225,
           0.11922306356577238,
           0.11702641398797997,
           0.11441926660658576,
           0.11140233045877265,
           0.10797735331698666,
           0.10414707467265484,
           0.09991517617208062,
           0.0952862305602331,
           0.09026565009571746,
           0.08485963490896428,
           0.0790751217995832,
           0.0729197337478214,
           0.06640173034021268,
           0.059529959265672144,
           0.05231380897966001,
           0.04476316264542329
          ],
          [
           -0.037245337822227664,
           -0.030510553853513284,
           -0.023844574956682518,
           -0.017254846360174436,
           -0.010749135001372812,
           -0.004335546374453991,
           0.001977459769555323,
           0.00818105530889257,
           0.014266031823034125,
           0.02022279146544667,
           0.02604134144500056,
           0.031711292819477266,
           0.03722186459946583,
           0.04256189403998073,
           0.04771985421799754,
           0.05268387986801604,
           0.057441802564240835,
           0.06198119620861109,
           0.06628943361285544,
           0.07035375474743569,
           0.07416134684358978,
           0.07769943591308141,
           0.08095538872742045,
           0.08391682335452848,
           0.08657172560662048,
           0.08890856790249457,
           0.09091642648444952,
           0.09258509258779672,
           0.09390517328502714,
           0.09486817833492017,
           0.0954665902896111,
           0.0956939163911343,
           0.0955447220523754,
           0.09501464683918463,
           0.09410040485574862,
           0.09279977185939754,
           0.09111156171820319,
           0.08903559466106908,
           0.08657265966698179,
           0.08372447281525848,
           0.08049363317584765,
           0.07688357739779032,
           0.07289853386307074,
           0.06854347698932184,
           0.06382408212396545,
           0.05874668125918872,
           0.05331821974251172,
           0.047546214063208136,
           0.04143871074795097,
           0.0350042463606306
          ],
          [
           -0.07298350897527994,
           -0.06640139878863499,
           -0.05986238899303975,
           -0.05337333807737071,
           -0.046941454399125504,
           -0.04057431481148474,
           -0.03427988189489517,
           -0.028066519159900882,
           -0.021943003723996407,
           -0.01591853554688788,
           -0.010002742601419368,
           -0.004205681009620099,
           0.001462170704856769,
           0.006989924191694058,
           0.012366301643328192,
           0.017579664761088576,
           0.022618053230471447,
           0.027469233234722085,
           0.032120756464888545,
           0.03656002971365305,
           0.04077439469823671,
           0.044751217365755436,
           0.04847798523872918,
           0.05194241089594298,
           0.05513253902411647,
           0.05803685390930702,
           0.060644384026924486,
           0.06294480017036455,
           0.06492850377230067,
           0.06658670275860087,
           0.06791147296062247,
           0.06889580418663593,
           0.0695336310988135,
           0.06981984977140818,
           0.06975032161121411,
           0.06932186642813232,
           0.06853224677211328,
           0.06738014538008474,
           0.06586513751656117,
           0.06398765960782468,
           0.06174897539310506,
           0.059151140509938055,
           0.05619696618354811,
           0.0528899825549099,
           0.04923440199600179,
           0.04523508263667231,
           0.04089749224983996,
           0.03622767264501911,
           0.031232204536303182,
           0.025918173016013235
          ],
          [
           -0.10430662299416582,
           -0.09794770396747776,
           -0.09161022447527123,
           -0.0853002919751717,
           -0.07902435408456165,
           -0.07278921761649504,
           -0.06660206638976501,
           -0.06047047731291022,
           -0.05440243415769824,
           -0.048406338347400824,
           -0.04249101604362146,
           -0.036665720787543654,
           -0.030940130847155606,
           -0.025324340446057747,
           -0.019828844096705128,
           -0.014464513198748918,
           -0.009242564218256755,
           -0.004174517911308462,
           0.0007278508369510939,
           0.005452572696125757,
           0.009987552908974628,
           0.014320649176500139,
           0.018439757427788195,
           0.02233290397765625,
           0.025988342128884206,
           0.029394650547184348,
           0.032540830346570127,
           0.03541639729851992,
           0.03801146576404335,
           0.04031682139161996,
           0.04232398058883083,
           0.04402523617738738,
           0.04541368989870018,
           0.04648327305247321,
           0.04722875729309048,
           0.047645757257629706,
           0.047730726701755904,
           0.04748094941701522,
           0.04689452595258556,
           0.04597035694638177,
           0.04470812371700414,
           0.04310826651869476,
           0.04117196097702003,
           0.03890109291931196,
           0.03629823193144713,
           0.033366603833933944,
           0.030110062279386368,
           0.026533059657381425,
           0.022640617428659332,
           0.01843829608718628
          ],
          [
           -0.13005892603410218,
           -0.12397859429899838,
           -0.1179020639508167,
           -0.11183455523781194,
           -0.1057815845086737,
           -0.09974898240184688,
           -0.0937429114212171,
           -0.08776988266662517,
           -0.08183677118654925,
           -0.07595082955861793,
           -0.0701196991486423,
           -0.06435141840052067,
           -0.0586544276254935,
           -0.05303756949794661,
           -0.04751008460442391,
           -0.04208160125048707,
           -0.036762118788120746,
           -0.03156198374459748,
           -0.026491858064883467,
           -0.021562678884118364,
           -0.016785609468137258,
           -0.012171981057624404,
           -0.007733225820823836,
           -0.0034808014385021013,
           0.0005738915210134476,
           0.004419597540031572,
           0.008045296729092266,
           0.011440294524240585,
           0.014594306569288146,
           0.017497535252953667,
           0.020140735380312663,
           0.022515268218343376,
           0.024613144613165716,
           0.02642705875233753,
           0.027950414294569764,
           0.029177344215092244,
           0.030102725377915557,
           0.030722188337764966,
           0.03103212274581621,
           0.031029678537545624,
           0.03071276312426935,
           0.03008003469894513,
           0.029130891932386965,
           0.02786546028182252,
           0.02628457520743993,
           0.02438976257890818,
           0.022183216619744817,
           0.01966777573968101,
           0.016846896493320163,
           0.013724626079279156
          ],
          [
           -0.1489748294626615,
           -0.14320149609945138,
           -0.13741807455378469,
           -0.1316288398508656,
           -0.1258382946322958,
           -0.1200511851329224,
           -0.11427251752569606,
           -0.10850757448041887,
           -0.1027619317584964,
           -0.09704147467619673,
           -0.09135241413173317,
           -0.08570130198626597,
           -0.0800950453233698,
           -0.07454091921312206,
           -0.06904657736561154,
           -0.06362006002679088,
           -0.058269798289289465,
           -0.05300461385490057,
           -0.04783371318014634,
           -0.04276667476783219,
           -0.03781342837717866,
           -0.03298422495784942,
           -0.02828959625607269,
           -0.023740303517217398,
           -0.019347275274577913,
           -0.015121535036238143,
           -0.011074120717892738,
           -0.007215998563485454,
           -0.003557974954699006,
           -0.00011060967256243392,
           0.003115866554748159,
           0.006111628185605289,
           0.00886732383623226,
           0.011374137859641309,
           0.013623844778116484,
           0.015608856637265273,
           0.017322263485994055,
           0.01875786685632172,
           0.019910206358301707,
           0.02077457933569049,
           0.02134705377049434,
           0.021624474715319725,
           0.021604464534159318,
           0.02128541750035645,
           0.020666489222504275,
           0.019747581448160828,
           0.01852932286242953,
           0.017013046436978846,
           0.015200763886211666,
           0.01309513778089258
          ],
          [
           -0.15976897126013706,
           -0.15429556767206254,
           -0.1488013658166854,
           -0.14328974073934708,
           -0.1377642169618235,
           -0.13222848126391734,
           -0.1266863966181062,
           -0.12114201740994862,
           -0.11559960601291325,
           -0.11006365083496344,
           -0.10453888595181204,
           -0.09903031234328302,
           -0.09354322077056282,
           -0.08808321626410048,
           -0.08265624396400972,
           -0.07726861601312712,
           -0.07192703886817381,
           -0.06663864009020937,
           -0.06141099335907413,
           -0.05625213987105776,
           -0.05117060395798326,
           -0.046175400344662526,
           -0.04127603018190104,
           -0.036482463175095015,
           -0.031805103508713795,
           -0.0272547383251667,
           -0.022842468678362038,
           -0.018579624461036753,
           -0.014477666239407216,
           -0.010548077914036447,
           -0.006802254677685499,
           -0.0032513907029206868,
           0.00009362955535502371,
           0.003222333241214459,
           0.00612475186898867,
           0.008791503392229005,
           0.011213862686754006,
           0.013383820065966917,
           0.01529412792542792,
           0.016938335911230562,
           0.01831081523642053,
           0.01940677299923635,
           0.020222257416865147,
           0.020754154980052786,
           0.021000180537607382,
           0.020958861300482107,
           0.02062951575576255,
           0.020012228346261013,
           0.019107820786788188,
           0.01791782072238443
          ],
          [
           -0.1612596050474045,
           -0.15604056739914496,
           -0.15079235845799893,
           -0.14551759513543278,
           -0.14021897312169945,
           -0.13489927643802035,
           -0.1295613887151142,
           -0.12420830650431947,
           -0.11884315491645936,
           -0.11346920588359716,
           -0.10808989944413866,
           -0.10270886840107579,
           -0.09732996673860167,
           -0.09195730220068349,
           -0.08659527334239625,
           -0.08124861130746791,
           -0.07592242634470281,
           -0.07062225882206863,
           -0.06535413385912331,
           -0.06012461806888231,
           -0.05494087578047341,
           -0.049810720819057686,
           -0.04474265858834256,
           -0.03974591194869512,
           -0.03483042403620515,
           -0.03000683184856609,
           -0.025286406814143625,
           -0.020680962084162646,
           -0.016202730323745224,
           -0.011864219163339434,
           -0.007678053339736923,
           -0.0036568128940030753,
           0.00018712433628775837,
           0.0038417295371538096,
           0.007295454605207474,
           0.010537346200909598,
           0.013557141065895867,
           0.01634534267026444,
           0.018893280033287968,
           0.021193149954639084,
           0.02323804433465948,
           0.02502196429920328,
           0.02653982279847733,
           0.02778743755394078,
           0.02876151579627323,
           0.02945963240207261,
           0.02988020270621769,
           0.03002245120393024,
           0.029886377191494062,
           0.02947271817884764
          ],
          [
           -0.15250660156405765,
           -0.14746200818324334,
           -0.14238125862007456,
           -0.13726641698720632,
           -0.1321195772310182,
           -0.12694287091418816,
           -0.12173847721664588,
           -0.1165086355569962,
           -0.11125566116791441,
           -0.10598196409249916,
           -0.10069007200104202,
           -0.09538265735717688,
           -0.09006256937926027,
           -0.08473287143025704,
           -0.07939688438914266,
           -0.07405823662969524,
           -0.06872092126898166,
           -0.06338936113267196,
           -0.05806848179309537,
           -0.052763792343478166,
           -0.04748147261093588,
           -0.04222846359417898,
           -0.03701255502217271,
           -0.03184245986480283,
           -0.026727861659034735,
           -0.02167941845740881,
           -0.016708710362547258,
           -0.01182812659002666,
           -0.00705069979992462,
           -0.0023899044099092437,
           0.002140561377471567,
           0.006526992543513299,
           0.01075588065010366,
           0.014814095907680458,
           0.018689043957008655,
           0.022368796011492914,
           0.025842192837684463,
           0.02909892399087813,
           0.03212958458949733,
           0.034925712066512155,
           0.03747980558460623,
           0.03978533079839275,
           0.04183671241451917,
           0.04362931697403033,
           0.04515942782767976,
           0.04642421425780252,
           0.04742169622675907,
           0.04815070612636671,
           0.04861084860218037,
           0.048802459341481336
          ],
          [
           -0.1329372827948233,
           -0.12796449795649034,
           -0.12294923048347733,
           -0.11789322297033061,
           -0.11279822759352154,
           -0.1076660144339397,
           -0.10249838265182099,
           -0.09729717492794288,
           -0.0920642955854904,
           -0.08680173291130777,
           -0.08151158599601793,
           -0.07619609662140298,
           -0.07085768647581908,
           -0.06549900018363147,
           -0.060122954531620254,
           -0.05473279430235012,
           -0.04933215525577292,
           -0.043925134677523264,
           -0.038516370040727166,
           -0.03311112598802715,
           -0.027715389302458315,
           -0.022335970096784896,
           -0.016980604576556618,
           -0.011658049209716137,
           -0.006378148661325078,
           -0.0011518527510609167,
           0.004008841029794014,
           0.009091028077728158,
           0.014081106607850419,
           0.018965028253701166,
           0.02372855933679538,
           0.028357530622258847,
           0.032838062161914844,
           0.037156756627962806,
           0.04130085878175574,
           0.04525838143088712,
           0.04901819983019201,
           0.052570117463343585,
           0.05590490677869947,
           0.05901432863406875,
           0.061891134174901274,
           0.06452905270489603,
           0.06692276873005307,
           0.0690678910170767,
           0.07096091597024856,
           0.07259918734200359,
           0.073980853755653,
           0.075104825320605,
           0.0759707301409965,
           0.0765788714977292
          ],
          [
           -0.10242987061653858,
           -0.0974208249903959,
           -0.09236347255435945,
           -0.087259475201315,
           -0.0821105129855762,
           -0.07691829497320612,
           -0.07168457359512398,
           -0.06641116314950407,
           -0.061099962911559724,
           -0.05575298543417623,
           -0.05037239040655048,
           -0.04496052440753823,
           -0.03951996671224167,
           -0.03405358118741417,
           -0.028564574197056603,
           -0.02305655832829462,
           -0.017533621597063065,
           -0.012000401705320213,
           -0.006462164609430693,
           -0.0009248862170616046,
           0.0046046648856782335,
           0.010118847455790114,
           0.015609076877521666,
           0.021065773932112675,
           0.026478347441265065,
           0.031835226794342364,
           0.03712395680105868,
           0.0423313570979251,
           0.04744373514129646,
           0.052447131861103696,
           0.05732757624822374,
           0.062071328148875476,
           0.06666509465215456,
           0.07109621137415524,
           0.07535278509868085,
           0.07942379799746961,
           0.08329917622210203,
           0.08696982743149909,
           0.09042765247645711,
           0.0936655367595215,
           0.0966773263524672,
           0.09945779344774723,
           0.10200259486527977,
           0.10430822664859407,
           0.10637197699995007,
           0.1081918791582498,
           0.10976666537955618,
           0.11109572267142333,
           0.11217905073414926,
           0.1130172222589441
          ],
          [
           -0.06133020706840231,
           -0.056190086888510404,
           -0.05099688296847468,
           -0.04575242712665453,
           -0.040458603300808,
           -0.035117361717477535,
           -0.029730737115749056,
           -0.0243008717855967,
           -0.018830044162525567,
           -0.013320703618901919,
           -0.007775511921019662,
           -0.002197391474003829,
           0.0034104197412933024,
           0.009044307115967348,
           0.01470021320866638,
           0.020373567618742622,
           0.02605921476099199,
           0.03175134166800184,
           0.03744340856744563,
           0.043128085767207974,
           0.04879720134828089,
           0.054441705171922095,
           0.06005165603103543,
           0.06561623933799535,
           0.07112382260338317,
           0.07656205404975072,
           0.08191800605288801,
           0.0871783596162201,
           0.09232962034009679,
           0.09735835144022577,
           0.10225140669751309,
           0.10699614658417696,
           0.11158062346192626,
           0.11599372660157335,
           0.12022528301097772,
           0.12426611531395956,
           0.12810806174722425,
           0.13174396558782708,
           0.1351676421752821,
           0.13837383117726182,
           0.14135814044428752,
           0.14411698655417843,
           0.1466475354962478,
           0.14894764583437334,
           0.1510158156675734,
           0.1528511340701743,
           0.15445323706692685,
           0.15582226809796035,
           0.15695884249527456,
           0.15786401566494862
          ],
          [
           -0.010394252142228055,
           -0.005056362212968846,
           0.0003373456028913091,
           0.005784624264127958,
           0.011283122696782555,
           0.016830368758680547,
           0.022423748185153747,
           0.028060478637780217,
           0.033737577961447496,
           0.03945182586092211,
           0.04519971853897675,
           0.05097741627316266,
           0.05678068448665852,
           0.0626048297096699,
           0.06844463222404187,
           0.07429427799063536,
           0.08014729279657662,
           0.08599648216913672,
           0.0918338809526519,
           0.09765071699335273,
           0.10343739384544974,
           0.10918349758828617,
           0.11487783296191541,
           0.12050849341567954,
           0.12606296836252634,
           0.1315282888623496,
           0.13689120972566624,
           0.14213842226203488,
           0.14725678742912826,
           0.1522335751255541,
           0.15705669223972857,
           0.16171488142927906,
           0.16619787493703847,
           0.1704964937616624,
           0.17460269038665013,
           0.17850954106266292,
           0.1822111989672066,
           0.18570282144165792,
           0.1889804835621086,
           0.19204108770450562,
           0.19488227577665557,
           0.1975023480963266,
           0.19990019101805834,
           0.20207521379921742,
           0.20402729454406315,
           0.20575673443828724,
           0.2072642192992132,
           0.20855078743112251,
           0.2096178027045879,
           0.2104669319580048
          ],
          [
           0.04932855202223671,
           0.054895697784841435,
           0.0605183964844028,
           0.06619378664722936,
           0.07191884536528534,
           0.07769036963782089,
           0.08350495432207257,
           0.08935896579791225,
           0.09524851063995333,
           0.10116939849840736,
           0.10711709883370162,
           0.11308669173988092,
           0.11907281382342477,
           0.12506960087243546,
           0.13107062987284318,
           0.13706886339988444,
           0.1430565998544806,
           0.14902543327527995,
           0.15496622665635806,
           0.16086910288415027,
           0.16672345735197344,
           0.17251799631234507,
           0.17824080452979602,
           0.18387944511208443,
           0.1894210930840676,
           0.1948527023907255,
           0.20016120348615196,
           0.2053337253064187,
           0.21035783162543062,
           0.2152217574873431,
           0.21991462784115004,
           0.22442663872732432,
           0.22874918369014996,
           0.23287491518973194,
           0.23679774122344702,
           0.24051276745386108,
           0.24401620127648688,
           0.2473052352231902,
           0.2503779242224165,
           0.25323306706520715,
           0.2558700981019966,
           0.25828899219474755,
           0.2604901836108489,
           0.2624744983934997,
           0.2642430989567596,
           0.2657974393840596,
           0.2671392298016621,
           0.2682704083112717,
           0.26919311910538657,
           0.26990969547593235
          ]
         ],
         "zauto": true,
         "zmax": 0.4672188869436313,
         "zmin": -0.4672188869436313
        },
        {
         "autocolorscale": false,
         "autocontour": true,
         "colorbar": {
          "tickfont": {
           "size": 8
          },
          "ticksuffix": "",
          "x": 1,
          "y": 0.5
         },
         "colorscale": [
          [
           0,
           "rgb(255,247,251)"
          ],
          [
           0.14285714285714285,
           "rgb(236,231,242)"
          ],
          [
           0.2857142857142857,
           "rgb(208,209,230)"
          ],
          [
           0.42857142857142855,
           "rgb(166,189,219)"
          ],
          [
           0.5714285714285714,
           "rgb(116,169,207)"
          ],
          [
           0.7142857142857143,
           "rgb(54,144,192)"
          ],
          [
           0.8571428571428571,
           "rgb(5,112,176)"
          ],
          [
           1,
           "rgb(3,78,123)"
          ]
         ],
         "contours": {
          "coloring": "heatmap"
         },
         "hoverinfo": "x+y+z",
         "ncontours": 25,
         "type": "contour",
         "x": [
          12,
          12.795918367346939,
          13.591836734693878,
          14.387755102040817,
          15.183673469387756,
          15.979591836734695,
          16.775510204081634,
          17.57142857142857,
          18.367346938775512,
          19.163265306122447,
          19.95918367346939,
          20.755102040816325,
          21.551020408163264,
          22.346938775510203,
          23.142857142857142,
          23.93877551020408,
          24.73469387755102,
          25.53061224489796,
          26.3265306122449,
          27.122448979591837,
          27.918367346938776,
          28.714285714285715,
          29.510204081632654,
          30.306122448979593,
          31.10204081632653,
          31.897959183673468,
          32.69387755102041,
          33.48979591836735,
          34.285714285714285,
          35.08163265306122,
          35.87755102040816,
          36.673469387755105,
          37.46938775510204,
          38.265306122448976,
          39.06122448979592,
          39.85714285714286,
          40.6530612244898,
          41.44897959183673,
          42.244897959183675,
          43.04081632653062,
          43.83673469387755,
          44.63265306122449,
          45.42857142857143,
          46.224489795918366,
          47.02040816326531,
          47.816326530612244,
          48.61224489795919,
          49.40816326530612,
          50.20408163265306,
          51
         ],
         "xaxis": "x2",
         "y": [
          0.1,
          0.3020408163265306,
          0.5040816326530613,
          0.7061224489795919,
          0.9081632653061225,
          1.1102040816326533,
          1.3122448979591839,
          1.5142857142857145,
          1.716326530612245,
          1.9183673469387756,
          2.1204081632653065,
          2.322448979591837,
          2.5244897959183676,
          2.7265306122448982,
          2.928571428571429,
          3.1306122448979594,
          3.33265306122449,
          3.5346938775510206,
          3.736734693877551,
          3.938775510204082,
          4.140816326530612,
          4.3428571428571425,
          4.544897959183674,
          4.746938775510204,
          4.948979591836735,
          5.151020408163265,
          5.353061224489796,
          5.555102040816326,
          5.757142857142857,
          5.959183673469387,
          6.161224489795918,
          6.3632653061224485,
          6.5653061224489795,
          6.7673469387755105,
          6.969387755102041,
          7.171428571428572,
          7.373469387755102,
          7.575510204081633,
          7.777551020408163,
          7.979591836734694,
          8.181632653061225,
          8.383673469387755,
          8.585714285714285,
          8.787755102040816,
          8.989795918367347,
          9.191836734693878,
          9.393877551020408,
          9.595918367346938,
          9.79795918367347,
          10
         ],
         "yaxis": "y2",
         "z": [
          [
           0.17084846594142672,
           0.16310339268311547,
           0.15611378488370514,
           0.1498658024283765,
           0.14433634113225918,
           0.13949248335620754,
           0.13529152835788721,
           0.1316816852828938,
           0.12860342135075248,
           0.12599136045541998,
           0.12377654842631151,
           0.12188886047980807,
           0.12025933121838357,
           0.11882223098255475,
           0.11751677786576757,
           0.11628844366092421,
           0.11508986987872534,
           0.11388144971201523,
           0.11263165257870233,
           0.11131717343311079,
           0.10992298422857708,
           0.10844235439506163,
           0.10687689386808757,
           0.10523665750857258,
           0.10354033314942566,
           0.10181551533775145,
           0.10009904016020249,
           0.09843732023127136,
           0.09688657085806766,
           0.09551276013517236,
           0.09439105660119175,
           0.09360450975372861,
           0.09324171681306419,
           0.09339334589344668,
           0.0941476256805969,
           0.09558524534328637,
           0.09777442647036576,
           0.10076706948476098,
           0.10459671787838316,
           0.10927864617724183,
           0.11481184129752174,
           0.12118224265949286,
           0.1283664700960715,
           0.13633538250622812,
           0.14505705522622073,
           0.15449901461032015,
           0.16462975061782167,
           0.17541962616109708,
           0.18684133298153555,
           0.19887003490223182
          ],
          [
           0.15876023009230925,
           0.15117214868750395,
           0.14434608440298075,
           0.13826867378873212,
           0.13291648466905448,
           0.12825529435206098,
           0.12424004176200838,
           0.12081556340018806,
           0.11791810665410092,
           0.11547748738213223,
           0.11341965770419847,
           0.11166940195449462,
           0.1101528922668497,
           0.10879989816887714,
           0.10754553225667907,
           0.10633150103559619,
           0.10510689841845723,
           0.10382862228669609,
           0.10246151362849214,
           0.10097831953763242,
           0.09935957338314587,
           0.09759347376363357,
           0.09567583277660116,
           0.09361015545912522,
           0.09140790622163605,
           0.08908901278924161,
           0.08668264952604578,
           0.08422832273956615,
           0.08177723904429861,
           0.07939385707510285,
           0.07715738239187145,
           0.07516275070292613,
           0.0735203726480536,
           0.0723536788325858,
           0.07179352296817298,
           0.07196907517907086,
           0.07299612030056592,
           0.07496528315688376,
           0.07793360187231736,
           0.08192207982137349,
           0.08691954882639678,
           0.09289083039441395,
           0.09978620465456063,
           0.10754975979083284,
           0.11612545276470375,
           0.12546079683093478,
           0.13550866104265236,
           0.14622780237541425,
           0.157582660206606,
           0.16954278667852754
          ],
          [
           0.15144345156705336,
           0.1439284575702439,
           0.13716576361895194,
           0.13114290946540513,
           0.1258373858698441,
           0.12121579884774503,
           0.11723371478884015,
           0.11383631765741398,
           0.11095988666374093,
           0.1085339642253526,
           0.10648396988626145,
           0.10473395876766015,
           0.10320923435624964,
           0.10183859239256218,
           0.10055606773849145,
           0.09930215057520038,
           0.09802451201398428,
           0.09667832466990094,
           0.0952262830779592,
           0.09363842973081041,
           0.09189188322977683,
           0.08997055297916377,
           0.08786491472671121,
           0.08557191624291889,
           0.08309508402353481,
           0.08044491061169969,
           0.07763961725231568,
           0.07470640544898699,
           0.07168332636612426,
           0.06862189217576575,
           0.06559049135298181,
           0.06267847779022094,
           0.06000036096037397,
           0.057698693337484785,
           0.05594304678275228,
           0.05492147708838901,
           0.05482168975403502,
           0.05580361602927023,
           0.057972302094481225,
           0.06136363497829512,
           0.06594952220381224,
           0.07165772248043858,
           0.0783952221378241,
           0.08606655921486912,
           0.0945844599025599,
           0.10387416560610369,
           0.11387392399861114,
           0.12453365500504751,
           0.13581301169334165,
           0.14767944358339588
          ],
          [
           0.1470833667414272,
           0.13951941408508597,
           0.13268522033832153,
           0.12657026589486664,
           0.12115474723957484,
           0.11640863387813331,
           0.11229132237390764,
           0.10875204126563402,
           0.10573105413680128,
           0.10316157524715805,
           0.10097219049928412,
           0.09908950168366583,
           0.09744070260702005,
           0.09595584634049274,
           0.09456964999240533,
           0.09322277795458503,
           0.09186262363816966,
           0.09044366217169295,
           0.08892747218927712,
           0.0872825299464319,
           0.08548387209772947,
           0.08351271206188975,
           0.08135608481173316,
           0.07900658982178153,
           0.07646230441156728,
           0.07372695171485462,
           0.07081043086766736,
           0.06772985392189958,
           0.06451128630960669,
           0.06119245360247717,
           0.057826741190774356,
           0.054488818728636604,
           0.05128201162050214,
           0.048346764103174844,
           0.04586759210366324,
           0.04407239479351688,
           0.04321449684704345,
           0.04353073000840842,
           0.045185602170714816,
           0.048232495160949934,
           0.05261810078411481,
           0.05822244760458059,
           0.06490441010502934,
           0.07253187770215563,
           0.08099440817928015,
           0.09020487004187931,
           0.10009634468208232,
           0.1106178661935704,
           0.12173050154750675,
           0.1334042019008124
          ],
          [
           0.14446570434487252,
           0.1367397194852678,
           0.1297131800803562,
           0.12337840216857038,
           0.11771967170761742,
           0.11271220564863998,
           0.10832156580780775,
           0.10450369708646906,
           0.10120568774918884,
           0.098367238381243,
           0.09592270567404025,
           0.09380349223580256,
           0.09194051110404855,
           0.09026647123963148,
           0.08871779489313218,
           0.08723606428235062,
           0.08576897823196124,
           0.08427086267631252,
           0.08270281673516633,
           0.08103259124234616,
           0.0792342964750704,
           0.0772880280818897,
           0.07517949141668594,
           0.07289969935934847,
           0.07044482056702218,
           0.06781626642713869,
           0.06502112839666284,
           0.06207311602372872,
           0.058994203689087275,
           0.055817272995282,
           0.05259012839569661,
           0.04938131726695953,
           0.04628804582780709,
           0.04344575170154309,
           0.04103680073828476,
           0.03929154787032615,
           0.038470143528456575,
           0.03881602381584426,
           0.04049269105508361,
           0.043542059294565734,
           0.04789475244015948,
           0.05341864125126155,
           0.05996813215433456,
           0.06741307622362908,
           0.0756484915624067,
           0.08459384017469627,
           0.09418860644677776,
           0.10438748320696745,
           0.11515631906504868,
           0.12646902406377383
          ],
          [
           0.14295314869757095,
           0.1349913964890415,
           0.1276952126553418,
           0.12105992505447696,
           0.11507430354080249,
           0.10971948802482018,
           0.10496820498111098,
           0.10078444324647305,
           0.09712372484318503,
           0.09393403039117025,
           0.09115733519087563,
           0.0887316082961264,
           0.08659305308421077,
           0.08467834422607681,
           0.08292664461896034,
           0.08128125163558321,
           0.07969080155960134,
           0.07811003329995905,
           0.07650016497247272,
           0.07482896704007909,
           0.0730706272979908,
           0.07120550301402516,
           0.06921985102066132,
           0.06710562302243155,
           0.06486041510628475,
           0.062487669843738505,
           0.05999724833681314,
           0.05740651827685712,
           0.0547421399671172,
           0.052042763593861924,
           0.049362843017754766,
           0.04677763606553642,
           0.044389012932136505,
           0.04233062828473806,
           0.0407690912964494,
           0.03989559472792414,
           0.03990282226809123,
           0.04094913891404115,
           0.04312479603114641,
           0.04643976457907457,
           0.05083911365270031,
           0.05623283336326991,
           0.06252286887067153,
           0.0696193570692104,
           0.07744702194954392,
           0.08594572225942579,
           0.0950684797988348,
           0.10477886453505462,
           0.11504855396009153,
           0.12585532428107876
          ],
          [
           0.14226808210624686,
           0.13404283559750146,
           0.12644870283967033,
           0.11948346203977726,
           0.11313978934767856,
           0.10740425144872379,
           0.10225644124697915,
           0.0976684032549258,
           0.09360449289689773,
           0.09002177691677943,
           0.08687101086725468,
           0.08409813815592448,
           0.08164616752596984,
           0.07945722768140913,
           0.07747458459367751,
           0.07564443828554983,
           0.07391737717651418,
           0.07224943902768909,
           0.07060279081186334,
           0.0689460857455204,
           0.06725458264991005,
           0.06551012446166543,
           0.06370107494548831,
           0.06182231104365984,
           0.0598753667033301,
           0.057868823894194135,
           0.05581904616824413,
           0.05375134312191178,
           0.05170162597908034,
           0.04971853756876631,
           0.04786586812643549,
           0.046224741867812884,
           0.04489454614411039,
           0.04399098857175376,
           0.04363945604420153,
           0.04396282475052025,
           0.045065555328388296,
           0.0470191756172555,
           0.04985513126919795,
           0.053567635882211306,
           0.058123961479756805,
           0.06347688341081435,
           0.06957501832602873,
           0.07636942902816075,
           0.08381685617660047,
           0.09188067376322977,
           0.10053060105937521,
           0.10974187664961027,
           0.11949429347223921,
           0.12977128656223805
          ],
          [
           0.14227867353856,
           0.1338000865561258,
           0.1259199545312679,
           0.11863756004198191,
           0.1119483332906205,
           0.10584298919967063,
           0.10030670742067122,
           0.09531846417236423,
           0.09085064092890496,
           0.08686902871837965,
           0.08333331130021675,
           0.08019804742879007,
           0.07741409444915853,
           0.07493034338615652,
           0.07269559019881298,
           0.07066036078971025,
           0.06877853729463455,
           0.06700868750738984,
           0.06531506129755071,
           0.06366827314976374,
           0.06204573041444475,
           0.06043189070942648,
           0.05881844117883245,
           0.05720449048154146,
           0.055596853330569566,
           0.05401048672270807,
           0.052469102067649445,
           0.051005920211929866,
           0.04966444555317695,
           0.04849900342435753,
           0.04757462096351685,
           0.04696568823841759,
           0.04675283235800504,
           0.04701773964958715,
           0.04783636160646478,
           0.049271848856120425,
           0.05136912780242189,
           0.05415270943805677,
           0.057628122146313486,
           0.06178602312420196,
           0.06660737042492137,
           0.07206822322314527,
           0.07814338638248229,
           0.08480874150679608,
           0.09204247535672862,
           0.09982553590921961,
           0.10814161998430251,
           0.11697691716263259,
           0.12631975473542176,
           0.13616022691456442
          ],
          [
           0.14287463061106312,
           0.1341778220041899,
           0.126050757996463,
           0.11849331784187975,
           0.11150245463419516,
           0.1050715020815219,
           0.09918947321812113,
           0.09384042478518399,
           0.08900298225832047,
           0.08465013029595911,
           0.0807493635225137,
           0.07726325854518179,
           0.07415047290300006,
           0.07136711191816345,
           0.06886834743021636,
           0.06661013897521081,
           0.06455090628455717,
           0.06265302975545516,
           0.06088410199778264,
           0.05921790509551489,
           0.057635132961952246,
           0.056123908934445514,
           0.05468016250491072,
           0.05330792529183727,
           0.052019584378288575,
           0.05083608998510308,
           0.04978705383047175,
           0.04891059940886676,
           0.048252751167884744,
           0.04786610820859893,
           0.04780758783773163,
           0.04813519340795566,
           0.048904065883219286,
           0.05016243265698497,
           0.05194828855587768,
           0.05428755483175911,
           0.05719404491080332,
           0.06067101839699005,
           0.06471370607008424,
           0.06931209286725425,
           0.07445340801285054,
           0.0801240364136545,
           0.08631079708779285,
           0.09300167430928212,
           0.10018614080387007,
           0.10785521083756719,
           0.1160013345753914,
           0.1246182132099124,
           0.1337005863931494,
           0.14324402242431164
          ],
          [
           0.14392531987997045,
           0.13505726454994027,
           0.126735843102517,
           0.11896093561368552,
           0.11173007799755544,
           0.10503791258712775,
           0.09887561539550094,
           0.09323035028183851,
           0.08808481955931874,
           0.08341699471177859,
           0.07920011309541305,
           0.07540301121343855,
           0.0719908307089899,
           0.06892608468299584,
           0.06617002007101397,
           0.0636841702845828,
           0.06143197164849301,
           0.059380321470264265,
           0.05750098078347212,
           0.05577176148704119,
           0.0541774742442557,
           0.05271064077876941,
           0.051371985850476996,
           0.05017071746556331,
           0.04912457760473009,
           0.04825960090105471,
           0.04760946378064043,
           0.04721426686716218,
           0.04711861082710974,
           0.0473689388515201,
           0.04801032992950443,
           0.04908317591131581,
           0.05062034330521508,
           0.05264538899239858,
           0.05517213970242682,
           0.05820556595461203,
           0.061743561462704544,
           0.0657791068891971,
           0.07030235827200702,
           0.07530236994483377,
           0.08076834058354761,
           0.08669040014687239,
           0.09306002229465381,
           0.09987016546252628,
           0.10711523675973636,
           0.11479095283080444,
           0.12289415057452258,
           0.13142258253405265,
           0.1403747181264969,
           0.1497495623358797
          ],
          [
           0.1452869422863994,
           0.13629411442732534,
           0.12783083474444223,
           0.11989674782959048,
           0.1124894544737961,
           0.10560405679496997,
           0.09923268272346362,
           0.09336402818808533,
           0.08798297091990225,
           0.083070322685195,
           0.07860279199721089,
           0.07455322241536173,
           0.07089114987499032,
           0.06758368781344093,
           0.0645967075597522,
           0.06189624295245882,
           0.059450021748440135,
           0.057229017764308526,
           0.055208926523642614,
           0.053371487678127626,
           0.051705600285042064,
           0.050208192343617064,
           0.048884806654286954,
           0.04774984729624293,
           0.04682639755230389,
           0.04614548140722472,
           0.04574462245879996,
           0.04566559695094516,
           0.04595142156105213,
           0.046642858298013165,
           0.04777497678961563,
           0.04937444402476173,
           0.05145809590364685,
           0.05403299737726263,
           0.05709777966994653,
           0.06064475317731084,
           0.06466223294050338,
           0.06913663995076103,
           0.07405414315546549,
           0.07940178584113164,
           0.08516815235877417,
           0.09134367883082752,
           0.09792071597610137,
           0.10489343543313515,
           0.1122576481316577,
           0.12001058194162172,
           0.12815064896513506,
           0.13667722070998325,
           0.14559042108988463,
           0.1548909419182094
          ],
          [
           0.1468451119765343,
           0.1377652612195247,
           0.1292027963956137,
           0.12115711881532487,
           0.11362570703248039,
           0.10660370839622892,
           0.10008351623618306,
           0.09405436640684818,
           0.0885019997495435,
           0.08340844773200136,
           0.07875200352689224,
           0.07450743658312214,
           0.0706464932467984,
           0.0671386997595767,
           0.06395245109009562,
           0.06105633625876845,
           0.05842062544467583,
           0.05601883149371288,
           0.05382925915346991,
           0.05183646511953728,
           0.05003256197755161,
           0.04841829897657545,
           0.04700383308800626,
           0.04580906124334431,
           0.04486332740610934,
           0.04420427407621516,
           0.0438756292610419,
           0.04392386991657097,
           0.04439401013619319,
           0.045325154517048834,
           0.046746738271348585,
           0.04867632392813851,
           0.05111938369018837,
           0.05407087299156559,
           0.05751792441247588,
           0.061442861859623284,
           0.06582591093091697,
           0.07064728135864615,
           0.07588855912172107,
           0.08153350149239187,
           0.08756838578729564,
           0.0939820593456755,
           0.10076580886400063,
           0.1079131331086268,
           0.11541947395527516,
           0.12328193916213959,
           0.13149903576707014,
           0.14007042373525921,
           0.1489966939267472,
           0.15827917125864233
          ],
          [
           0.14857874264178408,
           0.13944268346615893,
           0.13081496134250753,
           0.12269476593006338,
           0.11507939579978596,
           0.10796386101438604,
           0.10134047355958241,
           0.09519845812595532,
           0.08952362760840424,
           0.08429817749887339,
           0.07950065811216724,
           0.07510618019037978,
           0.07108689628051064,
           0.06741277771740384,
           0.0640526786357037,
           0.060975649853226906,
           0.05815244307124746,
           0.055557134276614926,
           0.053168794879442136,
           0.05097314542515586,
           0.04896412977200313,
           0.047145334268714215,
           0.0455311328794153,
           0.04414735686785137,
           0.0430311751227035,
           0.042229772367391775,
           0.041797423433424755,
           0.04179081260892807,
           0.04226300787004611,
           0.043257222556171954,
           0.044801957901261076,
           0.046908874549525297,
           0.04957378203268546,
           0.05278002094737716,
           0.05650290112491106,
           0.06071395277928588,
           0.06538425991136507,
           0.07048667734633669,
           0.0759970682621889,
           0.0818948250699713,
           0.08816293114623111,
           0.09478776236271756,
           0.10175876231891401,
           0.10906807281590339,
           0.11671016485208394,
           0.12468149268006246,
           0.13298018023053504,
           0.14160574204435272,
           0.15055883730069608,
           0.15984105405490154
          ],
          [
           0.1505937712968787,
           0.14143696015735904,
           0.13278129811380932,
           0.12462568304770047,
           0.11696711334377062,
           0.10980028355525466,
           0.10311716602002786,
           0.0969066111892056,
           0.09115401161670794,
           0.08584108469596889,
           0.08094583404298164,
           0.07644274605222624,
           0.07230326485622955,
           0.06849656683571836,
           0.06499062864289323,
           0.061753556528965546,
           0.058755125744110265,
           0.055968471361751086,
           0.05337187611397895,
           0.05095061169162974,
           0.048698796462392724,
           0.04662121805176865,
           0.0447350121332331,
           0.04307096664440011,
           0.04167402437613079,
           0.04060232473483577,
           0.039923996413157414,
           0.03971114989646428,
           0.040031380602064646,
           0.040938467060476096,
           0.04246503374355097,
           0.044619668097587106,
           0.047389153831987454,
           0.05074433244705928,
           0.05464710517952306,
           0.059056538473562105,
           0.06393314504022075,
           0.0692413381002896,
           0.07495049863530216,
           0.08103516251689855,
           0.08747472978094802,
           0.09425296074043464,
           0.10135741166919643,
           0.10877888795289398,
           0.11651094840233316,
           0.12454947053687875,
           0.13289227519540187,
           0.1415388040369128,
           0.15048984222974587,
           0.1597472790068788
          ],
          [
           0.1530653952635289,
           0.14393901866751446,
           0.1353082375521658,
           0.12717136536749166,
           0.11952477506042927,
           0.1123624917529215,
           0.10567577159668323,
           0.09945270024451353,
           0.09367785698650519,
           0.08833210091786836,
           0.08339253989948843,
           0.07883273831794474,
           0.07462320452734479,
           0.07073217530386244,
           0.067126687613968,
           0.06377390404739293,
           0.06064264334428711,
           0.05770506518572055,
           0.05493846853877925,
           0.052327180376258366,
           0.049864526243570365,
           0.04755486929342587,
           0.04541565532363405,
           0.04347927498798118,
           0.04179431766291972,
           0.04042544661385414,
           0.039450789661091654,
           0.03895574679521639,
           0.03902296911825219,
           0.03972016196556647,
           0.04108942786655653,
           0.0431422119852831,
           0.04586154714469101,
           0.049209803212922724,
           0.053138238783820756,
           0.05759522419272312,
           0.06253177349545722,
           0.06790448102594739,
           0.07367659181025717,
           0.07981797102946216,
           0.0863045360132349,
           0.09311749365661223,
           0.1002425636912671,
           0.10766926842239898,
           0.11539031557674569,
           0.12340107469280157,
           0.13169913670811179,
           0.1402839433385956,
           0.14915647329167425,
           0.15831897418903843
          ],
          [
           0.15608378032298156,
           0.14705187777863124,
           0.1385117387677253,
           0.13046056099886402,
           0.12289351204685123,
           0.11580334389098351,
           0.10918000532668241,
           0.10301028635276198,
           0.09727753941725782,
           0.0919615301293713,
           0.0870384716872804,
           0.08248129023778969,
           0.07826015231727959,
           0.07434326291493693,
           0.0706979184733366,
           0.06729177923780764,
           0.06409431462728318,
           0.06107837618338432,
           0.0582218641906624,
           0.05550947171968138,
           0.052934504794575045,
           0.05050077628856355,
           0.048224533717211,
           0.04613627928589262,
           0.04428214270253921,
           0.04272416190249239,
           0.041538484153298735,
           0.040810366926559656,
           0.04062538148771228,
           0.041057754242517654,
           0.042158879504527236,
           0.043950122229532165,
           0.046422611170236334,
           0.04954342871266327,
           0.0532649676550702,
           0.05753395012059747,
           0.062298081660637813,
           0.06750996579340382,
           0.0731288386881861,
           0.07912090997382619,
           0.0854589593980639,
           0.09212161564759719,
           0.09909255708486919,
           0.10635975103916336,
           0.11391477774110205,
           0.12175224874834074,
           0.12986931338838492,
           0.13826524085554145,
           0.14694106481216104,
           0.1558992786845785
          ],
          [
           0.15949109667122346,
           0.1506097712225019,
           0.14221744806066852,
           0.13430957587524658,
           0.12687945445152388,
           0.11991790909645507,
           0.11341298619383976,
           0.10734970267905371,
           0.10170988866816603,
           0.09647216528045098,
           0.09161209724355848,
           0.08710255100714076,
           0.08291427439904242,
           0.07901669564557788,
           0.07537892144616222,
           0.07197089987211691,
           0.06876470718775816,
           0.06573591945439487,
           0.06286503851415663,
           0.06013895358353472,
           0.05755242752982703,
           0.055109591202642375,
           0.052825397157603406,
           0.05072690975509945,
           0.04885417742292501,
           0.0472602461199467,
           0.04600967965256768,
           0.04517489011211431,
           0.04482988103196399,
           0.04504185503728486,
           0.04586237237872981,
           0.047320634501878595,
           0.04942111368768754,
           0.05214606325873075,
           0.05546149981977313,
           0.05932432050464349,
           0.06368859258386059,
           0.06851006394372701,
           0.07374883281966604,
           0.0793705744034229,
           0.08534681933391568,
           0.09165469497862326,
           0.09827641037390986,
           0.10519865305316504,
           0.11241198758790814,
           0.11991029741442147,
           0.12769028463606813,
           0.13575102890838964,
           0.1440936005063415,
           0.15272072068983014
          ],
          [
           0.16284464073658783,
           0.1541371751029059,
           0.14591591838965012,
           0.13817411846239278,
           0.1309027844371178,
           0.1240904540579255,
           0.11772300691707926,
           0.1117835515684622,
           0.10625241646124908,
           0.10110727314071583,
           0.09632341477741348,
           0.09187420380788516,
           0.08773169031225532,
           0.08386738963177863,
           0.08025319605398809,
           0.07686240136764895,
           0.07367078409751246,
           0.07065773723761348,
           0.06780740769714717,
           0.06510982608600963,
           0.06256200640581015,
           0.06016898569498392,
           0.057944746949105536,
           0.05591291859760345,
           0.054107068284185725,
           0.05257031756747038,
           0.051353931979853606,
           0.05051455684894758,
           0.05010996567835057,
           0.050193620192363037,
           0.05080892191059017,
           0.051984475446592036,
           0.0537316260797391,
           0.05604486498603356,
           0.05890473676714785,
           0.062282175301284125,
           0.06614305283762983,
           0.0704520596285306,
           0.07517552138732697,
           0.08028315288407045,
           0.08574895083551065,
           0.0915514817784404,
           0.09767379028559861,
           0.10410309450484086,
           0.11083037971783306,
           0.11784995715473173,
           0.12515902563718617,
           0.13275725513292405,
           0.14064640050874144,
           0.14882994795392757
          ],
          [
           0.16555397611271958,
           0.1569990452073116,
           0.14892714875222032,
           0.1413292803702537,
           0.13419416350321875,
           0.127508122337986,
           0.12125501737033728,
           0.11541626712950497,
           0.10997097607305088,
           0.10489618457258258,
           0.10016725022051719,
           0.09575836112750513,
           0.09164317243586512,
           0.08779554845048676,
           0.08419038601064988,
           0.08080449094476473,
           0.07761747899676838,
           0.07461267470022553,
           0.07177798473896149,
           0.06910672400619537,
           0.06659836965478892,
           0.06425920807950584,
           0.06210281900426477,
           0.06015030885301928,
           0.05843016571352612,
           0.05697757172216668,
           0.05583299878261412,
           0.05503996412818613,
           0.054641965959894644,
           0.0546788583697456,
           0.05518319734915107,
           0.05617726639770552,
           0.05767143577425585,
           0.0596641905937701,
           0.06214370474792028,
           0.06509045550015086,
           0.06848022304771456,
           0.07228690748577929,
           0.07648481481923307,
           0.08105028975117093,
           0.08596273257534423,
           0.09120511677789665,
           0.09676414255338457,
           0.10263014670777984,
           0.10879686246650203,
           0.11526109561049415,
           0.1220223612632353,
           0.12908250943537283,
           0.13644535654256326,
           0.14411633303505136
          ],
          [
           0.16711107161623054,
           0.1586471897871135,
           0.15066346775655232,
           0.14314899712959353,
           0.1360906040725729,
           0.12947281004790906,
           0.12327786954389033,
           0.11748590051015766,
           0.11207511963272473,
           0.10702218909234572,
           0.1023026744563743,
           0.09789160564709302,
           0.09376412558258597,
           0.08989620508189514,
           0.08626539886282986,
           0.08285161612197921,
           0.07963788002836435,
           0.07661105252544737,
           0.07376250247793124,
           0.07108869479866563,
           0.06859167362384098,
           0.06627940262074489,
           0.06416590952466879,
           0.0622711619613126,
           0.06062058301940416,
           0.05924410874641873,
           0.05817471176021198,
           0.05744638192779885,
           0.05709167347633852,
           0.05713907932719315,
           0.05761062662327942,
           0.05852013122549697,
           0.059872452917633004,
           0.0616638712481449,
           0.06388343757640454,
           0.06651495981743898,
           0.06953920814279743,
           0.07293598748094188,
           0.07668584990369519,
           0.08077135397631462,
           0.0851778790751572,
           0.08989405958182968,
           0.09491192415233035,
           0.10022682273706006,
           0.10583721082074078,
           0.1117443444700105,
           0.11795192540328726,
           0.12446572381435678,
           0.13129319825358418,
           0.138443125940417
          ],
          [
           0.16730531922315847,
           0.15884488032806657,
           0.1508629690602449,
           0.14334739781553077,
           0.1362837096928226,
           0.12965519839919484,
           0.12344301381427031,
           0.11762636563814599,
           0.11218283280959962,
           0.1070887800905917,
           0.10231987590573523,
           0.09785169821923521,
           0.09366040873476188,
           0.08972347103049273,
           0.08602038574504538,
           0.08253341564866301,
           0.0792482746853366,
           0.07615475678991201,
           0.07324728084744353,
           0.07052532622136103,
           0.06799372733934421,
           0.065662785588483,
           0.06354814339231149,
           0.06167035262347316,
           0.060054065059288377,
           0.058726787595450095,
           0.0577171919538579,
           0.05705305398494954,
           0.0567590125220911,
           0.056854448791989344,
           0.057351843409247545,
           0.05825592340946294,
           0.05956375982907061,
           0.061265765396673694,
           0.06334735280108134,
           0.06579091456424078,
           0.06857779371952988,
           0.07169000053936386,
           0.07511154376858291,
           0.0788293442671502,
           0.0828337650593638,
           0.08711882419051165,
           0.09168216454951501,
           0.09652484873452505,
           0.1016510353382255,
           0.1070675808020712,
           0.11278360043581863,
           0.1188100140069157,
           0.12515909519491714,
           0.131844039652761
          ],
          [
           0.16636093955655828,
           0.15780807538277442,
           0.1497336972322915,
           0.14212506482861487,
           0.1349671263057512,
           0.12824255784997254,
           0.12193189566989698,
           0.11601377287144884,
           0.11046526851732591,
           0.10526236923654553,
           0.1003805358516984,
           0.09579535962703441,
           0.09148328595042093,
           0.08742237839135464,
           0.08359309364968608,
           0.07997903752779442,
           0.07656767325221664,
           0.07335095431399906,
           0.0703258532821184,
           0.06749475351742837,
           0.06486566154156263,
           0.062452183853592226,
           0.060273196059664365,
           0.05835212104476058,
           0.05671573843713236,
           0.055392485530476245,
           0.054410293600080185,
           0.05379413206031319,
           0.053563576980891425,
           0.053730820224149566,
           0.05429952371895038,
           0.05526476999740289,
           0.05661410713915051,
           0.05832943441359718,
           0.06038932409997714,
           0.06277136497778582,
           0.06545421311259259,
           0.06841917895358986,
           0.07165130804977263,
           0.0751399975435489,
           0.07887923053748326,
           0.08286751845585685,
           0.0871076322165637,
           0.09160618783007181,
           0.09637313710095184,
           0.10142120228452967,
           0.10676528509370274,
           0.11242187464344304,
           0.11840847484126946,
           0.12474306841691733
          ],
          [
           0.1649678955229432,
           0.15623805894049697,
           0.1479877509889593,
           0.14020435394282998,
           0.13287286502104798,
           0.12597591629070293,
           0.11949389022282232,
           0.11340514686337823,
           0.10768637350084577,
           0.10231306053719877,
           0.09726009853892009,
           0.09250248234030077,
           0.08801609995217699,
           0.08377857788796997,
           0.07977015128204444,
           0.07597452655444295,
           0.0723797052961303,
           0.06897873867838049,
           0.0657703791018623,
           0.06275958728519238,
           0.05995783577939203,
           0.057383123274661406,
           0.05505958160914541,
           0.05301653052416544,
           0.05128683694917766,
           0.04990449960180852,
           0.04890153600612189,
           0.048304494704063804,
           0.04813117854418729,
           0.04838830537608331,
           0.049070714826971555,
           0.0501623416905469,
           0.05163868010572174,
           0.053470098011629566,
           0.05562527528183692,
           0.058074201880595554,
           0.060790442671757046,
           0.06375261713090989,
           0.06694519074621064,
           0.07035873214569846,
           0.07398978777693158,
           0.07784049732385796,
           0.08191803949245689,
           0.08623397012607248,
           0.09080349565042273,
           0.09564471362176198,
           0.10077784663220599,
           0.10622449333221612,
           0.11200691885999778,
           0.11814740520429226
          ],
          [
           0.16417877185991334,
           0.15521752344422868,
           0.1467370580525634,
           0.13872537903287316,
           0.13116804383448455,
           0.12404813894829662,
           0.1173463478219251,
           0.11104113249542377,
           0.10510904593871033,
           0.09952518532333925,
           0.0942637873347588,
           0.08929895610102544,
           0.0846055042189514,
           0.0801598794883853,
           0.07594114570538588,
           0.07193198555443366,
           0.0681196959556096,
           0.06449714871233285,
           0.061063687453658595,
           0.05782592054940911,
           0.054798341820124136,
           0.0520036610073168,
           0.04947265219740739,
           0.047243243780120875,
           0.04535851897182128,
           0.04386335282427266,
           0.0427996824777217,
           0.04220093511211358,
           0.04208677110040369,
           0.04245964866727997,
           0.04330438176849529,
           0.0445908602555805,
           0.046278990380855874,
           0.048324352212345656,
           0.05068325312452834,
           0.053316464161197376,
           0.05619152256068654,
           0.05928383741015185,
           0.06257694531758089,
           0.06606222794391363,
           0.0697383172823567,
           0.07361033119124444,
           0.07768902043607587,
           0.0819898712444975,
           0.08653218838315047,
           0.09133817697232255,
           0.09643204095309868,
           0.10183911850760054,
           0.10758507661677773,
           0.1136951870365063
          ],
          [
           0.1651508095567635,
           0.15594317604706448,
           0.14721721748876562,
           0.13896184439519185,
           0.13116353201191577,
           0.12380625537072479,
           0.11687151001539592,
           0.11033844238982511,
           0.10418411171901246,
           0.09838389976871366,
           0.09291207610637839,
           0.08774251536657907,
           0.08284955148321589,
           0.07820894449410502,
           0.07379893028508246,
           0.06960132366960335,
           0.0656026491656088,
           0.06179527902308209,
           0.058178558967172174,
           0.054759891165543674,
           0.05155570985388038,
           0.048592214086063505,
           0.04590560215791399,
           0.04354138784753551,
           0.04155222345916983,
           0.03999365227380834,
           0.03891759575443797,
           0.038364311507947946,
           0.038354788315091135,
           0.038886223906123216,
           0.03993246299772492,
           0.041449219785438834,
           0.04338197354713898,
           0.04567389744607475,
           0.04827202072665009,
           0.05113106890433504,
           0.05421528981854453,
           0.057498885358884005,
           0.060965625066662046,
           0.06460804706614814,
           0.06842648520652675,
           0.07242804305189686,
           0.0766255657817624,
           0.08103662691815071,
           0.08568253459355649,
           0.09058736189957915,
           0.09577701081543324,
           0.10127832519373775,
           0.10711827255423069,
           0.11332321560363073
          ],
          [
           0.16878510069815206,
           0.15934341147070705,
           0.1503833612932163,
           0.1418949330787487,
           0.13386580963218647,
           0.1262813030939929,
           0.11912436343979409,
           0.11237568964072364,
           0.10601396585516593,
           0.10001624057121801,
           0.094358459150056,
           0.08901615020665596,
           0.08396525558403044,
           0.0791830842530204,
           0.07464936430840848,
           0.0703473651914193,
           0.06626506298694769,
           0.062396322567232064,
           0.05874206515891348,
           0.0553113708044056,
           0.052122419945237364,
           0.04920309505194512,
           0.04659093526249624,
           0.0443319850711713,
           0.042477981408847926,
           0.041081447927727305,
           0.04018881443605922,
           0.03983268384007306,
           0.04002539404372863,
           0.04075620971869095,
           0.041993291380917445,
           0.043689614694290606,
           0.045790608484810244,
           0.04824124313722184,
           0.05099125319472158,
           0.05399824182479133,
           0.05722905460377346,
           0.060659992957259525,
           0.06427636012737001,
           0.06807167572024184,
           0.07204675368334235,
           0.07620874145627093,
           0.08057016133687492,
           0.08514796788067332,
           0.08996262539918101,
           0.09503720979004361,
           0.1003965431000166,
           0.10606637413924615,
           0.11207262190873007,
           0.1184406995328715
          ],
          [
           0.17544320487708717,
           0.16577556324433848,
           0.1565870862188651,
           0.1478689975587444,
           0.13961051691437604,
           0.13179882298904946,
           0.12441908925425209,
           0.11745461192794149,
           0.110887048687668,
           0.10469678301636903,
           0.09886342329251621,
           0.09336643794971505,
           0.0881859194317864,
           0.08330346097478798,
           0.07870312251621572,
           0.07437245512210704,
           0.07030354595113328,
           0.06649403526820682,
           0.06294803878130134,
           0.059676877714425806,
           0.0566994717326833,
           0.05404218857279844,
           0.05173788672677493,
           0.049823875918949025,
           0.048338624102791,
           0.04731732715086166,
           0.04678692267707257,
           0.046761605846476255,
           0.0472400806730626,
           0.048205405738549166,
           0.04962746037314319,
           0.05146721344441008,
           0.05368157912710796,
           0.05622779942324661,
           0.05906676175779237,
           0.06216512649616451,
           0.06549643095273623,
           0.06904144212354653,
           0.07278801741303838,
           0.07673067085510465,
           0.08086997581545843,
           0.08521188250963475,
           0.08976699374850032,
           0.09454982229471752,
           0.09957804382211453,
           0.10487175654301208,
           0.11045275907226043,
           0.11634385964585611,
           0.12256823102927786,
           0.12914882541261408
          ],
          [
           0.18493109489167728,
           0.175015015581451,
           0.1655711390848448,
           0.156592139097915,
           0.1480691359712266,
           0.1399917154056182,
           0.13234800947868464,
           0.12512485364941228,
           0.11830803211002464,
           0.11188262105857388,
           0.10583343512628894,
           0.10014557642490912,
           0.09480507849064569,
           0.08979962927693896,
           0.08511934780769757,
           0.08075757814630678,
           0.07671165072748204,
           0.07298354387545658,
           0.06958035682822608,
           0.06651448104286606,
           0.06380333501078313,
           0.061468521891975075,
           0.059534300135765376,
           0.05802534845537695,
           0.05696396948065199,
           0.05636708656981345,
           0.05624357029918901,
           0.056592478405290476,
           0.05740263381786822,
           0.05865363111569352,
           0.06031799242437793,
           0.06236395084730803,
           0.06475830288405302,
           0.06746890452073423,
           0.07046658796152164,
           0.0737264555906575,
           0.07722862171686724,
           0.08095851991662957,
           0.08490689637308507,
           0.08906958932040267,
           0.09344716883512512,
           0.09804448773903147,
           0.10287017695158655,
           0.10793610729423517,
           0.11325683320175348,
           0.1188490308102532,
           0.12473094183032514,
           0.1309218345015698,
           0.13744149281688361,
           0.14430974475732178
          ],
          [
           0.19673119464916128,
           0.18651289942240717,
           0.17675427262625698,
           0.16744960446863594,
           0.15859217610364434,
           0.15017433749546413,
           0.1421876349925624,
           0.13462299619144913,
           0.1274709781718269,
           0.1207220828340361,
           0.11436713950928767,
           0.10839775019460808,
           0.10280678645538167,
           0.09758891905911528,
           0.0927411514557299,
           0.08826331615631619,
           0.08415847892015584,
           0.08043318060201855,
           0.07709743323872154,
           0.07416438088721374,
           0.07164954585183289,
           0.0695696176430957,
           0.0679408134889378,
           0.0667769429599982,
           0.06608742335337195,
           0.06587557502565916,
           0.06613752944567583,
           0.06686198258524144,
           0.0680308443279757,
           0.06962063636563921,
           0.07160435075412096,
           0.07395344016799663,
           0.0766396617404525,
           0.07963659737841584,
           0.0829207789209035,
           0.08647242670456018,
           0.09027585586321707,
           0.09431962127224507,
           0.09859646967089336,
           0.1031031560806296,
           0.1078401678502991,
           0.1128113874139926,
           0.1180237152994083,
           0.12348666846062402,
           0.12921196507725666,
           0.13521310476114032,
           0.1415049521310467,
           0.1481033313151169,
           0.15502463860227286,
           0.1622854801045862
          ],
          [
           0.2102786025623051,
           0.1996933679372965,
           0.1895502435973816,
           0.17984512427001656,
           0.17057343943637937,
           0.16173028437377468,
           0.15331059069565553,
           0.14530933943841995,
           0.1377218180779109,
           0.13054392036477652,
           0.12377248426769547,
           0.11740565847077168,
           0.11144328128070041,
           0.10588724751336588,
           0.1007418285357691,
           0.09601389883549448,
           0.0917130105029321,
           0.08785124769269013,
           0.08444279172503188,
           0.0815031407695345,
           0.07904796384315568,
           0.07709163123018932,
           0.0756455474156311,
           0.07471649907301542,
           0.07430528711266807,
           0.07440590466384943,
           0.0750054370101168,
           0.07608471394233608,
           0.07761958856589239,
           0.07958260471881524,
           0.08194477946674801,
           0.08467726431160505,
           0.08775272881635471,
           0.0911463979186829,
           0.09483674422934849,
           0.09880587945741687,
           0.10303970695566589,
           0.10752789800200599,
           0.112263745555254,
           0.11724393732025178,
           0.12246827830679792,
           0.12793938360024762,
           0.13366235506270863,
           0.13964445106781312,
           0.14589475544385544,
           0.15242385032469344,
           0.15924349676845317,
           0.16636632680294233,
           0.1738055503446953,
           0.18157468035151625
          ],
          [
           0.22511675050909635,
           0.21411299907910203,
           0.20353062929093785,
           0.19336690157787922,
           0.1836190648144969,
           0.17428452841040365,
           0.16536106869645859,
           0.15684707068966397,
           0.14874180454420508,
           0.14104573330055625,
           0.13376084460386828,
           0.12689099358283568,
           0.12044223637161894,
           0.114423123912343,
           0.10884491329630136,
           0.10372164027819956,
           0.09906998390976522,
           0.09490884723922398,
           0.09125858413790239,
           0.08813983042903673,
           0.08557195533001676,
           0.08357123647007378,
           0.08214896334498453,
           0.08130975795881873,
           0.08105042534793416,
           0.08135958141831495,
           0.08221815584959921,
           0.08360068065213229,
           0.08547711817377093,
           0.08781490814997128,
           0.09058093313373308,
           0.09374318742460241,
           0.09727204261041571,
           0.10114109626322823,
           0.10532765180217518,
           0.10981290596509401,
           0.11458192448742745,
           0.11962347661391401,
           0.12492978364097042,
           0.1304962211562235,
           0.13632100127830335,
           0.14240485137212366,
           0.14875069866704277,
           0.155363365805144,
           0.16224927974643422,
           0.16941619506336994,
           0.17687293213229655,
           0.18462913057074093,
           0.19269501836324854,
           0.20108119727117846
          ],
          [
           0.2409061977734618,
           0.22946012694274012,
           0.21841399069900103,
           0.20776604116273958,
           0.19751483056733982,
           0.1876594070796147,
           0.17819954364082416,
           0.16913600120185582,
           0.16047082617391525,
           0.15220767956625167,
           0.14435219149599596,
           0.13691232901482003,
           0.12989875692743003,
           0.12332515962645924,
           0.11720847682188958,
           0.11156898785690268,
           0.10643016057946739,
           0.10181816717721952,
           0.09776097039915732,
           0.09428691251347127,
           0.09142280859741202,
           0.08919165902696391,
           0.08761023583812734,
           0.08668692030793644,
           0.08642021287942639,
           0.08679825414223707,
           0.08779949039165863,
           0.08939435663024974,
           0.09154763427531626,
           0.09422104644173664,
           0.0973756932476179,
           0.10097405812365617,
           0.10498146773756453,
           0.10936701207537054,
           0.11410400656945195,
           0.11917010764580076,
           0.12454719116717841,
           0.13022108509307406,
           0.13618122460852453,
           0.14242027637973126,
           0.14893376130942368,
           0.1557196925150424,
           0.16277823678931397,
           0.17011140255431614,
           0.17772275425099487,
           0.18561715167992127,
           0.19380051217327132,
           0.2022795935285171,
           0.21106179581431317,
           0.22015498058333552
          ],
          [
           0.25734769755835113,
           0.2454640629489155,
           0.233960421373731,
           0.2228356453058155,
           0.21208907465369134,
           0.2017207182350768,
           0.19173148844384438,
           0.18212347184769764,
           0.17290023760268344,
           0.16406718405361187,
           0.15563192101047435,
           0.14760468041991273,
           0.1399987405906675,
           0.13283083757488184,
           0.12612152084450262,
           0.11989538838046492,
           0.1141811098138615,
           0.10901111953811238,
           0.10442084418741937,
           0.10044733680490558,
           0.09712724411298551,
           0.0944941513390744,
           0.09257552824150883,
           0.09138970004099155,
           0.09094340567984811,
           0.09123049091156628,
           0.09223207269769355,
           0.0939181611635432,
           0.09625037556262732,
           0.09918518313216304,
           0.10267708306888547,
           0.10668130975191391,
           0.1111558426567799,
           0.11606269889856735,
           0.12136860516177919,
           0.1270451973233601,
           0.13306889832619814,
           0.13942060104707543,
           0.1460852507749458,
           0.15305139150131428,
           0.1603107158970388,
           0.16785764118978064,
           0.1756889213953834,
           0.18380329908770493,
           0.19220119569332622,
           0.20088443725027172,
           0.2098560117280509,
           0.2191198539413986,
           0.22868065442971652,
           0.23854368913764232
          ],
          [
           0.2740973991864523,
           0.2617995496567216,
           0.2498646162444499,
           0.23829180905664735,
           0.22708086293232582,
           0.21623223202691522,
           0.20574731787706085,
           0.1956287352419115,
           0.18588061999324887,
           0.1765089827696712,
           0.16752211060713323,
           0.15893101555890088,
           0.1507499236826447,
           0.1429967879665378,
           0.13569379353966865,
           0.12886780076306403,
           0.12255064062807765,
           0.11677913858931323,
           0.11159470369153471,
           0.10704229448354963,
           0.10316858694649451,
           0.10001925528821097,
           0.09763545836862059,
           0.09604989109330854,
           0.09528303593717428,
           0.09534040000618002,
           0.09621141973279858,
           0.09787033724733091,
           0.10027883735445962,
           0.10338980866813392,
           0.10715142710923442,
           0.11151086970849375,
           0.11641723688491903,
           0.12182354753807116,
           0.12768787944186136,
           0.13397383309859698,
           0.1406505211636268,
           0.1476922620876218,
           0.15507811490704762,
           0.16279134966802236,
           0.17081891297336657,
           0.17915092241361905,
           0.18778020637792714,
           0.19670189489771533,
           0.20591306094602937,
           0.21541240837210457,
           0.2252000012267103,
           0.23527702902199482,
           0.24564560267719182,
           0.25630857655365086
          ],
          [
           0.290726559587653,
           0.2780427811597822,
           0.2657081142903623,
           0.2537219444290795,
           0.2420841787807052,
           0.2307954303341936,
           0.21985723594168735,
           0.20927231414451436,
           0.19904486903382984,
           0.1891809467627537,
           0.1796888509362637,
           0.17057962155144998,
           0.1618675783094532,
           0.15357092177047363,
           0.1457123727837359,
           0.1383198095019698,
           0.13142682929823932,
           0.12507311860259734,
           0.11930445893516861,
           0.11417214283908286,
           0.1097315420574817,
           0.10603960267807641,
           0.10315118543653728,
           0.10111445274568442,
           0.0999658885995583,
           0.09972588487144841,
           0.10039593089688327,
           0.10195815665776989,
           0.10437736015671338,
           0.107604967950785,
           0.1115839487436425,
           0.11625366869879719,
           0.12155395964072126,
           0.12742806441208623,
           0.1338244542224675,
           0.14069770691556263,
           0.14800870273682404,
           0.15572438041629003,
           0.16381724633921266,
           0.1722647727500194,
           0.18104877203861341,
           0.19015479752040568,
           0.1995715962300222,
           0.20929062359127948,
           0.2193056206343085,
           0.22961224960965648,
           0.24020778167430018,
           0.25109082969203245,
           0.26226111944775937,
           0.2737192932216558
          ],
          [
           0.3067381732373812,
           0.2936907683029563,
           0.280981791512445,
           0.2686107752345862,
           0.25657775863537796,
           0.24488346526164606,
           0.2335295161327682,
           0.2225186851390333,
           0.2118552045996602,
           0.20154512968368188,
           0.19159677082714077,
           0.18202120267664712,
           0.17283285563027503,
           0.1640501903169914,
           0.1556964441835137,
           0.14780041990355172,
           0.1403972539074361,
           0.1335290565035266,
           0.12724525182738183,
           0.12160237203919623,
           0.11666299563438247,
           0.11249350518437477,
           0.10916043644996627,
           0.10672545814100502,
           0.10523946372076654,
           0.10473675788503718,
           0.10523063366016065,
           0.10671150277681002,
           0.10914810204449517,
           0.1124914094264345,
           0.11668019672226244,
           0.12164692229641494,
           0.1273229155799526,
           0.13364228615092866,
           0.14054444658140025,
           0.14797543288460238,
           0.155888327836384,
           0.16424309402559822,
           0.17300606698987994,
           0.18214928762899862,
           0.19164978965857246,
           0.2014889098341956,
           0.21165165579957493,
           0.2221261456836996,
           0.23290312149322262,
           0.24397553186009419,
           0.25533817679737075,
           0.2669874061865209,
           0.27892086393409843,
           0.2911372704821954
          ],
          [
           0.32162239956339356,
           0.30822236116098045,
           0.29515294623120947,
           0.28241394450419316,
           0.270005662583726,
           0.25792910361516264,
           0.24618618498770714,
           0.23478000182582143,
           0.2237151452664413,
           0.21299808566973288,
           0.20263763169638577,
           0.19264547604284804,
           0.18303683666831988,
           0.17383119718620846,
           0.16505313944180802,
           0.15673324200638902,
           0.14890898615715933,
           0.14162556149332417,
           0.1349363939898215,
           0.12890313379707244,
           0.12359475653844795,
           0.11908539214155633,
           0.11545056802386983,
           0.11276181591338477,
           0.11108007255143097,
           0.11044890174751809,
           0.11088900903413201,
           0.11239548171528853,
           0.114938530558501,
           0.11846747926442282,
           0.12291685202291461,
           0.12821305556367812,
           0.13428038143592888,
           0.14104560190619544,
           0.1484409812398253,
           0.1564058901633027,
           0.16488736918646715,
           0.17383999663199623,
           0.18322535410720545,
           0.1930112994630503,
           0.20317118297390963,
           0.2136830860293687,
           0.22452912318765006,
           0.23569482422106774,
           0.24716859874319505,
           0.25894127854978344,
           0.2710057294082146,
           0.2833565230014041,
           0.29598965993980014,
           0.30890233559586194
          ],
          [
           0.3349228712757217,
           0.3211695576265551,
           0.3077418548426679,
           0.294640049320914,
           0.2818650029802415,
           0.26941834487390126,
           0.25730270445220715,
           0.24552199500545524,
           0.23408175718494525,
           0.2229895737449498,
           0.2122555673966952,
           0.20189299345799677,
           0.19191893674185936,
           0.18235511624964573,
           0.17322878937346087,
           0.16457372579070526,
           0.1564311856057619,
           0.14885078158853207,
           0.1418910290023398,
           0.13561929304501966,
           0.13011075417837972,
           0.12544597280730885,
           0.12170672329258538,
           0.11897006660332443,
           0.11730116647154085,
           0.11674600308873608,
           0.11732559680414259,
           0.11903326737224602,
           0.12183569880332992,
           0.12567745152027227,
           0.13048762373111372,
           0.13618703279751895,
           0.14269457717562736,
           0.14993204559837398,
           0.15782722325667695,
           0.16631552104092542,
           0.1753405074702537,
           0.18485372355980031,
           0.19481408853168564,
           0.2051871147941672,
           0.2159440718248345,
           0.22706117966529335,
           0.2385188728775793,
           0.25030115105675055,
           0.2623950176508183,
           0.274790001402509,
           0.287477751379754,
           0.3004516956115919,
           0.3137067536720899,
           0.3272390944720893
          ],
          [
           0.34629229857415006,
           0.33217581183650896,
           0.31838275911984987,
           0.30491426186006026,
           0.29177213690457754,
           0.2789591099909874,
           0.2664790754444338,
           0.25433741135237775,
           0.24254136084389885,
           0.23110049119112983,
           0.22002724290817402,
           0.2093375801273104,
           0.19905175005703832,
           0.1891951514062142,
           0.1797992963691096,
           0.17090282422289893,
           0.16255248178614035,
           0.15480392250581204,
           0.1477220907891781,
           0.1413808605628966,
           0.13586151601813293,
           0.13124965634044852,
           0.12763025927713753,
           0.1250810255335071,
           0.12366473438729193,
           0.12342198492671629,
           0.12436602749450236,
           0.12648108574916958,
           0.1297246284899792,
           0.1340328886069312,
           0.13932811791344443,
           0.14552592947844376,
           0.15254150830787128,
           0.16029411699401955,
           0.1687098729970723,
           0.17772309425205138,
           0.18727661660850062,
           0.19732146018881672,
           0.20781613867873927,
           0.218725814681899,
           0.23002142817547258,
           0.24167886966614507,
           0.25367823289858726,
           0.26600315940790636,
           0.2786402744892569,
           0.2915787075712616,
           0.30480968727388846,
           0.3183262007812156,
           0.33212270766898755,
           0.3461948993365026
          ],
          [
           0.35552784286740485,
           0.3410317884154246,
           0.32685978999932047,
           0.3130141882453081,
           0.29949820529655996,
           0.2863161902668614,
           0.27347391654365594,
           0.2609789409188917,
           0.248841035712583,
           0.23707270579599893,
           0.22568980209258874,
           0.21471224086219623,
           0.204164832154797,
           0.19407820900502484,
           0.18448982763344077,
           0.1754449737329478,
           0.16699765601098282,
           0.15921119251530882,
           0.15215820176233427,
           0.14591961782735102,
           0.14058230036613062,
           0.13623487989929933,
           0.13296175088116163,
           0.13083563896219194,
           0.1299098294656707,
           0.13021167243084697,
           0.13173901114674655,
           0.13446052769517716,
           0.13831987605687754,
           0.1432424206066026,
           0.14914290198390237,
           0.15593252226769502,
           0.16352452130025977,
           0.1718379480019022,
           0.18079978196934043,
           0.190345776968646,
           0.20042043473346294,
           0.21097645777333343,
           0.22197393873256926,
           0.23337945710976532,
           0.2451651861803059,
           0.2573080653642631,
           0.2697890626323347,
           0.28259253324886013,
           0.29570567110269597,
           0.3091180439940187,
           0.3228212024340813,
           0.3368083514139458,
           0.3510740753152803,
           0.365614107284248
          ],
          [
           0.36258713368255735,
           0.34769038662437596,
           0.3331207354466054,
           0.3188820899505922,
           0.30497949092070414,
           0.2914193985118127,
           0.2782100396692848,
           0.26536182531760566,
           0.2528878488951025,
           0.24080447784338282,
           0.2291320479698591,
           0.21789566588232817,
           0.20712611474755652,
           0.19686084039016105,
           0.1871449639364603,
           0.17803221907886196,
           0.1695856426216295,
           0.16187775741548469,
           0.15498988995686142,
           0.14901019608192043,
           0.14402999154615298,
           0.14013818563579591,
           0.13741405829102857,
           0.13591926306290847,
           0.13569055869275862,
           0.13673500990660387,
           0.13902896906139667,
           0.14252112149448087,
           0.1471387134400362,
           0.15279534211964982,
           0.15939863597757417,
           0.1668566383930458,
           0.17508237119797715,
           0.18399659802830468,
           0.19352911426143596,
           0.20361898613075036,
           0.21421412809735454,
           0.22527052022160612,
           0.2367512738293897,
           0.24862567585623377,
           0.2608682854655659,
           0.27345811881203413,
           0.28637793455580235,
           0.2996136194577718,
           0.31315366657971805,
           0.3269887356423384,
           0.34111128441103816,
           0.35551526046244936,
           0.3701958436962139,
           0.3851492312190555
          ],
          [
           0.3675914367422929,
           0.35226878155562835,
           0.3372777847179559,
           0.3226241405878123,
           0.3083149728630155,
           0.2943591777045819,
           0.28076783559051394,
           0.26755470367083783,
           0.25473680075564215,
           0.24233509598512532,
           0.2303753084577372,
           0.21888881661365903,
           0.20791366002122919,
           0.19749558822244567,
           0.18768906627736065,
           0.17855807989332098,
           0.1701764931287208,
           0.16262760770636028,
           0.15600248424894803,
           0.1503965724816454,
           0.14590434863580903,
           0.1426120580347678,
           0.1405893078017126,
           0.13988096743409034,
           0.1405012457501424,
           0.14243155388275328,
           0.14562278321590746,
           0.15000133660803627,
           0.1554772854606491,
           0.1619527863369877,
           0.16932931491146877,
           0.17751299081182417,
           0.18641790925377533,
           0.19596778853916672,
           0.2060963884006973,
           0.2167471380147479,
           0.22787232278992078,
           0.23943207502841735,
           0.2513933240531896,
           0.26372879504100116,
           0.27641610115061366,
           0.2894369458159946,
           0.3027764360533533,
           0.3164224992998343,
           0.33036539257984915,
           0.34459729175629844,
           0.3591119490195754,
           0.3739044078582741,
           0.38897076606724007,
           0.4043079787266608
          ],
          [
           0.3708230792089395,
           0.35504550589447875,
           0.339604302493499,
           0.3245069324206691,
           0.30976260555071466,
           0.2953826872273901,
           0.2813811895412521,
           0.26777535861289853,
           0.2545863714970251,
           0.2418401539551201,
           0.22956832383579992,
           0.21780925127347145,
           0.2066092019499617,
           0.19602348757199212,
           0.1861174819081784,
           0.17696726671533475,
           0.16865955313597372,
           0.16129040365962943,
           0.15496221382239414,
           0.14977849931379106,
           0.14583638915286212,
           0.14321740411493464,
           0.14197796908181232,
           0.14214177820354504,
           0.1436961022564467,
           0.14659317075274564,
           0.1507562306735752,
           0.15608855271927793,
           0.1624831507640661,
           0.16983135728888216,
           0.17802923937824885,
           0.18698165834559535,
           0.1966043023154801,
           0.20682423046296994,
           0.21757946132178307,
           0.22881803089788277,
           0.24049681843876794,
           0.2525803272255984,
           0.26503952629967864,
           0.2778508048971891,
           0.29099505813785076,
           0.30445690378206464,
           0.31822402028135477,
           0.3322865923222118,
           0.34663684912253545,
           0.36126868139818535,
           0.37617732434008194,
           0.3913590955923826,
           0.4068111788621069,
           0.422531445285502
          ],
          [
           0.37272168672550454,
           0.35645731364938654,
           0.3405325630295774,
           0.3249563637707206,
           0.30973968125383744,
           0.2948959992931781,
           0.2804419029826291,
           0.26639778012081106,
           0.25278865883059526,
           0.23964519575814133,
           0.22700482018685142,
           0.21491302010946578,
           0.203424720306689,
           0.19260564108022973,
           0.1825334300856197,
           0.17329822333991424,
           0.1650021251540007,
           0.15775694507747876,
           0.15167949445890883,
           0.14688398535752686,
           0.1434717440461659,
           0.14151953653366928,
           0.1410689354261856,
           0.14211963448240994,
           0.14462884627094796,
           0.14851703275024053,
           0.15367818372314235,
           0.1599917633079846,
           0.16733366169573968,
           0.17558455361434863,
           0.18463523399132784,
           0.19438929799544089,
           0.2047638682153453,
           0.2156890811722584,
           0.2271069015971425,
           0.23896965626714672,
           0.25123852804474534,
           0.26388214144483657,
           0.2768753002119511,
           0.2901978953694504,
           0.3038339794385626,
           0.3177709916196826,
           0.3319991147374032,
           0.34651074438050694,
           0.3613000521350054,
           0.3763626269893935,
           0.391695181299446,
           0.40729530990910223,
           0.4231612929670733,
           0.43929193464877075
          ],
          [
           0.37388145845177506,
           0.3570976515836479,
           0.34065374336842835,
           0.324559540098476,
           0.30882709082722803,
           0.29347123999271313,
           0.27851030458253595,
           0.26396690067401196,
           0.24986894551189492,
           0.23625085897372247,
           0.22315497865686929,
           0.21063317942335508,
           0.1987486413311588,
           0.18757762517679166,
           0.17721097610516703,
           0.16775487156874877,
           0.15933007421124604,
           0.15206871702288674,
           0.14610761428557573,
           0.1415775356467204,
           0.13858904453160495,
           0.13721726417504013,
           0.1374894962280402,
           0.13937973417726537,
           0.14281212319268122,
           0.1476721879176486,
           0.1538221135653686,
           0.16111586228764993,
           0.16941119153783832,
           0.17857749904929746,
           0.18849983180964727,
           0.19908004806710766,
           0.21023619098656737,
           0.22190092079033477,
           0.23401957784886795,
           0.24654821648248926,
           0.2594517855162601,
           0.2727025296068128,
           0.2862786276702624,
           0.30016305549515676,
           0.3143426470437987,
           0.32880732548394165,
           0.3435494760447566,
           0.3585634358289796,
           0.3738450793113169,
           0.3893914818159239,
           0.4052006464024272,
           0.4212712823230939,
           0.43760262543359335,
           0.45419429279024
          ],
          [
           0.3750519701870756,
           0.35771902059146543,
           0.3407221249149062,
           0.3240711554598077,
           0.3077782911707981,
           0.2918586230181754,
           0.27633090973289404,
           0.26121851941696544,
           0.24655059770870869,
           0.2323635053697633,
           0.21870256302390548,
           0.20562411991130514,
           0.19319791254482688,
           0.18150957519371558,
           0.17066297565692118,
           0.16078174551509708,
           0.1520089524389789,
           0.14450341878407597,
           0.13843101616697517,
           0.13394988552970982,
           0.1311904652401979,
           0.13023426772931135,
           0.1310979204240438,
           0.1337286399231864,
           0.13801315479731008,
           0.14379652295077283,
           0.1509040903097603,
           0.15916053819872994,
           0.16840297671836787,
           0.1784879370257538,
           0.18929367878986458,
           0.2007195585090618,
           0.21268388843540625,
           0.2251212366821571,
           0.23797971020353353,
           0.25121848340250674,
           0.2648056696159964,
           0.27871654515008576,
           0.2929320951412638,
           0.30743783599920255,
           0.3222228676696731,
           0.3372791131471823,
           0.35260070890874934,
           0.3681835162781959,
           0.38402472946319344,
           0.4001225608928977,
           0.4164759884345418,
           0.43308455228016873,
           0.4499481918088177,
           0.46706711472606127
          ],
          [
           0.3771458033883496,
           0.3592431748985074,
           0.3416681698556107,
           0.3244298113521936,
           0.3075393042480832,
           0.2910106553265717,
           0.27486146467943834,
           0.2591139364373647,
           0.24379616856012293,
           0.22894379289112002,
           0.21460204416623038,
           0.2008283315146259,
           0.18769535051995867,
           0.17529467550252842,
           0.16374055540891314,
           0.1531732258022448,
           0.14376037500174146,
           0.135694508599492,
           0.12918322520056613,
           0.12442981780941195,
           0.12160449544305629,
           0.12081215871857098,
           0.12206811255410357,
           0.12529280586139135,
           0.13032839321598888,
           0.1369693142829181,
           0.14499450354557888,
           0.1541920975664127,
           0.16437376605311876,
           0.17538027262294967,
           0.18708138691779824,
           0.19937292102438037,
           0.2121727332208661,
           0.2254167082918061,
           0.2390551688838935,
           0.2530498611662501,
           0.2673715067558595,
           0.28199785147008377,
           0.2969121254654568,
           0.3121018334439354,
           0.32755780519091365,
           0.34327344965663203,
           0.3592441676248074,
           0.3754668879430684,
           0.39193970024517094,
           0.40866156330616676,
           0.4256320729555745,
           0.4428512771379327,
           0.4603195284885861,
           0.4780373669283368
          ],
          [
           0.38125118684999487,
           0.36277814468452996,
           0.34462049199087647,
           0.32678560725202127,
           0.30928273460770406,
           0.2921235656208097,
           0.2753229985714387,
           0.25890013321249183,
           0.2428795778012847,
           0.22729316880197017,
           0.21218223059039926,
           0.1976005276013557,
           0.18361807021249443,
           0.1703258940490417,
           0.1578417686310495,
           0.14631637123288077,
           0.13593857964744807,
           0.1269369989647343,
           0.1195728149249877,
           0.11411788210560815,
           0.11081471390298252,
           0.10982474510046852,
           0.11118450289544037,
           0.11479301926659576,
           0.12043830106580189,
           0.1278476152833769,
           0.13673732231659275,
           0.14684683445931698,
           0.15795455444535902,
           0.1698809405193997,
           0.18248478338421037,
           0.19565697994195344,
           0.20931410786481242,
           0.22339277409429512,
           0.237845002371129,
           0.25263461112475744,
           0.26773442480418924,
           0.2831241462404419,
           0.29878873759497604,
           0.3147171866515383,
           0.3309015632067464,
           0.3473362936407016,
           0.36401760000897143,
           0.3809430638105526,
           0.39811128484347014,
           0.41552161311754543,
           0.43317393734811105,
           0.45106851761321154,
           0.4692058527589899,
           0.48758657535218675
          ],
          [
           0.38863300779276827,
           0.36962409359988185,
           0.350917343370158,
           0.3325181920018994,
           0.3144335241155472,
           0.2966721748436672,
           0.2792455959005159,
           0.262168746883517,
           0.24546129507006992,
           0.22914923915801358,
           0.2132671157243507,
           0.19786100270855086,
           0.18299259773558646,
           0.16874470117815618,
           0.15522841664235426,
           0.1425921515112408,
           0.1310317492728687,
           0.1207992761702564,
           0.11220454555817,
           0.10559891040653477,
           0.10132942123461369,
           0.0996622878321217,
           0.1007016190808587,
           0.10435082019171849,
           0.11034441714807686,
           0.11832774979419708,
           0.12793664040976443,
           0.1388473145329723,
           0.1507952559605458,
           0.1635746842381602,
           0.17702977521538926,
           0.19104413825875302,
           0.205531356655153,
           0.22042739099233757,
           0.2356847936867595,
           0.2512684125621616,
           0.2671522330029682,
           0.2833170610142507,
           0.29974881754256344,
           0.31643727477381517,
           0.3333751123307362,
           0.3505572061810693,
           0.3679800880980693,
           0.38564153124911205,
           0.40354022998783373,
           0.4216755507205063,
           0.44004733696648807,
           0.4586557561555441,
           0.4775011788897074,
           0.49658408369108875
          ],
          [
           0.4006902838272563,
           0.38123112909295626,
           0.36206495167144237,
           0.3431958468036454,
           0.3246290443365287,
           0.30637133590278864,
           0.28843164836214413,
           0.27082181878420564,
           0.25355764919295604,
           0.23666035206750202,
           0.22015854420640643,
           0.20409101152881545,
           0.18851055434836103,
           0.17348932745217843,
           0.15912618309544643,
           0.1455565097290409,
           0.13296467254396685,
           0.12159781176481063,
           0.11177640175838077,
           0.10389072070050315,
           0.09836542817173048,
           0.09557769365356636,
           0.09574413682824835,
           0.09883760154923155,
           0.10459635036891557,
           0.11261846750099322,
           0.12247327906340644,
           0.1337752745202641,
           0.14621250438265665,
           0.15954625363032737,
           0.17359903734853654,
           0.18824058166090843,
           0.20337563020557375,
           0.21893446690910065,
           0.2348659151719289,
           0.2511322813227732,
           0.26770572971191225,
           0.28456568157309187,
           0.3016969375501238,
           0.319088310827927,
           0.3367316220145506,
           0.3546209522378823,
           0.3727520823044537,
           0.39112206737234734,
           0.40972891140627454,
           0.4285713159509869,
           0.44764848487913317,
           0.46695997176340304,
           0.48650556005039264,
           0.5062851687394653
          ]
         ]
        },
        {
         "hoverinfo": "text",
         "legendgroup": "In-sample",
         "marker": {
          "color": "black",
          "opacity": 0.5,
          "symbol": 1
         },
         "mode": "markers",
         "name": "In-sample",
         "text": [
          "Arm 0_0<br>f: 0.307497 (SEM: None)<br>Dimension1: 18.8<br>Dimension2: 14.04<br>Dilution(OD): 0.175<br>Nano_stock_vol: 0.25<br>Ag_acet_conc: 0.006<br>Ag_acet_mass: 7.8<br>Doping%: 1.25<br>Time: 60<br>Temperature: 25<br>pre-QY: 0.405553",
          "Arm 10_0<br>f: 0.106451 (SEM: None)<br>Dimension1: 18.8<br>Dimension2: 14.04<br>Dilution(OD): 0.175<br>Nano_stock_vol: 0.25<br>Ag_acet_conc: 0.0007<br>Ag_acet_mass: 3.5<br>Doping%: 1.75<br>Time: 60<br>Temperature: 25<br>pre-QY: 0.405553",
          "Arm 11_0<br>f: 0.1031 (SEM: None)<br>Dimension1: 18.8<br>Dimension2: 14.04<br>Dilution(OD): 0.175<br>Nano_stock_vol: 0.25<br>Ag_acet_conc: 0.0007<br>Ag_acet_mass: 3.5<br>Doping%: 2<br>Time: 60<br>Temperature: 25<br>pre-QY: 0.405553",
          "Arm 12_0<br>f: 0.0954508 (SEM: None)<br>Dimension1: 18.8<br>Dimension2: 14.04<br>Dilution(OD): 0.175<br>Nano_stock_vol: 0.25<br>Ag_acet_conc: 0.0007<br>Ag_acet_mass: 3.5<br>Doping%: 3<br>Time: 60<br>Temperature: 25<br>pre-QY: 0.405553",
          "Arm 13_0<br>f: 0.128166 (SEM: None)<br>Dimension1: 35<br>Dimension2: 15<br>Dilution(OD): 0.212<br>Nano_stock_vol: 0.5<br>Ag_acet_conc: 0.0007<br>Ag_acet_mass: 3.5<br>Doping%: 0.5<br>Time: 60<br>Temperature: 25<br>pre-QY: 0.641724",
          "Arm 14_0<br>f: 0.121408 (SEM: None)<br>Dimension1: 35<br>Dimension2: 15<br>Dilution(OD): 0.212<br>Nano_stock_vol: 0.5<br>Ag_acet_conc: 0.0007<br>Ag_acet_mass: 3.5<br>Doping%: 1<br>Time: 60<br>Temperature: 25<br>pre-QY: 0.641724",
          "Arm 15_0<br>f: 0.167581 (SEM: None)<br>Dimension1: 35<br>Dimension2: 15<br>Dilution(OD): 0.212<br>Nano_stock_vol: 0.5<br>Ag_acet_conc: 0.0007<br>Ag_acet_mass: 3.5<br>Doping%: 2<br>Time: 60<br>Temperature: 25<br>pre-QY: 0.641724",
          "Arm 16_0<br>f: 0.144039 (SEM: None)<br>Dimension1: 35<br>Dimension2: 15<br>Dilution(OD): 0.212<br>Nano_stock_vol: 0.5<br>Ag_acet_conc: 0.0007<br>Ag_acet_mass: 3.5<br>Doping%: 3<br>Time: 60<br>Temperature: 25<br>pre-QY: 0.641724",
          "Arm 17_0<br>f: 0.174468 (SEM: None)<br>Dimension1: 35<br>Dimension2: 15<br>Dilution(OD): 0.212<br>Nano_stock_vol: 0.5<br>Ag_acet_conc: 0.0007<br>Ag_acet_mass: 3.5<br>Doping%: 5<br>Time: 60<br>Temperature: 25<br>pre-QY: 0.641724",
          "Arm 18_0<br>f: 0.169743 (SEM: None)<br>Dimension1: 31.63<br>Dimension2: 13.8<br>Dilution(OD): 0.12<br>Nano_stock_vol: 0.5<br>Ag_acet_conc: 0.0007<br>Ag_acet_mass: 3.5<br>Doping%: 0.5<br>Time: 60<br>Temperature: 25<br>pre-QY: 0.387678",
          "Arm 19_0<br>f: 0.133224 (SEM: None)<br>Dimension1: 31.63<br>Dimension2: 13.8<br>Dilution(OD): 0.12<br>Nano_stock_vol: 0.5<br>Ag_acet_conc: 0.0007<br>Ag_acet_mass: 3.5<br>Doping%: 0.75<br>Time: 60<br>Temperature: 25<br>pre-QY: 0.387678",
          "Arm 1_0<br>f: 0.230743 (SEM: None)<br>Dimension1: 18.8<br>Dimension2: 14.04<br>Dilution(OD): 0.175<br>Nano_stock_vol: 0.25<br>Ag_acet_conc: 0.006<br>Ag_acet_mass: 7.8<br>Doping%: 2.5<br>Time: 60<br>Temperature: 25<br>pre-QY: 0.405553",
          "Arm 20_0<br>f: 0.188305 (SEM: None)<br>Dimension1: 31.63<br>Dimension2: 13.8<br>Dilution(OD): 0.12<br>Nano_stock_vol: 0.5<br>Ag_acet_conc: 0.0007<br>Ag_acet_mass: 3.5<br>Doping%: 1<br>Time: 60<br>Temperature: 25<br>pre-QY: 0.387678",
          "Arm 21_0<br>f: 0.176121 (SEM: None)<br>Dimension1: 31.63<br>Dimension2: 13.8<br>Dilution(OD): 0.12<br>Nano_stock_vol: 0.5<br>Ag_acet_conc: 0.0007<br>Ag_acet_mass: 3.5<br>Doping%: 5<br>Time: 60<br>Temperature: 25<br>pre-QY: 0.387678",
          "Arm 22_0<br>f: 0.320538 (SEM: None)<br>Dimension1: 31.63<br>Dimension2: 13.8<br>Dilution(OD): 0.12<br>Nano_stock_vol: 0.5<br>Ag_acet_conc: 0.006<br>Ag_acet_mass: 14<br>Doping%: 0.25<br>Time: 60<br>Temperature: 25<br>pre-QY: 0.446692",
          "Arm 23_0<br>f: 0.363979 (SEM: None)<br>Dimension1: 31.63<br>Dimension2: 13.8<br>Dilution(OD): 0.12<br>Nano_stock_vol: 0.5<br>Ag_acet_conc: 0.006<br>Ag_acet_mass: 14<br>Doping%: 0.5<br>Time: 60<br>Temperature: 25<br>pre-QY: 0.446692",
          "Arm 24_0<br>f: 0.291012 (SEM: None)<br>Dimension1: 31.63<br>Dimension2: 13.8<br>Dilution(OD): 0.12<br>Nano_stock_vol: 0.5<br>Ag_acet_conc: 0.006<br>Ag_acet_mass: 14<br>Doping%: 1<br>Time: 60<br>Temperature: 25<br>pre-QY: 0.446692",
          "Arm 25_0<br>f: 0.186056 (SEM: None)<br>Dimension1: 31.63<br>Dimension2: 13.8<br>Dilution(OD): 0.12<br>Nano_stock_vol: 0.5<br>Ag_acet_conc: 0.006<br>Ag_acet_mass: 14<br>Doping%: 5<br>Time: 60<br>Temperature: 25<br>pre-QY: 0.446692",
          "Arm 26_0<br>f: 0.180357 (SEM: None)<br>Dimension1: 36.27<br>Dimension2: 6.52<br>Dilution(OD): 0.12<br>Nano_stock_vol: 0.5<br>Ag_acet_conc: 0.0007<br>Ag_acet_mass: 3.5<br>Doping%: 3<br>Time: 10<br>Temperature: 0<br>pre-QY: 0.826609",
          "Arm 27_0<br>f: 1.12834e-08 (SEM: None)<br>Dimension1: 36.27<br>Dimension2: 6.52<br>Dilution(OD): 0.12<br>Nano_stock_vol: 0.5<br>Ag_acet_conc: 0.0007<br>Ag_acet_mass: 3.5<br>Doping%: 3<br>Time: 10<br>Temperature: 25<br>pre-QY: 0.826609",
          "Arm 28_0<br>f: 0.162789 (SEM: None)<br>Dimension1: 36.27<br>Dimension2: 6.52<br>Dilution(OD): 0.12<br>Nano_stock_vol: 0.5<br>Ag_acet_conc: 0.0007<br>Ag_acet_mass: 3.5<br>Doping%: 3<br>Time: 10<br>Temperature: 50<br>pre-QY: 0.826609",
          "Arm 29_0<br>f: 1.12656e-08 (SEM: None)<br>Dimension1: 36.27<br>Dimension2: 6.52<br>Dilution(OD): 0.12<br>Nano_stock_vol: 0.5<br>Ag_acet_conc: 0.0007<br>Ag_acet_mass: 3.5<br>Doping%: 3<br>Time: 60<br>Temperature: 0<br>pre-QY: 0.826609",
          "Arm 2_0<br>f: 0.234684 (SEM: None)<br>Dimension1: 18.8<br>Dimension2: 14.04<br>Dilution(OD): 0.175<br>Nano_stock_vol: 0.25<br>Ag_acet_conc: 0.006<br>Ag_acet_mass: 7.8<br>Doping%: 5<br>Time: 60<br>Temperature: 25<br>pre-QY: 0.405553",
          "Arm 30_0<br>f: 0.0941716 (SEM: None)<br>Dimension1: 36.27<br>Dimension2: 6.52<br>Dilution(OD): 0.12<br>Nano_stock_vol: 0.5<br>Ag_acet_conc: 0.0007<br>Ag_acet_mass: 3.5<br>Doping%: 3<br>Time: 60<br>Temperature: 25<br>pre-QY: 0.826609",
          "Arm 31_0<br>f: 0.0979804 (SEM: None)<br>Dimension1: 36.27<br>Dimension2: 6.52<br>Dilution(OD): 0.12<br>Nano_stock_vol: 0.5<br>Ag_acet_conc: 0.0007<br>Ag_acet_mass: 3.5<br>Doping%: 3<br>Time: 60<br>Temperature: 50<br>pre-QY: 0.826609",
          "Arm 32_0<br>f: 0.0822179 (SEM: None)<br>Dimension1: 36.27<br>Dimension2: 6.52<br>Dilution(OD): 0.12<br>Nano_stock_vol: 0.5<br>Ag_acet_conc: 0.0007<br>Ag_acet_mass: 3.5<br>Doping%: 3<br>Time: 180<br>Temperature: 25<br>pre-QY: 0.826609",
          "Arm 33_0<br>f: 0.246887 (SEM: None)<br>Dimension1: 36.27<br>Dimension2: 6.52<br>Dilution(OD): 0.12<br>Nano_stock_vol: 0.5<br>Ag_acet_conc: 0.0007<br>Ag_acet_mass: 3.5<br>Doping%: 10<br>Time: 10<br>Temperature: 0<br>pre-QY: 0.826609",
          "Arm 34_0<br>f: 0.0565085 (SEM: None)<br>Dimension1: 36.27<br>Dimension2: 6.52<br>Dilution(OD): 0.12<br>Nano_stock_vol: 0.5<br>Ag_acet_conc: 0.0007<br>Ag_acet_mass: 3.5<br>Doping%: 10<br>Time: 10<br>Temperature: 25<br>pre-QY: 0.826609",
          "Arm 35_0<br>f: 0.273843 (SEM: None)<br>Dimension1: 36.27<br>Dimension2: 6.52<br>Dilution(OD): 0.12<br>Nano_stock_vol: 0.5<br>Ag_acet_conc: 0.0007<br>Ag_acet_mass: 3.5<br>Doping%: 10<br>Time: 10<br>Temperature: 50<br>pre-QY: 0.826609",
          "Arm 36_0<br>f: 0.308193 (SEM: None)<br>Dimension1: 36.27<br>Dimension2: 6.52<br>Dilution(OD): 0.12<br>Nano_stock_vol: 0.5<br>Ag_acet_conc: 0.0007<br>Ag_acet_mass: 3.5<br>Doping%: 10<br>Time: 60<br>Temperature: 0<br>pre-QY: 0.826609",
          "Arm 37_0<br>f: 0.248769 (SEM: None)<br>Dimension1: 36.27<br>Dimension2: 6.52<br>Dilution(OD): 0.12<br>Nano_stock_vol: 0.5<br>Ag_acet_conc: 0.0007<br>Ag_acet_mass: 3.5<br>Doping%: 10<br>Time: 60<br>Temperature: 25<br>pre-QY: 0.826609",
          "Arm 38_0<br>f: 0.366136 (SEM: None)<br>Dimension1: 36.27<br>Dimension2: 6.52<br>Dilution(OD): 0.12<br>Nano_stock_vol: 0.5<br>Ag_acet_conc: 0.0007<br>Ag_acet_mass: 3.5<br>Doping%: 10<br>Time: 60<br>Temperature: 50<br>pre-QY: 0.826609",
          "Arm 39_0<br>f: 6.00843e-09 (SEM: None)<br>Dimension1: 36.27<br>Dimension2: 6.52<br>Dilution(OD): 0.12<br>Nano_stock_vol: 0.5<br>Ag_acet_conc: 0.0007<br>Ag_acet_mass: 3.5<br>Doping%: 10<br>Time: 180<br>Temperature: 25<br>pre-QY: 0.826609",
          "Arm 3_0<br>f: 0.083888 (SEM: None)<br>Dimension1: 18.8<br>Dimension2: 14.04<br>Dilution(OD): 0.175<br>Nano_stock_vol: 0.25<br>Ag_acet_conc: 0.006<br>Ag_acet_mass: 7.8<br>Doping%: 10<br>Time: 60<br>Temperature: 25<br>pre-QY: 0.405553",
          "Arm 40_0<br>f: 5.37608e-23 (SEM: None)<br>Dimension1: 45.77<br>Dimension2: 7.29<br>Dilution(OD): 0.26<br>Nano_stock_vol: 0.5<br>Ag_acet_conc: 0.0007<br>Ag_acet_mass: 3.5<br>Doping%: 1<br>Time: 10<br>Temperature: 0<br>pre-QY: 0.771967",
          "Arm 41_0<br>f: 3.60971e-23 (SEM: None)<br>Dimension1: 45.77<br>Dimension2: 7.29<br>Dilution(OD): 0.26<br>Nano_stock_vol: 0.5<br>Ag_acet_conc: 0.0007<br>Ag_acet_mass: 3.5<br>Doping%: 1<br>Time: 10<br>Temperature: 25<br>pre-QY: 0.771967",
          "Arm 42_0<br>f: 0.0311985 (SEM: None)<br>Dimension1: 45.77<br>Dimension2: 7.29<br>Dilution(OD): 0.26<br>Nano_stock_vol: 0.5<br>Ag_acet_conc: 0.0007<br>Ag_acet_mass: 3.5<br>Doping%: 1<br>Time: 10<br>Temperature: 50<br>pre-QY: 0.771967",
          "Arm 43_0<br>f: 1.25093e-23 (SEM: None)<br>Dimension1: 45.77<br>Dimension2: 7.29<br>Dilution(OD): 0.26<br>Nano_stock_vol: 0.5<br>Ag_acet_conc: 0.0007<br>Ag_acet_mass: 3.5<br>Doping%: 1<br>Time: 60<br>Temperature: 0<br>pre-QY: 0.771967",
          "Arm 44_0<br>f: 2.63426e-23 (SEM: None)<br>Dimension1: 45.77<br>Dimension2: 7.29<br>Dilution(OD): 0.26<br>Nano_stock_vol: 0.5<br>Ag_acet_conc: 0.0007<br>Ag_acet_mass: 3.5<br>Doping%: 1<br>Time: 60<br>Temperature: 25<br>pre-QY: 0.771967",
          "Arm 45_0<br>f: 0.0323518 (SEM: None)<br>Dimension1: 45.77<br>Dimension2: 7.29<br>Dilution(OD): 0.26<br>Nano_stock_vol: 0.5<br>Ag_acet_conc: 0.0007<br>Ag_acet_mass: 3.5<br>Doping%: 1<br>Time: 60<br>Temperature: 50<br>pre-QY: 0.771967",
          "Arm 46_0<br>f: 0.153251 (SEM: None)<br>Dimension1: 45.77<br>Dimension2: 7.29<br>Dilution(OD): 0.26<br>Nano_stock_vol: 0.5<br>Ag_acet_conc: 0.0007<br>Ag_acet_mass: 3.5<br>Doping%: 5<br>Time: 10<br>Temperature: 0<br>pre-QY: 0.771967",
          "Arm 47_0<br>f: 0.0649503 (SEM: None)<br>Dimension1: 45.77<br>Dimension2: 7.29<br>Dilution(OD): 0.26<br>Nano_stock_vol: 0.5<br>Ag_acet_conc: 0.0007<br>Ag_acet_mass: 3.5<br>Doping%: 5<br>Time: 10<br>Temperature: 25<br>pre-QY: 0.771967",
          "Arm 48_0<br>f: 0.465996 (SEM: None)<br>Dimension1: 30.928<br>Dimension2: 7.955<br>Dilution(OD): 0.42<br>Nano_stock_vol: 0.5<br>Ag_acet_conc: 0.006<br>Ag_acet_mass: 14<br>Doping%: 5.5883<br>Time: 60<br>Temperature: 25<br>pre-QY: 0.595737",
          "Arm 49_0<br>f: 0.175615 (SEM: None)<br>Dimension1: 46.35<br>Dimension2: 8.09<br>Dilution(OD): 0.42<br>Nano_stock_vol: 0.5<br>Ag_acet_conc: 0.006<br>Ag_acet_mass: 14<br>Doping%: 4.72<br>Time: 60<br>Temperature: 25<br>pre-QY: 0.173829",
          "Arm 4_0<br>f: 4.92881e-08 (SEM: None)<br>Dimension1: 18.8<br>Dimension2: 14.04<br>Dilution(OD): 0.175<br>Nano_stock_vol: 0.25<br>Ag_acet_conc: 0.0007<br>Ag_acet_mass: 3.5<br>Doping%: 0.25<br>Time: 60<br>Temperature: 25<br>pre-QY: 0.405553",
          "Arm 50_0<br>f: 0.190241 (SEM: None)<br>Dimension1: 36.9235<br>Dimension2: 7.443<br>Dilution(OD): 0.42<br>Nano_stock_vol: 0.5<br>Ag_acet_conc: 0.006<br>Ag_acet_mass: 14<br>Doping%: 4.11<br>Time: 60<br>Temperature: 25<br>pre-QY: 0.164136",
          "Arm 51_0<br>f: 0.146221 (SEM: None)<br>Dimension1: 27.5727<br>Dimension2: 8.1029<br>Dilution(OD): 0.44<br>Nano_stock_vol: 0.25<br>Ag_acet_conc: 0.006<br>Ag_acet_mass: 14<br>Doping%: 2.77<br>Time: 60<br>Temperature: 25<br>pre-QY: 0.214952",
          "Arm 52_0<br>f: 0.199923 (SEM: None)<br>Dimension1: 50.5758<br>Dimension2: 6.84<br>Dilution(OD): 0.42<br>Nano_stock_vol: 0.5<br>Ag_acet_conc: 0.006<br>Ag_acet_mass: 14<br>Doping%: 4.842<br>Time: 60<br>Temperature: 25<br>pre-QY: 0.279689",
          "Arm 53_0<br>f: 0.191592 (SEM: None)<br>Dimension1: 30.3477<br>Dimension2: 6.1498<br>Dilution(OD): 0.12<br>Nano_stock_vol: 0.25<br>Ag_acet_conc: 0.006<br>Ag_acet_mass: 14<br>Doping%: 1.5238<br>Time: 10<br>Temperature: 0<br>pre-QY: 0.595736",
          "Arm 54_0<br>f: 1.53554e-20 (SEM: None)<br>Dimension1: 35.6695<br>Dimension2: 9.795<br>Dilution(OD): 0.1877<br>Nano_stock_vol: 0.5<br>Ag_acet_conc: 0.0007<br>Ag_acet_mass: 14<br>Doping%: 0.191<br>Time: 10<br>Temperature: 50<br>pre-QY: 0.377847",
          "Arm 55_0<br>f: 0.175762 (SEM: None)<br>Dimension1: 30.9282<br>Dimension2: 7.9553<br>Dilution(OD): 0.1935<br>Nano_stock_vol: 0.25<br>Ag_acet_conc: 0.006<br>Ag_acet_mass: 3.5<br>Doping%: 8.133<br>Time: 180<br>Temperature: 50<br>pre-QY: 0.493237",
          "Arm 56_0<br>f: 0.360513 (SEM: None)<br>Dimension1: 28.2762<br>Dimension2: 9.0038<br>Dilution(OD): 0.437<br>Nano_stock_vol: 0.5<br>Ag_acet_conc: 0.006<br>Ag_acet_mass: 14<br>Doping%: 6.37355<br>Time: 60<br>Temperature: 25<br>pre-QY: 0.703332",
          "Arm 57_0<br>f: 0.381981 (SEM: None)<br>Dimension1: 31.1209<br>Dimension2: 7.35795<br>Dilution(OD): 0.414<br>Nano_stock_vol: 0.5<br>Ag_acet_conc: 0.006<br>Ag_acet_mass: 14<br>Doping%: 6.78726<br>Time: 60<br>Temperature: 25<br>pre-QY: 0.684229",
          "Arm 58_0<br>f: 0.453762 (SEM: None)<br>Dimension1: 33.6536<br>Dimension2: 6.9259<br>Dilution(OD): 0.45<br>Nano_stock_vol: 0.5<br>Ag_acet_conc: 0.006<br>Ag_acet_mass: 14<br>Doping%: 7.06825<br>Time: 60<br>Temperature: 25<br>pre-QY: 0.477395",
          "Arm 59_0<br>f: 0.328337 (SEM: None)<br>Dimension1: 30.5937<br>Dimension2: 8.8969<br>Dilution(OD): 0.427<br>Nano_stock_vol: 0.5<br>Ag_acet_conc: 0.006<br>Ag_acet_mass: 14<br>Doping%: 6.65658<br>Time: 60<br>Temperature: 25<br>pre-QY: 0.801495",
          "Arm 5_0<br>f: 0.0942982 (SEM: None)<br>Dimension1: 18.8<br>Dimension2: 14.04<br>Dilution(OD): 0.175<br>Nano_stock_vol: 0.25<br>Ag_acet_conc: 0.0007<br>Ag_acet_mass: 3.5<br>Doping%: 0.5<br>Time: 60<br>Temperature: 25<br>pre-QY: 0.405553",
          "Arm 60_0<br>f: 0.350817 (SEM: None)<br>Dimension1: 29.5289<br>Dimension2: 8.7368<br>Dilution(OD): 0.465<br>Nano_stock_vol: 0.5<br>Ag_acet_conc: 0.006<br>Ag_acet_mass: 14<br>Doping%: 6.53368<br>Time: 60<br>Temperature: 25<br>pre-QY: 0.561626",
          "Arm 61_0<br>f: 0.500314 (SEM: None)<br>Dimension1: 28.2762<br>Dimension2: 9.0038<br>Dilution(OD): 0.3407<br>Nano_stock_vol: 0.5<br>Ag_acet_conc: 0.006<br>Ag_acet_mass: 3.5<br>Doping%: 0.5088<br>Time: 180<br>Temperature: 25<br>pre-QY: 0.703332",
          "Arm 62_0<br>f: 0.100396 (SEM: None)<br>Dimension1: 31.1209<br>Dimension2: 7.35795<br>Dilution(OD): 0.4<br>Nano_stock_vol: 0.25<br>Ag_acet_conc: 0.006<br>Ag_acet_mass: 3.5<br>Doping%: 9.1994<br>Time: 60<br>Temperature: 50<br>pre-QY: 0.684229",
          "Arm 63_0<br>f: 0.186187 (SEM: None)<br>Dimension1: 33.6536<br>Dimension2: 6.9259<br>Dilution(OD): 0.2559<br>Nano_stock_vol: 0.25<br>Ag_acet_conc: 0.006<br>Ag_acet_mass: 3.5<br>Doping%: 8.2027<br>Time: 60<br>Temperature: 0<br>pre-QY: 0.804999",
          "Arm 64_0<br>f: 0.243604 (SEM: None)<br>Dimension1: 30.5937<br>Dimension2: 8.8969<br>Dilution(OD): 0.313<br>Nano_stock_vol: 0.25<br>Ag_acet_conc: 0.006<br>Ag_acet_mass: 3.5<br>Doping%: 6.8903<br>Time: 10<br>Temperature: 50<br>pre-QY: 0.773533",
          "Arm 65_0<br>f: 0.482376 (SEM: None)<br>Dimension1: 33.6536<br>Dimension2: 6.9259<br>Dilution(OD): 0.3<br>Nano_stock_vol: 0.5<br>Ag_acet_conc: 0.0007<br>Ag_acet_mass: 14<br>Doping%: 10<br>Time: 60<br>Temperature: 0<br>pre-QY: 0.804999",
          "Arm 66_0<br>f: 0.314646 (SEM: None)<br>Dimension1: 30.5937<br>Dimension2: 8.8969<br>Dilution(OD): 0.3<br>Nano_stock_vol: 0.5<br>Ag_acet_conc: 0.006<br>Ag_acet_mass: 3.5<br>Doping%: 2<br>Time: 60<br>Temperature: 0<br>pre-QY: 0.773533",
          "Arm 67_0<br>f: 0.469385 (SEM: None)<br>Dimension1: 33.6536<br>Dimension2: 6.9259<br>Dilution(OD): 0.15<br>Nano_stock_vol: 0.25<br>Ag_acet_conc: 0.0007<br>Ag_acet_mass: 14<br>Doping%: 5<br>Time: 10<br>Temperature: 0<br>pre-QY: 0.804999",
          "Arm 68_0<br>f: 0.72739 (SEM: None)<br>Dimension1: 33.6536<br>Dimension2: 6.9259<br>Dilution(OD): 0.15<br>Nano_stock_vol: 0.5<br>Ag_acet_conc: 0.006<br>Ag_acet_mass: 7.8<br>Doping%: 5<br>Time: 10<br>Temperature: 25<br>pre-QY: 0.804999",
          "Arm 69_0<br>f: 0.630708 (SEM: None)<br>Dimension1: 33.6536<br>Dimension2: 6.9259<br>Dilution(OD): 0.15<br>Nano_stock_vol: 0.5<br>Ag_acet_conc: 0.0007<br>Ag_acet_mass: 3.5<br>Doping%: 5<br>Time: 60<br>Temperature: 25<br>pre-QY: 0.804999",
          "Arm 6_0<br>f: 0.103654 (SEM: None)<br>Dimension1: 18.8<br>Dimension2: 14.04<br>Dilution(OD): 0.175<br>Nano_stock_vol: 0.25<br>Ag_acet_conc: 0.0007<br>Ag_acet_mass: 3.5<br>Doping%: 0.75<br>Time: 60<br>Temperature: 25<br>pre-QY: 0.405553",
          "Arm 7_0<br>f: 0.0922627 (SEM: None)<br>Dimension1: 18.8<br>Dimension2: 14.04<br>Dilution(OD): 0.175<br>Nano_stock_vol: 0.25<br>Ag_acet_conc: 0.0007<br>Ag_acet_mass: 3.5<br>Doping%: 1<br>Time: 60<br>Temperature: 25<br>pre-QY: 0.405553",
          "Arm 8_0<br>f: 0.0934143 (SEM: None)<br>Dimension1: 18.8<br>Dimension2: 14.04<br>Dilution(OD): 0.175<br>Nano_stock_vol: 0.25<br>Ag_acet_conc: 0.0007<br>Ag_acet_mass: 3.5<br>Doping%: 1.25<br>Time: 60<br>Temperature: 25<br>pre-QY: 0.405553",
          "Arm 9_0<br>f: 0.12448 (SEM: None)<br>Dimension1: 18.8<br>Dimension2: 14.04<br>Dilution(OD): 0.175<br>Nano_stock_vol: 0.25<br>Ag_acet_conc: 0.0007<br>Ag_acet_mass: 3.5<br>Doping%: 1.5<br>Time: 60<br>Temperature: 25<br>pre-QY: 0.405553"
         ],
         "type": "scatter",
         "x": [
          18.8,
          18.8,
          18.8,
          18.8,
          35,
          35,
          35,
          35,
          35,
          31.63,
          31.63,
          18.8,
          31.63,
          31.63,
          31.63,
          31.63,
          31.63,
          31.63,
          36.27,
          36.27,
          36.27,
          36.27,
          18.8,
          36.27,
          36.27,
          36.27,
          36.27,
          36.27,
          36.27,
          36.27,
          36.27,
          36.27,
          36.27,
          18.8,
          45.77,
          45.77,
          45.77,
          45.77,
          45.77,
          45.77,
          45.77,
          45.77,
          30.928,
          46.35,
          18.8,
          36.9235,
          27.5727,
          50.5758,
          30.3477,
          35.66948,
          30.9282,
          28.2762,
          31.1209,
          33.65365,
          30.5937,
          18.8,
          29.5289,
          28.2762,
          31.1209,
          33.65365,
          30.5937,
          33.65365,
          30.5937,
          33.65365,
          33.65365,
          33.65365,
          18.8,
          18.8,
          18.8,
          18.8
         ],
         "xaxis": "x",
         "y": [
          1.25,
          1.75,
          2,
          3,
          0.5,
          1,
          2,
          3,
          5,
          0.5,
          0.75,
          2.5,
          1,
          5,
          0.25,
          0.5,
          1,
          5,
          3,
          3,
          3,
          3,
          5,
          3,
          3,
          3,
          10,
          10,
          10,
          10,
          10,
          10,
          10,
          10,
          1,
          1,
          1,
          1,
          1,
          1,
          5,
          5,
          5.5883,
          4.72,
          0.25,
          4.11,
          2.77,
          4.842,
          1.5238,
          0.191,
          8.133,
          6.373548,
          6.787258,
          7.068255,
          6.656585,
          0.5,
          6.533683,
          0.5088,
          9.1994,
          8.2027,
          6.8903,
          10,
          2,
          5,
          5,
          5,
          0.75,
          1,
          1.25,
          1.5
         ],
         "yaxis": "y"
        },
        {
         "hoverinfo": "text",
         "legendgroup": "In-sample",
         "marker": {
          "color": "black",
          "opacity": 0.5,
          "symbol": 1
         },
         "mode": "markers",
         "name": "In-sample",
         "showlegend": false,
         "text": [
          "Arm 0_0<br>f: 0.307497 (SEM: None)<br>Dimension1: 18.8<br>Dimension2: 14.04<br>Dilution(OD): 0.175<br>Nano_stock_vol: 0.25<br>Ag_acet_conc: 0.006<br>Ag_acet_mass: 7.8<br>Doping%: 1.25<br>Time: 60<br>Temperature: 25<br>pre-QY: 0.405553",
          "Arm 10_0<br>f: 0.106451 (SEM: None)<br>Dimension1: 18.8<br>Dimension2: 14.04<br>Dilution(OD): 0.175<br>Nano_stock_vol: 0.25<br>Ag_acet_conc: 0.0007<br>Ag_acet_mass: 3.5<br>Doping%: 1.75<br>Time: 60<br>Temperature: 25<br>pre-QY: 0.405553",
          "Arm 11_0<br>f: 0.1031 (SEM: None)<br>Dimension1: 18.8<br>Dimension2: 14.04<br>Dilution(OD): 0.175<br>Nano_stock_vol: 0.25<br>Ag_acet_conc: 0.0007<br>Ag_acet_mass: 3.5<br>Doping%: 2<br>Time: 60<br>Temperature: 25<br>pre-QY: 0.405553",
          "Arm 12_0<br>f: 0.0954508 (SEM: None)<br>Dimension1: 18.8<br>Dimension2: 14.04<br>Dilution(OD): 0.175<br>Nano_stock_vol: 0.25<br>Ag_acet_conc: 0.0007<br>Ag_acet_mass: 3.5<br>Doping%: 3<br>Time: 60<br>Temperature: 25<br>pre-QY: 0.405553",
          "Arm 13_0<br>f: 0.128166 (SEM: None)<br>Dimension1: 35<br>Dimension2: 15<br>Dilution(OD): 0.212<br>Nano_stock_vol: 0.5<br>Ag_acet_conc: 0.0007<br>Ag_acet_mass: 3.5<br>Doping%: 0.5<br>Time: 60<br>Temperature: 25<br>pre-QY: 0.641724",
          "Arm 14_0<br>f: 0.121408 (SEM: None)<br>Dimension1: 35<br>Dimension2: 15<br>Dilution(OD): 0.212<br>Nano_stock_vol: 0.5<br>Ag_acet_conc: 0.0007<br>Ag_acet_mass: 3.5<br>Doping%: 1<br>Time: 60<br>Temperature: 25<br>pre-QY: 0.641724",
          "Arm 15_0<br>f: 0.167581 (SEM: None)<br>Dimension1: 35<br>Dimension2: 15<br>Dilution(OD): 0.212<br>Nano_stock_vol: 0.5<br>Ag_acet_conc: 0.0007<br>Ag_acet_mass: 3.5<br>Doping%: 2<br>Time: 60<br>Temperature: 25<br>pre-QY: 0.641724",
          "Arm 16_0<br>f: 0.144039 (SEM: None)<br>Dimension1: 35<br>Dimension2: 15<br>Dilution(OD): 0.212<br>Nano_stock_vol: 0.5<br>Ag_acet_conc: 0.0007<br>Ag_acet_mass: 3.5<br>Doping%: 3<br>Time: 60<br>Temperature: 25<br>pre-QY: 0.641724",
          "Arm 17_0<br>f: 0.174468 (SEM: None)<br>Dimension1: 35<br>Dimension2: 15<br>Dilution(OD): 0.212<br>Nano_stock_vol: 0.5<br>Ag_acet_conc: 0.0007<br>Ag_acet_mass: 3.5<br>Doping%: 5<br>Time: 60<br>Temperature: 25<br>pre-QY: 0.641724",
          "Arm 18_0<br>f: 0.169743 (SEM: None)<br>Dimension1: 31.63<br>Dimension2: 13.8<br>Dilution(OD): 0.12<br>Nano_stock_vol: 0.5<br>Ag_acet_conc: 0.0007<br>Ag_acet_mass: 3.5<br>Doping%: 0.5<br>Time: 60<br>Temperature: 25<br>pre-QY: 0.387678",
          "Arm 19_0<br>f: 0.133224 (SEM: None)<br>Dimension1: 31.63<br>Dimension2: 13.8<br>Dilution(OD): 0.12<br>Nano_stock_vol: 0.5<br>Ag_acet_conc: 0.0007<br>Ag_acet_mass: 3.5<br>Doping%: 0.75<br>Time: 60<br>Temperature: 25<br>pre-QY: 0.387678",
          "Arm 1_0<br>f: 0.230743 (SEM: None)<br>Dimension1: 18.8<br>Dimension2: 14.04<br>Dilution(OD): 0.175<br>Nano_stock_vol: 0.25<br>Ag_acet_conc: 0.006<br>Ag_acet_mass: 7.8<br>Doping%: 2.5<br>Time: 60<br>Temperature: 25<br>pre-QY: 0.405553",
          "Arm 20_0<br>f: 0.188305 (SEM: None)<br>Dimension1: 31.63<br>Dimension2: 13.8<br>Dilution(OD): 0.12<br>Nano_stock_vol: 0.5<br>Ag_acet_conc: 0.0007<br>Ag_acet_mass: 3.5<br>Doping%: 1<br>Time: 60<br>Temperature: 25<br>pre-QY: 0.387678",
          "Arm 21_0<br>f: 0.176121 (SEM: None)<br>Dimension1: 31.63<br>Dimension2: 13.8<br>Dilution(OD): 0.12<br>Nano_stock_vol: 0.5<br>Ag_acet_conc: 0.0007<br>Ag_acet_mass: 3.5<br>Doping%: 5<br>Time: 60<br>Temperature: 25<br>pre-QY: 0.387678",
          "Arm 22_0<br>f: 0.320538 (SEM: None)<br>Dimension1: 31.63<br>Dimension2: 13.8<br>Dilution(OD): 0.12<br>Nano_stock_vol: 0.5<br>Ag_acet_conc: 0.006<br>Ag_acet_mass: 14<br>Doping%: 0.25<br>Time: 60<br>Temperature: 25<br>pre-QY: 0.446692",
          "Arm 23_0<br>f: 0.363979 (SEM: None)<br>Dimension1: 31.63<br>Dimension2: 13.8<br>Dilution(OD): 0.12<br>Nano_stock_vol: 0.5<br>Ag_acet_conc: 0.006<br>Ag_acet_mass: 14<br>Doping%: 0.5<br>Time: 60<br>Temperature: 25<br>pre-QY: 0.446692",
          "Arm 24_0<br>f: 0.291012 (SEM: None)<br>Dimension1: 31.63<br>Dimension2: 13.8<br>Dilution(OD): 0.12<br>Nano_stock_vol: 0.5<br>Ag_acet_conc: 0.006<br>Ag_acet_mass: 14<br>Doping%: 1<br>Time: 60<br>Temperature: 25<br>pre-QY: 0.446692",
          "Arm 25_0<br>f: 0.186056 (SEM: None)<br>Dimension1: 31.63<br>Dimension2: 13.8<br>Dilution(OD): 0.12<br>Nano_stock_vol: 0.5<br>Ag_acet_conc: 0.006<br>Ag_acet_mass: 14<br>Doping%: 5<br>Time: 60<br>Temperature: 25<br>pre-QY: 0.446692",
          "Arm 26_0<br>f: 0.180357 (SEM: None)<br>Dimension1: 36.27<br>Dimension2: 6.52<br>Dilution(OD): 0.12<br>Nano_stock_vol: 0.5<br>Ag_acet_conc: 0.0007<br>Ag_acet_mass: 3.5<br>Doping%: 3<br>Time: 10<br>Temperature: 0<br>pre-QY: 0.826609",
          "Arm 27_0<br>f: 1.12834e-08 (SEM: None)<br>Dimension1: 36.27<br>Dimension2: 6.52<br>Dilution(OD): 0.12<br>Nano_stock_vol: 0.5<br>Ag_acet_conc: 0.0007<br>Ag_acet_mass: 3.5<br>Doping%: 3<br>Time: 10<br>Temperature: 25<br>pre-QY: 0.826609",
          "Arm 28_0<br>f: 0.162789 (SEM: None)<br>Dimension1: 36.27<br>Dimension2: 6.52<br>Dilution(OD): 0.12<br>Nano_stock_vol: 0.5<br>Ag_acet_conc: 0.0007<br>Ag_acet_mass: 3.5<br>Doping%: 3<br>Time: 10<br>Temperature: 50<br>pre-QY: 0.826609",
          "Arm 29_0<br>f: 1.12656e-08 (SEM: None)<br>Dimension1: 36.27<br>Dimension2: 6.52<br>Dilution(OD): 0.12<br>Nano_stock_vol: 0.5<br>Ag_acet_conc: 0.0007<br>Ag_acet_mass: 3.5<br>Doping%: 3<br>Time: 60<br>Temperature: 0<br>pre-QY: 0.826609",
          "Arm 2_0<br>f: 0.234684 (SEM: None)<br>Dimension1: 18.8<br>Dimension2: 14.04<br>Dilution(OD): 0.175<br>Nano_stock_vol: 0.25<br>Ag_acet_conc: 0.006<br>Ag_acet_mass: 7.8<br>Doping%: 5<br>Time: 60<br>Temperature: 25<br>pre-QY: 0.405553",
          "Arm 30_0<br>f: 0.0941716 (SEM: None)<br>Dimension1: 36.27<br>Dimension2: 6.52<br>Dilution(OD): 0.12<br>Nano_stock_vol: 0.5<br>Ag_acet_conc: 0.0007<br>Ag_acet_mass: 3.5<br>Doping%: 3<br>Time: 60<br>Temperature: 25<br>pre-QY: 0.826609",
          "Arm 31_0<br>f: 0.0979804 (SEM: None)<br>Dimension1: 36.27<br>Dimension2: 6.52<br>Dilution(OD): 0.12<br>Nano_stock_vol: 0.5<br>Ag_acet_conc: 0.0007<br>Ag_acet_mass: 3.5<br>Doping%: 3<br>Time: 60<br>Temperature: 50<br>pre-QY: 0.826609",
          "Arm 32_0<br>f: 0.0822179 (SEM: None)<br>Dimension1: 36.27<br>Dimension2: 6.52<br>Dilution(OD): 0.12<br>Nano_stock_vol: 0.5<br>Ag_acet_conc: 0.0007<br>Ag_acet_mass: 3.5<br>Doping%: 3<br>Time: 180<br>Temperature: 25<br>pre-QY: 0.826609",
          "Arm 33_0<br>f: 0.246887 (SEM: None)<br>Dimension1: 36.27<br>Dimension2: 6.52<br>Dilution(OD): 0.12<br>Nano_stock_vol: 0.5<br>Ag_acet_conc: 0.0007<br>Ag_acet_mass: 3.5<br>Doping%: 10<br>Time: 10<br>Temperature: 0<br>pre-QY: 0.826609",
          "Arm 34_0<br>f: 0.0565085 (SEM: None)<br>Dimension1: 36.27<br>Dimension2: 6.52<br>Dilution(OD): 0.12<br>Nano_stock_vol: 0.5<br>Ag_acet_conc: 0.0007<br>Ag_acet_mass: 3.5<br>Doping%: 10<br>Time: 10<br>Temperature: 25<br>pre-QY: 0.826609",
          "Arm 35_0<br>f: 0.273843 (SEM: None)<br>Dimension1: 36.27<br>Dimension2: 6.52<br>Dilution(OD): 0.12<br>Nano_stock_vol: 0.5<br>Ag_acet_conc: 0.0007<br>Ag_acet_mass: 3.5<br>Doping%: 10<br>Time: 10<br>Temperature: 50<br>pre-QY: 0.826609",
          "Arm 36_0<br>f: 0.308193 (SEM: None)<br>Dimension1: 36.27<br>Dimension2: 6.52<br>Dilution(OD): 0.12<br>Nano_stock_vol: 0.5<br>Ag_acet_conc: 0.0007<br>Ag_acet_mass: 3.5<br>Doping%: 10<br>Time: 60<br>Temperature: 0<br>pre-QY: 0.826609",
          "Arm 37_0<br>f: 0.248769 (SEM: None)<br>Dimension1: 36.27<br>Dimension2: 6.52<br>Dilution(OD): 0.12<br>Nano_stock_vol: 0.5<br>Ag_acet_conc: 0.0007<br>Ag_acet_mass: 3.5<br>Doping%: 10<br>Time: 60<br>Temperature: 25<br>pre-QY: 0.826609",
          "Arm 38_0<br>f: 0.366136 (SEM: None)<br>Dimension1: 36.27<br>Dimension2: 6.52<br>Dilution(OD): 0.12<br>Nano_stock_vol: 0.5<br>Ag_acet_conc: 0.0007<br>Ag_acet_mass: 3.5<br>Doping%: 10<br>Time: 60<br>Temperature: 50<br>pre-QY: 0.826609",
          "Arm 39_0<br>f: 6.00843e-09 (SEM: None)<br>Dimension1: 36.27<br>Dimension2: 6.52<br>Dilution(OD): 0.12<br>Nano_stock_vol: 0.5<br>Ag_acet_conc: 0.0007<br>Ag_acet_mass: 3.5<br>Doping%: 10<br>Time: 180<br>Temperature: 25<br>pre-QY: 0.826609",
          "Arm 3_0<br>f: 0.083888 (SEM: None)<br>Dimension1: 18.8<br>Dimension2: 14.04<br>Dilution(OD): 0.175<br>Nano_stock_vol: 0.25<br>Ag_acet_conc: 0.006<br>Ag_acet_mass: 7.8<br>Doping%: 10<br>Time: 60<br>Temperature: 25<br>pre-QY: 0.405553",
          "Arm 40_0<br>f: 5.37608e-23 (SEM: None)<br>Dimension1: 45.77<br>Dimension2: 7.29<br>Dilution(OD): 0.26<br>Nano_stock_vol: 0.5<br>Ag_acet_conc: 0.0007<br>Ag_acet_mass: 3.5<br>Doping%: 1<br>Time: 10<br>Temperature: 0<br>pre-QY: 0.771967",
          "Arm 41_0<br>f: 3.60971e-23 (SEM: None)<br>Dimension1: 45.77<br>Dimension2: 7.29<br>Dilution(OD): 0.26<br>Nano_stock_vol: 0.5<br>Ag_acet_conc: 0.0007<br>Ag_acet_mass: 3.5<br>Doping%: 1<br>Time: 10<br>Temperature: 25<br>pre-QY: 0.771967",
          "Arm 42_0<br>f: 0.0311985 (SEM: None)<br>Dimension1: 45.77<br>Dimension2: 7.29<br>Dilution(OD): 0.26<br>Nano_stock_vol: 0.5<br>Ag_acet_conc: 0.0007<br>Ag_acet_mass: 3.5<br>Doping%: 1<br>Time: 10<br>Temperature: 50<br>pre-QY: 0.771967",
          "Arm 43_0<br>f: 1.25093e-23 (SEM: None)<br>Dimension1: 45.77<br>Dimension2: 7.29<br>Dilution(OD): 0.26<br>Nano_stock_vol: 0.5<br>Ag_acet_conc: 0.0007<br>Ag_acet_mass: 3.5<br>Doping%: 1<br>Time: 60<br>Temperature: 0<br>pre-QY: 0.771967",
          "Arm 44_0<br>f: 2.63426e-23 (SEM: None)<br>Dimension1: 45.77<br>Dimension2: 7.29<br>Dilution(OD): 0.26<br>Nano_stock_vol: 0.5<br>Ag_acet_conc: 0.0007<br>Ag_acet_mass: 3.5<br>Doping%: 1<br>Time: 60<br>Temperature: 25<br>pre-QY: 0.771967",
          "Arm 45_0<br>f: 0.0323518 (SEM: None)<br>Dimension1: 45.77<br>Dimension2: 7.29<br>Dilution(OD): 0.26<br>Nano_stock_vol: 0.5<br>Ag_acet_conc: 0.0007<br>Ag_acet_mass: 3.5<br>Doping%: 1<br>Time: 60<br>Temperature: 50<br>pre-QY: 0.771967",
          "Arm 46_0<br>f: 0.153251 (SEM: None)<br>Dimension1: 45.77<br>Dimension2: 7.29<br>Dilution(OD): 0.26<br>Nano_stock_vol: 0.5<br>Ag_acet_conc: 0.0007<br>Ag_acet_mass: 3.5<br>Doping%: 5<br>Time: 10<br>Temperature: 0<br>pre-QY: 0.771967",
          "Arm 47_0<br>f: 0.0649503 (SEM: None)<br>Dimension1: 45.77<br>Dimension2: 7.29<br>Dilution(OD): 0.26<br>Nano_stock_vol: 0.5<br>Ag_acet_conc: 0.0007<br>Ag_acet_mass: 3.5<br>Doping%: 5<br>Time: 10<br>Temperature: 25<br>pre-QY: 0.771967",
          "Arm 48_0<br>f: 0.465996 (SEM: None)<br>Dimension1: 30.928<br>Dimension2: 7.955<br>Dilution(OD): 0.42<br>Nano_stock_vol: 0.5<br>Ag_acet_conc: 0.006<br>Ag_acet_mass: 14<br>Doping%: 5.5883<br>Time: 60<br>Temperature: 25<br>pre-QY: 0.595737",
          "Arm 49_0<br>f: 0.175615 (SEM: None)<br>Dimension1: 46.35<br>Dimension2: 8.09<br>Dilution(OD): 0.42<br>Nano_stock_vol: 0.5<br>Ag_acet_conc: 0.006<br>Ag_acet_mass: 14<br>Doping%: 4.72<br>Time: 60<br>Temperature: 25<br>pre-QY: 0.173829",
          "Arm 4_0<br>f: 4.92881e-08 (SEM: None)<br>Dimension1: 18.8<br>Dimension2: 14.04<br>Dilution(OD): 0.175<br>Nano_stock_vol: 0.25<br>Ag_acet_conc: 0.0007<br>Ag_acet_mass: 3.5<br>Doping%: 0.25<br>Time: 60<br>Temperature: 25<br>pre-QY: 0.405553",
          "Arm 50_0<br>f: 0.190241 (SEM: None)<br>Dimension1: 36.9235<br>Dimension2: 7.443<br>Dilution(OD): 0.42<br>Nano_stock_vol: 0.5<br>Ag_acet_conc: 0.006<br>Ag_acet_mass: 14<br>Doping%: 4.11<br>Time: 60<br>Temperature: 25<br>pre-QY: 0.164136",
          "Arm 51_0<br>f: 0.146221 (SEM: None)<br>Dimension1: 27.5727<br>Dimension2: 8.1029<br>Dilution(OD): 0.44<br>Nano_stock_vol: 0.25<br>Ag_acet_conc: 0.006<br>Ag_acet_mass: 14<br>Doping%: 2.77<br>Time: 60<br>Temperature: 25<br>pre-QY: 0.214952",
          "Arm 52_0<br>f: 0.199923 (SEM: None)<br>Dimension1: 50.5758<br>Dimension2: 6.84<br>Dilution(OD): 0.42<br>Nano_stock_vol: 0.5<br>Ag_acet_conc: 0.006<br>Ag_acet_mass: 14<br>Doping%: 4.842<br>Time: 60<br>Temperature: 25<br>pre-QY: 0.279689",
          "Arm 53_0<br>f: 0.191592 (SEM: None)<br>Dimension1: 30.3477<br>Dimension2: 6.1498<br>Dilution(OD): 0.12<br>Nano_stock_vol: 0.25<br>Ag_acet_conc: 0.006<br>Ag_acet_mass: 14<br>Doping%: 1.5238<br>Time: 10<br>Temperature: 0<br>pre-QY: 0.595736",
          "Arm 54_0<br>f: 1.53554e-20 (SEM: None)<br>Dimension1: 35.6695<br>Dimension2: 9.795<br>Dilution(OD): 0.1877<br>Nano_stock_vol: 0.5<br>Ag_acet_conc: 0.0007<br>Ag_acet_mass: 14<br>Doping%: 0.191<br>Time: 10<br>Temperature: 50<br>pre-QY: 0.377847",
          "Arm 55_0<br>f: 0.175762 (SEM: None)<br>Dimension1: 30.9282<br>Dimension2: 7.9553<br>Dilution(OD): 0.1935<br>Nano_stock_vol: 0.25<br>Ag_acet_conc: 0.006<br>Ag_acet_mass: 3.5<br>Doping%: 8.133<br>Time: 180<br>Temperature: 50<br>pre-QY: 0.493237",
          "Arm 56_0<br>f: 0.360513 (SEM: None)<br>Dimension1: 28.2762<br>Dimension2: 9.0038<br>Dilution(OD): 0.437<br>Nano_stock_vol: 0.5<br>Ag_acet_conc: 0.006<br>Ag_acet_mass: 14<br>Doping%: 6.37355<br>Time: 60<br>Temperature: 25<br>pre-QY: 0.703332",
          "Arm 57_0<br>f: 0.381981 (SEM: None)<br>Dimension1: 31.1209<br>Dimension2: 7.35795<br>Dilution(OD): 0.414<br>Nano_stock_vol: 0.5<br>Ag_acet_conc: 0.006<br>Ag_acet_mass: 14<br>Doping%: 6.78726<br>Time: 60<br>Temperature: 25<br>pre-QY: 0.684229",
          "Arm 58_0<br>f: 0.453762 (SEM: None)<br>Dimension1: 33.6536<br>Dimension2: 6.9259<br>Dilution(OD): 0.45<br>Nano_stock_vol: 0.5<br>Ag_acet_conc: 0.006<br>Ag_acet_mass: 14<br>Doping%: 7.06825<br>Time: 60<br>Temperature: 25<br>pre-QY: 0.477395",
          "Arm 59_0<br>f: 0.328337 (SEM: None)<br>Dimension1: 30.5937<br>Dimension2: 8.8969<br>Dilution(OD): 0.427<br>Nano_stock_vol: 0.5<br>Ag_acet_conc: 0.006<br>Ag_acet_mass: 14<br>Doping%: 6.65658<br>Time: 60<br>Temperature: 25<br>pre-QY: 0.801495",
          "Arm 5_0<br>f: 0.0942982 (SEM: None)<br>Dimension1: 18.8<br>Dimension2: 14.04<br>Dilution(OD): 0.175<br>Nano_stock_vol: 0.25<br>Ag_acet_conc: 0.0007<br>Ag_acet_mass: 3.5<br>Doping%: 0.5<br>Time: 60<br>Temperature: 25<br>pre-QY: 0.405553",
          "Arm 60_0<br>f: 0.350817 (SEM: None)<br>Dimension1: 29.5289<br>Dimension2: 8.7368<br>Dilution(OD): 0.465<br>Nano_stock_vol: 0.5<br>Ag_acet_conc: 0.006<br>Ag_acet_mass: 14<br>Doping%: 6.53368<br>Time: 60<br>Temperature: 25<br>pre-QY: 0.561626",
          "Arm 61_0<br>f: 0.500314 (SEM: None)<br>Dimension1: 28.2762<br>Dimension2: 9.0038<br>Dilution(OD): 0.3407<br>Nano_stock_vol: 0.5<br>Ag_acet_conc: 0.006<br>Ag_acet_mass: 3.5<br>Doping%: 0.5088<br>Time: 180<br>Temperature: 25<br>pre-QY: 0.703332",
          "Arm 62_0<br>f: 0.100396 (SEM: None)<br>Dimension1: 31.1209<br>Dimension2: 7.35795<br>Dilution(OD): 0.4<br>Nano_stock_vol: 0.25<br>Ag_acet_conc: 0.006<br>Ag_acet_mass: 3.5<br>Doping%: 9.1994<br>Time: 60<br>Temperature: 50<br>pre-QY: 0.684229",
          "Arm 63_0<br>f: 0.186187 (SEM: None)<br>Dimension1: 33.6536<br>Dimension2: 6.9259<br>Dilution(OD): 0.2559<br>Nano_stock_vol: 0.25<br>Ag_acet_conc: 0.006<br>Ag_acet_mass: 3.5<br>Doping%: 8.2027<br>Time: 60<br>Temperature: 0<br>pre-QY: 0.804999",
          "Arm 64_0<br>f: 0.243604 (SEM: None)<br>Dimension1: 30.5937<br>Dimension2: 8.8969<br>Dilution(OD): 0.313<br>Nano_stock_vol: 0.25<br>Ag_acet_conc: 0.006<br>Ag_acet_mass: 3.5<br>Doping%: 6.8903<br>Time: 10<br>Temperature: 50<br>pre-QY: 0.773533",
          "Arm 65_0<br>f: 0.482376 (SEM: None)<br>Dimension1: 33.6536<br>Dimension2: 6.9259<br>Dilution(OD): 0.3<br>Nano_stock_vol: 0.5<br>Ag_acet_conc: 0.0007<br>Ag_acet_mass: 14<br>Doping%: 10<br>Time: 60<br>Temperature: 0<br>pre-QY: 0.804999",
          "Arm 66_0<br>f: 0.314646 (SEM: None)<br>Dimension1: 30.5937<br>Dimension2: 8.8969<br>Dilution(OD): 0.3<br>Nano_stock_vol: 0.5<br>Ag_acet_conc: 0.006<br>Ag_acet_mass: 3.5<br>Doping%: 2<br>Time: 60<br>Temperature: 0<br>pre-QY: 0.773533",
          "Arm 67_0<br>f: 0.469385 (SEM: None)<br>Dimension1: 33.6536<br>Dimension2: 6.9259<br>Dilution(OD): 0.15<br>Nano_stock_vol: 0.25<br>Ag_acet_conc: 0.0007<br>Ag_acet_mass: 14<br>Doping%: 5<br>Time: 10<br>Temperature: 0<br>pre-QY: 0.804999",
          "Arm 68_0<br>f: 0.72739 (SEM: None)<br>Dimension1: 33.6536<br>Dimension2: 6.9259<br>Dilution(OD): 0.15<br>Nano_stock_vol: 0.5<br>Ag_acet_conc: 0.006<br>Ag_acet_mass: 7.8<br>Doping%: 5<br>Time: 10<br>Temperature: 25<br>pre-QY: 0.804999",
          "Arm 69_0<br>f: 0.630708 (SEM: None)<br>Dimension1: 33.6536<br>Dimension2: 6.9259<br>Dilution(OD): 0.15<br>Nano_stock_vol: 0.5<br>Ag_acet_conc: 0.0007<br>Ag_acet_mass: 3.5<br>Doping%: 5<br>Time: 60<br>Temperature: 25<br>pre-QY: 0.804999",
          "Arm 6_0<br>f: 0.103654 (SEM: None)<br>Dimension1: 18.8<br>Dimension2: 14.04<br>Dilution(OD): 0.175<br>Nano_stock_vol: 0.25<br>Ag_acet_conc: 0.0007<br>Ag_acet_mass: 3.5<br>Doping%: 0.75<br>Time: 60<br>Temperature: 25<br>pre-QY: 0.405553",
          "Arm 7_0<br>f: 0.0922627 (SEM: None)<br>Dimension1: 18.8<br>Dimension2: 14.04<br>Dilution(OD): 0.175<br>Nano_stock_vol: 0.25<br>Ag_acet_conc: 0.0007<br>Ag_acet_mass: 3.5<br>Doping%: 1<br>Time: 60<br>Temperature: 25<br>pre-QY: 0.405553",
          "Arm 8_0<br>f: 0.0934143 (SEM: None)<br>Dimension1: 18.8<br>Dimension2: 14.04<br>Dilution(OD): 0.175<br>Nano_stock_vol: 0.25<br>Ag_acet_conc: 0.0007<br>Ag_acet_mass: 3.5<br>Doping%: 1.25<br>Time: 60<br>Temperature: 25<br>pre-QY: 0.405553",
          "Arm 9_0<br>f: 0.12448 (SEM: None)<br>Dimension1: 18.8<br>Dimension2: 14.04<br>Dilution(OD): 0.175<br>Nano_stock_vol: 0.25<br>Ag_acet_conc: 0.0007<br>Ag_acet_mass: 3.5<br>Doping%: 1.5<br>Time: 60<br>Temperature: 25<br>pre-QY: 0.405553"
         ],
         "type": "scatter",
         "x": [
          18.8,
          18.8,
          18.8,
          18.8,
          35,
          35,
          35,
          35,
          35,
          31.63,
          31.63,
          18.8,
          31.63,
          31.63,
          31.63,
          31.63,
          31.63,
          31.63,
          36.27,
          36.27,
          36.27,
          36.27,
          18.8,
          36.27,
          36.27,
          36.27,
          36.27,
          36.27,
          36.27,
          36.27,
          36.27,
          36.27,
          36.27,
          18.8,
          45.77,
          45.77,
          45.77,
          45.77,
          45.77,
          45.77,
          45.77,
          45.77,
          30.928,
          46.35,
          18.8,
          36.9235,
          27.5727,
          50.5758,
          30.3477,
          35.66948,
          30.9282,
          28.2762,
          31.1209,
          33.65365,
          30.5937,
          18.8,
          29.5289,
          28.2762,
          31.1209,
          33.65365,
          30.5937,
          33.65365,
          30.5937,
          33.65365,
          33.65365,
          33.65365,
          18.8,
          18.8,
          18.8,
          18.8
         ],
         "xaxis": "x2",
         "y": [
          1.25,
          1.75,
          2,
          3,
          0.5,
          1,
          2,
          3,
          5,
          0.5,
          0.75,
          2.5,
          1,
          5,
          0.25,
          0.5,
          1,
          5,
          3,
          3,
          3,
          3,
          5,
          3,
          3,
          3,
          10,
          10,
          10,
          10,
          10,
          10,
          10,
          10,
          1,
          1,
          1,
          1,
          1,
          1,
          5,
          5,
          5.5883,
          4.72,
          0.25,
          4.11,
          2.77,
          4.842,
          1.5238,
          0.191,
          8.133,
          6.373548,
          6.787258,
          7.068255,
          6.656585,
          0.5,
          6.533683,
          0.5088,
          9.1994,
          8.2027,
          6.8903,
          10,
          2,
          5,
          5,
          5,
          0.75,
          1,
          1.25,
          1.5
         ],
         "yaxis": "y2"
        }
       ],
       "layout": {
        "annotations": [
         {
          "font": {
           "size": 14
          },
          "showarrow": false,
          "text": "Mean",
          "x": 0.25,
          "xanchor": "center",
          "xref": "paper",
          "y": 1,
          "yanchor": "bottom",
          "yref": "paper"
         },
         {
          "font": {
           "size": 14
          },
          "showarrow": false,
          "text": "Standard Error",
          "x": 0.8,
          "xanchor": "center",
          "xref": "paper",
          "y": 1,
          "yanchor": "bottom",
          "yref": "paper"
         }
        ],
        "autosize": false,
        "height": 450,
        "hovermode": "closest",
        "legend": {
         "orientation": "h",
         "x": 0,
         "y": -0.25
        },
        "margin": {
         "b": 100,
         "l": 35,
         "pad": 0,
         "r": 35,
         "t": 35
        },
        "template": {
         "data": {
          "bar": [
           {
            "error_x": {
             "color": "#2a3f5f"
            },
            "error_y": {
             "color": "#2a3f5f"
            },
            "marker": {
             "line": {
              "color": "#E5ECF6",
              "width": 0.5
             },
             "pattern": {
              "fillmode": "overlay",
              "size": 10,
              "solidity": 0.2
             }
            },
            "type": "bar"
           }
          ],
          "barpolar": [
           {
            "marker": {
             "line": {
              "color": "#E5ECF6",
              "width": 0.5
             },
             "pattern": {
              "fillmode": "overlay",
              "size": 10,
              "solidity": 0.2
             }
            },
            "type": "barpolar"
           }
          ],
          "carpet": [
           {
            "aaxis": {
             "endlinecolor": "#2a3f5f",
             "gridcolor": "white",
             "linecolor": "white",
             "minorgridcolor": "white",
             "startlinecolor": "#2a3f5f"
            },
            "baxis": {
             "endlinecolor": "#2a3f5f",
             "gridcolor": "white",
             "linecolor": "white",
             "minorgridcolor": "white",
             "startlinecolor": "#2a3f5f"
            },
            "type": "carpet"
           }
          ],
          "choropleth": [
           {
            "colorbar": {
             "outlinewidth": 0,
             "ticks": ""
            },
            "type": "choropleth"
           }
          ],
          "contour": [
           {
            "colorbar": {
             "outlinewidth": 0,
             "ticks": ""
            },
            "colorscale": [
             [
              0,
              "#0d0887"
             ],
             [
              0.1111111111111111,
              "#46039f"
             ],
             [
              0.2222222222222222,
              "#7201a8"
             ],
             [
              0.3333333333333333,
              "#9c179e"
             ],
             [
              0.4444444444444444,
              "#bd3786"
             ],
             [
              0.5555555555555556,
              "#d8576b"
             ],
             [
              0.6666666666666666,
              "#ed7953"
             ],
             [
              0.7777777777777778,
              "#fb9f3a"
             ],
             [
              0.8888888888888888,
              "#fdca26"
             ],
             [
              1,
              "#f0f921"
             ]
            ],
            "type": "contour"
           }
          ],
          "contourcarpet": [
           {
            "colorbar": {
             "outlinewidth": 0,
             "ticks": ""
            },
            "type": "contourcarpet"
           }
          ],
          "heatmap": [
           {
            "colorbar": {
             "outlinewidth": 0,
             "ticks": ""
            },
            "colorscale": [
             [
              0,
              "#0d0887"
             ],
             [
              0.1111111111111111,
              "#46039f"
             ],
             [
              0.2222222222222222,
              "#7201a8"
             ],
             [
              0.3333333333333333,
              "#9c179e"
             ],
             [
              0.4444444444444444,
              "#bd3786"
             ],
             [
              0.5555555555555556,
              "#d8576b"
             ],
             [
              0.6666666666666666,
              "#ed7953"
             ],
             [
              0.7777777777777778,
              "#fb9f3a"
             ],
             [
              0.8888888888888888,
              "#fdca26"
             ],
             [
              1,
              "#f0f921"
             ]
            ],
            "type": "heatmap"
           }
          ],
          "heatmapgl": [
           {
            "colorbar": {
             "outlinewidth": 0,
             "ticks": ""
            },
            "colorscale": [
             [
              0,
              "#0d0887"
             ],
             [
              0.1111111111111111,
              "#46039f"
             ],
             [
              0.2222222222222222,
              "#7201a8"
             ],
             [
              0.3333333333333333,
              "#9c179e"
             ],
             [
              0.4444444444444444,
              "#bd3786"
             ],
             [
              0.5555555555555556,
              "#d8576b"
             ],
             [
              0.6666666666666666,
              "#ed7953"
             ],
             [
              0.7777777777777778,
              "#fb9f3a"
             ],
             [
              0.8888888888888888,
              "#fdca26"
             ],
             [
              1,
              "#f0f921"
             ]
            ],
            "type": "heatmapgl"
           }
          ],
          "histogram": [
           {
            "marker": {
             "pattern": {
              "fillmode": "overlay",
              "size": 10,
              "solidity": 0.2
             }
            },
            "type": "histogram"
           }
          ],
          "histogram2d": [
           {
            "colorbar": {
             "outlinewidth": 0,
             "ticks": ""
            },
            "colorscale": [
             [
              0,
              "#0d0887"
             ],
             [
              0.1111111111111111,
              "#46039f"
             ],
             [
              0.2222222222222222,
              "#7201a8"
             ],
             [
              0.3333333333333333,
              "#9c179e"
             ],
             [
              0.4444444444444444,
              "#bd3786"
             ],
             [
              0.5555555555555556,
              "#d8576b"
             ],
             [
              0.6666666666666666,
              "#ed7953"
             ],
             [
              0.7777777777777778,
              "#fb9f3a"
             ],
             [
              0.8888888888888888,
              "#fdca26"
             ],
             [
              1,
              "#f0f921"
             ]
            ],
            "type": "histogram2d"
           }
          ],
          "histogram2dcontour": [
           {
            "colorbar": {
             "outlinewidth": 0,
             "ticks": ""
            },
            "colorscale": [
             [
              0,
              "#0d0887"
             ],
             [
              0.1111111111111111,
              "#46039f"
             ],
             [
              0.2222222222222222,
              "#7201a8"
             ],
             [
              0.3333333333333333,
              "#9c179e"
             ],
             [
              0.4444444444444444,
              "#bd3786"
             ],
             [
              0.5555555555555556,
              "#d8576b"
             ],
             [
              0.6666666666666666,
              "#ed7953"
             ],
             [
              0.7777777777777778,
              "#fb9f3a"
             ],
             [
              0.8888888888888888,
              "#fdca26"
             ],
             [
              1,
              "#f0f921"
             ]
            ],
            "type": "histogram2dcontour"
           }
          ],
          "mesh3d": [
           {
            "colorbar": {
             "outlinewidth": 0,
             "ticks": ""
            },
            "type": "mesh3d"
           }
          ],
          "parcoords": [
           {
            "line": {
             "colorbar": {
              "outlinewidth": 0,
              "ticks": ""
             }
            },
            "type": "parcoords"
           }
          ],
          "pie": [
           {
            "automargin": true,
            "type": "pie"
           }
          ],
          "scatter": [
           {
            "fillpattern": {
             "fillmode": "overlay",
             "size": 10,
             "solidity": 0.2
            },
            "type": "scatter"
           }
          ],
          "scatter3d": [
           {
            "line": {
             "colorbar": {
              "outlinewidth": 0,
              "ticks": ""
             }
            },
            "marker": {
             "colorbar": {
              "outlinewidth": 0,
              "ticks": ""
             }
            },
            "type": "scatter3d"
           }
          ],
          "scattercarpet": [
           {
            "marker": {
             "colorbar": {
              "outlinewidth": 0,
              "ticks": ""
             }
            },
            "type": "scattercarpet"
           }
          ],
          "scattergeo": [
           {
            "marker": {
             "colorbar": {
              "outlinewidth": 0,
              "ticks": ""
             }
            },
            "type": "scattergeo"
           }
          ],
          "scattergl": [
           {
            "marker": {
             "colorbar": {
              "outlinewidth": 0,
              "ticks": ""
             }
            },
            "type": "scattergl"
           }
          ],
          "scattermapbox": [
           {
            "marker": {
             "colorbar": {
              "outlinewidth": 0,
              "ticks": ""
             }
            },
            "type": "scattermapbox"
           }
          ],
          "scatterpolar": [
           {
            "marker": {
             "colorbar": {
              "outlinewidth": 0,
              "ticks": ""
             }
            },
            "type": "scatterpolar"
           }
          ],
          "scatterpolargl": [
           {
            "marker": {
             "colorbar": {
              "outlinewidth": 0,
              "ticks": ""
             }
            },
            "type": "scatterpolargl"
           }
          ],
          "scatterternary": [
           {
            "marker": {
             "colorbar": {
              "outlinewidth": 0,
              "ticks": ""
             }
            },
            "type": "scatterternary"
           }
          ],
          "surface": [
           {
            "colorbar": {
             "outlinewidth": 0,
             "ticks": ""
            },
            "colorscale": [
             [
              0,
              "#0d0887"
             ],
             [
              0.1111111111111111,
              "#46039f"
             ],
             [
              0.2222222222222222,
              "#7201a8"
             ],
             [
              0.3333333333333333,
              "#9c179e"
             ],
             [
              0.4444444444444444,
              "#bd3786"
             ],
             [
              0.5555555555555556,
              "#d8576b"
             ],
             [
              0.6666666666666666,
              "#ed7953"
             ],
             [
              0.7777777777777778,
              "#fb9f3a"
             ],
             [
              0.8888888888888888,
              "#fdca26"
             ],
             [
              1,
              "#f0f921"
             ]
            ],
            "type": "surface"
           }
          ],
          "table": [
           {
            "cells": {
             "fill": {
              "color": "#EBF0F8"
             },
             "line": {
              "color": "white"
             }
            },
            "header": {
             "fill": {
              "color": "#C8D4E3"
             },
             "line": {
              "color": "white"
             }
            },
            "type": "table"
           }
          ]
         },
         "layout": {
          "annotationdefaults": {
           "arrowcolor": "#2a3f5f",
           "arrowhead": 0,
           "arrowwidth": 1
          },
          "autotypenumbers": "strict",
          "coloraxis": {
           "colorbar": {
            "outlinewidth": 0,
            "ticks": ""
           }
          },
          "colorscale": {
           "diverging": [
            [
             0,
             "#8e0152"
            ],
            [
             0.1,
             "#c51b7d"
            ],
            [
             0.2,
             "#de77ae"
            ],
            [
             0.3,
             "#f1b6da"
            ],
            [
             0.4,
             "#fde0ef"
            ],
            [
             0.5,
             "#f7f7f7"
            ],
            [
             0.6,
             "#e6f5d0"
            ],
            [
             0.7,
             "#b8e186"
            ],
            [
             0.8,
             "#7fbc41"
            ],
            [
             0.9,
             "#4d9221"
            ],
            [
             1,
             "#276419"
            ]
           ],
           "sequential": [
            [
             0,
             "#0d0887"
            ],
            [
             0.1111111111111111,
             "#46039f"
            ],
            [
             0.2222222222222222,
             "#7201a8"
            ],
            [
             0.3333333333333333,
             "#9c179e"
            ],
            [
             0.4444444444444444,
             "#bd3786"
            ],
            [
             0.5555555555555556,
             "#d8576b"
            ],
            [
             0.6666666666666666,
             "#ed7953"
            ],
            [
             0.7777777777777778,
             "#fb9f3a"
            ],
            [
             0.8888888888888888,
             "#fdca26"
            ],
            [
             1,
             "#f0f921"
            ]
           ],
           "sequentialminus": [
            [
             0,
             "#0d0887"
            ],
            [
             0.1111111111111111,
             "#46039f"
            ],
            [
             0.2222222222222222,
             "#7201a8"
            ],
            [
             0.3333333333333333,
             "#9c179e"
            ],
            [
             0.4444444444444444,
             "#bd3786"
            ],
            [
             0.5555555555555556,
             "#d8576b"
            ],
            [
             0.6666666666666666,
             "#ed7953"
            ],
            [
             0.7777777777777778,
             "#fb9f3a"
            ],
            [
             0.8888888888888888,
             "#fdca26"
            ],
            [
             1,
             "#f0f921"
            ]
           ]
          },
          "colorway": [
           "#636efa",
           "#EF553B",
           "#00cc96",
           "#ab63fa",
           "#FFA15A",
           "#19d3f3",
           "#FF6692",
           "#B6E880",
           "#FF97FF",
           "#FECB52"
          ],
          "font": {
           "color": "#2a3f5f"
          },
          "geo": {
           "bgcolor": "white",
           "lakecolor": "white",
           "landcolor": "#E5ECF6",
           "showlakes": true,
           "showland": true,
           "subunitcolor": "white"
          },
          "hoverlabel": {
           "align": "left"
          },
          "hovermode": "closest",
          "mapbox": {
           "style": "light"
          },
          "paper_bgcolor": "white",
          "plot_bgcolor": "#E5ECF6",
          "polar": {
           "angularaxis": {
            "gridcolor": "white",
            "linecolor": "white",
            "ticks": ""
           },
           "bgcolor": "#E5ECF6",
           "radialaxis": {
            "gridcolor": "white",
            "linecolor": "white",
            "ticks": ""
           }
          },
          "scene": {
           "xaxis": {
            "backgroundcolor": "#E5ECF6",
            "gridcolor": "white",
            "gridwidth": 2,
            "linecolor": "white",
            "showbackground": true,
            "ticks": "",
            "zerolinecolor": "white"
           },
           "yaxis": {
            "backgroundcolor": "#E5ECF6",
            "gridcolor": "white",
            "gridwidth": 2,
            "linecolor": "white",
            "showbackground": true,
            "ticks": "",
            "zerolinecolor": "white"
           },
           "zaxis": {
            "backgroundcolor": "#E5ECF6",
            "gridcolor": "white",
            "gridwidth": 2,
            "linecolor": "white",
            "showbackground": true,
            "ticks": "",
            "zerolinecolor": "white"
           }
          },
          "shapedefaults": {
           "line": {
            "color": "#2a3f5f"
           }
          },
          "ternary": {
           "aaxis": {
            "gridcolor": "white",
            "linecolor": "white",
            "ticks": ""
           },
           "baxis": {
            "gridcolor": "white",
            "linecolor": "white",
            "ticks": ""
           },
           "bgcolor": "#E5ECF6",
           "caxis": {
            "gridcolor": "white",
            "linecolor": "white",
            "ticks": ""
           }
          },
          "title": {
           "x": 0.05
          },
          "xaxis": {
           "automargin": true,
           "gridcolor": "white",
           "linecolor": "white",
           "ticks": "",
           "title": {
            "standoff": 15
           },
           "zerolinecolor": "white",
           "zerolinewidth": 2
          },
          "yaxis": {
           "automargin": true,
           "gridcolor": "white",
           "linecolor": "white",
           "ticks": "",
           "title": {
            "standoff": 15
           },
           "zerolinecolor": "white",
           "zerolinewidth": 2
          }
         }
        },
        "title": {
         "text": "f"
        },
        "width": 950,
        "xaxis": {
         "anchor": "y",
         "autorange": false,
         "domain": [
          0.05,
          0.45
         ],
         "exponentformat": "e",
         "range": [
          12,
          51
         ],
         "tickfont": {
          "size": 11
         },
         "tickmode": "auto",
         "title": {
          "text": "Dimension1"
         },
         "type": "linear"
        },
        "xaxis2": {
         "anchor": "y2",
         "autorange": false,
         "domain": [
          0.6,
          1
         ],
         "exponentformat": "e",
         "range": [
          12,
          51
         ],
         "tickfont": {
          "size": 11
         },
         "tickmode": "auto",
         "title": {
          "text": "Dimension1"
         },
         "type": "linear"
        },
        "yaxis": {
         "anchor": "x",
         "autorange": false,
         "domain": [
          0,
          1
         ],
         "exponentformat": "e",
         "range": [
          0.1,
          10
         ],
         "tickfont": {
          "size": 11
         },
         "tickmode": "auto",
         "title": {
          "text": "Doping%"
         },
         "type": "linear"
        },
        "yaxis2": {
         "anchor": "x2",
         "autorange": false,
         "domain": [
          0,
          1
         ],
         "exponentformat": "e",
         "range": [
          0.1,
          10
         ],
         "tickfont": {
          "size": 11
         },
         "tickmode": "auto",
         "type": "linear"
        }
       }
      }
     },
     "metadata": {},
     "output_type": "display_data"
    },
    {
     "data": {
      "application/vnd.plotly.v1+json": {
       "config": {
        "linkText": "Export to plot.ly",
        "plotlyServerURL": "https://plot.ly",
        "showLink": false
       },
       "data": [
        {
         "fill": "toself",
         "fillcolor": "rgba(128, 177, 211, 0.2)",
         "hoverinfo": "none",
         "line": {
          "color": "rgba(128, 177, 211, 0.0)"
         },
         "showlegend": false,
         "type": "scatter",
         "visible": true,
         "x": [
          0.12,
          0.1270408163265306,
          0.13408163265306122,
          0.14112244897959184,
          0.14816326530612245,
          0.15520408163265306,
          0.16224489795918368,
          0.1692857142857143,
          0.1763265306122449,
          0.1833673469387755,
          0.19040816326530613,
          0.19744897959183672,
          0.20448979591836736,
          0.21153061224489794,
          0.21857142857142858,
          0.22561224489795917,
          0.2326530612244898,
          0.2396938775510204,
          0.246734693877551,
          0.2537755102040816,
          0.26081632653061226,
          0.26785714285714285,
          0.27489795918367343,
          0.2819387755102041,
          0.2889795918367347,
          0.2960204081632653,
          0.3030612244897959,
          0.31010204081632653,
          0.31714285714285717,
          0.32418367346938776,
          0.33122448979591834,
          0.338265306122449,
          0.3453061224489796,
          0.3523469387755102,
          0.3593877551020408,
          0.36642857142857144,
          0.373469387755102,
          0.38051020408163266,
          0.38755102040816325,
          0.3945918367346939,
          0.4016326530612245,
          0.4086734693877551,
          0.4157142857142857,
          0.42275510204081634,
          0.42979591836734693,
          0.43683673469387757,
          0.44387755102040816,
          0.4509183673469388,
          0.4579591836734694,
          0.465,
          0.465,
          0.4579591836734694,
          0.4509183673469388,
          0.44387755102040816,
          0.43683673469387757,
          0.42979591836734693,
          0.42275510204081634,
          0.4157142857142857,
          0.4086734693877551,
          0.4016326530612245,
          0.3945918367346939,
          0.38755102040816325,
          0.38051020408163266,
          0.373469387755102,
          0.36642857142857144,
          0.3593877551020408,
          0.3523469387755102,
          0.3453061224489796,
          0.338265306122449,
          0.33122448979591834,
          0.32418367346938776,
          0.31714285714285717,
          0.31010204081632653,
          0.3030612244897959,
          0.2960204081632653,
          0.2889795918367347,
          0.2819387755102041,
          0.27489795918367343,
          0.26785714285714285,
          0.26081632653061226,
          0.2537755102040816,
          0.246734693877551,
          0.2396938775510204,
          0.2326530612244898,
          0.22561224489795917,
          0.21857142857142858,
          0.21153061224489794,
          0.20448979591836736,
          0.19744897959183672,
          0.19040816326530613,
          0.1833673469387755,
          0.1763265306122449,
          0.1692857142857143,
          0.16224489795918368,
          0.15520408163265306,
          0.14816326530612245,
          0.14112244897959184,
          0.13408163265306122,
          0.1270408163265306,
          0.12
         ],
         "y": [
          0.39426356977737004,
          0.39425195756422815,
          0.3942410051903307,
          0.39423071269077076,
          0.3942210800837709,
          0.39421210740620455,
          0.3942037946473085,
          0.3941961418196858,
          0.394189148890992,
          0.39418281583610265,
          0.39417714262765785,
          0.3941721292058624,
          0.39416777550791665,
          0.39416408147049387,
          0.3941610470107727,
          0.3941586720226008,
          0.3941569564088574,
          0.3941559000586066,
          0.3941555028271984,
          0.3941557645926859,
          0.3941566851969399,
          0.39415826447931324,
          0.3941605022686501,
          0.3941633983812053,
          0.3941669526239284,
          0.39417116479157366,
          0.3941760346656408,
          0.39418156202762195,
          0.39418774662832434,
          0.3941945882208695,
          0.39420208654878974,
          0.3942102413331324,
          0.3942190523049352,
          0.3942285191640638,
          0.39423864160638267,
          0.39424941932036195,
          0.39426085197704147,
          0.39427293923765405,
          0.39428568076712234,
          0.39429907619575966,
          0.3943131251646456,
          0.3943278272890457,
          0.394343182183855,
          0.3943591894507337,
          0.3943758486660137,
          0.39439315942147846,
          0.3944111212876514,
          0.39442973381472934,
          0.39444899655162424,
          0.3944689090418033,
          0.1591417546568259,
          0.1591788972319583,
          0.1592153893377094,
          0.1592512305095773,
          0.15928642028850448,
          0.15932095824745737,
          0.15935484393532834,
          0.15938807694617774,
          0.15942065686203,
          0.1594525832856835,
          0.1594838558320336,
          0.1595144741129303,
          0.15954443776148375,
          0.15957374642849992,
          0.15960239976182447,
          0.15963039742610538,
          0.15965773909238262,
          0.15968442445254177,
          0.15971045320244728,
          0.15973582504651862,
          0.15976053969871648,
          0.15978459689602698,
          0.15980799637856674,
          0.15983073788238036,
          0.15985282119242916,
          0.159874246060605,
          0.15989501228890027,
          0.15991511965385335,
          0.15993456797721428,
          0.15995335706385294,
          0.159971486743752,
          0.1599889568642338,
          0.1600057672671688,
          0.1600219178146719,
          0.16003740838144676,
          0.16005223884403452,
          0.16006640910986827,
          0.16007991907279545,
          0.16009276865796415,
          0.1601049577872477,
          0.16011648639898463,
          0.160127354450457,
          0.16013756189950462,
          0.160147108710757,
          0.16015599488602367,
          0.16016422040261502,
          0.16017178527709136,
          0.1601786895224181,
          0.16018493316706406,
          0.16019051624953778
         ]
        },
        {
         "hoverinfo": "x+y",
         "line": {
          "color": "rgba(128, 177, 211, 1)"
         },
         "showlegend": false,
         "type": "scatter",
         "visible": true,
         "x": [
          0.12,
          0.1270408163265306,
          0.13408163265306122,
          0.14112244897959184,
          0.14816326530612245,
          0.15520408163265306,
          0.16224489795918368,
          0.1692857142857143,
          0.1763265306122449,
          0.1833673469387755,
          0.19040816326530613,
          0.19744897959183672,
          0.20448979591836736,
          0.21153061224489794,
          0.21857142857142858,
          0.22561224489795917,
          0.2326530612244898,
          0.2396938775510204,
          0.246734693877551,
          0.2537755102040816,
          0.26081632653061226,
          0.26785714285714285,
          0.27489795918367343,
          0.2819387755102041,
          0.2889795918367347,
          0.2960204081632653,
          0.3030612244897959,
          0.31010204081632653,
          0.31714285714285717,
          0.32418367346938776,
          0.33122448979591834,
          0.338265306122449,
          0.3453061224489796,
          0.3523469387755102,
          0.3593877551020408,
          0.36642857142857144,
          0.373469387755102,
          0.38051020408163266,
          0.38755102040816325,
          0.3945918367346939,
          0.4016326530612245,
          0.4086734693877551,
          0.4157142857142857,
          0.42275510204081634,
          0.42979591836734693,
          0.43683673469387757,
          0.44387755102040816,
          0.4509183673469388,
          0.4579591836734694,
          0.465
         ],
         "y": [
          0.2772270430134539,
          0.2772184453656461,
          0.2772098473563744,
          0.27720124898393106,
          0.27719265024319295,
          0.2771840511461141,
          0.27717545167903274,
          0.2771668518595952,
          0.2771582516707245,
          0.27714965111754364,
          0.2771410502074528,
          0.2771324489319133,
          0.27712384729035605,
          0.27711524529018106,
          0.2771066429274036,
          0.2770980402020238,
          0.27708943711176465,
          0.2770808336628877,
          0.2770722298457161,
          0.27706362566821896,
          0.27705502113039643,
          0.27704641622826376,
          0.27703781096125174,
          0.27702920533505276,
          0.2770205993422667,
          0.2770119929920014,
          0.27700338627401055,
          0.27699477920309434,
          0.27698617176217566,
          0.276977563959793,
          0.2769689557976542,
          0.27696034726778984,
          0.2769517383787385,
          0.2769431291282232,
          0.27693451951624404,
          0.2769259095410932,
          0.2769172992027707,
          0.2769086884995689,
          0.2769000774400263,
          0.27689146601389664,
          0.27688285422516457,
          0.27687424207553785,
          0.27686562956501637,
          0.27685701669303103,
          0.27684840345673556,
          0.27683978985499147,
          0.27683117589861433,
          0.2768225615762194,
          0.2768139468917913,
          0.2768053318493146
         ]
        },
        {
         "error_y": {
          "array": [],
          "color": "black",
          "type": "data",
          "visible": true
         },
         "hoverinfo": "x+y",
         "line": {
          "color": "black"
         },
         "mode": "markers",
         "showlegend": false,
         "type": "scatter",
         "visible": true,
         "x": [],
         "y": []
        }
       ],
       "layout": {
        "hovermode": "closest",
        "template": {
         "data": {
          "bar": [
           {
            "error_x": {
             "color": "#2a3f5f"
            },
            "error_y": {
             "color": "#2a3f5f"
            },
            "marker": {
             "line": {
              "color": "#E5ECF6",
              "width": 0.5
             },
             "pattern": {
              "fillmode": "overlay",
              "size": 10,
              "solidity": 0.2
             }
            },
            "type": "bar"
           }
          ],
          "barpolar": [
           {
            "marker": {
             "line": {
              "color": "#E5ECF6",
              "width": 0.5
             },
             "pattern": {
              "fillmode": "overlay",
              "size": 10,
              "solidity": 0.2
             }
            },
            "type": "barpolar"
           }
          ],
          "carpet": [
           {
            "aaxis": {
             "endlinecolor": "#2a3f5f",
             "gridcolor": "white",
             "linecolor": "white",
             "minorgridcolor": "white",
             "startlinecolor": "#2a3f5f"
            },
            "baxis": {
             "endlinecolor": "#2a3f5f",
             "gridcolor": "white",
             "linecolor": "white",
             "minorgridcolor": "white",
             "startlinecolor": "#2a3f5f"
            },
            "type": "carpet"
           }
          ],
          "choropleth": [
           {
            "colorbar": {
             "outlinewidth": 0,
             "ticks": ""
            },
            "type": "choropleth"
           }
          ],
          "contour": [
           {
            "colorbar": {
             "outlinewidth": 0,
             "ticks": ""
            },
            "colorscale": [
             [
              0,
              "#0d0887"
             ],
             [
              0.1111111111111111,
              "#46039f"
             ],
             [
              0.2222222222222222,
              "#7201a8"
             ],
             [
              0.3333333333333333,
              "#9c179e"
             ],
             [
              0.4444444444444444,
              "#bd3786"
             ],
             [
              0.5555555555555556,
              "#d8576b"
             ],
             [
              0.6666666666666666,
              "#ed7953"
             ],
             [
              0.7777777777777778,
              "#fb9f3a"
             ],
             [
              0.8888888888888888,
              "#fdca26"
             ],
             [
              1,
              "#f0f921"
             ]
            ],
            "type": "contour"
           }
          ],
          "contourcarpet": [
           {
            "colorbar": {
             "outlinewidth": 0,
             "ticks": ""
            },
            "type": "contourcarpet"
           }
          ],
          "heatmap": [
           {
            "colorbar": {
             "outlinewidth": 0,
             "ticks": ""
            },
            "colorscale": [
             [
              0,
              "#0d0887"
             ],
             [
              0.1111111111111111,
              "#46039f"
             ],
             [
              0.2222222222222222,
              "#7201a8"
             ],
             [
              0.3333333333333333,
              "#9c179e"
             ],
             [
              0.4444444444444444,
              "#bd3786"
             ],
             [
              0.5555555555555556,
              "#d8576b"
             ],
             [
              0.6666666666666666,
              "#ed7953"
             ],
             [
              0.7777777777777778,
              "#fb9f3a"
             ],
             [
              0.8888888888888888,
              "#fdca26"
             ],
             [
              1,
              "#f0f921"
             ]
            ],
            "type": "heatmap"
           }
          ],
          "heatmapgl": [
           {
            "colorbar": {
             "outlinewidth": 0,
             "ticks": ""
            },
            "colorscale": [
             [
              0,
              "#0d0887"
             ],
             [
              0.1111111111111111,
              "#46039f"
             ],
             [
              0.2222222222222222,
              "#7201a8"
             ],
             [
              0.3333333333333333,
              "#9c179e"
             ],
             [
              0.4444444444444444,
              "#bd3786"
             ],
             [
              0.5555555555555556,
              "#d8576b"
             ],
             [
              0.6666666666666666,
              "#ed7953"
             ],
             [
              0.7777777777777778,
              "#fb9f3a"
             ],
             [
              0.8888888888888888,
              "#fdca26"
             ],
             [
              1,
              "#f0f921"
             ]
            ],
            "type": "heatmapgl"
           }
          ],
          "histogram": [
           {
            "marker": {
             "pattern": {
              "fillmode": "overlay",
              "size": 10,
              "solidity": 0.2
             }
            },
            "type": "histogram"
           }
          ],
          "histogram2d": [
           {
            "colorbar": {
             "outlinewidth": 0,
             "ticks": ""
            },
            "colorscale": [
             [
              0,
              "#0d0887"
             ],
             [
              0.1111111111111111,
              "#46039f"
             ],
             [
              0.2222222222222222,
              "#7201a8"
             ],
             [
              0.3333333333333333,
              "#9c179e"
             ],
             [
              0.4444444444444444,
              "#bd3786"
             ],
             [
              0.5555555555555556,
              "#d8576b"
             ],
             [
              0.6666666666666666,
              "#ed7953"
             ],
             [
              0.7777777777777778,
              "#fb9f3a"
             ],
             [
              0.8888888888888888,
              "#fdca26"
             ],
             [
              1,
              "#f0f921"
             ]
            ],
            "type": "histogram2d"
           }
          ],
          "histogram2dcontour": [
           {
            "colorbar": {
             "outlinewidth": 0,
             "ticks": ""
            },
            "colorscale": [
             [
              0,
              "#0d0887"
             ],
             [
              0.1111111111111111,
              "#46039f"
             ],
             [
              0.2222222222222222,
              "#7201a8"
             ],
             [
              0.3333333333333333,
              "#9c179e"
             ],
             [
              0.4444444444444444,
              "#bd3786"
             ],
             [
              0.5555555555555556,
              "#d8576b"
             ],
             [
              0.6666666666666666,
              "#ed7953"
             ],
             [
              0.7777777777777778,
              "#fb9f3a"
             ],
             [
              0.8888888888888888,
              "#fdca26"
             ],
             [
              1,
              "#f0f921"
             ]
            ],
            "type": "histogram2dcontour"
           }
          ],
          "mesh3d": [
           {
            "colorbar": {
             "outlinewidth": 0,
             "ticks": ""
            },
            "type": "mesh3d"
           }
          ],
          "parcoords": [
           {
            "line": {
             "colorbar": {
              "outlinewidth": 0,
              "ticks": ""
             }
            },
            "type": "parcoords"
           }
          ],
          "pie": [
           {
            "automargin": true,
            "type": "pie"
           }
          ],
          "scatter": [
           {
            "fillpattern": {
             "fillmode": "overlay",
             "size": 10,
             "solidity": 0.2
            },
            "type": "scatter"
           }
          ],
          "scatter3d": [
           {
            "line": {
             "colorbar": {
              "outlinewidth": 0,
              "ticks": ""
             }
            },
            "marker": {
             "colorbar": {
              "outlinewidth": 0,
              "ticks": ""
             }
            },
            "type": "scatter3d"
           }
          ],
          "scattercarpet": [
           {
            "marker": {
             "colorbar": {
              "outlinewidth": 0,
              "ticks": ""
             }
            },
            "type": "scattercarpet"
           }
          ],
          "scattergeo": [
           {
            "marker": {
             "colorbar": {
              "outlinewidth": 0,
              "ticks": ""
             }
            },
            "type": "scattergeo"
           }
          ],
          "scattergl": [
           {
            "marker": {
             "colorbar": {
              "outlinewidth": 0,
              "ticks": ""
             }
            },
            "type": "scattergl"
           }
          ],
          "scattermapbox": [
           {
            "marker": {
             "colorbar": {
              "outlinewidth": 0,
              "ticks": ""
             }
            },
            "type": "scattermapbox"
           }
          ],
          "scatterpolar": [
           {
            "marker": {
             "colorbar": {
              "outlinewidth": 0,
              "ticks": ""
             }
            },
            "type": "scatterpolar"
           }
          ],
          "scatterpolargl": [
           {
            "marker": {
             "colorbar": {
              "outlinewidth": 0,
              "ticks": ""
             }
            },
            "type": "scatterpolargl"
           }
          ],
          "scatterternary": [
           {
            "marker": {
             "colorbar": {
              "outlinewidth": 0,
              "ticks": ""
             }
            },
            "type": "scatterternary"
           }
          ],
          "surface": [
           {
            "colorbar": {
             "outlinewidth": 0,
             "ticks": ""
            },
            "colorscale": [
             [
              0,
              "#0d0887"
             ],
             [
              0.1111111111111111,
              "#46039f"
             ],
             [
              0.2222222222222222,
              "#7201a8"
             ],
             [
              0.3333333333333333,
              "#9c179e"
             ],
             [
              0.4444444444444444,
              "#bd3786"
             ],
             [
              0.5555555555555556,
              "#d8576b"
             ],
             [
              0.6666666666666666,
              "#ed7953"
             ],
             [
              0.7777777777777778,
              "#fb9f3a"
             ],
             [
              0.8888888888888888,
              "#fdca26"
             ],
             [
              1,
              "#f0f921"
             ]
            ],
            "type": "surface"
           }
          ],
          "table": [
           {
            "cells": {
             "fill": {
              "color": "#EBF0F8"
             },
             "line": {
              "color": "white"
             }
            },
            "header": {
             "fill": {
              "color": "#C8D4E3"
             },
             "line": {
              "color": "white"
             }
            },
            "type": "table"
           }
          ]
         },
         "layout": {
          "annotationdefaults": {
           "arrowcolor": "#2a3f5f",
           "arrowhead": 0,
           "arrowwidth": 1
          },
          "autotypenumbers": "strict",
          "coloraxis": {
           "colorbar": {
            "outlinewidth": 0,
            "ticks": ""
           }
          },
          "colorscale": {
           "diverging": [
            [
             0,
             "#8e0152"
            ],
            [
             0.1,
             "#c51b7d"
            ],
            [
             0.2,
             "#de77ae"
            ],
            [
             0.3,
             "#f1b6da"
            ],
            [
             0.4,
             "#fde0ef"
            ],
            [
             0.5,
             "#f7f7f7"
            ],
            [
             0.6,
             "#e6f5d0"
            ],
            [
             0.7,
             "#b8e186"
            ],
            [
             0.8,
             "#7fbc41"
            ],
            [
             0.9,
             "#4d9221"
            ],
            [
             1,
             "#276419"
            ]
           ],
           "sequential": [
            [
             0,
             "#0d0887"
            ],
            [
             0.1111111111111111,
             "#46039f"
            ],
            [
             0.2222222222222222,
             "#7201a8"
            ],
            [
             0.3333333333333333,
             "#9c179e"
            ],
            [
             0.4444444444444444,
             "#bd3786"
            ],
            [
             0.5555555555555556,
             "#d8576b"
            ],
            [
             0.6666666666666666,
             "#ed7953"
            ],
            [
             0.7777777777777778,
             "#fb9f3a"
            ],
            [
             0.8888888888888888,
             "#fdca26"
            ],
            [
             1,
             "#f0f921"
            ]
           ],
           "sequentialminus": [
            [
             0,
             "#0d0887"
            ],
            [
             0.1111111111111111,
             "#46039f"
            ],
            [
             0.2222222222222222,
             "#7201a8"
            ],
            [
             0.3333333333333333,
             "#9c179e"
            ],
            [
             0.4444444444444444,
             "#bd3786"
            ],
            [
             0.5555555555555556,
             "#d8576b"
            ],
            [
             0.6666666666666666,
             "#ed7953"
            ],
            [
             0.7777777777777778,
             "#fb9f3a"
            ],
            [
             0.8888888888888888,
             "#fdca26"
            ],
            [
             1,
             "#f0f921"
            ]
           ]
          },
          "colorway": [
           "#636efa",
           "#EF553B",
           "#00cc96",
           "#ab63fa",
           "#FFA15A",
           "#19d3f3",
           "#FF6692",
           "#B6E880",
           "#FF97FF",
           "#FECB52"
          ],
          "font": {
           "color": "#2a3f5f"
          },
          "geo": {
           "bgcolor": "white",
           "lakecolor": "white",
           "landcolor": "#E5ECF6",
           "showlakes": true,
           "showland": true,
           "subunitcolor": "white"
          },
          "hoverlabel": {
           "align": "left"
          },
          "hovermode": "closest",
          "mapbox": {
           "style": "light"
          },
          "paper_bgcolor": "white",
          "plot_bgcolor": "#E5ECF6",
          "polar": {
           "angularaxis": {
            "gridcolor": "white",
            "linecolor": "white",
            "ticks": ""
           },
           "bgcolor": "#E5ECF6",
           "radialaxis": {
            "gridcolor": "white",
            "linecolor": "white",
            "ticks": ""
           }
          },
          "scene": {
           "xaxis": {
            "backgroundcolor": "#E5ECF6",
            "gridcolor": "white",
            "gridwidth": 2,
            "linecolor": "white",
            "showbackground": true,
            "ticks": "",
            "zerolinecolor": "white"
           },
           "yaxis": {
            "backgroundcolor": "#E5ECF6",
            "gridcolor": "white",
            "gridwidth": 2,
            "linecolor": "white",
            "showbackground": true,
            "ticks": "",
            "zerolinecolor": "white"
           },
           "zaxis": {
            "backgroundcolor": "#E5ECF6",
            "gridcolor": "white",
            "gridwidth": 2,
            "linecolor": "white",
            "showbackground": true,
            "ticks": "",
            "zerolinecolor": "white"
           }
          },
          "shapedefaults": {
           "line": {
            "color": "#2a3f5f"
           }
          },
          "ternary": {
           "aaxis": {
            "gridcolor": "white",
            "linecolor": "white",
            "ticks": ""
           },
           "baxis": {
            "gridcolor": "white",
            "linecolor": "white",
            "ticks": ""
           },
           "bgcolor": "#E5ECF6",
           "caxis": {
            "gridcolor": "white",
            "linecolor": "white",
            "ticks": ""
           }
          },
          "title": {
           "x": 0.05
          },
          "xaxis": {
           "automargin": true,
           "gridcolor": "white",
           "linecolor": "white",
           "ticks": "",
           "title": {
            "standoff": 15
           },
           "zerolinecolor": "white",
           "zerolinewidth": 2
          },
          "yaxis": {
           "automargin": true,
           "gridcolor": "white",
           "linecolor": "white",
           "ticks": "",
           "title": {
            "standoff": 15
           },
           "zerolinecolor": "white",
           "zerolinewidth": 2
          }
         }
        },
        "xaxis": {
         "anchor": "y",
         "autorange": false,
         "exponentformat": "e",
         "range": [
          0.12,
          0.465
         ],
         "tickfont": {
          "size": 11
         },
         "tickmode": "auto",
         "title": {
          "text": "Dilution(OD)"
         },
         "type": "linear"
        },
        "yaxis": {
         "anchor": "x",
         "tickfont": {
          "size": 11
         },
         "tickmode": "auto",
         "title": {
          "text": "f"
         }
        }
       }
      }
     },
     "metadata": {},
     "output_type": "display_data"
    },
    {
     "data": {
      "application/vnd.plotly.v1+json": {
       "config": {
        "linkText": "Export to plot.ly",
        "plotlyServerURL": "https://plot.ly",
        "showLink": false
       },
       "data": [
        {
         "fill": "toself",
         "fillcolor": "rgba(128, 177, 211, 0.2)",
         "hoverinfo": "none",
         "line": {
          "color": "rgba(128, 177, 211, 0.0)"
         },
         "showlegend": false,
         "type": "scatter",
         "visible": true,
         "x": [
          0.1,
          0.3020408163265306,
          0.5040816326530613,
          0.7061224489795919,
          0.9081632653061225,
          1.1102040816326533,
          1.3122448979591839,
          1.5142857142857145,
          1.716326530612245,
          1.9183673469387756,
          2.1204081632653065,
          2.322448979591837,
          2.5244897959183676,
          2.7265306122448982,
          2.928571428571429,
          3.1306122448979594,
          3.33265306122449,
          3.5346938775510206,
          3.736734693877551,
          3.938775510204082,
          4.140816326530612,
          4.3428571428571425,
          4.544897959183674,
          4.746938775510204,
          4.948979591836735,
          5.151020408163265,
          5.353061224489796,
          5.555102040816326,
          5.757142857142857,
          5.959183673469387,
          6.161224489795918,
          6.3632653061224485,
          6.5653061224489795,
          6.7673469387755105,
          6.969387755102041,
          7.171428571428572,
          7.373469387755102,
          7.575510204081633,
          7.777551020408163,
          7.979591836734694,
          8.181632653061225,
          8.383673469387755,
          8.585714285714285,
          8.787755102040816,
          8.989795918367347,
          9.191836734693878,
          9.393877551020408,
          9.595918367346938,
          9.79795918367347,
          10,
          10,
          9.79795918367347,
          9.595918367346938,
          9.393877551020408,
          9.191836734693878,
          8.989795918367347,
          8.787755102040816,
          8.585714285714285,
          8.383673469387755,
          8.181632653061225,
          7.979591836734694,
          7.777551020408163,
          7.575510204081633,
          7.373469387755102,
          7.171428571428572,
          6.969387755102041,
          6.7673469387755105,
          6.5653061224489795,
          6.3632653061224485,
          6.161224489795918,
          5.959183673469387,
          5.757142857142857,
          5.555102040816326,
          5.353061224489796,
          5.151020408163265,
          4.948979591836735,
          4.746938775510204,
          4.544897959183674,
          4.3428571428571425,
          4.140816326530612,
          3.938775510204082,
          3.736734693877551,
          3.5346938775510206,
          3.33265306122449,
          3.1306122448979594,
          2.928571428571429,
          2.7265306122448982,
          2.5244897959183676,
          2.322448979591837,
          2.1204081632653065,
          1.9183673469387756,
          1.716326530612245,
          1.5142857142857145,
          1.3122448979591839,
          1.1102040816326533,
          0.9081632653061225,
          0.7061224489795919,
          0.5040816326530613,
          0.3020408163265306,
          0.1
         ],
         "y": [
          0.2866950541950312,
          0.2671972204956029,
          0.2540793799277455,
          0.24309649412204967,
          0.23227184246490917,
          0.2214958600444682,
          0.2112475440515643,
          0.20168483083541583,
          0.19269144734484495,
          0.18434800607456636,
          0.1770614827011614,
          0.1714532019301674,
          0.16871445954345954,
          0.1713299541105615,
          0.18306242153429234,
          0.20703198811886436,
          0.24294902524623618,
          0.2870629083788016,
          0.33438413054897975,
          0.38018372692740776,
          0.4204669984697031,
          0.4522112033357606,
          0.47382246969265157,
          0.485992325054472,
          0.49252815487570173,
          0.49852436770439845,
          0.5048219085576984,
          0.5080031475956622,
          0.5052242049056034,
          0.49558369294049676,
          0.4796120393604463,
          0.4587915040333307,
          0.435111533418159,
          0.41055353724935206,
          0.3866264850961503,
          0.3641690126977635,
          0.34350585512478854,
          0.3247976935540402,
          0.30833745278726976,
          0.2946397170885299,
          0.28432646269348016,
          0.27795945579271875,
          0.27600601180727247,
          0.27895501307047177,
          0.2873839042748711,
          0.3018513569819842,
          0.3227588142020444,
          0.35067912729305967,
          0.38775432857184333,
          0.4399875301240691,
          -0.0417159598260112,
          -0.1160471987045881,
          -0.1889188537309066,
          -0.25056265053015053,
          -0.2958358960017756,
          -0.3227275542869242,
          -0.331352448402491,
          -0.3233898796931819,
          -0.3016579683260603,
          -0.2696150587731584,
          -0.23074384981118365,
          -0.1880185498740162,
          -0.14369566463065295,
          -0.09936972161024486,
          -0.05605562032542277,
          -0.014150828318720693,
          0.026639080223415823,
          0.06718417196705626,
          0.10856543933725138,
          0.15157750631061942,
          0.1961832162929741,
          0.2410256003369232,
          0.28308155201012986,
          0.3174179792629929,
          0.33723793091444576,
          0.3361780835263321,
          0.3141059976747206,
          0.2775581937499661,
          0.23391560342550854,
          0.1889154807543672,
          0.14675319954978128,
          0.11026378403165993,
          0.08080904124226011,
          0.05805560613449039,
          0.04008550243680585,
          0.02463845047761873,
          0.011241792415856988,
          0.0013140235631209224,
          -0.004193265699180201,
          -0.006134139961372007,
          -0.006522478034320087,
          -0.007226477248964344,
          -0.009374641537513537,
          -0.013637648756995191,
          -0.02047082287070104,
          -0.030044160324528613,
          -0.042475420822109894,
          -0.05871249584335925,
          -0.0814319500021013,
          -0.11502981471049861
         ]
        },
        {
         "hoverinfo": "x+y",
         "line": {
          "color": "rgba(128, 177, 211, 1)"
         },
         "showlegend": false,
         "type": "scatter",
         "visible": true,
         "x": [
          0.1,
          0.3020408163265306,
          0.5040816326530613,
          0.7061224489795919,
          0.9081632653061225,
          1.1102040816326533,
          1.3122448979591839,
          1.5142857142857145,
          1.716326530612245,
          1.9183673469387756,
          2.1204081632653065,
          2.322448979591837,
          2.5244897959183676,
          2.7265306122448982,
          2.928571428571429,
          3.1306122448979594,
          3.33265306122449,
          3.5346938775510206,
          3.736734693877551,
          3.938775510204082,
          4.140816326530612,
          4.3428571428571425,
          4.544897959183674,
          4.746938775510204,
          4.948979591836735,
          5.151020408163265,
          5.353061224489796,
          5.555102040816326,
          5.757142857142857,
          5.959183673469387,
          6.161224489795918,
          6.3632653061224485,
          6.5653061224489795,
          6.7673469387755105,
          6.969387755102041,
          7.171428571428572,
          7.373469387755102,
          7.575510204081633,
          7.777551020408163,
          7.979591836734694,
          8.181632653061225,
          8.383673469387755,
          8.585714285714285,
          8.787755102040816,
          8.989795918367347,
          9.191836734693878,
          9.393877551020408,
          9.595918367346938,
          9.79795918367347,
          10
         ],
         "y": [
          0.0858326197422663,
          0.0928826352467508,
          0.09768344204219312,
          0.10031053664996989,
          0.10111384107019028,
          0.10051251858688358,
          0.09880494764728455,
          0.09615509464895114,
          0.0927324850479403,
          0.08891276402012314,
          0.0854636713698947,
          0.08362996811549359,
          0.08501424155329022,
          0.09128587326320925,
          0.10385043600595553,
          0.12355874527783511,
          0.1505023156903633,
          0.18393597481053087,
          0.22232395729031984,
          0.2634684632385945,
          0.30469123961203515,
          0.34306340338063457,
          0.37569033172130883,
          0.4000491613645963,
          0.4143531192010169,
          0.4178811493094221,
          0.4111199439103457,
          0.39554234980289604,
          0.3731249026212633,
          0.3458834546167354,
          0.31559477283553283,
          0.28367847168529103,
          0.25114785269260764,
          0.21859630873638394,
          0.18623782838871478,
          0.15405669618617035,
          0.12206806675727185,
          0.09055101446169361,
          0.06015945145662677,
          0.031947933638673126,
          0.00735570196016086,
          -0.011849256266670743,
          -0.02369193394295474,
          -0.02619871766600959,
          -0.017671825006026542,
          0.0030077304901042767,
          0.03609808183594693,
          0.08088013678107651,
          0.13585356493362763,
          0.19913578514902897
         ]
        },
        {
         "error_y": {
          "array": [],
          "color": "black",
          "type": "data",
          "visible": true
         },
         "hoverinfo": "x+y",
         "line": {
          "color": "black"
         },
         "mode": "markers",
         "showlegend": false,
         "type": "scatter",
         "visible": true,
         "x": [],
         "y": []
        }
       ],
       "layout": {
        "hovermode": "closest",
        "template": {
         "data": {
          "bar": [
           {
            "error_x": {
             "color": "#2a3f5f"
            },
            "error_y": {
             "color": "#2a3f5f"
            },
            "marker": {
             "line": {
              "color": "#E5ECF6",
              "width": 0.5
             },
             "pattern": {
              "fillmode": "overlay",
              "size": 10,
              "solidity": 0.2
             }
            },
            "type": "bar"
           }
          ],
          "barpolar": [
           {
            "marker": {
             "line": {
              "color": "#E5ECF6",
              "width": 0.5
             },
             "pattern": {
              "fillmode": "overlay",
              "size": 10,
              "solidity": 0.2
             }
            },
            "type": "barpolar"
           }
          ],
          "carpet": [
           {
            "aaxis": {
             "endlinecolor": "#2a3f5f",
             "gridcolor": "white",
             "linecolor": "white",
             "minorgridcolor": "white",
             "startlinecolor": "#2a3f5f"
            },
            "baxis": {
             "endlinecolor": "#2a3f5f",
             "gridcolor": "white",
             "linecolor": "white",
             "minorgridcolor": "white",
             "startlinecolor": "#2a3f5f"
            },
            "type": "carpet"
           }
          ],
          "choropleth": [
           {
            "colorbar": {
             "outlinewidth": 0,
             "ticks": ""
            },
            "type": "choropleth"
           }
          ],
          "contour": [
           {
            "colorbar": {
             "outlinewidth": 0,
             "ticks": ""
            },
            "colorscale": [
             [
              0,
              "#0d0887"
             ],
             [
              0.1111111111111111,
              "#46039f"
             ],
             [
              0.2222222222222222,
              "#7201a8"
             ],
             [
              0.3333333333333333,
              "#9c179e"
             ],
             [
              0.4444444444444444,
              "#bd3786"
             ],
             [
              0.5555555555555556,
              "#d8576b"
             ],
             [
              0.6666666666666666,
              "#ed7953"
             ],
             [
              0.7777777777777778,
              "#fb9f3a"
             ],
             [
              0.8888888888888888,
              "#fdca26"
             ],
             [
              1,
              "#f0f921"
             ]
            ],
            "type": "contour"
           }
          ],
          "contourcarpet": [
           {
            "colorbar": {
             "outlinewidth": 0,
             "ticks": ""
            },
            "type": "contourcarpet"
           }
          ],
          "heatmap": [
           {
            "colorbar": {
             "outlinewidth": 0,
             "ticks": ""
            },
            "colorscale": [
             [
              0,
              "#0d0887"
             ],
             [
              0.1111111111111111,
              "#46039f"
             ],
             [
              0.2222222222222222,
              "#7201a8"
             ],
             [
              0.3333333333333333,
              "#9c179e"
             ],
             [
              0.4444444444444444,
              "#bd3786"
             ],
             [
              0.5555555555555556,
              "#d8576b"
             ],
             [
              0.6666666666666666,
              "#ed7953"
             ],
             [
              0.7777777777777778,
              "#fb9f3a"
             ],
             [
              0.8888888888888888,
              "#fdca26"
             ],
             [
              1,
              "#f0f921"
             ]
            ],
            "type": "heatmap"
           }
          ],
          "heatmapgl": [
           {
            "colorbar": {
             "outlinewidth": 0,
             "ticks": ""
            },
            "colorscale": [
             [
              0,
              "#0d0887"
             ],
             [
              0.1111111111111111,
              "#46039f"
             ],
             [
              0.2222222222222222,
              "#7201a8"
             ],
             [
              0.3333333333333333,
              "#9c179e"
             ],
             [
              0.4444444444444444,
              "#bd3786"
             ],
             [
              0.5555555555555556,
              "#d8576b"
             ],
             [
              0.6666666666666666,
              "#ed7953"
             ],
             [
              0.7777777777777778,
              "#fb9f3a"
             ],
             [
              0.8888888888888888,
              "#fdca26"
             ],
             [
              1,
              "#f0f921"
             ]
            ],
            "type": "heatmapgl"
           }
          ],
          "histogram": [
           {
            "marker": {
             "pattern": {
              "fillmode": "overlay",
              "size": 10,
              "solidity": 0.2
             }
            },
            "type": "histogram"
           }
          ],
          "histogram2d": [
           {
            "colorbar": {
             "outlinewidth": 0,
             "ticks": ""
            },
            "colorscale": [
             [
              0,
              "#0d0887"
             ],
             [
              0.1111111111111111,
              "#46039f"
             ],
             [
              0.2222222222222222,
              "#7201a8"
             ],
             [
              0.3333333333333333,
              "#9c179e"
             ],
             [
              0.4444444444444444,
              "#bd3786"
             ],
             [
              0.5555555555555556,
              "#d8576b"
             ],
             [
              0.6666666666666666,
              "#ed7953"
             ],
             [
              0.7777777777777778,
              "#fb9f3a"
             ],
             [
              0.8888888888888888,
              "#fdca26"
             ],
             [
              1,
              "#f0f921"
             ]
            ],
            "type": "histogram2d"
           }
          ],
          "histogram2dcontour": [
           {
            "colorbar": {
             "outlinewidth": 0,
             "ticks": ""
            },
            "colorscale": [
             [
              0,
              "#0d0887"
             ],
             [
              0.1111111111111111,
              "#46039f"
             ],
             [
              0.2222222222222222,
              "#7201a8"
             ],
             [
              0.3333333333333333,
              "#9c179e"
             ],
             [
              0.4444444444444444,
              "#bd3786"
             ],
             [
              0.5555555555555556,
              "#d8576b"
             ],
             [
              0.6666666666666666,
              "#ed7953"
             ],
             [
              0.7777777777777778,
              "#fb9f3a"
             ],
             [
              0.8888888888888888,
              "#fdca26"
             ],
             [
              1,
              "#f0f921"
             ]
            ],
            "type": "histogram2dcontour"
           }
          ],
          "mesh3d": [
           {
            "colorbar": {
             "outlinewidth": 0,
             "ticks": ""
            },
            "type": "mesh3d"
           }
          ],
          "parcoords": [
           {
            "line": {
             "colorbar": {
              "outlinewidth": 0,
              "ticks": ""
             }
            },
            "type": "parcoords"
           }
          ],
          "pie": [
           {
            "automargin": true,
            "type": "pie"
           }
          ],
          "scatter": [
           {
            "fillpattern": {
             "fillmode": "overlay",
             "size": 10,
             "solidity": 0.2
            },
            "type": "scatter"
           }
          ],
          "scatter3d": [
           {
            "line": {
             "colorbar": {
              "outlinewidth": 0,
              "ticks": ""
             }
            },
            "marker": {
             "colorbar": {
              "outlinewidth": 0,
              "ticks": ""
             }
            },
            "type": "scatter3d"
           }
          ],
          "scattercarpet": [
           {
            "marker": {
             "colorbar": {
              "outlinewidth": 0,
              "ticks": ""
             }
            },
            "type": "scattercarpet"
           }
          ],
          "scattergeo": [
           {
            "marker": {
             "colorbar": {
              "outlinewidth": 0,
              "ticks": ""
             }
            },
            "type": "scattergeo"
           }
          ],
          "scattergl": [
           {
            "marker": {
             "colorbar": {
              "outlinewidth": 0,
              "ticks": ""
             }
            },
            "type": "scattergl"
           }
          ],
          "scattermapbox": [
           {
            "marker": {
             "colorbar": {
              "outlinewidth": 0,
              "ticks": ""
             }
            },
            "type": "scattermapbox"
           }
          ],
          "scatterpolar": [
           {
            "marker": {
             "colorbar": {
              "outlinewidth": 0,
              "ticks": ""
             }
            },
            "type": "scatterpolar"
           }
          ],
          "scatterpolargl": [
           {
            "marker": {
             "colorbar": {
              "outlinewidth": 0,
              "ticks": ""
             }
            },
            "type": "scatterpolargl"
           }
          ],
          "scatterternary": [
           {
            "marker": {
             "colorbar": {
              "outlinewidth": 0,
              "ticks": ""
             }
            },
            "type": "scatterternary"
           }
          ],
          "surface": [
           {
            "colorbar": {
             "outlinewidth": 0,
             "ticks": ""
            },
            "colorscale": [
             [
              0,
              "#0d0887"
             ],
             [
              0.1111111111111111,
              "#46039f"
             ],
             [
              0.2222222222222222,
              "#7201a8"
             ],
             [
              0.3333333333333333,
              "#9c179e"
             ],
             [
              0.4444444444444444,
              "#bd3786"
             ],
             [
              0.5555555555555556,
              "#d8576b"
             ],
             [
              0.6666666666666666,
              "#ed7953"
             ],
             [
              0.7777777777777778,
              "#fb9f3a"
             ],
             [
              0.8888888888888888,
              "#fdca26"
             ],
             [
              1,
              "#f0f921"
             ]
            ],
            "type": "surface"
           }
          ],
          "table": [
           {
            "cells": {
             "fill": {
              "color": "#EBF0F8"
             },
             "line": {
              "color": "white"
             }
            },
            "header": {
             "fill": {
              "color": "#C8D4E3"
             },
             "line": {
              "color": "white"
             }
            },
            "type": "table"
           }
          ]
         },
         "layout": {
          "annotationdefaults": {
           "arrowcolor": "#2a3f5f",
           "arrowhead": 0,
           "arrowwidth": 1
          },
          "autotypenumbers": "strict",
          "coloraxis": {
           "colorbar": {
            "outlinewidth": 0,
            "ticks": ""
           }
          },
          "colorscale": {
           "diverging": [
            [
             0,
             "#8e0152"
            ],
            [
             0.1,
             "#c51b7d"
            ],
            [
             0.2,
             "#de77ae"
            ],
            [
             0.3,
             "#f1b6da"
            ],
            [
             0.4,
             "#fde0ef"
            ],
            [
             0.5,
             "#f7f7f7"
            ],
            [
             0.6,
             "#e6f5d0"
            ],
            [
             0.7,
             "#b8e186"
            ],
            [
             0.8,
             "#7fbc41"
            ],
            [
             0.9,
             "#4d9221"
            ],
            [
             1,
             "#276419"
            ]
           ],
           "sequential": [
            [
             0,
             "#0d0887"
            ],
            [
             0.1111111111111111,
             "#46039f"
            ],
            [
             0.2222222222222222,
             "#7201a8"
            ],
            [
             0.3333333333333333,
             "#9c179e"
            ],
            [
             0.4444444444444444,
             "#bd3786"
            ],
            [
             0.5555555555555556,
             "#d8576b"
            ],
            [
             0.6666666666666666,
             "#ed7953"
            ],
            [
             0.7777777777777778,
             "#fb9f3a"
            ],
            [
             0.8888888888888888,
             "#fdca26"
            ],
            [
             1,
             "#f0f921"
            ]
           ],
           "sequentialminus": [
            [
             0,
             "#0d0887"
            ],
            [
             0.1111111111111111,
             "#46039f"
            ],
            [
             0.2222222222222222,
             "#7201a8"
            ],
            [
             0.3333333333333333,
             "#9c179e"
            ],
            [
             0.4444444444444444,
             "#bd3786"
            ],
            [
             0.5555555555555556,
             "#d8576b"
            ],
            [
             0.6666666666666666,
             "#ed7953"
            ],
            [
             0.7777777777777778,
             "#fb9f3a"
            ],
            [
             0.8888888888888888,
             "#fdca26"
            ],
            [
             1,
             "#f0f921"
            ]
           ]
          },
          "colorway": [
           "#636efa",
           "#EF553B",
           "#00cc96",
           "#ab63fa",
           "#FFA15A",
           "#19d3f3",
           "#FF6692",
           "#B6E880",
           "#FF97FF",
           "#FECB52"
          ],
          "font": {
           "color": "#2a3f5f"
          },
          "geo": {
           "bgcolor": "white",
           "lakecolor": "white",
           "landcolor": "#E5ECF6",
           "showlakes": true,
           "showland": true,
           "subunitcolor": "white"
          },
          "hoverlabel": {
           "align": "left"
          },
          "hovermode": "closest",
          "mapbox": {
           "style": "light"
          },
          "paper_bgcolor": "white",
          "plot_bgcolor": "#E5ECF6",
          "polar": {
           "angularaxis": {
            "gridcolor": "white",
            "linecolor": "white",
            "ticks": ""
           },
           "bgcolor": "#E5ECF6",
           "radialaxis": {
            "gridcolor": "white",
            "linecolor": "white",
            "ticks": ""
           }
          },
          "scene": {
           "xaxis": {
            "backgroundcolor": "#E5ECF6",
            "gridcolor": "white",
            "gridwidth": 2,
            "linecolor": "white",
            "showbackground": true,
            "ticks": "",
            "zerolinecolor": "white"
           },
           "yaxis": {
            "backgroundcolor": "#E5ECF6",
            "gridcolor": "white",
            "gridwidth": 2,
            "linecolor": "white",
            "showbackground": true,
            "ticks": "",
            "zerolinecolor": "white"
           },
           "zaxis": {
            "backgroundcolor": "#E5ECF6",
            "gridcolor": "white",
            "gridwidth": 2,
            "linecolor": "white",
            "showbackground": true,
            "ticks": "",
            "zerolinecolor": "white"
           }
          },
          "shapedefaults": {
           "line": {
            "color": "#2a3f5f"
           }
          },
          "ternary": {
           "aaxis": {
            "gridcolor": "white",
            "linecolor": "white",
            "ticks": ""
           },
           "baxis": {
            "gridcolor": "white",
            "linecolor": "white",
            "ticks": ""
           },
           "bgcolor": "#E5ECF6",
           "caxis": {
            "gridcolor": "white",
            "linecolor": "white",
            "ticks": ""
           }
          },
          "title": {
           "x": 0.05
          },
          "xaxis": {
           "automargin": true,
           "gridcolor": "white",
           "linecolor": "white",
           "ticks": "",
           "title": {
            "standoff": 15
           },
           "zerolinecolor": "white",
           "zerolinewidth": 2
          },
          "yaxis": {
           "automargin": true,
           "gridcolor": "white",
           "linecolor": "white",
           "ticks": "",
           "title": {
            "standoff": 15
           },
           "zerolinecolor": "white",
           "zerolinewidth": 2
          }
         }
        },
        "xaxis": {
         "anchor": "y",
         "autorange": false,
         "exponentformat": "e",
         "range": [
          0.1,
          10
         ],
         "tickfont": {
          "size": 11
         },
         "tickmode": "auto",
         "title": {
          "text": "Doping%"
         },
         "type": "linear"
        },
        "yaxis": {
         "anchor": "x",
         "tickfont": {
          "size": 11
         },
         "tickmode": "auto",
         "title": {
          "text": "f"
         }
        }
       }
      }
     },
     "metadata": {},
     "output_type": "display_data"
    },
    {
     "data": {
      "application/vnd.plotly.v1+json": {
       "config": {
        "linkText": "Export to plot.ly",
        "plotlyServerURL": "https://plot.ly",
        "showLink": false
       },
       "data": [
        {
         "fill": "toself",
         "fillcolor": "rgba(128, 177, 211, 0.2)",
         "hoverinfo": "none",
         "line": {
          "color": "rgba(128, 177, 211, 0.0)"
         },
         "showlegend": false,
         "type": "scatter",
         "visible": true,
         "x": [
          6,
          6.408163265306122,
          6.816326530612245,
          7.224489795918368,
          7.63265306122449,
          8.040816326530612,
          8.448979591836736,
          8.857142857142858,
          9.26530612244898,
          9.673469387755102,
          10.081632653061224,
          10.489795918367347,
          10.89795918367347,
          11.306122448979592,
          11.714285714285715,
          12.122448979591837,
          12.53061224489796,
          12.938775510204081,
          13.346938775510203,
          13.755102040816327,
          14.16326530612245,
          14.571428571428571,
          14.979591836734695,
          15.387755102040817,
          15.795918367346939,
          16.20408163265306,
          16.612244897959183,
          17.02040816326531,
          17.42857142857143,
          17.836734693877553,
          18.244897959183675,
          18.653061224489797,
          19.06122448979592,
          19.46938775510204,
          19.877551020408163,
          20.285714285714285,
          20.693877551020407,
          21.10204081632653,
          21.510204081632654,
          21.918367346938776,
          22.3265306122449,
          22.73469387755102,
          23.142857142857142,
          23.551020408163264,
          23.95918367346939,
          24.367346938775512,
          24.775510204081634,
          25.183673469387756,
          25.591836734693878,
          26,
          26,
          25.591836734693878,
          25.183673469387756,
          24.775510204081634,
          24.367346938775512,
          23.95918367346939,
          23.551020408163264,
          23.142857142857142,
          22.73469387755102,
          22.3265306122449,
          21.918367346938776,
          21.510204081632654,
          21.10204081632653,
          20.693877551020407,
          20.285714285714285,
          19.877551020408163,
          19.46938775510204,
          19.06122448979592,
          18.653061224489797,
          18.244897959183675,
          17.836734693877553,
          17.42857142857143,
          17.02040816326531,
          16.612244897959183,
          16.20408163265306,
          15.795918367346939,
          15.387755102040817,
          14.979591836734695,
          14.571428571428571,
          14.16326530612245,
          13.755102040816327,
          13.346938775510203,
          12.938775510204081,
          12.53061224489796,
          12.122448979591837,
          11.714285714285715,
          11.306122448979592,
          10.89795918367347,
          10.489795918367347,
          10.081632653061224,
          9.673469387755102,
          9.26530612244898,
          8.857142857142858,
          8.448979591836736,
          8.040816326530612,
          7.63265306122449,
          7.224489795918368,
          6.816326530612245,
          6.408163265306122,
          6
         ],
         "y": [
          0.4811808540810816,
          0.47027088632187686,
          0.4598866586205579,
          0.4499771095224486,
          0.44048937351370643,
          0.4313706509838968,
          0.4225700603831096,
          0.4140403576736176,
          0.4057394445086177,
          0.3976316259039233,
          0.3896886114758161,
          0.38189027636797485,
          0.3742252077188992,
          0.366691060125538,
          0.3592947326019619,
          0.352052362466203,
          0.3449891124289752,
          0.3381387101763067,
          0.33154268934786224,
          0.3252492831083518,
          0.3193119405563323,
          0.31378747563793874,
          0.3087339146149428,
          0.3042081730262146,
          0.30026374899869857,
          0.29694864889139794,
          0.29430374853993996,
          0.29236173682117117,
          0.29114670104630125,
          0.2906743189249148,
          0.2909525441356784,
          0.2919826282060887,
          0.29376031378629863,
          0.2962770556018168,
          0.2995211631372821,
          0.3034787998839103,
          0.30813481022760836,
          0.3134733714846714,
          0.31947848537862367,
          0.32613433208806,
          0.3334255122566858,
          0.34133720171601023,
          0.34985524041926636,
          0.35896617357088395,
          0.36865725913230973,
          0.3789164526824165,
          0.389732377749309,
          0.40109428758236815,
          0.41299202245916145,
          0.4254159655822791,
          -0.4548223144037893,
          -0.42748620251894676,
          -0.4006745419334872,
          -0.37439859316076696,
          -0.3486700890313133,
          -0.32350127539196605,
          -0.29890495021962055,
          -0.27489449840759134,
          -0.25148391794325986,
          -0.228687831640228,
          -0.20652147624555173,
          -0.18500065804058563,
          -0.16414166073073372,
          -0.1439610877308599,
          -0.12447561719408949,
          -0.10570164540696664,
          -0.08765479278521184,
          -0.07034924969884174,
          -0.05379694778071942,
          -0.03800655905109748,
          -0.02298235220239045,
          -0.008722970856377493,
          0.004779759933902006,
          0.01754185537491043,
          0.02958785574282219,
          0.0409510171191268,
          0.051672894914406825,
          0.061802285104764126,
          0.07139358247993406,
          0.08050470277167748,
          0.08919477195734592,
          0.09752179851605061,
          0.1055405158601335,
          0.11330052564193854,
          0.12084480815718923,
          0.12820860951933927,
          0.13541867594825086,
          0.14249278636148843,
          0.1494395323396382,
          0.1562583046927917,
          0.16293946311707774,
          0.1694646843572885,
          0.17580750144730198,
          0.18193405761493317,
          0.18780410068327977,
          0.19337223423720148,
          0.19858941959398999,
          0.2034046893987422,
          0.20776699434414883,
          0.21162706806801965
         ]
        },
        {
         "hoverinfo": "x+y",
         "line": {
          "color": "rgba(128, 177, 211, 1)"
         },
         "showlegend": false,
         "type": "scatter",
         "visible": true,
         "x": [
          6,
          6.408163265306122,
          6.816326530612245,
          7.224489795918368,
          7.63265306122449,
          8.040816326530612,
          8.448979591836736,
          8.857142857142858,
          9.26530612244898,
          9.673469387755102,
          10.081632653061224,
          10.489795918367347,
          10.89795918367347,
          11.306122448979592,
          11.714285714285715,
          12.122448979591837,
          12.53061224489796,
          12.938775510204081,
          13.346938775510203,
          13.755102040816327,
          14.16326530612245,
          14.571428571428571,
          14.979591836734695,
          15.387755102040817,
          15.795918367346939,
          16.20408163265306,
          16.612244897959183,
          17.02040816326531,
          17.42857142857143,
          17.836734693877553,
          18.244897959183675,
          18.653061224489797,
          19.06122448979592,
          19.46938775510204,
          19.877551020408163,
          20.285714285714285,
          20.693877551020407,
          21.10204081632653,
          21.510204081632654,
          21.918367346938776,
          22.3265306122449,
          22.73469387755102,
          23.142857142857142,
          23.551020408163264,
          23.95918367346939,
          24.367346938775512,
          24.775510204081634,
          25.183673469387756,
          25.591836734693878,
          26
         ],
         "y": [
          0.3464039610745506,
          0.33901894033301283,
          0.33164567400965006,
          0.3242832645582193,
          0.31693080387545397,
          0.3095873758335883,
          0.3022520589990214,
          0.29492392956045976,
          0.2876020644329531,
          0.28028554451050053,
          0.2729734580843039,
          0.2656649043538065,
          0.2583589970401938,
          0.2510548680368944,
          0.24375167106065057,
          0.2364485853116961,
          0.22914481903545686,
          0.22183961301822008,
          0.21453224393195644,
          0.20722202753284888,
          0.19990832166400488,
          0.1925905290589364,
          0.18526809985985349,
          0.17794053397031073,
          0.17060738305891268,
          0.16326825231711006,
          0.1559228019574252,
          0.1485707483775366,
          0.1412118650949619,
          0.13384598336126216,
          0.12647299254229044,
          0.11909284021268465,
          0.11170553204372846,
          0.10431113140830246,
          0.09690975886515774,
          0.08950159134491041,
          0.08208686124837425,
          0.07466585537696883,
          0.06723891366901902,
          0.059806427921254124,
          0.052368840308228914,
          0.04492664188637516,
          0.03748037100583751,
          0.030030611675631702,
          0.022577991870171843,
          0.015123181825551613,
          0.007666892294271033,
          0.00020987282444046018,
          -0.007247090029892628,
          -0.014703174410755082
         ]
        },
        {
         "error_y": {
          "array": [],
          "color": "black",
          "type": "data",
          "visible": true
         },
         "hoverinfo": "x+y",
         "line": {
          "color": "black"
         },
         "mode": "markers",
         "showlegend": false,
         "type": "scatter",
         "visible": true,
         "x": [],
         "y": []
        }
       ],
       "layout": {
        "hovermode": "closest",
        "template": {
         "data": {
          "bar": [
           {
            "error_x": {
             "color": "#2a3f5f"
            },
            "error_y": {
             "color": "#2a3f5f"
            },
            "marker": {
             "line": {
              "color": "#E5ECF6",
              "width": 0.5
             },
             "pattern": {
              "fillmode": "overlay",
              "size": 10,
              "solidity": 0.2
             }
            },
            "type": "bar"
           }
          ],
          "barpolar": [
           {
            "marker": {
             "line": {
              "color": "#E5ECF6",
              "width": 0.5
             },
             "pattern": {
              "fillmode": "overlay",
              "size": 10,
              "solidity": 0.2
             }
            },
            "type": "barpolar"
           }
          ],
          "carpet": [
           {
            "aaxis": {
             "endlinecolor": "#2a3f5f",
             "gridcolor": "white",
             "linecolor": "white",
             "minorgridcolor": "white",
             "startlinecolor": "#2a3f5f"
            },
            "baxis": {
             "endlinecolor": "#2a3f5f",
             "gridcolor": "white",
             "linecolor": "white",
             "minorgridcolor": "white",
             "startlinecolor": "#2a3f5f"
            },
            "type": "carpet"
           }
          ],
          "choropleth": [
           {
            "colorbar": {
             "outlinewidth": 0,
             "ticks": ""
            },
            "type": "choropleth"
           }
          ],
          "contour": [
           {
            "colorbar": {
             "outlinewidth": 0,
             "ticks": ""
            },
            "colorscale": [
             [
              0,
              "#0d0887"
             ],
             [
              0.1111111111111111,
              "#46039f"
             ],
             [
              0.2222222222222222,
              "#7201a8"
             ],
             [
              0.3333333333333333,
              "#9c179e"
             ],
             [
              0.4444444444444444,
              "#bd3786"
             ],
             [
              0.5555555555555556,
              "#d8576b"
             ],
             [
              0.6666666666666666,
              "#ed7953"
             ],
             [
              0.7777777777777778,
              "#fb9f3a"
             ],
             [
              0.8888888888888888,
              "#fdca26"
             ],
             [
              1,
              "#f0f921"
             ]
            ],
            "type": "contour"
           }
          ],
          "contourcarpet": [
           {
            "colorbar": {
             "outlinewidth": 0,
             "ticks": ""
            },
            "type": "contourcarpet"
           }
          ],
          "heatmap": [
           {
            "colorbar": {
             "outlinewidth": 0,
             "ticks": ""
            },
            "colorscale": [
             [
              0,
              "#0d0887"
             ],
             [
              0.1111111111111111,
              "#46039f"
             ],
             [
              0.2222222222222222,
              "#7201a8"
             ],
             [
              0.3333333333333333,
              "#9c179e"
             ],
             [
              0.4444444444444444,
              "#bd3786"
             ],
             [
              0.5555555555555556,
              "#d8576b"
             ],
             [
              0.6666666666666666,
              "#ed7953"
             ],
             [
              0.7777777777777778,
              "#fb9f3a"
             ],
             [
              0.8888888888888888,
              "#fdca26"
             ],
             [
              1,
              "#f0f921"
             ]
            ],
            "type": "heatmap"
           }
          ],
          "heatmapgl": [
           {
            "colorbar": {
             "outlinewidth": 0,
             "ticks": ""
            },
            "colorscale": [
             [
              0,
              "#0d0887"
             ],
             [
              0.1111111111111111,
              "#46039f"
             ],
             [
              0.2222222222222222,
              "#7201a8"
             ],
             [
              0.3333333333333333,
              "#9c179e"
             ],
             [
              0.4444444444444444,
              "#bd3786"
             ],
             [
              0.5555555555555556,
              "#d8576b"
             ],
             [
              0.6666666666666666,
              "#ed7953"
             ],
             [
              0.7777777777777778,
              "#fb9f3a"
             ],
             [
              0.8888888888888888,
              "#fdca26"
             ],
             [
              1,
              "#f0f921"
             ]
            ],
            "type": "heatmapgl"
           }
          ],
          "histogram": [
           {
            "marker": {
             "pattern": {
              "fillmode": "overlay",
              "size": 10,
              "solidity": 0.2
             }
            },
            "type": "histogram"
           }
          ],
          "histogram2d": [
           {
            "colorbar": {
             "outlinewidth": 0,
             "ticks": ""
            },
            "colorscale": [
             [
              0,
              "#0d0887"
             ],
             [
              0.1111111111111111,
              "#46039f"
             ],
             [
              0.2222222222222222,
              "#7201a8"
             ],
             [
              0.3333333333333333,
              "#9c179e"
             ],
             [
              0.4444444444444444,
              "#bd3786"
             ],
             [
              0.5555555555555556,
              "#d8576b"
             ],
             [
              0.6666666666666666,
              "#ed7953"
             ],
             [
              0.7777777777777778,
              "#fb9f3a"
             ],
             [
              0.8888888888888888,
              "#fdca26"
             ],
             [
              1,
              "#f0f921"
             ]
            ],
            "type": "histogram2d"
           }
          ],
          "histogram2dcontour": [
           {
            "colorbar": {
             "outlinewidth": 0,
             "ticks": ""
            },
            "colorscale": [
             [
              0,
              "#0d0887"
             ],
             [
              0.1111111111111111,
              "#46039f"
             ],
             [
              0.2222222222222222,
              "#7201a8"
             ],
             [
              0.3333333333333333,
              "#9c179e"
             ],
             [
              0.4444444444444444,
              "#bd3786"
             ],
             [
              0.5555555555555556,
              "#d8576b"
             ],
             [
              0.6666666666666666,
              "#ed7953"
             ],
             [
              0.7777777777777778,
              "#fb9f3a"
             ],
             [
              0.8888888888888888,
              "#fdca26"
             ],
             [
              1,
              "#f0f921"
             ]
            ],
            "type": "histogram2dcontour"
           }
          ],
          "mesh3d": [
           {
            "colorbar": {
             "outlinewidth": 0,
             "ticks": ""
            },
            "type": "mesh3d"
           }
          ],
          "parcoords": [
           {
            "line": {
             "colorbar": {
              "outlinewidth": 0,
              "ticks": ""
             }
            },
            "type": "parcoords"
           }
          ],
          "pie": [
           {
            "automargin": true,
            "type": "pie"
           }
          ],
          "scatter": [
           {
            "fillpattern": {
             "fillmode": "overlay",
             "size": 10,
             "solidity": 0.2
            },
            "type": "scatter"
           }
          ],
          "scatter3d": [
           {
            "line": {
             "colorbar": {
              "outlinewidth": 0,
              "ticks": ""
             }
            },
            "marker": {
             "colorbar": {
              "outlinewidth": 0,
              "ticks": ""
             }
            },
            "type": "scatter3d"
           }
          ],
          "scattercarpet": [
           {
            "marker": {
             "colorbar": {
              "outlinewidth": 0,
              "ticks": ""
             }
            },
            "type": "scattercarpet"
           }
          ],
          "scattergeo": [
           {
            "marker": {
             "colorbar": {
              "outlinewidth": 0,
              "ticks": ""
             }
            },
            "type": "scattergeo"
           }
          ],
          "scattergl": [
           {
            "marker": {
             "colorbar": {
              "outlinewidth": 0,
              "ticks": ""
             }
            },
            "type": "scattergl"
           }
          ],
          "scattermapbox": [
           {
            "marker": {
             "colorbar": {
              "outlinewidth": 0,
              "ticks": ""
             }
            },
            "type": "scattermapbox"
           }
          ],
          "scatterpolar": [
           {
            "marker": {
             "colorbar": {
              "outlinewidth": 0,
              "ticks": ""
             }
            },
            "type": "scatterpolar"
           }
          ],
          "scatterpolargl": [
           {
            "marker": {
             "colorbar": {
              "outlinewidth": 0,
              "ticks": ""
             }
            },
            "type": "scatterpolargl"
           }
          ],
          "scatterternary": [
           {
            "marker": {
             "colorbar": {
              "outlinewidth": 0,
              "ticks": ""
             }
            },
            "type": "scatterternary"
           }
          ],
          "surface": [
           {
            "colorbar": {
             "outlinewidth": 0,
             "ticks": ""
            },
            "colorscale": [
             [
              0,
              "#0d0887"
             ],
             [
              0.1111111111111111,
              "#46039f"
             ],
             [
              0.2222222222222222,
              "#7201a8"
             ],
             [
              0.3333333333333333,
              "#9c179e"
             ],
             [
              0.4444444444444444,
              "#bd3786"
             ],
             [
              0.5555555555555556,
              "#d8576b"
             ],
             [
              0.6666666666666666,
              "#ed7953"
             ],
             [
              0.7777777777777778,
              "#fb9f3a"
             ],
             [
              0.8888888888888888,
              "#fdca26"
             ],
             [
              1,
              "#f0f921"
             ]
            ],
            "type": "surface"
           }
          ],
          "table": [
           {
            "cells": {
             "fill": {
              "color": "#EBF0F8"
             },
             "line": {
              "color": "white"
             }
            },
            "header": {
             "fill": {
              "color": "#C8D4E3"
             },
             "line": {
              "color": "white"
             }
            },
            "type": "table"
           }
          ]
         },
         "layout": {
          "annotationdefaults": {
           "arrowcolor": "#2a3f5f",
           "arrowhead": 0,
           "arrowwidth": 1
          },
          "autotypenumbers": "strict",
          "coloraxis": {
           "colorbar": {
            "outlinewidth": 0,
            "ticks": ""
           }
          },
          "colorscale": {
           "diverging": [
            [
             0,
             "#8e0152"
            ],
            [
             0.1,
             "#c51b7d"
            ],
            [
             0.2,
             "#de77ae"
            ],
            [
             0.3,
             "#f1b6da"
            ],
            [
             0.4,
             "#fde0ef"
            ],
            [
             0.5,
             "#f7f7f7"
            ],
            [
             0.6,
             "#e6f5d0"
            ],
            [
             0.7,
             "#b8e186"
            ],
            [
             0.8,
             "#7fbc41"
            ],
            [
             0.9,
             "#4d9221"
            ],
            [
             1,
             "#276419"
            ]
           ],
           "sequential": [
            [
             0,
             "#0d0887"
            ],
            [
             0.1111111111111111,
             "#46039f"
            ],
            [
             0.2222222222222222,
             "#7201a8"
            ],
            [
             0.3333333333333333,
             "#9c179e"
            ],
            [
             0.4444444444444444,
             "#bd3786"
            ],
            [
             0.5555555555555556,
             "#d8576b"
            ],
            [
             0.6666666666666666,
             "#ed7953"
            ],
            [
             0.7777777777777778,
             "#fb9f3a"
            ],
            [
             0.8888888888888888,
             "#fdca26"
            ],
            [
             1,
             "#f0f921"
            ]
           ],
           "sequentialminus": [
            [
             0,
             "#0d0887"
            ],
            [
             0.1111111111111111,
             "#46039f"
            ],
            [
             0.2222222222222222,
             "#7201a8"
            ],
            [
             0.3333333333333333,
             "#9c179e"
            ],
            [
             0.4444444444444444,
             "#bd3786"
            ],
            [
             0.5555555555555556,
             "#d8576b"
            ],
            [
             0.6666666666666666,
             "#ed7953"
            ],
            [
             0.7777777777777778,
             "#fb9f3a"
            ],
            [
             0.8888888888888888,
             "#fdca26"
            ],
            [
             1,
             "#f0f921"
            ]
           ]
          },
          "colorway": [
           "#636efa",
           "#EF553B",
           "#00cc96",
           "#ab63fa",
           "#FFA15A",
           "#19d3f3",
           "#FF6692",
           "#B6E880",
           "#FF97FF",
           "#FECB52"
          ],
          "font": {
           "color": "#2a3f5f"
          },
          "geo": {
           "bgcolor": "white",
           "lakecolor": "white",
           "landcolor": "#E5ECF6",
           "showlakes": true,
           "showland": true,
           "subunitcolor": "white"
          },
          "hoverlabel": {
           "align": "left"
          },
          "hovermode": "closest",
          "mapbox": {
           "style": "light"
          },
          "paper_bgcolor": "white",
          "plot_bgcolor": "#E5ECF6",
          "polar": {
           "angularaxis": {
            "gridcolor": "white",
            "linecolor": "white",
            "ticks": ""
           },
           "bgcolor": "#E5ECF6",
           "radialaxis": {
            "gridcolor": "white",
            "linecolor": "white",
            "ticks": ""
           }
          },
          "scene": {
           "xaxis": {
            "backgroundcolor": "#E5ECF6",
            "gridcolor": "white",
            "gridwidth": 2,
            "linecolor": "white",
            "showbackground": true,
            "ticks": "",
            "zerolinecolor": "white"
           },
           "yaxis": {
            "backgroundcolor": "#E5ECF6",
            "gridcolor": "white",
            "gridwidth": 2,
            "linecolor": "white",
            "showbackground": true,
            "ticks": "",
            "zerolinecolor": "white"
           },
           "zaxis": {
            "backgroundcolor": "#E5ECF6",
            "gridcolor": "white",
            "gridwidth": 2,
            "linecolor": "white",
            "showbackground": true,
            "ticks": "",
            "zerolinecolor": "white"
           }
          },
          "shapedefaults": {
           "line": {
            "color": "#2a3f5f"
           }
          },
          "ternary": {
           "aaxis": {
            "gridcolor": "white",
            "linecolor": "white",
            "ticks": ""
           },
           "baxis": {
            "gridcolor": "white",
            "linecolor": "white",
            "ticks": ""
           },
           "bgcolor": "#E5ECF6",
           "caxis": {
            "gridcolor": "white",
            "linecolor": "white",
            "ticks": ""
           }
          },
          "title": {
           "x": 0.05
          },
          "xaxis": {
           "automargin": true,
           "gridcolor": "white",
           "linecolor": "white",
           "ticks": "",
           "title": {
            "standoff": 15
           },
           "zerolinecolor": "white",
           "zerolinewidth": 2
          },
          "yaxis": {
           "automargin": true,
           "gridcolor": "white",
           "linecolor": "white",
           "ticks": "",
           "title": {
            "standoff": 15
           },
           "zerolinecolor": "white",
           "zerolinewidth": 2
          }
         }
        },
        "xaxis": {
         "anchor": "y",
         "autorange": false,
         "exponentformat": "e",
         "range": [
          6,
          26
         ],
         "tickfont": {
          "size": 11
         },
         "tickmode": "auto",
         "title": {
          "text": "Dimension2"
         },
         "type": "linear"
        },
        "yaxis": {
         "anchor": "x",
         "tickfont": {
          "size": 11
         },
         "tickmode": "auto",
         "title": {
          "text": "f"
         }
        }
       }
      }
     },
     "metadata": {},
     "output_type": "display_data"
    },
    {
     "data": {
      "application/vnd.plotly.v1+json": {
       "config": {
        "linkText": "Export to plot.ly",
        "plotlyServerURL": "https://plot.ly",
        "showLink": false
       },
       "data": [
        {
         "fill": "toself",
         "fillcolor": "rgba(128, 177, 211, 0.2)",
         "hoverinfo": "none",
         "line": {
          "color": "rgba(128, 177, 211, 0.0)"
         },
         "showlegend": false,
         "type": "scatter",
         "visible": true,
         "x": [
          12,
          12.795918367346939,
          13.591836734693878,
          14.387755102040817,
          15.183673469387756,
          15.979591836734695,
          16.775510204081634,
          17.57142857142857,
          18.367346938775512,
          19.163265306122447,
          19.95918367346939,
          20.755102040816325,
          21.551020408163264,
          22.346938775510203,
          23.142857142857142,
          23.93877551020408,
          24.73469387755102,
          25.53061224489796,
          26.3265306122449,
          27.122448979591837,
          27.918367346938776,
          28.714285714285715,
          29.510204081632654,
          30.306122448979593,
          31.10204081632653,
          31.897959183673468,
          32.69387755102041,
          33.48979591836735,
          34.285714285714285,
          35.08163265306122,
          35.87755102040816,
          36.673469387755105,
          37.46938775510204,
          38.265306122448976,
          39.06122448979592,
          39.85714285714286,
          40.6530612244898,
          41.44897959183673,
          42.244897959183675,
          43.04081632653062,
          43.83673469387755,
          44.63265306122449,
          45.42857142857143,
          46.224489795918366,
          47.02040816326531,
          47.816326530612244,
          48.61224489795919,
          49.40816326530612,
          50.20408163265306,
          51,
          51,
          50.20408163265306,
          49.40816326530612,
          48.61224489795919,
          47.816326530612244,
          47.02040816326531,
          46.224489795918366,
          45.42857142857143,
          44.63265306122449,
          43.83673469387755,
          43.04081632653062,
          42.244897959183675,
          41.44897959183673,
          40.6530612244898,
          39.85714285714286,
          39.06122448979592,
          38.265306122448976,
          37.46938775510204,
          36.673469387755105,
          35.87755102040816,
          35.08163265306122,
          34.285714285714285,
          33.48979591836735,
          32.69387755102041,
          31.897959183673468,
          31.10204081632653,
          30.306122448979593,
          29.510204081632654,
          28.714285714285715,
          27.918367346938776,
          27.122448979591837,
          26.3265306122449,
          25.53061224489796,
          24.73469387755102,
          23.93877551020408,
          23.142857142857142,
          22.346938775510203,
          21.551020408163264,
          20.755102040816325,
          19.95918367346939,
          19.163265306122447,
          18.367346938775512,
          17.57142857142857,
          16.775510204081634,
          15.979591836734695,
          15.183673469387756,
          14.387755102040817,
          13.591836734693878,
          12.795918367346939,
          12
         ],
         "y": [
          0.6652479320663572,
          0.6527770620291837,
          0.6408417728422007,
          0.6294037069179113,
          0.6184200806003414,
          0.6078437183266998,
          0.5976232546108358,
          0.5877035325509709,
          0.5780262193340656,
          0.5685306474798794,
          0.5591548760743643,
          0.5498369511427217,
          0.5405163300726623,
          0.5311354239754363,
          0.5216412051866056,
          0.5119868251287034,
          0.5021331895980821,
          0.4920504422998011,
          0.48171930986227995,
          0.4711322595167726,
          0.4602944107583643,
          0.4492241224796861,
          0.4379531475183628,
          0.42652621250095174,
          0.4149998543368486,
          0.40344034741661666,
          0.3919206163476426,
          0.38051617346173944,
          0.36930035048190313,
          0.35833936386234533,
          0.3476879625125982,
          0.3373864333937168,
          0.32745951708008963,
          0.31791736141983185,
          0.30875817741954026,
          0.29997193923379617,
          0.2915443844541137,
          0.28346069726332657,
          0.2757084917511663,
          0.26827994895400314,
          0.2611731354294304,
          0.25439262743911917,
          0.2479495984571044,
          0.24186152143485246,
          0.2361516137390195,
          0.23084812396234727,
          0.22598353418567932,
          0.22159373049534953,
          0.21771717935057794,
          0.21439413610895025,
          -0.33109420317787736,
          -0.29981786554459494,
          -0.2692959218815389,
          -0.2395280834753505,
          -0.21051705777551255,
          -0.18226929547199122,
          -0.15479575226457004,
          -0.1281126363529187,
          -0.10224210207751967,
          -0.07721283493081692,
          -0.05306045324490476,
          -0.029827626301087914,
          -0.007563781278974974,
          0.013675752342984043,
          0.03383131693131006,
          0.05284134167738164,
          0.07064562316045589,
          0.08718932135563155,
          0.10242728360207627,
          0.11632807325944122,
          0.12887695275902578,
          0.14007715528639697,
          0.14994910162765335,
          0.15852768241019594,
          0.16585815039617274,
          0.17199139214498402,
          0.17697932258016208,
          0.18087093854340283,
          0.18370929922359291,
          0.1855294725998197,
          0.18635734439115634,
          0.1862091264912672,
          0.18509140036598204,
          0.18300155790284334,
          0.17992853715130896,
          0.1758537797466563,
          0.1707523571382036,
          0.16459422201426327,
          0.15734554354506386,
          0.1489700817541992,
          0.13943055255964412,
          0.12868993237804247,
          0.11671265262503186,
          0.10346564069506453,
          0.08891917428260193,
          0.07304752961468408,
          0.05582941891580967,
          0.03724822620453133,
          0.01729206209221662,
          -0.004046334091518999
         ]
        },
        {
         "hoverinfo": "x+y",
         "line": {
          "color": "rgba(128, 177, 211, 1)"
         },
         "showlegend": false,
         "type": "scatter",
         "visible": true,
         "x": [
          12,
          12.795918367346939,
          13.591836734693878,
          14.387755102040817,
          15.183673469387756,
          15.979591836734695,
          16.775510204081634,
          17.57142857142857,
          18.367346938775512,
          19.163265306122447,
          19.95918367346939,
          20.755102040816325,
          21.551020408163264,
          22.346938775510203,
          23.142857142857142,
          23.93877551020408,
          24.73469387755102,
          25.53061224489796,
          26.3265306122449,
          27.122448979591837,
          27.918367346938776,
          28.714285714285715,
          29.510204081632654,
          30.306122448979593,
          31.10204081632653,
          31.897959183673468,
          32.69387755102041,
          33.48979591836735,
          34.285714285714285,
          35.08163265306122,
          35.87755102040816,
          36.673469387755105,
          37.46938775510204,
          38.265306122448976,
          39.06122448979592,
          39.85714285714286,
          40.6530612244898,
          41.44897959183673,
          42.244897959183675,
          43.04081632653062,
          43.83673469387755,
          44.63265306122449,
          45.42857142857143,
          46.224489795918366,
          47.02040816326531,
          47.816326530612244,
          48.61224489795919,
          49.40816326530612,
          50.20408163265306,
          51
         ],
         "y": [
          0.3306007989874191,
          0.33503456206070015,
          0.33904499952336603,
          0.3426165629168605,
          0.3457338051075127,
          0.3483814463046509,
          0.3505444476529501,
          0.35220809258800134,
          0.35335807585605405,
          0.3539806000197617,
          0.3540624789142818,
          0.3535912473438928,
          0.3525552760434628,
          0.35094389055681996,
          0.34874749246663095,
          0.3459576811400062,
          0.3425673737504627,
          0.3385709213328916,
          0.3339642181767736,
          0.3287448019539645,
          0.322911941679092,
          0.3164667108516395,
          0.3094120430308828,
          0.3017527675405569,
          0.2934956232409163,
          0.2846492489063947,
          0.27522414937891926,
          0.2652326375446964,
          0.25468875288415005,
          0.24360815831068555,
          0.2320080178860197,
          0.21990685849789654,
          0.2073244192178606,
          0.19428149229014388,
          0.18079975954846095,
          0.1669016280825531,
          0.15261006839854888,
          0.1379484579921758,
          0.1229404327250392,
          0.1076097478545492,
          0.09198015024930674,
          0.07607526268079974,
          0.05991848105209285,
          0.04353288458514121,
          0.026941159133514136,
          0.010165533093417362,
          -0.006772274644835596,
          -0.02385109569309468,
          -0.0410503430970085,
          -0.05835003353446355
         ]
        },
        {
         "error_y": {
          "array": [],
          "color": "black",
          "type": "data",
          "visible": true
         },
         "hoverinfo": "x+y",
         "line": {
          "color": "black"
         },
         "mode": "markers",
         "showlegend": false,
         "type": "scatter",
         "visible": true,
         "x": [],
         "y": []
        }
       ],
       "layout": {
        "hovermode": "closest",
        "template": {
         "data": {
          "bar": [
           {
            "error_x": {
             "color": "#2a3f5f"
            },
            "error_y": {
             "color": "#2a3f5f"
            },
            "marker": {
             "line": {
              "color": "#E5ECF6",
              "width": 0.5
             },
             "pattern": {
              "fillmode": "overlay",
              "size": 10,
              "solidity": 0.2
             }
            },
            "type": "bar"
           }
          ],
          "barpolar": [
           {
            "marker": {
             "line": {
              "color": "#E5ECF6",
              "width": 0.5
             },
             "pattern": {
              "fillmode": "overlay",
              "size": 10,
              "solidity": 0.2
             }
            },
            "type": "barpolar"
           }
          ],
          "carpet": [
           {
            "aaxis": {
             "endlinecolor": "#2a3f5f",
             "gridcolor": "white",
             "linecolor": "white",
             "minorgridcolor": "white",
             "startlinecolor": "#2a3f5f"
            },
            "baxis": {
             "endlinecolor": "#2a3f5f",
             "gridcolor": "white",
             "linecolor": "white",
             "minorgridcolor": "white",
             "startlinecolor": "#2a3f5f"
            },
            "type": "carpet"
           }
          ],
          "choropleth": [
           {
            "colorbar": {
             "outlinewidth": 0,
             "ticks": ""
            },
            "type": "choropleth"
           }
          ],
          "contour": [
           {
            "colorbar": {
             "outlinewidth": 0,
             "ticks": ""
            },
            "colorscale": [
             [
              0,
              "#0d0887"
             ],
             [
              0.1111111111111111,
              "#46039f"
             ],
             [
              0.2222222222222222,
              "#7201a8"
             ],
             [
              0.3333333333333333,
              "#9c179e"
             ],
             [
              0.4444444444444444,
              "#bd3786"
             ],
             [
              0.5555555555555556,
              "#d8576b"
             ],
             [
              0.6666666666666666,
              "#ed7953"
             ],
             [
              0.7777777777777778,
              "#fb9f3a"
             ],
             [
              0.8888888888888888,
              "#fdca26"
             ],
             [
              1,
              "#f0f921"
             ]
            ],
            "type": "contour"
           }
          ],
          "contourcarpet": [
           {
            "colorbar": {
             "outlinewidth": 0,
             "ticks": ""
            },
            "type": "contourcarpet"
           }
          ],
          "heatmap": [
           {
            "colorbar": {
             "outlinewidth": 0,
             "ticks": ""
            },
            "colorscale": [
             [
              0,
              "#0d0887"
             ],
             [
              0.1111111111111111,
              "#46039f"
             ],
             [
              0.2222222222222222,
              "#7201a8"
             ],
             [
              0.3333333333333333,
              "#9c179e"
             ],
             [
              0.4444444444444444,
              "#bd3786"
             ],
             [
              0.5555555555555556,
              "#d8576b"
             ],
             [
              0.6666666666666666,
              "#ed7953"
             ],
             [
              0.7777777777777778,
              "#fb9f3a"
             ],
             [
              0.8888888888888888,
              "#fdca26"
             ],
             [
              1,
              "#f0f921"
             ]
            ],
            "type": "heatmap"
           }
          ],
          "heatmapgl": [
           {
            "colorbar": {
             "outlinewidth": 0,
             "ticks": ""
            },
            "colorscale": [
             [
              0,
              "#0d0887"
             ],
             [
              0.1111111111111111,
              "#46039f"
             ],
             [
              0.2222222222222222,
              "#7201a8"
             ],
             [
              0.3333333333333333,
              "#9c179e"
             ],
             [
              0.4444444444444444,
              "#bd3786"
             ],
             [
              0.5555555555555556,
              "#d8576b"
             ],
             [
              0.6666666666666666,
              "#ed7953"
             ],
             [
              0.7777777777777778,
              "#fb9f3a"
             ],
             [
              0.8888888888888888,
              "#fdca26"
             ],
             [
              1,
              "#f0f921"
             ]
            ],
            "type": "heatmapgl"
           }
          ],
          "histogram": [
           {
            "marker": {
             "pattern": {
              "fillmode": "overlay",
              "size": 10,
              "solidity": 0.2
             }
            },
            "type": "histogram"
           }
          ],
          "histogram2d": [
           {
            "colorbar": {
             "outlinewidth": 0,
             "ticks": ""
            },
            "colorscale": [
             [
              0,
              "#0d0887"
             ],
             [
              0.1111111111111111,
              "#46039f"
             ],
             [
              0.2222222222222222,
              "#7201a8"
             ],
             [
              0.3333333333333333,
              "#9c179e"
             ],
             [
              0.4444444444444444,
              "#bd3786"
             ],
             [
              0.5555555555555556,
              "#d8576b"
             ],
             [
              0.6666666666666666,
              "#ed7953"
             ],
             [
              0.7777777777777778,
              "#fb9f3a"
             ],
             [
              0.8888888888888888,
              "#fdca26"
             ],
             [
              1,
              "#f0f921"
             ]
            ],
            "type": "histogram2d"
           }
          ],
          "histogram2dcontour": [
           {
            "colorbar": {
             "outlinewidth": 0,
             "ticks": ""
            },
            "colorscale": [
             [
              0,
              "#0d0887"
             ],
             [
              0.1111111111111111,
              "#46039f"
             ],
             [
              0.2222222222222222,
              "#7201a8"
             ],
             [
              0.3333333333333333,
              "#9c179e"
             ],
             [
              0.4444444444444444,
              "#bd3786"
             ],
             [
              0.5555555555555556,
              "#d8576b"
             ],
             [
              0.6666666666666666,
              "#ed7953"
             ],
             [
              0.7777777777777778,
              "#fb9f3a"
             ],
             [
              0.8888888888888888,
              "#fdca26"
             ],
             [
              1,
              "#f0f921"
             ]
            ],
            "type": "histogram2dcontour"
           }
          ],
          "mesh3d": [
           {
            "colorbar": {
             "outlinewidth": 0,
             "ticks": ""
            },
            "type": "mesh3d"
           }
          ],
          "parcoords": [
           {
            "line": {
             "colorbar": {
              "outlinewidth": 0,
              "ticks": ""
             }
            },
            "type": "parcoords"
           }
          ],
          "pie": [
           {
            "automargin": true,
            "type": "pie"
           }
          ],
          "scatter": [
           {
            "fillpattern": {
             "fillmode": "overlay",
             "size": 10,
             "solidity": 0.2
            },
            "type": "scatter"
           }
          ],
          "scatter3d": [
           {
            "line": {
             "colorbar": {
              "outlinewidth": 0,
              "ticks": ""
             }
            },
            "marker": {
             "colorbar": {
              "outlinewidth": 0,
              "ticks": ""
             }
            },
            "type": "scatter3d"
           }
          ],
          "scattercarpet": [
           {
            "marker": {
             "colorbar": {
              "outlinewidth": 0,
              "ticks": ""
             }
            },
            "type": "scattercarpet"
           }
          ],
          "scattergeo": [
           {
            "marker": {
             "colorbar": {
              "outlinewidth": 0,
              "ticks": ""
             }
            },
            "type": "scattergeo"
           }
          ],
          "scattergl": [
           {
            "marker": {
             "colorbar": {
              "outlinewidth": 0,
              "ticks": ""
             }
            },
            "type": "scattergl"
           }
          ],
          "scattermapbox": [
           {
            "marker": {
             "colorbar": {
              "outlinewidth": 0,
              "ticks": ""
             }
            },
            "type": "scattermapbox"
           }
          ],
          "scatterpolar": [
           {
            "marker": {
             "colorbar": {
              "outlinewidth": 0,
              "ticks": ""
             }
            },
            "type": "scatterpolar"
           }
          ],
          "scatterpolargl": [
           {
            "marker": {
             "colorbar": {
              "outlinewidth": 0,
              "ticks": ""
             }
            },
            "type": "scatterpolargl"
           }
          ],
          "scatterternary": [
           {
            "marker": {
             "colorbar": {
              "outlinewidth": 0,
              "ticks": ""
             }
            },
            "type": "scatterternary"
           }
          ],
          "surface": [
           {
            "colorbar": {
             "outlinewidth": 0,
             "ticks": ""
            },
            "colorscale": [
             [
              0,
              "#0d0887"
             ],
             [
              0.1111111111111111,
              "#46039f"
             ],
             [
              0.2222222222222222,
              "#7201a8"
             ],
             [
              0.3333333333333333,
              "#9c179e"
             ],
             [
              0.4444444444444444,
              "#bd3786"
             ],
             [
              0.5555555555555556,
              "#d8576b"
             ],
             [
              0.6666666666666666,
              "#ed7953"
             ],
             [
              0.7777777777777778,
              "#fb9f3a"
             ],
             [
              0.8888888888888888,
              "#fdca26"
             ],
             [
              1,
              "#f0f921"
             ]
            ],
            "type": "surface"
           }
          ],
          "table": [
           {
            "cells": {
             "fill": {
              "color": "#EBF0F8"
             },
             "line": {
              "color": "white"
             }
            },
            "header": {
             "fill": {
              "color": "#C8D4E3"
             },
             "line": {
              "color": "white"
             }
            },
            "type": "table"
           }
          ]
         },
         "layout": {
          "annotationdefaults": {
           "arrowcolor": "#2a3f5f",
           "arrowhead": 0,
           "arrowwidth": 1
          },
          "autotypenumbers": "strict",
          "coloraxis": {
           "colorbar": {
            "outlinewidth": 0,
            "ticks": ""
           }
          },
          "colorscale": {
           "diverging": [
            [
             0,
             "#8e0152"
            ],
            [
             0.1,
             "#c51b7d"
            ],
            [
             0.2,
             "#de77ae"
            ],
            [
             0.3,
             "#f1b6da"
            ],
            [
             0.4,
             "#fde0ef"
            ],
            [
             0.5,
             "#f7f7f7"
            ],
            [
             0.6,
             "#e6f5d0"
            ],
            [
             0.7,
             "#b8e186"
            ],
            [
             0.8,
             "#7fbc41"
            ],
            [
             0.9,
             "#4d9221"
            ],
            [
             1,
             "#276419"
            ]
           ],
           "sequential": [
            [
             0,
             "#0d0887"
            ],
            [
             0.1111111111111111,
             "#46039f"
            ],
            [
             0.2222222222222222,
             "#7201a8"
            ],
            [
             0.3333333333333333,
             "#9c179e"
            ],
            [
             0.4444444444444444,
             "#bd3786"
            ],
            [
             0.5555555555555556,
             "#d8576b"
            ],
            [
             0.6666666666666666,
             "#ed7953"
            ],
            [
             0.7777777777777778,
             "#fb9f3a"
            ],
            [
             0.8888888888888888,
             "#fdca26"
            ],
            [
             1,
             "#f0f921"
            ]
           ],
           "sequentialminus": [
            [
             0,
             "#0d0887"
            ],
            [
             0.1111111111111111,
             "#46039f"
            ],
            [
             0.2222222222222222,
             "#7201a8"
            ],
            [
             0.3333333333333333,
             "#9c179e"
            ],
            [
             0.4444444444444444,
             "#bd3786"
            ],
            [
             0.5555555555555556,
             "#d8576b"
            ],
            [
             0.6666666666666666,
             "#ed7953"
            ],
            [
             0.7777777777777778,
             "#fb9f3a"
            ],
            [
             0.8888888888888888,
             "#fdca26"
            ],
            [
             1,
             "#f0f921"
            ]
           ]
          },
          "colorway": [
           "#636efa",
           "#EF553B",
           "#00cc96",
           "#ab63fa",
           "#FFA15A",
           "#19d3f3",
           "#FF6692",
           "#B6E880",
           "#FF97FF",
           "#FECB52"
          ],
          "font": {
           "color": "#2a3f5f"
          },
          "geo": {
           "bgcolor": "white",
           "lakecolor": "white",
           "landcolor": "#E5ECF6",
           "showlakes": true,
           "showland": true,
           "subunitcolor": "white"
          },
          "hoverlabel": {
           "align": "left"
          },
          "hovermode": "closest",
          "mapbox": {
           "style": "light"
          },
          "paper_bgcolor": "white",
          "plot_bgcolor": "#E5ECF6",
          "polar": {
           "angularaxis": {
            "gridcolor": "white",
            "linecolor": "white",
            "ticks": ""
           },
           "bgcolor": "#E5ECF6",
           "radialaxis": {
            "gridcolor": "white",
            "linecolor": "white",
            "ticks": ""
           }
          },
          "scene": {
           "xaxis": {
            "backgroundcolor": "#E5ECF6",
            "gridcolor": "white",
            "gridwidth": 2,
            "linecolor": "white",
            "showbackground": true,
            "ticks": "",
            "zerolinecolor": "white"
           },
           "yaxis": {
            "backgroundcolor": "#E5ECF6",
            "gridcolor": "white",
            "gridwidth": 2,
            "linecolor": "white",
            "showbackground": true,
            "ticks": "",
            "zerolinecolor": "white"
           },
           "zaxis": {
            "backgroundcolor": "#E5ECF6",
            "gridcolor": "white",
            "gridwidth": 2,
            "linecolor": "white",
            "showbackground": true,
            "ticks": "",
            "zerolinecolor": "white"
           }
          },
          "shapedefaults": {
           "line": {
            "color": "#2a3f5f"
           }
          },
          "ternary": {
           "aaxis": {
            "gridcolor": "white",
            "linecolor": "white",
            "ticks": ""
           },
           "baxis": {
            "gridcolor": "white",
            "linecolor": "white",
            "ticks": ""
           },
           "bgcolor": "#E5ECF6",
           "caxis": {
            "gridcolor": "white",
            "linecolor": "white",
            "ticks": ""
           }
          },
          "title": {
           "x": 0.05
          },
          "xaxis": {
           "automargin": true,
           "gridcolor": "white",
           "linecolor": "white",
           "ticks": "",
           "title": {
            "standoff": 15
           },
           "zerolinecolor": "white",
           "zerolinewidth": 2
          },
          "yaxis": {
           "automargin": true,
           "gridcolor": "white",
           "linecolor": "white",
           "ticks": "",
           "title": {
            "standoff": 15
           },
           "zerolinecolor": "white",
           "zerolinewidth": 2
          }
         }
        },
        "xaxis": {
         "anchor": "y",
         "autorange": false,
         "exponentformat": "e",
         "range": [
          12,
          51
         ],
         "tickfont": {
          "size": 11
         },
         "tickmode": "auto",
         "title": {
          "text": "Dimension1"
         },
         "type": "linear"
        },
        "yaxis": {
         "anchor": "x",
         "tickfont": {
          "size": 11
         },
         "tickmode": "auto",
         "title": {
          "text": "f"
         }
        }
       }
      }
     },
     "metadata": {},
     "output_type": "display_data"
    },
    {
     "data": {
      "application/vnd.plotly.v1+json": {
       "config": {
        "linkText": "Export to plot.ly",
        "plotlyServerURL": "https://plot.ly",
        "showLink": false
       },
       "data": [
        {
         "fill": "toself",
         "fillcolor": "rgba(128, 177, 211, 0.2)",
         "hoverinfo": "none",
         "line": {
          "color": "rgba(128, 177, 211, 0.0)"
         },
         "showlegend": false,
         "type": "scatter",
         "visible": true,
         "x": [
          0,
          0.02040816326530612,
          0.04081632653061224,
          0.061224489795918366,
          0.08163265306122448,
          0.1020408163265306,
          0.12244897959183673,
          0.14285714285714285,
          0.16326530612244897,
          0.18367346938775508,
          0.2040816326530612,
          0.22448979591836732,
          0.24489795918367346,
          0.26530612244897955,
          0.2857142857142857,
          0.3061224489795918,
          0.32653061224489793,
          0.3469387755102041,
          0.36734693877551017,
          0.3877551020408163,
          0.4081632653061224,
          0.42857142857142855,
          0.44897959183673464,
          0.4693877551020408,
          0.4897959183673469,
          0.5102040816326531,
          0.5306122448979591,
          0.5510204081632653,
          0.5714285714285714,
          0.5918367346938775,
          0.6122448979591836,
          0.6326530612244897,
          0.6530612244897959,
          0.673469387755102,
          0.6938775510204082,
          0.7142857142857142,
          0.7346938775510203,
          0.7551020408163265,
          0.7755102040816326,
          0.7959183673469387,
          0.8163265306122448,
          0.836734693877551,
          0.8571428571428571,
          0.8775510204081632,
          0.8979591836734693,
          0.9183673469387754,
          0.9387755102040816,
          0.9591836734693877,
          0.9795918367346939,
          1,
          1,
          0.9795918367346939,
          0.9591836734693877,
          0.9387755102040816,
          0.9183673469387754,
          0.8979591836734693,
          0.8775510204081632,
          0.8571428571428571,
          0.836734693877551,
          0.8163265306122448,
          0.7959183673469387,
          0.7755102040816326,
          0.7551020408163265,
          0.7346938775510203,
          0.7142857142857142,
          0.6938775510204082,
          0.673469387755102,
          0.6530612244897959,
          0.6326530612244897,
          0.6122448979591836,
          0.5918367346938775,
          0.5714285714285714,
          0.5510204081632653,
          0.5306122448979591,
          0.5102040816326531,
          0.4897959183673469,
          0.4693877551020408,
          0.44897959183673464,
          0.42857142857142855,
          0.4081632653061224,
          0.3877551020408163,
          0.36734693877551017,
          0.3469387755102041,
          0.32653061224489793,
          0.3061224489795918,
          0.2857142857142857,
          0.26530612244897955,
          0.24489795918367346,
          0.22448979591836732,
          0.2040816326530612,
          0.18367346938775508,
          0.16326530612244897,
          0.14285714285714285,
          0.12244897959183673,
          0.1020408163265306,
          0.08163265306122448,
          0.061224489795918366,
          0.04081632653061224,
          0.02040816326530612,
          0
         ],
         "y": [
          0.3068195461624351,
          0.3042772208368666,
          0.30224231099811,
          0.3007109571087704,
          0.29967763574197726,
          0.2991349895371916,
          0.2990736821323584,
          0.2994822908055545,
          0.3003472497563291,
          0.3016528561719703,
          0.3033813486327054,
          0.3055130640564052,
          0.3080266746703344,
          0.3108995013667445,
          0.31410789487172824,
          0.3176276716370995,
          0.3214345885446727,
          0.3255048388630538,
          0.32981555205622637,
          0.3343452816136597,
          0.33907446749379716,
          0.34398586280004007,
          0.3490649170529344,
          0.35430011070111794,
          0.359683236926376,
          0.36520962713461824,
          0.3708783157286417,
          0.3766921383737013,
          0.3826577556176558,
          0.3887855919406042,
          0.39508967849810933,
          0.4015873880497491,
          0.40829905259948446,
          0.4152474591655688,
          0.4224572276316074,
          0.4299540853594531,
          0.43776406629190956,
          0.445912674732237,
          0.4544240636308747,
          0.4633202815142073,
          0.472620639300014,
          0.4823412377897112,
          0.4924946802643029,
          0.5030899752806532,
          0.5141326158758367,
          0.5256248063390557,
          0.5375657985081908,
          0.5499522966209128,
          0.5627788921862504,
          0.5760384967590232,
          0.20865421057218395,
          0.21068892108304785,
          0.21217741047306618,
          0.2131159949639418,
          0.21350285288777596,
          0.2133384575298093,
          0.2126260115286635,
          0.21137185064590727,
          0.2095857783845037,
          0.207281290409789,
          0.20447565073460278,
          0.20118979077455107,
          0.19744801757109715,
          0.1932775361538629,
          0.1887078104599459,
          0.1837698037665824,
          0.17849514970760497,
          0.17291530806772742,
          0.1670607552954983,
          0.16096024991508967,
          0.15464020040664467,
          0.14812415063774897,
          0.1414323864993572,
          0.1345816593597139,
          0.12758501700279185,
          0.12045173034489297,
          0.11318730454415744,
          0.10579356435361828,
          0.09826880598486362,
          0.09060800936317197,
          0.08280310680602004,
          0.07484330438015757,
          0.0667154521656472,
          0.058404458044378105,
          0.04989373768870295,
          0.04116569018374178,
          0.03220218620195342,
          0.022985052804067457,
          0.013496537685387194,
          0.003719735398651336,
          -0.006361040451662692,
          -0.016759951884507213,
          -0.02748940667456018,
          -0.03855990763494746,
          -0.04997997935336823,
          -0.06175616649071916,
          -0.073893093743252,
          -0.08639357569417348,
          -0.09925876347193344,
          -0.1124883155867927
         ]
        },
        {
         "hoverinfo": "x+y",
         "line": {
          "color": "rgba(128, 177, 211, 1)"
         },
         "showlegend": false,
         "type": "scatter",
         "visible": true,
         "x": [
          0,
          0.02040816326530612,
          0.04081632653061224,
          0.061224489795918366,
          0.08163265306122448,
          0.1020408163265306,
          0.12244897959183673,
          0.14285714285714285,
          0.16326530612244897,
          0.18367346938775508,
          0.2040816326530612,
          0.22448979591836732,
          0.24489795918367346,
          0.26530612244897955,
          0.2857142857142857,
          0.3061224489795918,
          0.32653061224489793,
          0.3469387755102041,
          0.36734693877551017,
          0.3877551020408163,
          0.4081632653061224,
          0.42857142857142855,
          0.44897959183673464,
          0.4693877551020408,
          0.4897959183673469,
          0.5102040816326531,
          0.5306122448979591,
          0.5510204081632653,
          0.5714285714285714,
          0.5918367346938775,
          0.6122448979591836,
          0.6326530612244897,
          0.6530612244897959,
          0.673469387755102,
          0.6938775510204082,
          0.7142857142857142,
          0.7346938775510203,
          0.7551020408163265,
          0.7755102040816326,
          0.7959183673469387,
          0.8163265306122448,
          0.836734693877551,
          0.8571428571428571,
          0.8775510204081632,
          0.8979591836734693,
          0.9183673469387754,
          0.9387755102040816,
          0.9591836734693877,
          0.9795918367346939,
          1
         ],
         "y": [
          0.0971656152878212,
          0.10250922868246659,
          0.10792436765196826,
          0.11340893168275919,
          0.11896073462562906,
          0.12457750509191168,
          0.13025688724870546,
          0.13599644206549716,
          0.14179364893591095,
          0.1476459078601538,
          0.15355054201567836,
          0.1595048008708962,
          0.16550586373720094,
          0.17155084378434896,
          0.177636792527735,
          0.1837607046629012,
          0.1899195232945254,
          0.19611014551435052,
          0.20232942821819197,
          0.20857419420983986,
          0.21484123842848457,
          0.22112733439245183,
          0.22742924070327633,
          0.2337437076226377,
          0.2400674836356345,
          0.24639732206870504,
          0.2527299875441778,
          0.25906226243652924,
          0.2653909531277024,
          0.27171289617362443,
          0.2780249642065995,
          0.2843240716726237,
          0.29060718033360594,
          0.2968713044365869,
          0.3031135156990949,
          0.3093309479096995,
          0.3155208012228862,
          0.3216803461516671,
          0.32780692720271287,
          0.33389796612440503,
          0.3399509648549015,
          0.34596350808710746,
          0.35193326545510506,
          0.3578579934046584,
          0.363735536702823,
          0.36956382961341583,
          0.3753408967360663,
          0.3810648535469895,
          0.3867339066346491,
          0.39234635366560355
         ]
        },
        {
         "error_y": {
          "array": [],
          "color": "black",
          "type": "data",
          "visible": true
         },
         "hoverinfo": "x+y",
         "line": {
          "color": "black"
         },
         "mode": "markers",
         "showlegend": false,
         "type": "scatter",
         "visible": true,
         "x": [],
         "y": []
        }
       ],
       "layout": {
        "hovermode": "closest",
        "template": {
         "data": {
          "bar": [
           {
            "error_x": {
             "color": "#2a3f5f"
            },
            "error_y": {
             "color": "#2a3f5f"
            },
            "marker": {
             "line": {
              "color": "#E5ECF6",
              "width": 0.5
             },
             "pattern": {
              "fillmode": "overlay",
              "size": 10,
              "solidity": 0.2
             }
            },
            "type": "bar"
           }
          ],
          "barpolar": [
           {
            "marker": {
             "line": {
              "color": "#E5ECF6",
              "width": 0.5
             },
             "pattern": {
              "fillmode": "overlay",
              "size": 10,
              "solidity": 0.2
             }
            },
            "type": "barpolar"
           }
          ],
          "carpet": [
           {
            "aaxis": {
             "endlinecolor": "#2a3f5f",
             "gridcolor": "white",
             "linecolor": "white",
             "minorgridcolor": "white",
             "startlinecolor": "#2a3f5f"
            },
            "baxis": {
             "endlinecolor": "#2a3f5f",
             "gridcolor": "white",
             "linecolor": "white",
             "minorgridcolor": "white",
             "startlinecolor": "#2a3f5f"
            },
            "type": "carpet"
           }
          ],
          "choropleth": [
           {
            "colorbar": {
             "outlinewidth": 0,
             "ticks": ""
            },
            "type": "choropleth"
           }
          ],
          "contour": [
           {
            "colorbar": {
             "outlinewidth": 0,
             "ticks": ""
            },
            "colorscale": [
             [
              0,
              "#0d0887"
             ],
             [
              0.1111111111111111,
              "#46039f"
             ],
             [
              0.2222222222222222,
              "#7201a8"
             ],
             [
              0.3333333333333333,
              "#9c179e"
             ],
             [
              0.4444444444444444,
              "#bd3786"
             ],
             [
              0.5555555555555556,
              "#d8576b"
             ],
             [
              0.6666666666666666,
              "#ed7953"
             ],
             [
              0.7777777777777778,
              "#fb9f3a"
             ],
             [
              0.8888888888888888,
              "#fdca26"
             ],
             [
              1,
              "#f0f921"
             ]
            ],
            "type": "contour"
           }
          ],
          "contourcarpet": [
           {
            "colorbar": {
             "outlinewidth": 0,
             "ticks": ""
            },
            "type": "contourcarpet"
           }
          ],
          "heatmap": [
           {
            "colorbar": {
             "outlinewidth": 0,
             "ticks": ""
            },
            "colorscale": [
             [
              0,
              "#0d0887"
             ],
             [
              0.1111111111111111,
              "#46039f"
             ],
             [
              0.2222222222222222,
              "#7201a8"
             ],
             [
              0.3333333333333333,
              "#9c179e"
             ],
             [
              0.4444444444444444,
              "#bd3786"
             ],
             [
              0.5555555555555556,
              "#d8576b"
             ],
             [
              0.6666666666666666,
              "#ed7953"
             ],
             [
              0.7777777777777778,
              "#fb9f3a"
             ],
             [
              0.8888888888888888,
              "#fdca26"
             ],
             [
              1,
              "#f0f921"
             ]
            ],
            "type": "heatmap"
           }
          ],
          "heatmapgl": [
           {
            "colorbar": {
             "outlinewidth": 0,
             "ticks": ""
            },
            "colorscale": [
             [
              0,
              "#0d0887"
             ],
             [
              0.1111111111111111,
              "#46039f"
             ],
             [
              0.2222222222222222,
              "#7201a8"
             ],
             [
              0.3333333333333333,
              "#9c179e"
             ],
             [
              0.4444444444444444,
              "#bd3786"
             ],
             [
              0.5555555555555556,
              "#d8576b"
             ],
             [
              0.6666666666666666,
              "#ed7953"
             ],
             [
              0.7777777777777778,
              "#fb9f3a"
             ],
             [
              0.8888888888888888,
              "#fdca26"
             ],
             [
              1,
              "#f0f921"
             ]
            ],
            "type": "heatmapgl"
           }
          ],
          "histogram": [
           {
            "marker": {
             "pattern": {
              "fillmode": "overlay",
              "size": 10,
              "solidity": 0.2
             }
            },
            "type": "histogram"
           }
          ],
          "histogram2d": [
           {
            "colorbar": {
             "outlinewidth": 0,
             "ticks": ""
            },
            "colorscale": [
             [
              0,
              "#0d0887"
             ],
             [
              0.1111111111111111,
              "#46039f"
             ],
             [
              0.2222222222222222,
              "#7201a8"
             ],
             [
              0.3333333333333333,
              "#9c179e"
             ],
             [
              0.4444444444444444,
              "#bd3786"
             ],
             [
              0.5555555555555556,
              "#d8576b"
             ],
             [
              0.6666666666666666,
              "#ed7953"
             ],
             [
              0.7777777777777778,
              "#fb9f3a"
             ],
             [
              0.8888888888888888,
              "#fdca26"
             ],
             [
              1,
              "#f0f921"
             ]
            ],
            "type": "histogram2d"
           }
          ],
          "histogram2dcontour": [
           {
            "colorbar": {
             "outlinewidth": 0,
             "ticks": ""
            },
            "colorscale": [
             [
              0,
              "#0d0887"
             ],
             [
              0.1111111111111111,
              "#46039f"
             ],
             [
              0.2222222222222222,
              "#7201a8"
             ],
             [
              0.3333333333333333,
              "#9c179e"
             ],
             [
              0.4444444444444444,
              "#bd3786"
             ],
             [
              0.5555555555555556,
              "#d8576b"
             ],
             [
              0.6666666666666666,
              "#ed7953"
             ],
             [
              0.7777777777777778,
              "#fb9f3a"
             ],
             [
              0.8888888888888888,
              "#fdca26"
             ],
             [
              1,
              "#f0f921"
             ]
            ],
            "type": "histogram2dcontour"
           }
          ],
          "mesh3d": [
           {
            "colorbar": {
             "outlinewidth": 0,
             "ticks": ""
            },
            "type": "mesh3d"
           }
          ],
          "parcoords": [
           {
            "line": {
             "colorbar": {
              "outlinewidth": 0,
              "ticks": ""
             }
            },
            "type": "parcoords"
           }
          ],
          "pie": [
           {
            "automargin": true,
            "type": "pie"
           }
          ],
          "scatter": [
           {
            "fillpattern": {
             "fillmode": "overlay",
             "size": 10,
             "solidity": 0.2
            },
            "type": "scatter"
           }
          ],
          "scatter3d": [
           {
            "line": {
             "colorbar": {
              "outlinewidth": 0,
              "ticks": ""
             }
            },
            "marker": {
             "colorbar": {
              "outlinewidth": 0,
              "ticks": ""
             }
            },
            "type": "scatter3d"
           }
          ],
          "scattercarpet": [
           {
            "marker": {
             "colorbar": {
              "outlinewidth": 0,
              "ticks": ""
             }
            },
            "type": "scattercarpet"
           }
          ],
          "scattergeo": [
           {
            "marker": {
             "colorbar": {
              "outlinewidth": 0,
              "ticks": ""
             }
            },
            "type": "scattergeo"
           }
          ],
          "scattergl": [
           {
            "marker": {
             "colorbar": {
              "outlinewidth": 0,
              "ticks": ""
             }
            },
            "type": "scattergl"
           }
          ],
          "scattermapbox": [
           {
            "marker": {
             "colorbar": {
              "outlinewidth": 0,
              "ticks": ""
             }
            },
            "type": "scattermapbox"
           }
          ],
          "scatterpolar": [
           {
            "marker": {
             "colorbar": {
              "outlinewidth": 0,
              "ticks": ""
             }
            },
            "type": "scatterpolar"
           }
          ],
          "scatterpolargl": [
           {
            "marker": {
             "colorbar": {
              "outlinewidth": 0,
              "ticks": ""
             }
            },
            "type": "scatterpolargl"
           }
          ],
          "scatterternary": [
           {
            "marker": {
             "colorbar": {
              "outlinewidth": 0,
              "ticks": ""
             }
            },
            "type": "scatterternary"
           }
          ],
          "surface": [
           {
            "colorbar": {
             "outlinewidth": 0,
             "ticks": ""
            },
            "colorscale": [
             [
              0,
              "#0d0887"
             ],
             [
              0.1111111111111111,
              "#46039f"
             ],
             [
              0.2222222222222222,
              "#7201a8"
             ],
             [
              0.3333333333333333,
              "#9c179e"
             ],
             [
              0.4444444444444444,
              "#bd3786"
             ],
             [
              0.5555555555555556,
              "#d8576b"
             ],
             [
              0.6666666666666666,
              "#ed7953"
             ],
             [
              0.7777777777777778,
              "#fb9f3a"
             ],
             [
              0.8888888888888888,
              "#fdca26"
             ],
             [
              1,
              "#f0f921"
             ]
            ],
            "type": "surface"
           }
          ],
          "table": [
           {
            "cells": {
             "fill": {
              "color": "#EBF0F8"
             },
             "line": {
              "color": "white"
             }
            },
            "header": {
             "fill": {
              "color": "#C8D4E3"
             },
             "line": {
              "color": "white"
             }
            },
            "type": "table"
           }
          ]
         },
         "layout": {
          "annotationdefaults": {
           "arrowcolor": "#2a3f5f",
           "arrowhead": 0,
           "arrowwidth": 1
          },
          "autotypenumbers": "strict",
          "coloraxis": {
           "colorbar": {
            "outlinewidth": 0,
            "ticks": ""
           }
          },
          "colorscale": {
           "diverging": [
            [
             0,
             "#8e0152"
            ],
            [
             0.1,
             "#c51b7d"
            ],
            [
             0.2,
             "#de77ae"
            ],
            [
             0.3,
             "#f1b6da"
            ],
            [
             0.4,
             "#fde0ef"
            ],
            [
             0.5,
             "#f7f7f7"
            ],
            [
             0.6,
             "#e6f5d0"
            ],
            [
             0.7,
             "#b8e186"
            ],
            [
             0.8,
             "#7fbc41"
            ],
            [
             0.9,
             "#4d9221"
            ],
            [
             1,
             "#276419"
            ]
           ],
           "sequential": [
            [
             0,
             "#0d0887"
            ],
            [
             0.1111111111111111,
             "#46039f"
            ],
            [
             0.2222222222222222,
             "#7201a8"
            ],
            [
             0.3333333333333333,
             "#9c179e"
            ],
            [
             0.4444444444444444,
             "#bd3786"
            ],
            [
             0.5555555555555556,
             "#d8576b"
            ],
            [
             0.6666666666666666,
             "#ed7953"
            ],
            [
             0.7777777777777778,
             "#fb9f3a"
            ],
            [
             0.8888888888888888,
             "#fdca26"
            ],
            [
             1,
             "#f0f921"
            ]
           ],
           "sequentialminus": [
            [
             0,
             "#0d0887"
            ],
            [
             0.1111111111111111,
             "#46039f"
            ],
            [
             0.2222222222222222,
             "#7201a8"
            ],
            [
             0.3333333333333333,
             "#9c179e"
            ],
            [
             0.4444444444444444,
             "#bd3786"
            ],
            [
             0.5555555555555556,
             "#d8576b"
            ],
            [
             0.6666666666666666,
             "#ed7953"
            ],
            [
             0.7777777777777778,
             "#fb9f3a"
            ],
            [
             0.8888888888888888,
             "#fdca26"
            ],
            [
             1,
             "#f0f921"
            ]
           ]
          },
          "colorway": [
           "#636efa",
           "#EF553B",
           "#00cc96",
           "#ab63fa",
           "#FFA15A",
           "#19d3f3",
           "#FF6692",
           "#B6E880",
           "#FF97FF",
           "#FECB52"
          ],
          "font": {
           "color": "#2a3f5f"
          },
          "geo": {
           "bgcolor": "white",
           "lakecolor": "white",
           "landcolor": "#E5ECF6",
           "showlakes": true,
           "showland": true,
           "subunitcolor": "white"
          },
          "hoverlabel": {
           "align": "left"
          },
          "hovermode": "closest",
          "mapbox": {
           "style": "light"
          },
          "paper_bgcolor": "white",
          "plot_bgcolor": "#E5ECF6",
          "polar": {
           "angularaxis": {
            "gridcolor": "white",
            "linecolor": "white",
            "ticks": ""
           },
           "bgcolor": "#E5ECF6",
           "radialaxis": {
            "gridcolor": "white",
            "linecolor": "white",
            "ticks": ""
           }
          },
          "scene": {
           "xaxis": {
            "backgroundcolor": "#E5ECF6",
            "gridcolor": "white",
            "gridwidth": 2,
            "linecolor": "white",
            "showbackground": true,
            "ticks": "",
            "zerolinecolor": "white"
           },
           "yaxis": {
            "backgroundcolor": "#E5ECF6",
            "gridcolor": "white",
            "gridwidth": 2,
            "linecolor": "white",
            "showbackground": true,
            "ticks": "",
            "zerolinecolor": "white"
           },
           "zaxis": {
            "backgroundcolor": "#E5ECF6",
            "gridcolor": "white",
            "gridwidth": 2,
            "linecolor": "white",
            "showbackground": true,
            "ticks": "",
            "zerolinecolor": "white"
           }
          },
          "shapedefaults": {
           "line": {
            "color": "#2a3f5f"
           }
          },
          "ternary": {
           "aaxis": {
            "gridcolor": "white",
            "linecolor": "white",
            "ticks": ""
           },
           "baxis": {
            "gridcolor": "white",
            "linecolor": "white",
            "ticks": ""
           },
           "bgcolor": "#E5ECF6",
           "caxis": {
            "gridcolor": "white",
            "linecolor": "white",
            "ticks": ""
           }
          },
          "title": {
           "x": 0.05
          },
          "xaxis": {
           "automargin": true,
           "gridcolor": "white",
           "linecolor": "white",
           "ticks": "",
           "title": {
            "standoff": 15
           },
           "zerolinecolor": "white",
           "zerolinewidth": 2
          },
          "yaxis": {
           "automargin": true,
           "gridcolor": "white",
           "linecolor": "white",
           "ticks": "",
           "title": {
            "standoff": 15
           },
           "zerolinecolor": "white",
           "zerolinewidth": 2
          }
         }
        },
        "xaxis": {
         "anchor": "y",
         "autorange": false,
         "exponentformat": "e",
         "range": [
          0,
          1
         ],
         "tickfont": {
          "size": 11
         },
         "tickmode": "auto",
         "title": {
          "text": "pre-QY"
         },
         "type": "linear"
        },
        "yaxis": {
         "anchor": "x",
         "tickfont": {
          "size": 11
         },
         "tickmode": "auto",
         "title": {
          "text": "f"
         }
        }
       }
      }
     },
     "metadata": {},
     "output_type": "display_data"
    },
    {
     "data": {
      "application/vnd.plotly.v1+json": {
       "config": {
        "linkText": "Export to plot.ly",
        "plotlyServerURL": "https://plot.ly",
        "showLink": false
       },
       "data": [
        {
         "hoverinfo": "none",
         "line": {
          "color": "black",
          "dash": "dot",
          "width": 2
         },
         "mode": "lines",
         "showlegend": false,
         "type": "scatter",
         "visible": true,
         "x": [
          -1.1790140244725602,
          0.8017333986099419
         ],
         "y": [
          -1.1790140244725602,
          0.8017333986099419
         ]
        },
        {
         "error_x": {
          "array": [
           null,
           null,
           null,
           null,
           null,
           null,
           null,
           null,
           null,
           null,
           null,
           null,
           null,
           null,
           null,
           null,
           null,
           null,
           null,
           null,
           null,
           null,
           null,
           null,
           null,
           null,
           null,
           null,
           null,
           null,
           null,
           null,
           null,
           null,
           null,
           null,
           null,
           null,
           null,
           null,
           null,
           null,
           null,
           null,
           null,
           null,
           null,
           null,
           null,
           null,
           null,
           null,
           null,
           null,
           null,
           null,
           null,
           null,
           null,
           null,
           null,
           null,
           null,
           null,
           null,
           null,
           null,
           null,
           null,
           null
          ],
          "color": "rgba(128,177,211,0.4)",
          "type": "data"
         },
         "error_y": {
          "array": [
           0.09999451115830904,
           0.11380464188914421,
           0.2862681190020649,
           0.9221116023205814,
           0.11604286879938597,
           0.060498672910283206,
           0.05153010727865394,
           0.048843974794023116,
           0.04762110521193451,
           0.04974706860352692,
           0.05587590449864,
           0.06510684912060781,
           0.14636642683702578,
           0.13209467501715955,
           0.08389294925362889,
           0.11736264618983616,
           0.1523821376694609,
           0.14144542623685086,
           0.08102705292349242,
           0.06533796476446586,
           0.07310590783205013,
           0.14115509794642617,
           0.10439403801347256,
           0.07010589295239986,
           0.09914238411318599,
           0.14871169898623848,
           0.06510862526717902,
           0.0651006767359549,
           0.06510939064014235,
           0.06118753447879196,
           0.06118019460746077,
           0.0611892922995325,
           0.4053258992235059,
           0.06694717910554596,
           0.06693868834636128,
           0.06694700203974187,
           0.0637384867740359,
           0.06373041097485405,
           0.0637389097232698,
           0.3937837911148385,
           0.06621807846864428,
           0.06620948571400834,
           0.06621763646868295,
           0.06611122965198833,
           0.06610296713492429,
           0.06611144000737498,
           0.0917603514977226,
           0.09175993418778149,
           0.11323891279266979,
           0.10086112305656533,
           0.1644405177327672,
           0.20533595468664514,
           0.1605560264240111,
           0.28518233947911265,
           0.3494658107610191,
           0.41505640981488856,
           0.0749802299799627,
           0.0693335004461591,
           0.18466593761916814,
           0.10504053777988696,
           0.0752877487304569,
           0.5163386350590529,
           0.208112488966686,
           0.20596119235324598,
           0.3539198252550728,
           0.38723711643820913,
           0.18798140348249112,
           0.2509335343008966,
           0.1871878119508853,
           0.1905625241566345
          ],
          "color": "rgba(128,177,211,0.4)",
          "type": "data"
         },
         "hoverinfo": "text",
         "marker": {
          "color": "rgba(128,177,211,1)"
         },
         "mode": "markers",
         "name": "In-sample",
         "showlegend": true,
         "text": [
          "<b>Arm 0_0</b><br><br>Actual Outcome: 0.307 [nan, nan]<br>Predicted Outcome: 0.278 [0.178, 0.378]<br>Parameterization has too many items to render on hover (10).",
          "<b>Arm 1_0</b><br><br>Actual Outcome: 0.231 [nan, nan]<br>Predicted Outcome: 0.249 [0.135, 0.363]<br>Parameterization has too many items to render on hover (10).",
          "<b>Arm 2_0</b><br><br>Actual Outcome: 0.235 [nan, nan]<br>Predicted Outcome: 0.25 [-0.036, 0.536]<br>Parameterization has too many items to render on hover (10).",
          "<b>Arm 3_0</b><br><br>Actual Outcome: 0.084 [nan, nan]<br>Predicted Outcome: -0.257 [-1.179, 0.665]<br>Parameterization has too many items to render on hover (10).",
          "<b>Arm 4_0</b><br><br>Actual Outcome: 0.0 [nan, nan]<br>Predicted Outcome: 0.094 [-0.022, 0.210]<br>Parameterization has too many items to render on hover (10).",
          "<b>Arm 5_0</b><br><br>Actual Outcome: 0.094 [nan, nan]<br>Predicted Outcome: 0.053 [-0.007, 0.114]<br>Parameterization has too many items to render on hover (10).",
          "<b>Arm 6_0</b><br><br>Actual Outcome: 0.104 [nan, nan]<br>Predicted Outcome: 0.082 [0.030, 0.133]<br>Parameterization has too many items to render on hover (10).",
          "<b>Arm 7_0</b><br><br>Actual Outcome: 0.092 [nan, nan]<br>Predicted Outcome: 0.104 [0.055, 0.153]<br>Parameterization has too many items to render on hover (10).",
          "<b>Arm 8_0</b><br><br>Actual Outcome: 0.093 [nan, nan]<br>Predicted Outcome: 0.114 [0.066, 0.162]<br>Parameterization has too many items to render on hover (10).",
          "<b>Arm 9_0</b><br><br>Actual Outcome: 0.124 [nan, nan]<br>Predicted Outcome: 0.11 [0.060, 0.159]<br>Parameterization has too many items to render on hover (10).",
          "<b>Arm 10_0</b><br><br>Actual Outcome: 0.106 [nan, nan]<br>Predicted Outcome: 0.113 [0.057, 0.168]<br>Parameterization has too many items to render on hover (10).",
          "<b>Arm 11_0</b><br><br>Actual Outcome: 0.103 [nan, nan]<br>Predicted Outcome: 0.108 [0.043, 0.173]<br>Parameterization has too many items to render on hover (10).",
          "<b>Arm 12_0</b><br><br>Actual Outcome: 0.095 [nan, nan]<br>Predicted Outcome: 0.115 [-0.032, 0.261]<br>Parameterization has too many items to render on hover (10).",
          "<b>Arm 13_0</b><br><br>Actual Outcome: 0.128 [nan, nan]<br>Predicted Outcome: 0.151 [0.019, 0.283]<br>Parameterization has too many items to render on hover (10).",
          "<b>Arm 14_0</b><br><br>Actual Outcome: 0.121 [nan, nan]<br>Predicted Outcome: 0.168 [0.084, 0.252]<br>Parameterization has too many items to render on hover (10).",
          "<b>Arm 15_0</b><br><br>Actual Outcome: 0.168 [nan, nan]<br>Predicted Outcome: 0.11 [-0.007, 0.228]<br>Parameterization has too many items to render on hover (10).",
          "<b>Arm 16_0</b><br><br>Actual Outcome: 0.144 [nan, nan]<br>Predicted Outcome: 0.065 [-0.087, 0.217]<br>Parameterization has too many items to render on hover (10).",
          "<b>Arm 17_0</b><br><br>Actual Outcome: 0.174 [nan, nan]<br>Predicted Outcome: 0.196 [0.055, 0.338]<br>Parameterization has too many items to render on hover (10).",
          "<b>Arm 18_0</b><br><br>Actual Outcome: 0.17 [nan, nan]<br>Predicted Outcome: 0.145 [0.064, 0.226]<br>Parameterization has too many items to render on hover (10).",
          "<b>Arm 19_0</b><br><br>Actual Outcome: 0.133 [nan, nan]<br>Predicted Outcome: 0.174 [0.109, 0.240]<br>Parameterization has too many items to render on hover (10).",
          "<b>Arm 20_0</b><br><br>Actual Outcome: 0.188 [nan, nan]<br>Predicted Outcome: 0.149 [0.076, 0.222]<br>Parameterization has too many items to render on hover (10).",
          "<b>Arm 21_0</b><br><br>Actual Outcome: 0.176 [nan, nan]<br>Predicted Outcome: 0.178 [0.037, 0.319]<br>Parameterization has too many items to render on hover (10).",
          "<b>Arm 22_0</b><br><br>Actual Outcome: 0.321 [nan, nan]<br>Predicted Outcome: 0.335 [0.231, 0.439]<br>Parameterization has too many items to render on hover (10).",
          "<b>Arm 23_0</b><br><br>Actual Outcome: 0.364 [nan, nan]<br>Predicted Outcome: 0.31 [0.240, 0.380]<br>Parameterization has too many items to render on hover (10).",
          "<b>Arm 24_0</b><br><br>Actual Outcome: 0.291 [nan, nan]<br>Predicted Outcome: 0.345 [0.246, 0.444]<br>Parameterization has too many items to render on hover (10).",
          "<b>Arm 25_0</b><br><br>Actual Outcome: 0.186 [nan, nan]<br>Predicted Outcome: 0.204 [0.055, 0.353]<br>Parameterization has too many items to render on hover (10).",
          "<b>Arm 26_0</b><br><br>Actual Outcome: 0.18 [nan, nan]<br>Predicted Outcome: 0.087 [0.022, 0.152]<br>Parameterization has too many items to render on hover (10).",
          "<b>Arm 27_0</b><br><br>Actual Outcome: 0.0 [nan, nan]<br>Predicted Outcome: 0.171 [0.106, 0.236]<br>Parameterization has too many items to render on hover (10).",
          "<b>Arm 28_0</b><br><br>Actual Outcome: 0.163 [nan, nan]<br>Predicted Outcome: 0.095 [0.030, 0.160]<br>Parameterization has too many items to render on hover (10).",
          "<b>Arm 29_0</b><br><br>Actual Outcome: 0.0 [nan, nan]<br>Predicted Outcome: 0.106 [0.044, 0.167]<br>Parameterization has too many items to render on hover (10).",
          "<b>Arm 30_0</b><br><br>Actual Outcome: 0.094 [nan, nan]<br>Predicted Outcome: 0.067 [0.006, 0.128]<br>Parameterization has too many items to render on hover (10).",
          "<b>Arm 31_0</b><br><br>Actual Outcome: 0.098 [nan, nan]<br>Predicted Outcome: 0.066 [0.004, 0.127]<br>Parameterization has too many items to render on hover (10).",
          "<b>Arm 32_0</b><br><br>Actual Outcome: 0.082 [nan, nan]<br>Predicted Outcome: 0.156 [-0.249, 0.561]<br>Parameterization has too many items to render on hover (10).",
          "<b>Arm 33_0</b><br><br>Actual Outcome: 0.247 [nan, nan]<br>Predicted Outcome: 0.173 [0.107, 0.240]<br>Parameterization has too many items to render on hover (10).",
          "<b>Arm 34_0</b><br><br>Actual Outcome: 0.057 [nan, nan]<br>Predicted Outcome: 0.267 [0.200, 0.334]<br>Parameterization has too many items to render on hover (10).",
          "<b>Arm 35_0</b><br><br>Actual Outcome: 0.274 [nan, nan]<br>Predicted Outcome: 0.16 [0.093, 0.227]<br>Parameterization has too many items to render on hover (10).",
          "<b>Arm 36_0</b><br><br>Actual Outcome: 0.308 [nan, nan]<br>Predicted Outcome: 0.289 [0.225, 0.353]<br>Parameterization has too many items to render on hover (10).",
          "<b>Arm 37_0</b><br><br>Actual Outcome: 0.249 [nan, nan]<br>Predicted Outcome: 0.315 [0.252, 0.379]<br>Parameterization has too many items to render on hover (10).",
          "<b>Arm 38_0</b><br><br>Actual Outcome: 0.366 [nan, nan]<br>Predicted Outcome: 0.263 [0.199, 0.327]<br>Parameterization has too many items to render on hover (10).",
          "<b>Arm 39_0</b><br><br>Actual Outcome: 0.0 [nan, nan]<br>Predicted Outcome: 0.408 [0.014, 0.802]<br>Parameterization has too many items to render on hover (10).",
          "<b>Arm 40_0</b><br><br>Actual Outcome: 0.0 [nan, nan]<br>Predicted Outcome: 0.008 [-0.058, 0.074]<br>Parameterization has too many items to render on hover (10).",
          "<b>Arm 41_0</b><br><br>Actual Outcome: 0.0 [nan, nan]<br>Predicted Outcome: 0.008 [-0.058, 0.074]<br>Parameterization has too many items to render on hover (10).",
          "<b>Arm 42_0</b><br><br>Actual Outcome: 0.031 [nan, nan]<br>Predicted Outcome: -0.007 [-0.073, 0.059]<br>Parameterization has too many items to render on hover (10).",
          "<b>Arm 43_0</b><br><br>Actual Outcome: 0.0 [nan, nan]<br>Predicted Outcome: 0.019 [-0.047, 0.085]<br>Parameterization has too many items to render on hover (10).",
          "<b>Arm 44_0</b><br><br>Actual Outcome: 0.0 [nan, nan]<br>Predicted Outcome: 0.019 [-0.047, 0.085]<br>Parameterization has too many items to render on hover (10).",
          "<b>Arm 45_0</b><br><br>Actual Outcome: 0.032 [nan, nan]<br>Predicted Outcome: 0.003 [-0.063, 0.069]<br>Parameterization has too many items to render on hover (10).",
          "<b>Arm 46_0</b><br><br>Actual Outcome: 0.153 [nan, nan]<br>Predicted Outcome: 0.1 [0.009, 0.192]<br>Parameterization has too many items to render on hover (10).",
          "<b>Arm 47_0</b><br><br>Actual Outcome: 0.065 [nan, nan]<br>Predicted Outcome: 0.182 [0.090, 0.273]<br>Parameterization has too many items to render on hover (10).",
          "<b>Arm 48_0</b><br><br>Actual Outcome: 0.466 [nan, nan]<br>Predicted Outcome: 0.531 [0.417, 0.644]<br>Parameterization has too many items to render on hover (10).",
          "<b>Arm 49_0</b><br><br>Actual Outcome: 0.176 [nan, nan]<br>Predicted Outcome: 0.186 [0.085, 0.287]<br>Parameterization has too many items to render on hover (10).",
          "<b>Arm 50_0</b><br><br>Actual Outcome: 0.19 [nan, nan]<br>Predicted Outcome: 0.232 [0.067, 0.396]<br>Parameterization has too many items to render on hover (10).",
          "<b>Arm 51_0</b><br><br>Actual Outcome: 0.146 [nan, nan]<br>Predicted Outcome: 0.109 [-0.097, 0.314]<br>Parameterization has too many items to render on hover (10).",
          "<b>Arm 52_0</b><br><br>Actual Outcome: 0.2 [nan, nan]<br>Predicted Outcome: 0.144 [-0.017, 0.304]<br>Parameterization has too many items to render on hover (10).",
          "<b>Arm 53_0</b><br><br>Actual Outcome: 0.192 [nan, nan]<br>Predicted Outcome: 0.227 [-0.058, 0.512]<br>Parameterization has too many items to render on hover (10).",
          "<b>Arm 54_0</b><br><br>Actual Outcome: 0.0 [nan, nan]<br>Predicted Outcome: 0.047 [-0.302, 0.396]<br>Parameterization has too many items to render on hover (10).",
          "<b>Arm 55_0</b><br><br>Actual Outcome: 0.176 [nan, nan]<br>Predicted Outcome: -0.015 [-0.430, 0.400]<br>Parameterization has too many items to render on hover (10).",
          "<b>Arm 56_0</b><br><br>Actual Outcome: 0.361 [nan, nan]<br>Predicted Outcome: 0.365 [0.291, 0.440]<br>Parameterization has too many items to render on hover (10).",
          "<b>Arm 57_0</b><br><br>Actual Outcome: 0.382 [nan, nan]<br>Predicted Outcome: 0.42 [0.351, 0.490]<br>Parameterization has too many items to render on hover (10).",
          "<b>Arm 58_0</b><br><br>Actual Outcome: 0.454 [nan, nan]<br>Predicted Outcome: 0.326 [0.142, 0.511]<br>Parameterization has too many items to render on hover (10).",
          "<b>Arm 59_0</b><br><br>Actual Outcome: 0.328 [nan, nan]<br>Predicted Outcome: 0.333 [0.228, 0.438]<br>Parameterization has too many items to render on hover (10).",
          "<b>Arm 60_0</b><br><br>Actual Outcome: 0.351 [nan, nan]<br>Predicted Outcome: 0.345 [0.270, 0.421]<br>Parameterization has too many items to render on hover (10).",
          "<b>Arm 61_0</b><br><br>Actual Outcome: 0.5 [nan, nan]<br>Predicted Outcome: 0.259 [-0.257, 0.775]<br>Parameterization has too many items to render on hover (10).",
          "<b>Arm 62_0</b><br><br>Actual Outcome: 0.1 [nan, nan]<br>Predicted Outcome: 0.268 [0.060, 0.476]<br>Parameterization has too many items to render on hover (10).",
          "<b>Arm 63_0</b><br><br>Actual Outcome: 0.186 [nan, nan]<br>Predicted Outcome: 0.155 [-0.051, 0.361]<br>Parameterization has too many items to render on hover (10).",
          "<b>Arm 64_0</b><br><br>Actual Outcome: 0.244 [nan, nan]<br>Predicted Outcome: 0.273 [-0.081, 0.627]<br>Parameterization has too many items to render on hover (10).",
          "<b>Arm 65_0</b><br><br>Actual Outcome: 0.482 [nan, nan]<br>Predicted Outcome: 0.302 [-0.085, 0.689]<br>Parameterization has too many items to render on hover (10).",
          "<b>Arm 66_0</b><br><br>Actual Outcome: 0.315 [nan, nan]<br>Predicted Outcome: 0.284 [0.096, 0.472]<br>Parameterization has too many items to render on hover (10).",
          "<b>Arm 67_0</b><br><br>Actual Outcome: 0.469 [nan, nan]<br>Predicted Outcome: 0.48 [0.229, 0.731]<br>Parameterization has too many items to render on hover (10).",
          "<b>Arm 68_0</b><br><br>Actual Outcome: 0.727 [nan, nan]<br>Predicted Outcome: 0.527 [0.340, 0.714]<br>Parameterization has too many items to render on hover (10).",
          "<b>Arm 69_0</b><br><br>Actual Outcome: 0.631 [nan, nan]<br>Predicted Outcome: 0.406 [0.216, 0.597]<br>Parameterization has too many items to render on hover (10)."
         ],
         "type": "scatter",
         "visible": true,
         "x": [
          0.3074969703159863,
          0.2307426188748351,
          0.2346841074952277,
          0.083887957088509,
          4.9288145223513725e-8,
          0.0942982443125344,
          0.1036540153288402,
          0.0922627459213349,
          0.0934143199198959,
          0.1244802946123225,
          0.1064509982449831,
          0.1031003279038298,
          0.0954507534516285,
          0.1281655976638377,
          0.1214078889627302,
          0.1675805540221749,
          0.144038875423928,
          0.1744684928216673,
          0.169743031661677,
          0.1332244677154561,
          0.1883050544245699,
          0.1761206137591969,
          0.3205384014781173,
          0.363978915859598,
          0.2910117512640602,
          0.186055682609363,
          0.1803572358605922,
          1.1283350591476104e-8,
          0.1627886921783613,
          1.1265608371843352e-8,
          0.0941715779393882,
          0.097980365553943,
          0.0822179124639913,
          0.2468866643908369,
          0.0565085035109458,
          0.2738430329178065,
          0.3081927703561664,
          0.2487693146354349,
          0.3661359975066579,
          6.008432398454667e-9,
          5.376082341012849e-23,
          3.609710192742992e-23,
          0.0311985015342253,
          1.2509253448855664e-23,
          2.634258636089805e-23,
          0.0323517737303893,
          0.1532509213800647,
          0.0649503127083214,
          0.465995850834655,
          0.17561484623391,
          0.1902406985210967,
          0.1462209860420769,
          0.199923406642163,
          0.1915917999652521,
          1.5355426195607764e-20,
          0.1757619170935,
          0.360512905964,
          0.3819805787408,
          0.45376247426941,
          0.3283373022057,
          0.3508172798637172,
          0.5003144901442593,
          0.100396190818569,
          0.1861874647172301,
          0.2436035848523928,
          0.4823761441535006,
          0.3146462468012172,
          0.4693845027244512,
          0.7273897437345833,
          0.6307075234957067
         ],
         "y": [
          0.2781216516287828,
          0.24887719133050487,
          0.2502274779069479,
          -0.25690242215197884,
          0.09377394963409587,
          0.05345378784263319,
          0.08169666101757753,
          0.10393025928072844,
          0.11408207609295878,
          0.10960165674942932,
          0.11255739185998645,
          0.10785645117831645,
          0.1148482287394122,
          0.15059765327075889,
          0.16817365443935156,
          0.11042237581068497,
          0.06511050530044313,
          0.1963123050433309,
          0.14472402996294684,
          0.17446515943834884,
          0.14935866232512238,
          0.17778665497336577,
          0.33503347028537284,
          0.3101653852158241,
          0.34509576639796535,
          0.20413708509115538,
          0.08708524068377275,
          0.1706330483964614,
          0.09524449713294099,
          0.10564055842312217,
          0.06712416635540286,
          0.06557383369000896,
          0.15613016577802014,
          0.17347291433687617,
          0.26670693807146406,
          0.1602859485621078,
          0.2888541643933683,
          0.31523811294457554,
          0.2631446461696795,
          0.40794960749510334,
          0.007958542987586192,
          0.00796827873218145,
          -0.006969918892219179,
          0.018815322779331484,
          0.01882434307239564,
          0.003384286494167693,
          0.10030296178455628,
          0.18156320398705186,
          0.5306680514976598,
          0.18586048880030048,
          0.2318375419972778,
          0.1086277037466635,
          0.14360125269815394,
          0.2269690609978165,
          0.04698249871567958,
          -0.015114629025101328,
          0.36549056557420245,
          0.42048205099543834,
          0.3263409135478825,
          0.3331574919073254,
          0.34542510479651456,
          0.25889082172826877,
          0.26800714567372524,
          0.1553747803080749,
          0.2731923388537958,
          0.30213335658608975,
          0.2844641290551239,
          0.4798405906650124,
          0.5267883512180929,
          0.4063990403620051
         ]
        }
       ],
       "layout": {
        "annotations": [
         {
          "showarrow": false,
          "text": "Show CI",
          "x": 1.125,
          "xanchor": "left",
          "xref": "paper",
          "y": 0.9,
          "yanchor": "middle",
          "yref": "paper"
         }
        ],
        "height": 500,
        "hovermode": "closest",
        "margin": {
         "b": 90
        },
        "showlegend": false,
        "template": {
         "data": {
          "bar": [
           {
            "error_x": {
             "color": "#2a3f5f"
            },
            "error_y": {
             "color": "#2a3f5f"
            },
            "marker": {
             "line": {
              "color": "#E5ECF6",
              "width": 0.5
             },
             "pattern": {
              "fillmode": "overlay",
              "size": 10,
              "solidity": 0.2
             }
            },
            "type": "bar"
           }
          ],
          "barpolar": [
           {
            "marker": {
             "line": {
              "color": "#E5ECF6",
              "width": 0.5
             },
             "pattern": {
              "fillmode": "overlay",
              "size": 10,
              "solidity": 0.2
             }
            },
            "type": "barpolar"
           }
          ],
          "carpet": [
           {
            "aaxis": {
             "endlinecolor": "#2a3f5f",
             "gridcolor": "white",
             "linecolor": "white",
             "minorgridcolor": "white",
             "startlinecolor": "#2a3f5f"
            },
            "baxis": {
             "endlinecolor": "#2a3f5f",
             "gridcolor": "white",
             "linecolor": "white",
             "minorgridcolor": "white",
             "startlinecolor": "#2a3f5f"
            },
            "type": "carpet"
           }
          ],
          "choropleth": [
           {
            "colorbar": {
             "outlinewidth": 0,
             "ticks": ""
            },
            "type": "choropleth"
           }
          ],
          "contour": [
           {
            "colorbar": {
             "outlinewidth": 0,
             "ticks": ""
            },
            "colorscale": [
             [
              0,
              "#0d0887"
             ],
             [
              0.1111111111111111,
              "#46039f"
             ],
             [
              0.2222222222222222,
              "#7201a8"
             ],
             [
              0.3333333333333333,
              "#9c179e"
             ],
             [
              0.4444444444444444,
              "#bd3786"
             ],
             [
              0.5555555555555556,
              "#d8576b"
             ],
             [
              0.6666666666666666,
              "#ed7953"
             ],
             [
              0.7777777777777778,
              "#fb9f3a"
             ],
             [
              0.8888888888888888,
              "#fdca26"
             ],
             [
              1,
              "#f0f921"
             ]
            ],
            "type": "contour"
           }
          ],
          "contourcarpet": [
           {
            "colorbar": {
             "outlinewidth": 0,
             "ticks": ""
            },
            "type": "contourcarpet"
           }
          ],
          "heatmap": [
           {
            "colorbar": {
             "outlinewidth": 0,
             "ticks": ""
            },
            "colorscale": [
             [
              0,
              "#0d0887"
             ],
             [
              0.1111111111111111,
              "#46039f"
             ],
             [
              0.2222222222222222,
              "#7201a8"
             ],
             [
              0.3333333333333333,
              "#9c179e"
             ],
             [
              0.4444444444444444,
              "#bd3786"
             ],
             [
              0.5555555555555556,
              "#d8576b"
             ],
             [
              0.6666666666666666,
              "#ed7953"
             ],
             [
              0.7777777777777778,
              "#fb9f3a"
             ],
             [
              0.8888888888888888,
              "#fdca26"
             ],
             [
              1,
              "#f0f921"
             ]
            ],
            "type": "heatmap"
           }
          ],
          "heatmapgl": [
           {
            "colorbar": {
             "outlinewidth": 0,
             "ticks": ""
            },
            "colorscale": [
             [
              0,
              "#0d0887"
             ],
             [
              0.1111111111111111,
              "#46039f"
             ],
             [
              0.2222222222222222,
              "#7201a8"
             ],
             [
              0.3333333333333333,
              "#9c179e"
             ],
             [
              0.4444444444444444,
              "#bd3786"
             ],
             [
              0.5555555555555556,
              "#d8576b"
             ],
             [
              0.6666666666666666,
              "#ed7953"
             ],
             [
              0.7777777777777778,
              "#fb9f3a"
             ],
             [
              0.8888888888888888,
              "#fdca26"
             ],
             [
              1,
              "#f0f921"
             ]
            ],
            "type": "heatmapgl"
           }
          ],
          "histogram": [
           {
            "marker": {
             "pattern": {
              "fillmode": "overlay",
              "size": 10,
              "solidity": 0.2
             }
            },
            "type": "histogram"
           }
          ],
          "histogram2d": [
           {
            "colorbar": {
             "outlinewidth": 0,
             "ticks": ""
            },
            "colorscale": [
             [
              0,
              "#0d0887"
             ],
             [
              0.1111111111111111,
              "#46039f"
             ],
             [
              0.2222222222222222,
              "#7201a8"
             ],
             [
              0.3333333333333333,
              "#9c179e"
             ],
             [
              0.4444444444444444,
              "#bd3786"
             ],
             [
              0.5555555555555556,
              "#d8576b"
             ],
             [
              0.6666666666666666,
              "#ed7953"
             ],
             [
              0.7777777777777778,
              "#fb9f3a"
             ],
             [
              0.8888888888888888,
              "#fdca26"
             ],
             [
              1,
              "#f0f921"
             ]
            ],
            "type": "histogram2d"
           }
          ],
          "histogram2dcontour": [
           {
            "colorbar": {
             "outlinewidth": 0,
             "ticks": ""
            },
            "colorscale": [
             [
              0,
              "#0d0887"
             ],
             [
              0.1111111111111111,
              "#46039f"
             ],
             [
              0.2222222222222222,
              "#7201a8"
             ],
             [
              0.3333333333333333,
              "#9c179e"
             ],
             [
              0.4444444444444444,
              "#bd3786"
             ],
             [
              0.5555555555555556,
              "#d8576b"
             ],
             [
              0.6666666666666666,
              "#ed7953"
             ],
             [
              0.7777777777777778,
              "#fb9f3a"
             ],
             [
              0.8888888888888888,
              "#fdca26"
             ],
             [
              1,
              "#f0f921"
             ]
            ],
            "type": "histogram2dcontour"
           }
          ],
          "mesh3d": [
           {
            "colorbar": {
             "outlinewidth": 0,
             "ticks": ""
            },
            "type": "mesh3d"
           }
          ],
          "parcoords": [
           {
            "line": {
             "colorbar": {
              "outlinewidth": 0,
              "ticks": ""
             }
            },
            "type": "parcoords"
           }
          ],
          "pie": [
           {
            "automargin": true,
            "type": "pie"
           }
          ],
          "scatter": [
           {
            "fillpattern": {
             "fillmode": "overlay",
             "size": 10,
             "solidity": 0.2
            },
            "type": "scatter"
           }
          ],
          "scatter3d": [
           {
            "line": {
             "colorbar": {
              "outlinewidth": 0,
              "ticks": ""
             }
            },
            "marker": {
             "colorbar": {
              "outlinewidth": 0,
              "ticks": ""
             }
            },
            "type": "scatter3d"
           }
          ],
          "scattercarpet": [
           {
            "marker": {
             "colorbar": {
              "outlinewidth": 0,
              "ticks": ""
             }
            },
            "type": "scattercarpet"
           }
          ],
          "scattergeo": [
           {
            "marker": {
             "colorbar": {
              "outlinewidth": 0,
              "ticks": ""
             }
            },
            "type": "scattergeo"
           }
          ],
          "scattergl": [
           {
            "marker": {
             "colorbar": {
              "outlinewidth": 0,
              "ticks": ""
             }
            },
            "type": "scattergl"
           }
          ],
          "scattermapbox": [
           {
            "marker": {
             "colorbar": {
              "outlinewidth": 0,
              "ticks": ""
             }
            },
            "type": "scattermapbox"
           }
          ],
          "scatterpolar": [
           {
            "marker": {
             "colorbar": {
              "outlinewidth": 0,
              "ticks": ""
             }
            },
            "type": "scatterpolar"
           }
          ],
          "scatterpolargl": [
           {
            "marker": {
             "colorbar": {
              "outlinewidth": 0,
              "ticks": ""
             }
            },
            "type": "scatterpolargl"
           }
          ],
          "scatterternary": [
           {
            "marker": {
             "colorbar": {
              "outlinewidth": 0,
              "ticks": ""
             }
            },
            "type": "scatterternary"
           }
          ],
          "surface": [
           {
            "colorbar": {
             "outlinewidth": 0,
             "ticks": ""
            },
            "colorscale": [
             [
              0,
              "#0d0887"
             ],
             [
              0.1111111111111111,
              "#46039f"
             ],
             [
              0.2222222222222222,
              "#7201a8"
             ],
             [
              0.3333333333333333,
              "#9c179e"
             ],
             [
              0.4444444444444444,
              "#bd3786"
             ],
             [
              0.5555555555555556,
              "#d8576b"
             ],
             [
              0.6666666666666666,
              "#ed7953"
             ],
             [
              0.7777777777777778,
              "#fb9f3a"
             ],
             [
              0.8888888888888888,
              "#fdca26"
             ],
             [
              1,
              "#f0f921"
             ]
            ],
            "type": "surface"
           }
          ],
          "table": [
           {
            "cells": {
             "fill": {
              "color": "#EBF0F8"
             },
             "line": {
              "color": "white"
             }
            },
            "header": {
             "fill": {
              "color": "#C8D4E3"
             },
             "line": {
              "color": "white"
             }
            },
            "type": "table"
           }
          ]
         },
         "layout": {
          "annotationdefaults": {
           "arrowcolor": "#2a3f5f",
           "arrowhead": 0,
           "arrowwidth": 1
          },
          "autotypenumbers": "strict",
          "coloraxis": {
           "colorbar": {
            "outlinewidth": 0,
            "ticks": ""
           }
          },
          "colorscale": {
           "diverging": [
            [
             0,
             "#8e0152"
            ],
            [
             0.1,
             "#c51b7d"
            ],
            [
             0.2,
             "#de77ae"
            ],
            [
             0.3,
             "#f1b6da"
            ],
            [
             0.4,
             "#fde0ef"
            ],
            [
             0.5,
             "#f7f7f7"
            ],
            [
             0.6,
             "#e6f5d0"
            ],
            [
             0.7,
             "#b8e186"
            ],
            [
             0.8,
             "#7fbc41"
            ],
            [
             0.9,
             "#4d9221"
            ],
            [
             1,
             "#276419"
            ]
           ],
           "sequential": [
            [
             0,
             "#0d0887"
            ],
            [
             0.1111111111111111,
             "#46039f"
            ],
            [
             0.2222222222222222,
             "#7201a8"
            ],
            [
             0.3333333333333333,
             "#9c179e"
            ],
            [
             0.4444444444444444,
             "#bd3786"
            ],
            [
             0.5555555555555556,
             "#d8576b"
            ],
            [
             0.6666666666666666,
             "#ed7953"
            ],
            [
             0.7777777777777778,
             "#fb9f3a"
            ],
            [
             0.8888888888888888,
             "#fdca26"
            ],
            [
             1,
             "#f0f921"
            ]
           ],
           "sequentialminus": [
            [
             0,
             "#0d0887"
            ],
            [
             0.1111111111111111,
             "#46039f"
            ],
            [
             0.2222222222222222,
             "#7201a8"
            ],
            [
             0.3333333333333333,
             "#9c179e"
            ],
            [
             0.4444444444444444,
             "#bd3786"
            ],
            [
             0.5555555555555556,
             "#d8576b"
            ],
            [
             0.6666666666666666,
             "#ed7953"
            ],
            [
             0.7777777777777778,
             "#fb9f3a"
            ],
            [
             0.8888888888888888,
             "#fdca26"
            ],
            [
             1,
             "#f0f921"
            ]
           ]
          },
          "colorway": [
           "#636efa",
           "#EF553B",
           "#00cc96",
           "#ab63fa",
           "#FFA15A",
           "#19d3f3",
           "#FF6692",
           "#B6E880",
           "#FF97FF",
           "#FECB52"
          ],
          "font": {
           "color": "#2a3f5f"
          },
          "geo": {
           "bgcolor": "white",
           "lakecolor": "white",
           "landcolor": "#E5ECF6",
           "showlakes": true,
           "showland": true,
           "subunitcolor": "white"
          },
          "hoverlabel": {
           "align": "left"
          },
          "hovermode": "closest",
          "mapbox": {
           "style": "light"
          },
          "paper_bgcolor": "white",
          "plot_bgcolor": "#E5ECF6",
          "polar": {
           "angularaxis": {
            "gridcolor": "white",
            "linecolor": "white",
            "ticks": ""
           },
           "bgcolor": "#E5ECF6",
           "radialaxis": {
            "gridcolor": "white",
            "linecolor": "white",
            "ticks": ""
           }
          },
          "scene": {
           "xaxis": {
            "backgroundcolor": "#E5ECF6",
            "gridcolor": "white",
            "gridwidth": 2,
            "linecolor": "white",
            "showbackground": true,
            "ticks": "",
            "zerolinecolor": "white"
           },
           "yaxis": {
            "backgroundcolor": "#E5ECF6",
            "gridcolor": "white",
            "gridwidth": 2,
            "linecolor": "white",
            "showbackground": true,
            "ticks": "",
            "zerolinecolor": "white"
           },
           "zaxis": {
            "backgroundcolor": "#E5ECF6",
            "gridcolor": "white",
            "gridwidth": 2,
            "linecolor": "white",
            "showbackground": true,
            "ticks": "",
            "zerolinecolor": "white"
           }
          },
          "shapedefaults": {
           "line": {
            "color": "#2a3f5f"
           }
          },
          "ternary": {
           "aaxis": {
            "gridcolor": "white",
            "linecolor": "white",
            "ticks": ""
           },
           "baxis": {
            "gridcolor": "white",
            "linecolor": "white",
            "ticks": ""
           },
           "bgcolor": "#E5ECF6",
           "caxis": {
            "gridcolor": "white",
            "linecolor": "white",
            "ticks": ""
           }
          },
          "title": {
           "x": 0.05
          },
          "xaxis": {
           "automargin": true,
           "gridcolor": "white",
           "linecolor": "white",
           "ticks": "",
           "title": {
            "standoff": 15
           },
           "zerolinecolor": "white",
           "zerolinewidth": 2
          },
          "yaxis": {
           "automargin": true,
           "gridcolor": "white",
           "linecolor": "white",
           "ticks": "",
           "title": {
            "standoff": 15
           },
           "zerolinecolor": "white",
           "zerolinewidth": 2
          }
         }
        },
        "title": {
         "text": "Cross-validation"
        },
        "updatemenus": [
         {
          "buttons": [
           {
            "args": [
             {
              "visible": [
               true,
               true
              ]
             },
             {
              "xaxis.range": null,
              "yaxis.range": null
             }
            ],
            "label": "f",
            "method": "update"
           }
          ],
          "x": 0,
          "xanchor": "left",
          "y": 1.125,
          "yanchor": "top"
         },
         {
          "buttons": [
           {
            "args": [
             {
              "error_x.thickness": 2,
              "error_x.width": 4,
              "error_y.thickness": 2,
              "error_y.width": 4
             }
            ],
            "label": "Yes",
            "method": "restyle"
           },
           {
            "args": [
             {
              "error_x.thickness": 0,
              "error_x.width": 0,
              "error_y.thickness": 0,
              "error_y.width": 0
             }
            ],
            "label": "No",
            "method": "restyle"
           }
          ],
          "x": 1.125,
          "xanchor": "left",
          "y": 0.8,
          "yanchor": "middle"
         }
        ],
        "width": 530,
        "xaxis": {
         "linecolor": "black",
         "linewidth": 0.5,
         "mirror": true,
         "title": {
          "text": "Actual Outcome"
         },
         "zeroline": false
        },
        "yaxis": {
         "linecolor": "black",
         "linewidth": 0.5,
         "mirror": true,
         "title": {
          "text": "Predicted Outcome"
         },
         "zeroline": false
        }
       }
      }
     },
     "metadata": {},
     "output_type": "display_data"
    }
   ],
   "source": [
    "###More visualizations\n",
    "render(ax_client.get_contour_plot(param_x='Dimension1', param_y='Doping%', metric_name='f'))\n",
    "render(plot_slice(ax_client.generation_strategy.model, 'Dilution(OD)', metric_name='f'))\n",
    "render(plot_slice(ax_client.generation_strategy.model, 'Doping%', metric_name='f'))\n",
    "render(plot_slice(ax_client.generation_strategy.model, 'Dimension2', metric_name='f'))\n",
    "render(plot_slice(ax_client.generation_strategy.model, 'Dimension1', metric_name='f'))\n",
    "render(plot_slice(ax_client.generation_strategy.model, 'pre-QY', metric_name='f'))\n",
    "cv_results = cross_validate(ax_client.generation_strategy.model,)\n",
    "render(interact_cross_validation(cv_results, show_context=True,autoset_axis_limits=False))"
   ]
  },
  {
   "cell_type": "code",
   "execution_count": 121,
   "metadata": {},
   "outputs": [
    {
     "data": {
      "image/png": "[encoded data removed]",
      "text/plain": [
       "<Figure size 600x600 with 1 Axes>"
      ]
     },
     "metadata": {},
     "output_type": "display_data"
    }
   ],
   "source": [
    "# Cross-validate model\n",
    "cv = cross_validate(ax_client.generation_strategy.model)\n",
    "y_true = np.stack([cv_.observed.data.means for cv_ in cv]).ravel()\n",
    "y_saas_mean = np.stack([cv_.predicted.means for cv_ in cv]).ravel()\n",
    "y_saas_std = np.stack(\n",
    "    [np.sqrt(np.diag(cv_.predicted.covariance)) for cv_ in cv]\n",
    ").ravel()\n",
    "\n",
    "# Cross-validation plot\n",
    "fig, ax = plt.subplots(1, 1, figsize=(6, 6))\n",
    "min_val, max_val = -0.25, 1\n",
    "ax.plot([min_val, max_val], [min_val, max_val], \"b--\", lw=2)\n",
    "markers, caps, bars = ax.errorbar(\n",
    "    y_true,\n",
    "    y_saas_mean,\n",
    "    yerr=1.96 * y_saas_std,\n",
    "    fmt=\".\",\n",
    "    capsize=4,\n",
    "    elinewidth=2.0,\n",
    "    ms=14,\n",
    "    c=\"k\",\n",
    "    ecolor=\"gray\",\n",
    ")\n",
    "[bar.set_alpha(0.8) for bar in bars]\n",
    "[cap.set_alpha(0.8) for cap in caps]\n",
    "ax.set_xlim([min_val, max_val])\n",
    "ax.set_ylim([min_val, max_val])\n",
    "ax.set_xlabel(\"True value\", fontsize=20)\n",
    "ax.set_ylabel(\"Predicted value\", fontsize=20)\n",
    "ax.grid(True)"
   ]
  },
  {
   "cell_type": "code",
   "execution_count": 152,
   "metadata": {},
   "outputs": [
    {
     "name": "stdout",
     "output_type": "stream",
     "text": [
      "tensor([[2.1584e-02, 9.8479e+02, 1.4054e+00, 3.9675e-01, 1.8320e+00, 5.4061e+02,\n",
      "         2.1839e+00, 7.3550e-01, 1.0499e+00, 6.6610e+02]], dtype=torch.float64,\n",
      "       grad_fn=<SoftplusBackward0>)\n",
      "tensor([[0, 3, 7, 8, 2, 4, 6, 5, 9, 1]])\n"
     ]
    }
   ],
   "source": [
    "median_lengthscales = (\n",
    "    ax_client.generation_strategy.model.model.surrogate.model\n",
    "    .covar_module.base_kernel.lengthscale\n",
    ")\n",
    "print(median_lengthscales)\n",
    "print(median_lengthscales.argsort())\n"
   ]
  },
  {
   "cell_type": "markdown",
   "metadata": {},
   "source": [
    "## Using the Developer API"
   ]
  },
  {
   "cell_type": "markdown",
   "metadata": {},
   "source": [
    "### Specify The Loop Ingredients"
   ]
  },
  {
   "cell_type": "code",
   "execution_count": 33,
   "metadata": {},
   "outputs": [
    {
     "name": "stderr",
     "output_type": "stream",
     "text": [
      "/Users/jorgemedina/Desktop/GroupRetreatWinter2024/BOwithAx/.conda/lib/python3.11/site-packages/ax/core/parameter.py:518: UserWarning:\n",
      "\n",
      "`is_ordered` is not specified for `ChoiceParameter` \"Nano_stock_vol\". Defaulting to `True` for parameters of `ParameterType` FLOAT. To override this behavior (or avoid this warning), specify `is_ordered` during `ChoiceParameter` construction.\n",
      "\n",
      "/Users/jorgemedina/Desktop/GroupRetreatWinter2024/BOwithAx/.conda/lib/python3.11/site-packages/ax/core/parameter.py:518: UserWarning:\n",
      "\n",
      "`sort_values` is not specified for `ChoiceParameter` \"Nano_stock_vol\". Defaulting to `True` for parameters of `ParameterType` FLOAT. To override this behavior (or avoid this warning), specify `sort_values` during `ChoiceParameter` construction.\n",
      "\n",
      "/Users/jorgemedina/Desktop/GroupRetreatWinter2024/BOwithAx/.conda/lib/python3.11/site-packages/ax/core/parameter.py:518: UserWarning:\n",
      "\n",
      "`is_ordered` is not specified for `ChoiceParameter` \"Ag_acet_conc\". Defaulting to `True` for parameters of `ParameterType` FLOAT. To override this behavior (or avoid this warning), specify `is_ordered` during `ChoiceParameter` construction.\n",
      "\n",
      "/Users/jorgemedina/Desktop/GroupRetreatWinter2024/BOwithAx/.conda/lib/python3.11/site-packages/ax/core/parameter.py:518: UserWarning:\n",
      "\n",
      "`sort_values` is not specified for `ChoiceParameter` \"Ag_acet_conc\". Defaulting to `True` for parameters of `ParameterType` FLOAT. To override this behavior (or avoid this warning), specify `sort_values` during `ChoiceParameter` construction.\n",
      "\n",
      "/Users/jorgemedina/Desktop/GroupRetreatWinter2024/BOwithAx/.conda/lib/python3.11/site-packages/ax/core/parameter.py:518: UserWarning:\n",
      "\n",
      "`is_ordered` is not specified for `ChoiceParameter` \"Ag_acet_mass\". Defaulting to `True` for parameters of `ParameterType` FLOAT. To override this behavior (or avoid this warning), specify `is_ordered` during `ChoiceParameter` construction.\n",
      "\n",
      "/Users/jorgemedina/Desktop/GroupRetreatWinter2024/BOwithAx/.conda/lib/python3.11/site-packages/ax/core/parameter.py:518: UserWarning:\n",
      "\n",
      "`sort_values` is not specified for `ChoiceParameter` \"Ag_acet_mass\". Defaulting to `True` for parameters of `ParameterType` FLOAT. To override this behavior (or avoid this warning), specify `sort_values` during `ChoiceParameter` construction.\n",
      "\n",
      "/Users/jorgemedina/Desktop/GroupRetreatWinter2024/BOwithAx/.conda/lib/python3.11/site-packages/ax/core/parameter.py:518: UserWarning:\n",
      "\n",
      "`is_ordered` is not specified for `ChoiceParameter` \"Time\". Defaulting to `True` for parameters of `ParameterType` FLOAT. To override this behavior (or avoid this warning), specify `is_ordered` during `ChoiceParameter` construction.\n",
      "\n",
      "/Users/jorgemedina/Desktop/GroupRetreatWinter2024/BOwithAx/.conda/lib/python3.11/site-packages/ax/core/parameter.py:518: UserWarning:\n",
      "\n",
      "`sort_values` is not specified for `ChoiceParameter` \"Time\". Defaulting to `True` for parameters of `ParameterType` FLOAT. To override this behavior (or avoid this warning), specify `sort_values` during `ChoiceParameter` construction.\n",
      "\n",
      "/Users/jorgemedina/Desktop/GroupRetreatWinter2024/BOwithAx/.conda/lib/python3.11/site-packages/ax/core/parameter.py:518: UserWarning:\n",
      "\n",
      "`is_ordered` is not specified for `ChoiceParameter` \"Temperature\". Defaulting to `True` for parameters of `ParameterType` FLOAT. To override this behavior (or avoid this warning), specify `is_ordered` during `ChoiceParameter` construction.\n",
      "\n",
      "/Users/jorgemedina/Desktop/GroupRetreatWinter2024/BOwithAx/.conda/lib/python3.11/site-packages/ax/core/parameter.py:518: UserWarning:\n",
      "\n",
      "`sort_values` is not specified for `ChoiceParameter` \"Temperature\". Defaulting to `True` for parameters of `ParameterType` FLOAT. To override this behavior (or avoid this warning), specify `sort_values` during `ChoiceParameter` construction.\n",
      "\n",
      "[INFO 05-05 22:06:52] ax.core.experiment: Copied 61 completed trials and their data from None.\n"
     ]
    },
    {
     "data": {
      "text/plain": [
       "[Trial(experiment_name='None', index=0, status=TrialStatus.COMPLETED, arm=Arm(name='0_0', parameters={'Dimension1': 18.8, 'Dimension2': 14.04, 'Dilution(OD)': 0.175, 'Nano_stock_vol': 0.25, 'Ag_acet_conc': 0.006, 'Ag_acet_mass': 7.8, 'Doping%': 1.25, 'Time': 60.0, 'Temperature': 25.0})),\n",
       " Trial(experiment_name='None', index=1, status=TrialStatus.COMPLETED, arm=Arm(name='1_0', parameters={'Dimension1': 18.8, 'Dimension2': 14.04, 'Dilution(OD)': 0.175, 'Nano_stock_vol': 0.25, 'Ag_acet_conc': 0.006, 'Ag_acet_mass': 7.8, 'Doping%': 2.5, 'Time': 60.0, 'Temperature': 25.0})),\n",
       " Trial(experiment_name='None', index=2, status=TrialStatus.COMPLETED, arm=Arm(name='2_0', parameters={'Dimension1': 18.8, 'Dimension2': 14.04, 'Dilution(OD)': 0.175, 'Nano_stock_vol': 0.25, 'Ag_acet_conc': 0.006, 'Ag_acet_mass': 7.8, 'Doping%': 5.0, 'Time': 60.0, 'Temperature': 25.0})),\n",
       " Trial(experiment_name='None', index=3, status=TrialStatus.COMPLETED, arm=Arm(name='3_0', parameters={'Dimension1': 18.8, 'Dimension2': 14.04, 'Dilution(OD)': 0.175, 'Nano_stock_vol': 0.25, 'Ag_acet_conc': 0.006, 'Ag_acet_mass': 7.8, 'Doping%': 10.0, 'Time': 60.0, 'Temperature': 25.0})),\n",
       " Trial(experiment_name='None', index=4, status=TrialStatus.COMPLETED, arm=Arm(name='4_0', parameters={'Dimension1': 18.8, 'Dimension2': 14.04, 'Dilution(OD)': 0.175, 'Nano_stock_vol': 0.25, 'Ag_acet_conc': 0.0007, 'Ag_acet_mass': 3.5, 'Doping%': 0.25, 'Time': 60.0, 'Temperature': 25.0})),\n",
       " Trial(experiment_name='None', index=5, status=TrialStatus.COMPLETED, arm=Arm(name='5_0', parameters={'Dimension1': 18.8, 'Dimension2': 14.04, 'Dilution(OD)': 0.175, 'Nano_stock_vol': 0.25, 'Ag_acet_conc': 0.0007, 'Ag_acet_mass': 3.5, 'Doping%': 0.5, 'Time': 60.0, 'Temperature': 25.0})),\n",
       " Trial(experiment_name='None', index=6, status=TrialStatus.COMPLETED, arm=Arm(name='6_0', parameters={'Dimension1': 18.8, 'Dimension2': 14.04, 'Dilution(OD)': 0.175, 'Nano_stock_vol': 0.25, 'Ag_acet_conc': 0.0007, 'Ag_acet_mass': 3.5, 'Doping%': 0.75, 'Time': 60.0, 'Temperature': 25.0})),\n",
       " Trial(experiment_name='None', index=7, status=TrialStatus.COMPLETED, arm=Arm(name='7_0', parameters={'Dimension1': 18.8, 'Dimension2': 14.04, 'Dilution(OD)': 0.175, 'Nano_stock_vol': 0.25, 'Ag_acet_conc': 0.0007, 'Ag_acet_mass': 3.5, 'Doping%': 1.0, 'Time': 60.0, 'Temperature': 25.0})),\n",
       " Trial(experiment_name='None', index=8, status=TrialStatus.COMPLETED, arm=Arm(name='8_0', parameters={'Dimension1': 18.8, 'Dimension2': 14.04, 'Dilution(OD)': 0.175, 'Nano_stock_vol': 0.25, 'Ag_acet_conc': 0.0007, 'Ag_acet_mass': 3.5, 'Doping%': 1.25, 'Time': 60.0, 'Temperature': 25.0})),\n",
       " Trial(experiment_name='None', index=9, status=TrialStatus.COMPLETED, arm=Arm(name='9_0', parameters={'Dimension1': 18.8, 'Dimension2': 14.04, 'Dilution(OD)': 0.175, 'Nano_stock_vol': 0.25, 'Ag_acet_conc': 0.0007, 'Ag_acet_mass': 3.5, 'Doping%': 1.5, 'Time': 60.0, 'Temperature': 25.0})),\n",
       " Trial(experiment_name='None', index=10, status=TrialStatus.COMPLETED, arm=Arm(name='10_0', parameters={'Dimension1': 18.8, 'Dimension2': 14.04, 'Dilution(OD)': 0.175, 'Nano_stock_vol': 0.25, 'Ag_acet_conc': 0.0007, 'Ag_acet_mass': 3.5, 'Doping%': 1.75, 'Time': 60.0, 'Temperature': 25.0})),\n",
       " Trial(experiment_name='None', index=11, status=TrialStatus.COMPLETED, arm=Arm(name='11_0', parameters={'Dimension1': 18.8, 'Dimension2': 14.04, 'Dilution(OD)': 0.175, 'Nano_stock_vol': 0.25, 'Ag_acet_conc': 0.0007, 'Ag_acet_mass': 3.5, 'Doping%': 2.0, 'Time': 60.0, 'Temperature': 25.0})),\n",
       " Trial(experiment_name='None', index=12, status=TrialStatus.COMPLETED, arm=Arm(name='12_0', parameters={'Dimension1': 18.8, 'Dimension2': 14.04, 'Dilution(OD)': 0.175, 'Nano_stock_vol': 0.25, 'Ag_acet_conc': 0.0007, 'Ag_acet_mass': 3.5, 'Doping%': 3.0, 'Time': 60.0, 'Temperature': 25.0})),\n",
       " Trial(experiment_name='None', index=13, status=TrialStatus.COMPLETED, arm=Arm(name='13_0', parameters={'Dimension1': 35.0, 'Dimension2': 15.0, 'Dilution(OD)': 0.212, 'Nano_stock_vol': 0.5, 'Ag_acet_conc': 0.0007, 'Ag_acet_mass': 3.5, 'Doping%': 0.5, 'Time': 60.0, 'Temperature': 25.0})),\n",
       " Trial(experiment_name='None', index=14, status=TrialStatus.COMPLETED, arm=Arm(name='14_0', parameters={'Dimension1': 35.0, 'Dimension2': 15.0, 'Dilution(OD)': 0.212, 'Nano_stock_vol': 0.5, 'Ag_acet_conc': 0.0007, 'Ag_acet_mass': 3.5, 'Doping%': 1.0, 'Time': 60.0, 'Temperature': 25.0})),\n",
       " Trial(experiment_name='None', index=15, status=TrialStatus.COMPLETED, arm=Arm(name='15_0', parameters={'Dimension1': 35.0, 'Dimension2': 15.0, 'Dilution(OD)': 0.212, 'Nano_stock_vol': 0.5, 'Ag_acet_conc': 0.0007, 'Ag_acet_mass': 3.5, 'Doping%': 2.0, 'Time': 60.0, 'Temperature': 25.0})),\n",
       " Trial(experiment_name='None', index=16, status=TrialStatus.COMPLETED, arm=Arm(name='16_0', parameters={'Dimension1': 35.0, 'Dimension2': 15.0, 'Dilution(OD)': 0.212, 'Nano_stock_vol': 0.5, 'Ag_acet_conc': 0.0007, 'Ag_acet_mass': 3.5, 'Doping%': 3.0, 'Time': 60.0, 'Temperature': 25.0})),\n",
       " Trial(experiment_name='None', index=17, status=TrialStatus.COMPLETED, arm=Arm(name='17_0', parameters={'Dimension1': 35.0, 'Dimension2': 15.0, 'Dilution(OD)': 0.212, 'Nano_stock_vol': 0.5, 'Ag_acet_conc': 0.0007, 'Ag_acet_mass': 3.5, 'Doping%': 5.0, 'Time': 60.0, 'Temperature': 25.0})),\n",
       " Trial(experiment_name='None', index=18, status=TrialStatus.COMPLETED, arm=Arm(name='18_0', parameters={'Dimension1': 31.63, 'Dimension2': 13.8, 'Dilution(OD)': 0.12, 'Nano_stock_vol': 0.5, 'Ag_acet_conc': 0.0007, 'Ag_acet_mass': 3.5, 'Doping%': 0.5, 'Time': 60.0, 'Temperature': 25.0})),\n",
       " Trial(experiment_name='None', index=19, status=TrialStatus.COMPLETED, arm=Arm(name='19_0', parameters={'Dimension1': 31.63, 'Dimension2': 13.8, 'Dilution(OD)': 0.12, 'Nano_stock_vol': 0.5, 'Ag_acet_conc': 0.0007, 'Ag_acet_mass': 3.5, 'Doping%': 0.75, 'Time': 60.0, 'Temperature': 25.0})),\n",
       " Trial(experiment_name='None', index=20, status=TrialStatus.COMPLETED, arm=Arm(name='20_0', parameters={'Dimension1': 31.63, 'Dimension2': 13.8, 'Dilution(OD)': 0.12, 'Nano_stock_vol': 0.5, 'Ag_acet_conc': 0.0007, 'Ag_acet_mass': 3.5, 'Doping%': 1.0, 'Time': 60.0, 'Temperature': 25.0})),\n",
       " Trial(experiment_name='None', index=21, status=TrialStatus.COMPLETED, arm=Arm(name='21_0', parameters={'Dimension1': 31.63, 'Dimension2': 13.8, 'Dilution(OD)': 0.12, 'Nano_stock_vol': 0.5, 'Ag_acet_conc': 0.0007, 'Ag_acet_mass': 3.5, 'Doping%': 5.0, 'Time': 60.0, 'Temperature': 25.0})),\n",
       " Trial(experiment_name='None', index=22, status=TrialStatus.COMPLETED, arm=Arm(name='22_0', parameters={'Dimension1': 31.63, 'Dimension2': 13.8, 'Dilution(OD)': 0.12, 'Nano_stock_vol': 0.5, 'Ag_acet_conc': 0.006, 'Ag_acet_mass': 14.0, 'Doping%': 0.25, 'Time': 60.0, 'Temperature': 25.0})),\n",
       " Trial(experiment_name='None', index=23, status=TrialStatus.COMPLETED, arm=Arm(name='23_0', parameters={'Dimension1': 31.63, 'Dimension2': 13.8, 'Dilution(OD)': 0.12, 'Nano_stock_vol': 0.5, 'Ag_acet_conc': 0.006, 'Ag_acet_mass': 14.0, 'Doping%': 0.5, 'Time': 60.0, 'Temperature': 25.0})),\n",
       " Trial(experiment_name='None', index=24, status=TrialStatus.COMPLETED, arm=Arm(name='24_0', parameters={'Dimension1': 31.63, 'Dimension2': 13.8, 'Dilution(OD)': 0.12, 'Nano_stock_vol': 0.5, 'Ag_acet_conc': 0.006, 'Ag_acet_mass': 14.0, 'Doping%': 1.0, 'Time': 60.0, 'Temperature': 25.0})),\n",
       " Trial(experiment_name='None', index=25, status=TrialStatus.COMPLETED, arm=Arm(name='25_0', parameters={'Dimension1': 31.63, 'Dimension2': 13.8, 'Dilution(OD)': 0.12, 'Nano_stock_vol': 0.5, 'Ag_acet_conc': 0.006, 'Ag_acet_mass': 14.0, 'Doping%': 5.0, 'Time': 60.0, 'Temperature': 25.0})),\n",
       " Trial(experiment_name='None', index=26, status=TrialStatus.COMPLETED, arm=Arm(name='26_0', parameters={'Dimension1': 36.27, 'Dimension2': 6.52, 'Dilution(OD)': 0.12, 'Nano_stock_vol': 0.5, 'Ag_acet_conc': 0.0007, 'Ag_acet_mass': 3.5, 'Doping%': 3.0, 'Time': 10.0, 'Temperature': 0.0})),\n",
       " Trial(experiment_name='None', index=27, status=TrialStatus.COMPLETED, arm=Arm(name='27_0', parameters={'Dimension1': 36.27, 'Dimension2': 6.52, 'Dilution(OD)': 0.12, 'Nano_stock_vol': 0.5, 'Ag_acet_conc': 0.0007, 'Ag_acet_mass': 3.5, 'Doping%': 3.0, 'Time': 10.0, 'Temperature': 25.0})),\n",
       " Trial(experiment_name='None', index=28, status=TrialStatus.COMPLETED, arm=Arm(name='28_0', parameters={'Dimension1': 36.27, 'Dimension2': 6.52, 'Dilution(OD)': 0.12, 'Nano_stock_vol': 0.5, 'Ag_acet_conc': 0.0007, 'Ag_acet_mass': 3.5, 'Doping%': 3.0, 'Time': 10.0, 'Temperature': 50.0})),\n",
       " Trial(experiment_name='None', index=29, status=TrialStatus.COMPLETED, arm=Arm(name='29_0', parameters={'Dimension1': 36.27, 'Dimension2': 6.52, 'Dilution(OD)': 0.12, 'Nano_stock_vol': 0.5, 'Ag_acet_conc': 0.0007, 'Ag_acet_mass': 3.5, 'Doping%': 3.0, 'Time': 60.0, 'Temperature': 0.0})),\n",
       " Trial(experiment_name='None', index=30, status=TrialStatus.COMPLETED, arm=Arm(name='30_0', parameters={'Dimension1': 36.27, 'Dimension2': 6.52, 'Dilution(OD)': 0.12, 'Nano_stock_vol': 0.5, 'Ag_acet_conc': 0.0007, 'Ag_acet_mass': 3.5, 'Doping%': 3.0, 'Time': 60.0, 'Temperature': 25.0})),\n",
       " Trial(experiment_name='None', index=31, status=TrialStatus.COMPLETED, arm=Arm(name='31_0', parameters={'Dimension1': 36.27, 'Dimension2': 6.52, 'Dilution(OD)': 0.12, 'Nano_stock_vol': 0.5, 'Ag_acet_conc': 0.0007, 'Ag_acet_mass': 3.5, 'Doping%': 3.0, 'Time': 60.0, 'Temperature': 50.0})),\n",
       " Trial(experiment_name='None', index=32, status=TrialStatus.COMPLETED, arm=Arm(name='32_0', parameters={'Dimension1': 36.27, 'Dimension2': 6.52, 'Dilution(OD)': 0.12, 'Nano_stock_vol': 0.5, 'Ag_acet_conc': 0.0007, 'Ag_acet_mass': 3.5, 'Doping%': 3.0, 'Time': 180.0, 'Temperature': 25.0})),\n",
       " Trial(experiment_name='None', index=33, status=TrialStatus.COMPLETED, arm=Arm(name='33_0', parameters={'Dimension1': 36.27, 'Dimension2': 6.52, 'Dilution(OD)': 0.12, 'Nano_stock_vol': 0.5, 'Ag_acet_conc': 0.0007, 'Ag_acet_mass': 3.5, 'Doping%': 10.0, 'Time': 10.0, 'Temperature': 0.0})),\n",
       " Trial(experiment_name='None', index=34, status=TrialStatus.COMPLETED, arm=Arm(name='34_0', parameters={'Dimension1': 36.27, 'Dimension2': 6.52, 'Dilution(OD)': 0.12, 'Nano_stock_vol': 0.5, 'Ag_acet_conc': 0.0007, 'Ag_acet_mass': 3.5, 'Doping%': 10.0, 'Time': 10.0, 'Temperature': 25.0})),\n",
       " Trial(experiment_name='None', index=35, status=TrialStatus.COMPLETED, arm=Arm(name='35_0', parameters={'Dimension1': 36.27, 'Dimension2': 6.52, 'Dilution(OD)': 0.12, 'Nano_stock_vol': 0.5, 'Ag_acet_conc': 0.0007, 'Ag_acet_mass': 3.5, 'Doping%': 10.0, 'Time': 10.0, 'Temperature': 50.0})),\n",
       " Trial(experiment_name='None', index=36, status=TrialStatus.COMPLETED, arm=Arm(name='36_0', parameters={'Dimension1': 36.27, 'Dimension2': 6.52, 'Dilution(OD)': 0.12, 'Nano_stock_vol': 0.5, 'Ag_acet_conc': 0.0007, 'Ag_acet_mass': 3.5, 'Doping%': 10.0, 'Time': 60.0, 'Temperature': 0.0})),\n",
       " Trial(experiment_name='None', index=37, status=TrialStatus.COMPLETED, arm=Arm(name='37_0', parameters={'Dimension1': 36.27, 'Dimension2': 6.52, 'Dilution(OD)': 0.12, 'Nano_stock_vol': 0.5, 'Ag_acet_conc': 0.0007, 'Ag_acet_mass': 3.5, 'Doping%': 10.0, 'Time': 60.0, 'Temperature': 25.0})),\n",
       " Trial(experiment_name='None', index=38, status=TrialStatus.COMPLETED, arm=Arm(name='38_0', parameters={'Dimension1': 36.27, 'Dimension2': 6.52, 'Dilution(OD)': 0.12, 'Nano_stock_vol': 0.5, 'Ag_acet_conc': 0.0007, 'Ag_acet_mass': 3.5, 'Doping%': 10.0, 'Time': 60.0, 'Temperature': 50.0})),\n",
       " Trial(experiment_name='None', index=39, status=TrialStatus.COMPLETED, arm=Arm(name='39_0', parameters={'Dimension1': 36.27, 'Dimension2': 6.52, 'Dilution(OD)': 0.12, 'Nano_stock_vol': 0.5, 'Ag_acet_conc': 0.0007, 'Ag_acet_mass': 3.5, 'Doping%': 10.0, 'Time': 180.0, 'Temperature': 25.0})),\n",
       " Trial(experiment_name='None', index=40, status=TrialStatus.COMPLETED, arm=Arm(name='40_0', parameters={'Dimension1': 45.77, 'Dimension2': 7.29, 'Dilution(OD)': 0.26, 'Nano_stock_vol': 0.5, 'Ag_acet_conc': 0.0007, 'Ag_acet_mass': 3.5, 'Doping%': 1.0, 'Time': 10.0, 'Temperature': 0.0})),\n",
       " Trial(experiment_name='None', index=41, status=TrialStatus.COMPLETED, arm=Arm(name='41_0', parameters={'Dimension1': 45.77, 'Dimension2': 7.29, 'Dilution(OD)': 0.26, 'Nano_stock_vol': 0.5, 'Ag_acet_conc': 0.0007, 'Ag_acet_mass': 3.5, 'Doping%': 1.0, 'Time': 10.0, 'Temperature': 25.0})),\n",
       " Trial(experiment_name='None', index=42, status=TrialStatus.COMPLETED, arm=Arm(name='42_0', parameters={'Dimension1': 45.77, 'Dimension2': 7.29, 'Dilution(OD)': 0.26, 'Nano_stock_vol': 0.5, 'Ag_acet_conc': 0.0007, 'Ag_acet_mass': 3.5, 'Doping%': 1.0, 'Time': 10.0, 'Temperature': 50.0})),\n",
       " Trial(experiment_name='None', index=43, status=TrialStatus.COMPLETED, arm=Arm(name='43_0', parameters={'Dimension1': 45.77, 'Dimension2': 7.29, 'Dilution(OD)': 0.26, 'Nano_stock_vol': 0.5, 'Ag_acet_conc': 0.0007, 'Ag_acet_mass': 3.5, 'Doping%': 1.0, 'Time': 60.0, 'Temperature': 0.0})),\n",
       " Trial(experiment_name='None', index=44, status=TrialStatus.COMPLETED, arm=Arm(name='44_0', parameters={'Dimension1': 45.77, 'Dimension2': 7.29, 'Dilution(OD)': 0.26, 'Nano_stock_vol': 0.5, 'Ag_acet_conc': 0.0007, 'Ag_acet_mass': 3.5, 'Doping%': 1.0, 'Time': 60.0, 'Temperature': 25.0})),\n",
       " Trial(experiment_name='None', index=45, status=TrialStatus.COMPLETED, arm=Arm(name='45_0', parameters={'Dimension1': 45.77, 'Dimension2': 7.29, 'Dilution(OD)': 0.26, 'Nano_stock_vol': 0.5, 'Ag_acet_conc': 0.0007, 'Ag_acet_mass': 3.5, 'Doping%': 1.0, 'Time': 60.0, 'Temperature': 50.0})),\n",
       " Trial(experiment_name='None', index=46, status=TrialStatus.COMPLETED, arm=Arm(name='46_0', parameters={'Dimension1': 45.77, 'Dimension2': 7.29, 'Dilution(OD)': 0.26, 'Nano_stock_vol': 0.5, 'Ag_acet_conc': 0.0007, 'Ag_acet_mass': 3.5, 'Doping%': 5.0, 'Time': 10.0, 'Temperature': 0.0})),\n",
       " Trial(experiment_name='None', index=47, status=TrialStatus.COMPLETED, arm=Arm(name='47_0', parameters={'Dimension1': 45.77, 'Dimension2': 7.29, 'Dilution(OD)': 0.26, 'Nano_stock_vol': 0.5, 'Ag_acet_conc': 0.0007, 'Ag_acet_mass': 3.5, 'Doping%': 5.0, 'Time': 10.0, 'Temperature': 25.0})),\n",
       " Trial(experiment_name='None', index=48, status=TrialStatus.COMPLETED, arm=Arm(name='48_0', parameters={'Dimension1': 30.928, 'Dimension2': 7.955, 'Dilution(OD)': 0.42, 'Nano_stock_vol': 0.5, 'Ag_acet_conc': 0.006, 'Ag_acet_mass': 14.0, 'Doping%': 5.5883, 'Time': 60.0, 'Temperature': 25.0})),\n",
       " Trial(experiment_name='None', index=49, status=TrialStatus.COMPLETED, arm=Arm(name='49_0', parameters={'Dimension1': 46.35, 'Dimension2': 8.09, 'Dilution(OD)': 0.42, 'Nano_stock_vol': 0.5, 'Ag_acet_conc': 0.006, 'Ag_acet_mass': 14.0, 'Doping%': 4.72, 'Time': 60.0, 'Temperature': 25.0})),\n",
       " Trial(experiment_name='None', index=50, status=TrialStatus.COMPLETED, arm=Arm(name='50_0', parameters={'Dimension1': 36.9235, 'Dimension2': 7.443, 'Dilution(OD)': 0.42, 'Nano_stock_vol': 0.5, 'Ag_acet_conc': 0.006, 'Ag_acet_mass': 14.0, 'Doping%': 4.11, 'Time': 60.0, 'Temperature': 25.0})),\n",
       " Trial(experiment_name='None', index=51, status=TrialStatus.COMPLETED, arm=Arm(name='51_0', parameters={'Dimension1': 27.5727, 'Dimension2': 8.1029, 'Dilution(OD)': 0.44, 'Nano_stock_vol': 0.25, 'Ag_acet_conc': 0.006, 'Ag_acet_mass': 14.0, 'Doping%': 2.77, 'Time': 60.0, 'Temperature': 25.0})),\n",
       " Trial(experiment_name='None', index=52, status=TrialStatus.COMPLETED, arm=Arm(name='52_0', parameters={'Dimension1': 50.5758, 'Dimension2': 6.84, 'Dilution(OD)': 0.42, 'Nano_stock_vol': 0.5, 'Ag_acet_conc': 0.006, 'Ag_acet_mass': 14.0, 'Doping%': 4.842, 'Time': 60.0, 'Temperature': 25.0})),\n",
       " Trial(experiment_name='None', index=53, status=TrialStatus.COMPLETED, arm=Arm(name='53_0', parameters={'Dimension1': 30.3477, 'Dimension2': 6.1498, 'Dilution(OD)': 0.12, 'Nano_stock_vol': 0.25, 'Ag_acet_conc': 0.006, 'Ag_acet_mass': 14.0, 'Doping%': 1.5238, 'Time': 10.0, 'Temperature': 0.0})),\n",
       " Trial(experiment_name='None', index=54, status=TrialStatus.COMPLETED, arm=Arm(name='54_0', parameters={'Dimension1': 35.66948, 'Dimension2': 9.795, 'Dilution(OD)': 0.1877, 'Nano_stock_vol': 0.5, 'Ag_acet_conc': 0.0007, 'Ag_acet_mass': 14.0, 'Doping%': 0.191, 'Time': 10.0, 'Temperature': 50.0})),\n",
       " Trial(experiment_name='None', index=55, status=TrialStatus.COMPLETED, arm=Arm(name='55_0', parameters={'Dimension1': 30.9282, 'Dimension2': 7.9553, 'Dilution(OD)': 0.1935, 'Nano_stock_vol': 0.25, 'Ag_acet_conc': 0.006, 'Ag_acet_mass': 3.5, 'Doping%': 8.133, 'Time': 180.0, 'Temperature': 50.0})),\n",
       " Trial(experiment_name='None', index=56, status=TrialStatus.COMPLETED, arm=Arm(name='56_0', parameters={'Dimension1': 28.2762, 'Dimension2': 9.0038, 'Dilution(OD)': 0.437, 'Nano_stock_vol': 0.5, 'Ag_acet_conc': 0.006, 'Ag_acet_mass': 14.0, 'Doping%': 6.373548, 'Time': 60.0, 'Temperature': 25.0})),\n",
       " Trial(experiment_name='None', index=57, status=TrialStatus.COMPLETED, arm=Arm(name='57_0', parameters={'Dimension1': 31.1209, 'Dimension2': 7.35795, 'Dilution(OD)': 0.414, 'Nano_stock_vol': 0.5, 'Ag_acet_conc': 0.006, 'Ag_acet_mass': 14.0, 'Doping%': 6.787258, 'Time': 60.0, 'Temperature': 25.0})),\n",
       " Trial(experiment_name='None', index=58, status=TrialStatus.COMPLETED, arm=Arm(name='58_0', parameters={'Dimension1': 33.65365, 'Dimension2': 6.9259, 'Dilution(OD)': 0.45, 'Nano_stock_vol': 0.5, 'Ag_acet_conc': 0.006, 'Ag_acet_mass': 14.0, 'Doping%': 7.068255, 'Time': 60.0, 'Temperature': 25.0})),\n",
       " Trial(experiment_name='None', index=59, status=TrialStatus.COMPLETED, arm=Arm(name='59_0', parameters={'Dimension1': 30.5937, 'Dimension2': 8.8969, 'Dilution(OD)': 0.427, 'Nano_stock_vol': 0.5, 'Ag_acet_conc': 0.006, 'Ag_acet_mass': 14.0, 'Doping%': 6.656585, 'Time': 60.0, 'Temperature': 25.0})),\n",
       " Trial(experiment_name='None', index=60, status=TrialStatus.COMPLETED, arm=Arm(name='60_0', parameters={'Dimension1': 29.5289, 'Dimension2': 8.7368, 'Dilution(OD)': 0.465, 'Nano_stock_vol': 0.5, 'Ag_acet_conc': 0.006, 'Ag_acet_mass': 14.0, 'Doping%': 6.533683, 'Time': 60.0, 'Temperature': 25.0}))]"
      ]
     },
     "execution_count": 33,
     "metadata": {},
     "output_type": "execute_result"
    }
   ],
   "source": [
    "#optimization_config =  {\"f\":ObjectiveProperties(minimize=False)}\n",
    "objective_metric = Metric(name=\"f\", lower_is_better=None)  \n",
    "\n",
    "### Not sure why i have to do this still. It seems to be a way of handling data communitation between the model and the experiment\n",
    "class MyRunner(Runner):\n",
    "    def run(self, trial):\n",
    "        trial_metadata = {\"name\": str(trial.index)}\n",
    "        return trial_metadata\n",
    "\n",
    "# Define the search space based on the ax_parameters\n",
    "# Run the cell of search_space above to have the ax_parameters. Is just easier at this point haha\n",
    "search_space = SearchSpace(\n",
    "    parameters=[\n",
    "        RangeParameter(\n",
    "            name=param[\"name\"], \n",
    "            parameter_type=ParameterType.FLOAT, \n",
    "            lower=float(param[\"bounds\"][0]), \n",
    "            upper=float(param[\"bounds\"][1])\n",
    "        )\n",
    "        if param[\"type\"] == \"range\" else\n",
    "        ChoiceParameter(\n",
    "            name=param[\"name\"],\n",
    "            values=param[\"values\"],\n",
    "            parameter_type=ParameterType.FLOAT\n",
    "        )\n",
    "        for param in ax_parameters\n",
    "    ]\n",
    ")\n",
    "\n",
    "# Define the experiment with the search space\n",
    "#the optimization configuration (the objective and metrics)\n",
    "experiment = Experiment(\n",
    "    #name=\"f\",\n",
    "    search_space=search_space,\n",
    "    optimization_config=OptimizationConfig(objective=Objective(objective_metric, minimize=False)),\n",
    "    runner=MyRunner(),\n",
    ")\n",
    "\n",
    "experiment.warm_start_from_old_experiment(ax_client.generation_strategy.experiment)\n"
   ]
  },
  {
   "cell_type": "markdown",
   "metadata": {},
   "source": [
    "### Data\n"
   ]
  },
  {
   "cell_type": "markdown",
   "metadata": {},
   "source": [
    "Option 1: If you already went through the Service API part.\n"
   ]
  },
  {
   "cell_type": "code",
   "execution_count": 34,
   "metadata": {},
   "outputs": [
    {
     "data": {
      "text/html": [
       "<div>\n",
       "<style scoped>\n",
       "    .dataframe tbody tr th:only-of-type {\n",
       "        vertical-align: middle;\n",
       "    }\n",
       "\n",
       "    .dataframe tbody tr th {\n",
       "        vertical-align: top;\n",
       "    }\n",
       "\n",
       "    .dataframe thead th {\n",
       "        text-align: right;\n",
       "    }\n",
       "</style>\n",
       "<table border=\"1\" class=\"dataframe\">\n",
       "  <thead>\n",
       "    <tr style=\"text-align: right;\">\n",
       "      <th></th>\n",
       "      <th>arm_name</th>\n",
       "      <th>metric_name</th>\n",
       "      <th>mean</th>\n",
       "      <th>sem</th>\n",
       "      <th>trial_index</th>\n",
       "    </tr>\n",
       "  </thead>\n",
       "  <tbody>\n",
       "    <tr>\n",
       "      <th>0</th>\n",
       "      <td>0_0</td>\n",
       "      <td>f</td>\n",
       "      <td>0.092522</td>\n",
       "      <td>NaN</td>\n",
       "      <td>0</td>\n",
       "    </tr>\n",
       "    <tr>\n",
       "      <th>1</th>\n",
       "      <td>1_0</td>\n",
       "      <td>f</td>\n",
       "      <td>0.047810</td>\n",
       "      <td>NaN</td>\n",
       "      <td>1</td>\n",
       "    </tr>\n",
       "    <tr>\n",
       "      <th>2</th>\n",
       "      <td>2_0</td>\n",
       "      <td>f</td>\n",
       "      <td>0.055138</td>\n",
       "      <td>NaN</td>\n",
       "      <td>2</td>\n",
       "    </tr>\n",
       "    <tr>\n",
       "      <th>3</th>\n",
       "      <td>3_0</td>\n",
       "      <td>f</td>\n",
       "      <td>0.017066</td>\n",
       "      <td>NaN</td>\n",
       "      <td>3</td>\n",
       "    </tr>\n",
       "    <tr>\n",
       "      <th>4</th>\n",
       "      <td>4_0</td>\n",
       "      <td>f</td>\n",
       "      <td>0.019219</td>\n",
       "      <td>NaN</td>\n",
       "      <td>4</td>\n",
       "    </tr>\n",
       "    <tr>\n",
       "      <th>...</th>\n",
       "      <td>...</td>\n",
       "      <td>...</td>\n",
       "      <td>...</td>\n",
       "      <td>...</td>\n",
       "      <td>...</td>\n",
       "    </tr>\n",
       "    <tr>\n",
       "      <th>56</th>\n",
       "      <td>56_0</td>\n",
       "      <td>f</td>\n",
       "      <td>0.088896</td>\n",
       "      <td>NaN</td>\n",
       "      <td>56</td>\n",
       "    </tr>\n",
       "    <tr>\n",
       "      <th>57</th>\n",
       "      <td>57_0</td>\n",
       "      <td>f</td>\n",
       "      <td>0.094812</td>\n",
       "      <td>NaN</td>\n",
       "      <td>57</td>\n",
       "    </tr>\n",
       "    <tr>\n",
       "      <th>58</th>\n",
       "      <td>58_0</td>\n",
       "      <td>f</td>\n",
       "      <td>0.117764</td>\n",
       "      <td>NaN</td>\n",
       "      <td>58</td>\n",
       "    </tr>\n",
       "    <tr>\n",
       "      <th>59</th>\n",
       "      <td>59_0</td>\n",
       "      <td>f</td>\n",
       "      <td>0.072906</td>\n",
       "      <td>NaN</td>\n",
       "      <td>59</td>\n",
       "    </tr>\n",
       "    <tr>\n",
       "      <th>60</th>\n",
       "      <td>60_0</td>\n",
       "      <td>f</td>\n",
       "      <td>0.103281</td>\n",
       "      <td>NaN</td>\n",
       "      <td>60</td>\n",
       "    </tr>\n",
       "  </tbody>\n",
       "</table>\n",
       "<p>61 rows × 5 columns</p>\n",
       "</div>"
      ],
      "text/plain": [
       "   arm_name metric_name      mean  sem  trial_index\n",
       "0       0_0           f  0.092522  NaN            0\n",
       "1       1_0           f  0.047810  NaN            1\n",
       "2       2_0           f  0.055138  NaN            2\n",
       "3       3_0           f  0.017066  NaN            3\n",
       "4       4_0           f  0.019219  NaN            4\n",
       "..      ...         ...       ...  ...          ...\n",
       "56     56_0           f  0.088896  NaN           56\n",
       "57     57_0           f  0.094812  NaN           57\n",
       "58     58_0           f  0.117764  NaN           58\n",
       "59     59_0           f  0.072906  NaN           59\n",
       "60     60_0           f  0.103281  NaN           60\n",
       "\n",
       "[61 rows x 5 columns]"
      ]
     },
     "execution_count": 34,
     "metadata": {},
     "output_type": "execute_result"
    }
   ],
   "source": [
    "ax_client.generation_strategy.experiment.fetch_data().df\n",
    "data = ax_client.generation_strategy.experiment.fetch_data() \n",
    "data.df"
   ]
  },
  {
   "cell_type": "markdown",
   "metadata": {},
   "source": [
    "Option 2: If you are only using the Developer API you can add the data manually (learned from https://github.com/facebook/Ax/issues/768)"
   ]
  },
  {
   "cell_type": "code",
   "execution_count": 68,
   "metadata": {},
   "outputs": [
    {
     "data": {
      "text/html": [
       "<div>\n",
       "<style scoped>\n",
       "    .dataframe tbody tr th:only-of-type {\n",
       "        vertical-align: middle;\n",
       "    }\n",
       "\n",
       "    .dataframe tbody tr th {\n",
       "        vertical-align: top;\n",
       "    }\n",
       "\n",
       "    .dataframe thead th {\n",
       "        text-align: right;\n",
       "    }\n",
       "</style>\n",
       "<table border=\"1\" class=\"dataframe\">\n",
       "  <thead>\n",
       "    <tr style=\"text-align: right;\">\n",
       "      <th></th>\n",
       "      <th>arm_name</th>\n",
       "      <th>metric_name</th>\n",
       "      <th>mean</th>\n",
       "      <th>sem</th>\n",
       "      <th>trial_index</th>\n",
       "    </tr>\n",
       "  </thead>\n",
       "  <tbody>\n",
       "    <tr>\n",
       "      <th>51</th>\n",
       "      <td>51_0</td>\n",
       "      <td>f</td>\n",
       "      <td>0.050798</td>\n",
       "      <td>0.0</td>\n",
       "      <td>51</td>\n",
       "    </tr>\n",
       "    <tr>\n",
       "      <th>52</th>\n",
       "      <td>52_0</td>\n",
       "      <td>f</td>\n",
       "      <td>0.045941</td>\n",
       "      <td>0.0</td>\n",
       "      <td>52</td>\n",
       "    </tr>\n",
       "    <tr>\n",
       "      <th>53</th>\n",
       "      <td>53_0</td>\n",
       "      <td>f</td>\n",
       "      <td>0.063292</td>\n",
       "      <td>0.0</td>\n",
       "      <td>53</td>\n",
       "    </tr>\n",
       "    <tr>\n",
       "      <th>54</th>\n",
       "      <td>54_0</td>\n",
       "      <td>f</td>\n",
       "      <td>0.019460</td>\n",
       "      <td>0.0</td>\n",
       "      <td>54</td>\n",
       "    </tr>\n",
       "    <tr>\n",
       "      <th>55</th>\n",
       "      <td>55_0</td>\n",
       "      <td>f</td>\n",
       "      <td>0.049879</td>\n",
       "      <td>0.0</td>\n",
       "      <td>55</td>\n",
       "    </tr>\n",
       "  </tbody>\n",
       "</table>\n",
       "</div>"
      ],
      "text/plain": [
       "   arm_name metric_name      mean  sem  trial_index\n",
       "51     51_0           f  0.050798  0.0           51\n",
       "52     52_0           f  0.045941  0.0           52\n",
       "53     53_0           f  0.063292  0.0           53\n",
       "54     54_0           f  0.019460  0.0           54\n",
       "55     55_0           f  0.049879  0.0           55"
      ]
     },
     "execution_count": 68,
     "metadata": {},
     "output_type": "execute_result"
    }
   ],
   "source": [
    "for i in range(len(modified_features)):\n",
    "    #parameters\n",
    "    start_params = {ax_parameters[j]['name']: modified_features.values[i][j] for j in range(9)} #change this accordingly, this is for 9 features ordered as in the search_space defined above (you better run that cell!)\n",
    "    start_data = Data(\n",
    "        df=pd.DataFrame.from_records([{\"arm_name\": f\"{i}_0\",\n",
    "                                       \"metric_name\":\"f\",\n",
    "                                       \"mean\": train_final_label.values[i],\n",
    "                                       \"sem\": 0.0,\n",
    "                                       \"trial_index\": i}]),\n",
    "    )\n",
    "    trial = experiment.new_trial()\n",
    "    trial.add_arm(Arm(name=f\"{i}_0\", parameters=start_params))\n",
    "    experiment.attach_data(start_data)\n",
    "    trial.run().complete()\n",
    "    \n",
    "experiment.fetch_data().df.tail()"
   ]
  },
  {
   "cell_type": "markdown",
   "metadata": {},
   "source": [
    "### Models and Acquisition Function"
   ]
  },
  {
   "cell_type": "code",
   "execution_count": null,
   "metadata": {},
   "outputs": [],
   "source": [
    "model_bridge_with_GPEI = Models.BOTORCH_MODULAR(\n",
    "    experiment=experiment,\n",
    "    data=experiment.fetch_data(),                     ###if option 1 for Data uncomment this line\n",
    "    surrogate=Surrogate(ExactGPModel1,mll_class=LeaveOneOutPseudoLikelihood),\n",
    "                                   # ),  # Optional, will use default if unspecified\n",
    "    botorch_acqf_class=qExpectedImprovement,  # Optional, will use default if unspecified\n",
    "    #transforms=[StandardizeY(), UnitX()],    # Optional, will use default if unspecified (see Transforms documentation)\n",
    ")\n"
   ]
  },
  {
   "cell_type": "markdown",
   "metadata": {},
   "source": [
    "### And get my new experiments! "
   ]
  },
  {
   "cell_type": "code",
   "execution_count": null,
   "metadata": {},
   "outputs": [
    {
     "name": "stderr",
     "output_type": "stream",
     "text": [
      "/Users/jorgemedina/Desktop/GroupRetreatWinter2024/BOwithAx/.conda/lib/python3.11/site-packages/botorch/optim/initializers.py:432: BadInitialCandidatesWarning:\n",
      "\n",
      "Unable to find non-zero acquisition function values - initial conditions are being selected randomly.\n",
      "\n"
     ]
    },
    {
     "name": "stdout",
     "output_type": "stream",
     "text": [
      "{'Dimension1': 28.2762, 'Dimension2': 9.0038, 'Dilution(OD)': 0.3407447329536081, 'Nano_stock_vol': 0.5, 'Ag_acet_conc': 0.006, 'Ag_acet_mass': 3.5, 'Doping%': 0.5088138650171459, 'Time': 180.0, 'Temperature': 25.0}\n"
     ]
    },
    {
     "name": "stderr",
     "output_type": "stream",
     "text": [
      "/Users/jorgemedina/Desktop/GroupRetreatWinter2024/BOwithAx/.conda/lib/python3.11/site-packages/botorch/optim/initializers.py:432: BadInitialCandidatesWarning:\n",
      "\n",
      "Unable to find non-zero acquisition function values - initial conditions are being selected randomly.\n",
      "\n"
     ]
    },
    {
     "name": "stdout",
     "output_type": "stream",
     "text": [
      "{'Dimension1': 31.1209, 'Dimension2': 7.35795, 'Dilution(OD)': 0.44796180131379515, 'Nano_stock_vol': 0.25, 'Ag_acet_conc': 0.0007, 'Ag_acet_mass': 3.5, 'Doping%': 9.19942325623706, 'Time': 60.0, 'Temperature': 50.0}\n"
     ]
    },
    {
     "name": "stderr",
     "output_type": "stream",
     "text": [
      "/Users/jorgemedina/Desktop/GroupRetreatWinter2024/BOwithAx/.conda/lib/python3.11/site-packages/botorch/optim/initializers.py:432: BadInitialCandidatesWarning:\n",
      "\n",
      "Unable to find non-zero acquisition function values - initial conditions are being selected randomly.\n",
      "\n"
     ]
    },
    {
     "name": "stdout",
     "output_type": "stream",
     "text": [
      "{'Dimension1': 19.83495, 'Dimension2': 14.76195, 'Dilution(OD)': 0.4187722495989874, 'Nano_stock_vol': 0.25, 'Ag_acet_conc': 0.0007, 'Ag_acet_mass': 7.8, 'Doping%': 9.904928831569851, 'Time': 60.0, 'Temperature': 0.0}\n"
     ]
    },
    {
     "name": "stderr",
     "output_type": "stream",
     "text": [
      "/Users/jorgemedina/Desktop/GroupRetreatWinter2024/BOwithAx/.conda/lib/python3.11/site-packages/botorch/optim/initializers.py:432: BadInitialCandidatesWarning:\n",
      "\n",
      "Unable to find non-zero acquisition function values - initial conditions are being selected randomly.\n",
      "\n"
     ]
    },
    {
     "name": "stdout",
     "output_type": "stream",
     "text": [
      "{'Dimension1': 33.65365, 'Dimension2': 6.9259, 'Dilution(OD)': 0.2559261344745755, 'Nano_stock_vol': 0.25, 'Ag_acet_conc': 0.0007, 'Ag_acet_mass': 3.5, 'Doping%': 8.202679619006812, 'Time': 60.0, 'Temperature': 0.0}\n"
     ]
    },
    {
     "name": "stderr",
     "output_type": "stream",
     "text": [
      "/Users/jorgemedina/Desktop/GroupRetreatWinter2024/BOwithAx/.conda/lib/python3.11/site-packages/botorch/optim/initializers.py:432: BadInitialCandidatesWarning:\n",
      "\n",
      "Unable to find non-zero acquisition function values - initial conditions are being selected randomly.\n",
      "\n"
     ]
    },
    {
     "name": "stdout",
     "output_type": "stream",
     "text": [
      "{'Dimension1': 30.5937, 'Dimension2': 8.8969, 'Dilution(OD)': 0.3130220993142575, 'Nano_stock_vol': 0.25, 'Ag_acet_conc': 0.006, 'Ag_acet_mass': 3.5, 'Doping%': 6.890265372861177, 'Time': 10.0, 'Temperature': 50.0}\n",
      "{'Dimension1': 29.5289, 'Dimension2': 8.7368, 'Dilution(OD)': 0.4527065884647891, 'Nano_stock_vol': 0.5, 'Ag_acet_conc': 0.0007, 'Ag_acet_mass': 14.0, 'Doping%': 8.941820261348038, 'Time': 60.0, 'Temperature': 0.0}\n"
     ]
    },
    {
     "name": "stderr",
     "output_type": "stream",
     "text": [
      "/Users/jorgemedina/Desktop/GroupRetreatWinter2024/BOwithAx/.conda/lib/python3.11/site-packages/botorch/optim/initializers.py:432: BadInitialCandidatesWarning:\n",
      "\n",
      "Unable to find non-zero acquisition function values - initial conditions are being selected randomly.\n",
      "\n"
     ]
    }
   ],
   "source": [
    "### Assuming the NPL synthesized in the lab has Dimension1 = 27.5728 and Dimension2 = 8.1029\n",
    "### We can generate a new trial with these values fixed, so that the model can optimize the acquisition function for the remaining variables\n",
    "Dimension1 = [28.2762,31.1209,19.83495,33.65365,30.5937,29.5289]\n",
    "Dimension2 = [9.0038,7.35795,14.76195,6.9259,8.8969,8.7368]\n",
    "for i in range(6):\n",
    "    generator_run = model_bridge_with_GPEI.gen(n=1,fixed_features=ObservationFeatures({'Dimension1':Dimension1[i],'Dimension2':Dimension2[i]}))\n",
    "    trial = experiment.new_trial(generator_run=generator_run)\n",
    "    print(trial.arms[0].parameters)\n"
   ]
  },
  {
   "cell_type": "code",
   "execution_count": null,
   "metadata": {},
   "outputs": [
    {
     "data": {
      "text/html": [
       "<div>\n",
       "<style scoped>\n",
       "    .dataframe tbody tr th:only-of-type {\n",
       "        vertical-align: middle;\n",
       "    }\n",
       "\n",
       "    .dataframe tbody tr th {\n",
       "        vertical-align: top;\n",
       "    }\n",
       "\n",
       "    .dataframe thead th {\n",
       "        text-align: right;\n",
       "    }\n",
       "</style>\n",
       "<table border=\"1\" class=\"dataframe\">\n",
       "  <thead>\n",
       "    <tr style=\"text-align: right;\">\n",
       "      <th></th>\n",
       "      <th>Dimension1</th>\n",
       "      <th>Dimension2</th>\n",
       "      <th>Dilution(OD)</th>\n",
       "      <th>Nano_stock_vol</th>\n",
       "      <th>Ag_acet_conc</th>\n",
       "      <th>Ag_acet_mass</th>\n",
       "      <th>Doping%</th>\n",
       "      <th>Time</th>\n",
       "      <th>Temperature</th>\n",
       "    </tr>\n",
       "  </thead>\n",
       "  <tbody>\n",
       "    <tr>\n",
       "      <th>0</th>\n",
       "      <td>28.27620</td>\n",
       "      <td>9.00380</td>\n",
       "      <td>0.419970</td>\n",
       "      <td>0.50</td>\n",
       "      <td>0.006</td>\n",
       "      <td>14.0</td>\n",
       "      <td>6.373548</td>\n",
       "      <td>60.0</td>\n",
       "      <td>25.0</td>\n",
       "    </tr>\n",
       "    <tr>\n",
       "      <th>1</th>\n",
       "      <td>31.12090</td>\n",
       "      <td>7.35795</td>\n",
       "      <td>0.419978</td>\n",
       "      <td>0.50</td>\n",
       "      <td>0.006</td>\n",
       "      <td>14.0</td>\n",
       "      <td>6.787258</td>\n",
       "      <td>60.0</td>\n",
       "      <td>25.0</td>\n",
       "    </tr>\n",
       "    <tr>\n",
       "      <th>2</th>\n",
       "      <td>19.83495</td>\n",
       "      <td>14.76195</td>\n",
       "      <td>0.161687</td>\n",
       "      <td>0.25</td>\n",
       "      <td>0.006</td>\n",
       "      <td>7.8</td>\n",
       "      <td>0.100000</td>\n",
       "      <td>60.0</td>\n",
       "      <td>25.0</td>\n",
       "    </tr>\n",
       "    <tr>\n",
       "      <th>3</th>\n",
       "      <td>33.65365</td>\n",
       "      <td>6.92590</td>\n",
       "      <td>0.419985</td>\n",
       "      <td>0.50</td>\n",
       "      <td>0.006</td>\n",
       "      <td>14.0</td>\n",
       "      <td>7.068255</td>\n",
       "      <td>60.0</td>\n",
       "      <td>25.0</td>\n",
       "    </tr>\n",
       "    <tr>\n",
       "      <th>4</th>\n",
       "      <td>30.59370</td>\n",
       "      <td>8.89690</td>\n",
       "      <td>0.419976</td>\n",
       "      <td>0.50</td>\n",
       "      <td>0.006</td>\n",
       "      <td>14.0</td>\n",
       "      <td>6.656585</td>\n",
       "      <td>60.0</td>\n",
       "      <td>25.0</td>\n",
       "    </tr>\n",
       "    <tr>\n",
       "      <th>5</th>\n",
       "      <td>29.52890</td>\n",
       "      <td>8.73680</td>\n",
       "      <td>0.419974</td>\n",
       "      <td>0.50</td>\n",
       "      <td>0.006</td>\n",
       "      <td>14.0</td>\n",
       "      <td>6.533683</td>\n",
       "      <td>60.0</td>\n",
       "      <td>25.0</td>\n",
       "    </tr>\n",
       "  </tbody>\n",
       "</table>\n",
       "</div>"
      ],
      "text/plain": [
       "   Dimension1  Dimension2  Dilution(OD)  Nano_stock_vol  Ag_acet_conc  \\\n",
       "0    28.27620     9.00380      0.419970            0.50         0.006   \n",
       "1    31.12090     7.35795      0.419978            0.50         0.006   \n",
       "2    19.83495    14.76195      0.161687            0.25         0.006   \n",
       "3    33.65365     6.92590      0.419985            0.50         0.006   \n",
       "4    30.59370     8.89690      0.419976            0.50         0.006   \n",
       "5    29.52890     8.73680      0.419974            0.50         0.006   \n",
       "\n",
       "   Ag_acet_mass   Doping%  Time  Temperature  \n",
       "0          14.0  6.373548  60.0         25.0  \n",
       "1          14.0  6.787258  60.0         25.0  \n",
       "2           7.8  0.100000  60.0         25.0  \n",
       "3          14.0  7.068255  60.0         25.0  \n",
       "4          14.0  6.656585  60.0         25.0  \n",
       "5          14.0  6.533683  60.0         25.0  "
      ]
     },
     "execution_count": 76,
     "metadata": {},
     "output_type": "execute_result"
    }
   ],
   "source": [
    "#printing example points here!\n",
    "\n",
    "Dicts = [{'Dimension1': 28.2762, 'Dimension2': 9.0038, 'Dilution(OD)': 0.4199703258638433, 'Nano_stock_vol': 0.5, 'Ag_acet_conc': 0.006, 'Ag_acet_mass': 14.0, 'Doping%': 6.3735484716860284, 'Time': 60.0, 'Temperature': 25.0},\n",
    "{'Dimension1': 31.1209, 'Dimension2': 7.35795, 'Dilution(OD)': 0.4199778829724932, 'Nano_stock_vol': 0.5, 'Ag_acet_conc': 0.006, 'Ag_acet_mass': 14.0, 'Doping%': 6.787258467581365, 'Time': 60.0, 'Temperature': 25.0},\n",
    "{'Dimension1': 19.83495, 'Dimension2': 14.76195, 'Dilution(OD)': 0.161686962165096, 'Nano_stock_vol': 0.25, 'Ag_acet_conc': 0.006, 'Ag_acet_mass': 7.8, 'Doping%': 0.1, 'Time': 60.0, 'Temperature': 25.0},\n",
    "{'Dimension1': 33.65365, 'Dimension2': 6.9259, 'Dilution(OD)': 0.41998468561511876, 'Nano_stock_vol': 0.5, 'Ag_acet_conc': 0.006, 'Ag_acet_mass': 14.0, 'Doping%': 7.068254874826644, 'Time': 60.0, 'Temperature': 25.0},\n",
    "{'Dimension1': 30.5937, 'Dimension2': 8.8969, 'Dilution(OD)': 0.4199756072367738, 'Nano_stock_vol': 0.5, 'Ag_acet_conc': 0.006, 'Ag_acet_mass': 14.0, 'Doping%': 6.656585081369508, 'Time': 60.0, 'Temperature': 25.0},\n",
    "{'Dimension1': 29.5289, 'Dimension2': 8.7368, 'Dilution(OD)': 0.4199738443088641, 'Nano_stock_vol': 0.5, 'Ag_acet_conc': 0.006, 'Ag_acet_mass': 14.0, 'Doping%': 6.533683336863181, 'Time': 60.0, 'Temperature': 25.0}]\n",
    "\n",
    "#print them nicely in a nice table:\n",
    "pd.DataFrame(Dicts)"
   ]
  },
  {
   "cell_type": "code",
   "execution_count": null,
   "metadata": {},
   "outputs": [
    {
     "data": {
      "text/plain": [
       "Trial(experiment_name='test_f', index=102, status=TrialStatus.COMPLETED, arm=Arm(name='102_0', parameters={'Dimension1': 27.5728, 'Dimension2': 8.1029, 'Dilution(OD)': 0.40492337655113503, 'Nano_stock_vol': 0.25, 'Ag_acet_conc': 0.006, 'Ag_acet_mass': 14.0, 'Doping%': 10.0, 'Time': 60.0, 'Temperature': 50.0}))"
      ]
     },
     "execution_count": 39,
     "metadata": {},
     "output_type": "execute_result"
    }
   ],
   "source": [
    "trial.run().complete()"
   ]
  }
 ],
 "metadata": {
  "kernelspec": {
   "display_name": "BOL_shap",
   "language": "python",
   "name": "python3"
  },
  "language_info": {
   "codemirror_mode": {
    "name": "ipython",
    "version": 3
   },
   "file_extension": ".py",
   "mimetype": "text/x-python",
   "name": "python",
   "nbconvert_exporter": "python",
   "pygments_lexer": "ipython3",
   "version": "3.11.10"
  }
 },
 "nbformat": 4,
 "nbformat_minor": 2
}
