{
 "cells": [
  {
   "cell_type": "code",
   "execution_count": 1,
   "metadata": {},
   "outputs": [
    {
     "name": "stderr",
     "output_type": "stream",
     "text": [
      "/Users/maykcaldas/miniconda3/envs/doe/lib/python3.10/site-packages/tqdm/auto.py:21: TqdmWarning: IProgress not found. Please update jupyter and ipywidgets. See https://ipywidgets.readthedocs.io/en/stable/user_install.html\n",
      "  from .autonotebook import tqdm as notebook_tqdm\n"
     ]
    }
   ],
   "source": [
    "import bolift\n",
    "import pandas as pd\n",
    "import numpy as np\n",
    "import cloudpickle"
   ]
  },
  {
   "cell_type": "code",
   "execution_count": 2,
   "metadata": {},
   "outputs": [],
   "source": [
    "import matplotlib.pyplot as plt\n",
    "import matplotlib.font_manager as font_manager\n",
    "import urllib.request\n",
    "\n",
    "urllib.request.urlretrieve(\n",
    "    \"https://github.com/google/fonts/raw/main/ofl/ibmplexmono/IBMPlexMono-Regular.ttf\",\n",
    "    \"IBMPlexMono-Regular.ttf\",\n",
    ")\n",
    "fe = font_manager.FontEntry(fname=\"IBMPlexMono-Regular.ttf\", name=\"plexmono\")\n",
    "font_manager.fontManager.ttflist.append(fe)\n",
    "plt.rcParams.update(\n",
    "    {\n",
    "        \"axes.facecolor\": \"#f5f4e9\",\n",
    "        \"grid.color\": \"#AAAAAA\",\n",
    "        \"axes.edgecolor\": \"#333333\",\n",
    "        \"figure.facecolor\": \"#FFFFFF\",\n",
    "        \"axes.grid\": False,\n",
    "        \"axes.prop_cycle\": plt.cycler(\"color\", plt.cm.Dark2.colors),\n",
    "        \"font.family\": fe.name,\n",
    "        \"figure.figsize\": (5.0, 5.0 / 1.2),\n",
    "        \"ytick.left\": True,\n",
    "        \"xtick.bottom\": True,\n",
    "    }\n",
    ")\n",
    "\n",
    "import random\n",
    "\n",
    "np.random.seed(0)\n",
    "random.seed(0)"
   ]
  },
  {
   "cell_type": "markdown",
   "metadata": {},
   "source": [
    "# RF baseline"
   ]
  },
  {
   "cell_type": "markdown",
   "metadata": {},
   "source": [
    "## Experiment outputs"
   ]
  },
  {
   "cell_type": "code",
   "execution_count": null,
   "metadata": {},
   "outputs": [],
   "source": [
    "df = pd.read_csv('Data/processed_data.csv')\n",
    "df.drop(['OD'], axis=1, inplace=True)\n",
    "df.groupby(['Temperature(C)', 'Doping(%)', 'Time(min)']).count()"
   ]
  },
  {
   "cell_type": "code",
   "execution_count": null,
   "metadata": {},
   "outputs": [],
   "source": [
    "index = df.keys().tolist().index('Experiment')\n",
    "features = df.keys()[:index]\n",
    "labels = df.keys()[index+1:-6]\n",
    "features, labels\n"
   ]
  },
  {
   "cell_type": "code",
   "execution_count": null,
   "metadata": {},
   "outputs": [],
   "source": [
    "from xgboost import XGBRegressor\n",
    "from sklearn.metrics import mean_absolute_error\n",
    "from sklearn.model_selection import train_test_split\n",
    "\n",
    "def train_model(train, test):\n",
    "    model = XGBRegressor(\n",
    "    eval_metric=mean_absolute_error \n",
    "    )\n",
    "\n",
    "    X_train, y_train = train\n",
    "    X_test, y_test = test\n",
    "    model.fit(X_train, y_train, eval_set=[(X_test, y_test)], early_stopping_rounds=5)\n",
    "    \n",
    "    return model\n",
    "\n",
    "models = {}\n",
    "train_df, test_df = train_test_split(df, test_size=0.2, random_state=42)\n",
    "\n",
    "print(train_df.keys())\n",
    "\n",
    "for i, k in enumerate(labels):\n",
    "    # print(k, i, labels[i])\n",
    "    train = (train_df[features], train_df[labels[i]])\n",
    "    test = (test_df[features], test_df[labels[i]])\n",
    "    models[k] = train_model(train, test)\n",
    "\n",
    "    "
   ]
  },
  {
   "cell_type": "code",
   "execution_count": null,
   "metadata": {},
   "outputs": [],
   "source": [
    "k = 0\n",
    "sample = test_df.iloc[k:k+1]\n",
    "feats = sample[features]\n",
    "labs = sample[labels]\n",
    "\n",
    "def rmse(a, b):\n",
    "    return np.sqrt(np.mean((a - b)**2))\n",
    "\n",
    "for k in labels:\n",
    "    # print(k, rmse(models[k].predict(feats), labs[k].values))\n",
    "    print(k, models[k].predict(feats), labs[k].values)\n",
    "\n",
    "w = [float(a) for a in sample.iloc[0]['Fl_Wavelengths'][1:-1].split(',')]\n",
    "i = [float(a) for a in sample.iloc[0]['Fluorescence_norm'][1:-1].split(',')]\n",
    "\n",
    "# plt.figure(figsize=(6, 4))\n",
    "plt.plot(w, i, color=\"C0\", label=\"Reference\")\n",
    "# plt.title(f\"{sample.iloc[0]['Experiment']}: {sample.iloc[0]['Temperature(C)']}°C, {sample.iloc[0]['Doping(%)']}%, {sample.iloc[0]['Time(min)']}min\")\n",
    "plt.title(f\"XGBoost Model Prediction: Spectra Metrics\")\n",
    "plt.axvline(x = models['Peak1'].predict(sample[features]), color = 'C1', linestyle = '--', label = 'Peak1')\n",
    "plt.axvline(x = models['Peak2'].predict(sample[features]), color = 'C3', linestyle = '--', label = 'Peak2')\n",
    "# change plt figsize\n",
    "plt.xlabel(\"Wavelength (nm)\")\n",
    "plt.ylabel(\"Normalized fluorescence (a.u.)\")\n",
    "plt.tight_layout()\n",
    "plt.legend()\n",
    "plt.show()"
   ]
  },
  {
   "cell_type": "code",
   "execution_count": null,
   "metadata": {},
   "outputs": [],
   "source": []
  },
  {
   "cell_type": "markdown",
   "metadata": {},
   "source": [
    "## Spectra output"
   ]
  },
  {
   "cell_type": "code",
   "execution_count": null,
   "metadata": {},
   "outputs": [],
   "source": [
    "df = pd.read_csv('Data/fl_spectra_data.csv')\n",
    "df.drop(['OD'], axis=1, inplace=True)\n",
    "df.groupby(['Experiment', 'Temperature(C)', 'Doping(%)', 'Time(min)']).count()"
   ]
  },
  {
   "cell_type": "code",
   "execution_count": null,
   "metadata": {},
   "outputs": [],
   "source": [
    "index = df.keys().tolist().index('Experiment')\n",
    "features = list(df.keys()[:index]) + ['Wavelength(nm)']\n",
    "labels = ['Fluorescence_norm']\n",
    "features, labels"
   ]
  },
  {
   "cell_type": "code",
   "execution_count": 9,
   "metadata": {},
   "outputs": [],
   "source": [
    "from xgboost import XGBRegressor\n",
    "from sklearn.metrics import mean_absolute_error\n",
    "\n",
    "def train_model(train, test):\n",
    "    model = XGBRegressor(\n",
    "    eval_metric=mean_absolute_error \n",
    "    )\n",
    "    \n",
    "    X_train, y_train = train[train.columns.difference(['Fluorescence', 'Fluorescence_norm'])], train['Fluorescence_norm']\n",
    "    X_test, y_test = test[test.columns.difference(['Fluorescence', 'Fluorescence_norm'])], test['Fluorescence_norm']\n",
    "    model.fit(X_train, y_train, eval_set=[(X_test, y_test)], early_stopping_rounds=5)\n",
    "    \n",
    "    return model\n",
    "\n",
    "def test_model(model, validation):\n",
    "    val_feats = validation[validation.columns.difference(['Fluorescence', 'Fluorescence_norm'])]\n",
    "    val_labels = validation[\"Fluorescence_norm\"]\n",
    "\n",
    "    pred = model.predict(val_feats)\n",
    "    return (pred, val_labels.to_numpy(), val_feats['Wavelength(nm)'].to_numpy())"
   ]
  },
  {
   "cell_type": "code",
   "execution_count": 23,
   "metadata": {},
   "outputs": [
    {
     "ename": "KeyError",
     "evalue": "'Experiment'",
     "output_type": "error",
     "traceback": [
      "\u001b[0;31m---------------------------------------------------------------------------\u001b[0m",
      "\u001b[0;31mKeyError\u001b[0m                                  Traceback (most recent call last)",
      "Cell \u001b[0;32mIn[23], line 5\u001b[0m\n\u001b[1;32m      3\u001b[0m one_out \u001b[38;5;241m=\u001b[39m []\n\u001b[1;32m      4\u001b[0m i\u001b[38;5;241m=\u001b[39m\u001b[38;5;241m0\u001b[39m\n\u001b[0;32m----> 5\u001b[0m \u001b[38;5;28;01mfor\u001b[39;00m group, validation \u001b[38;5;129;01min\u001b[39;00m \u001b[43mdf\u001b[49m\u001b[38;5;241;43m.\u001b[39;49m\u001b[43mgroupby\u001b[49m\u001b[43m(\u001b[49m\u001b[43m[\u001b[49m\u001b[38;5;124;43m'\u001b[39;49m\u001b[38;5;124;43mExperiment\u001b[39;49m\u001b[38;5;124;43m'\u001b[39;49m\u001b[43m,\u001b[49m\u001b[43m \u001b[49m\u001b[38;5;124;43m'\u001b[39;49m\u001b[38;5;124;43mTemperature(C)\u001b[39;49m\u001b[38;5;124;43m'\u001b[39;49m\u001b[43m,\u001b[49m\u001b[43m \u001b[49m\u001b[38;5;124;43m'\u001b[39;49m\u001b[38;5;124;43mDoping(\u001b[39;49m\u001b[38;5;124;43m%\u001b[39;49m\u001b[38;5;124;43m)\u001b[39;49m\u001b[38;5;124;43m'\u001b[39;49m\u001b[43m,\u001b[49m\u001b[43m \u001b[49m\u001b[38;5;124;43m'\u001b[39;49m\u001b[38;5;124;43mTime(min)\u001b[39;49m\u001b[38;5;124;43m'\u001b[39;49m\u001b[43m]\u001b[49m\u001b[43m)\u001b[49m:\n\u001b[1;32m      6\u001b[0m     data \u001b[38;5;241m=\u001b[39m df\u001b[38;5;241m.\u001b[39mcopy()\n\u001b[1;32m      7\u001b[0m     exp, T, d, t \u001b[38;5;241m=\u001b[39m group\n",
      "File \u001b[0;32m~/miniconda3/envs/doe/lib/python3.10/site-packages/pandas/core/frame.py:9183\u001b[0m, in \u001b[0;36mDataFrame.groupby\u001b[0;34m(self, by, axis, level, as_index, sort, group_keys, observed, dropna)\u001b[0m\n\u001b[1;32m   9180\u001b[0m \u001b[38;5;28;01mif\u001b[39;00m level \u001b[38;5;129;01mis\u001b[39;00m \u001b[38;5;28;01mNone\u001b[39;00m \u001b[38;5;129;01mand\u001b[39;00m by \u001b[38;5;129;01mis\u001b[39;00m \u001b[38;5;28;01mNone\u001b[39;00m:\n\u001b[1;32m   9181\u001b[0m     \u001b[38;5;28;01mraise\u001b[39;00m \u001b[38;5;167;01mTypeError\u001b[39;00m(\u001b[38;5;124m\"\u001b[39m\u001b[38;5;124mYou have to supply one of \u001b[39m\u001b[38;5;124m'\u001b[39m\u001b[38;5;124mby\u001b[39m\u001b[38;5;124m'\u001b[39m\u001b[38;5;124m and \u001b[39m\u001b[38;5;124m'\u001b[39m\u001b[38;5;124mlevel\u001b[39m\u001b[38;5;124m'\u001b[39m\u001b[38;5;124m\"\u001b[39m)\n\u001b[0;32m-> 9183\u001b[0m \u001b[38;5;28;01mreturn\u001b[39;00m \u001b[43mDataFrameGroupBy\u001b[49m\u001b[43m(\u001b[49m\n\u001b[1;32m   9184\u001b[0m \u001b[43m    \u001b[49m\u001b[43mobj\u001b[49m\u001b[38;5;241;43m=\u001b[39;49m\u001b[38;5;28;43mself\u001b[39;49m\u001b[43m,\u001b[49m\n\u001b[1;32m   9185\u001b[0m \u001b[43m    \u001b[49m\u001b[43mkeys\u001b[49m\u001b[38;5;241;43m=\u001b[39;49m\u001b[43mby\u001b[49m\u001b[43m,\u001b[49m\n\u001b[1;32m   9186\u001b[0m \u001b[43m    \u001b[49m\u001b[43maxis\u001b[49m\u001b[38;5;241;43m=\u001b[39;49m\u001b[43maxis\u001b[49m\u001b[43m,\u001b[49m\n\u001b[1;32m   9187\u001b[0m \u001b[43m    \u001b[49m\u001b[43mlevel\u001b[49m\u001b[38;5;241;43m=\u001b[39;49m\u001b[43mlevel\u001b[49m\u001b[43m,\u001b[49m\n\u001b[1;32m   9188\u001b[0m \u001b[43m    \u001b[49m\u001b[43mas_index\u001b[49m\u001b[38;5;241;43m=\u001b[39;49m\u001b[43mas_index\u001b[49m\u001b[43m,\u001b[49m\n\u001b[1;32m   9189\u001b[0m \u001b[43m    \u001b[49m\u001b[43msort\u001b[49m\u001b[38;5;241;43m=\u001b[39;49m\u001b[43msort\u001b[49m\u001b[43m,\u001b[49m\n\u001b[1;32m   9190\u001b[0m \u001b[43m    \u001b[49m\u001b[43mgroup_keys\u001b[49m\u001b[38;5;241;43m=\u001b[39;49m\u001b[43mgroup_keys\u001b[49m\u001b[43m,\u001b[49m\n\u001b[1;32m   9191\u001b[0m \u001b[43m    \u001b[49m\u001b[43mobserved\u001b[49m\u001b[38;5;241;43m=\u001b[39;49m\u001b[43mobserved\u001b[49m\u001b[43m,\u001b[49m\n\u001b[1;32m   9192\u001b[0m \u001b[43m    \u001b[49m\u001b[43mdropna\u001b[49m\u001b[38;5;241;43m=\u001b[39;49m\u001b[43mdropna\u001b[49m\u001b[43m,\u001b[49m\n\u001b[1;32m   9193\u001b[0m \u001b[43m\u001b[49m\u001b[43m)\u001b[49m\n",
      "File \u001b[0;32m~/miniconda3/envs/doe/lib/python3.10/site-packages/pandas/core/groupby/groupby.py:1329\u001b[0m, in \u001b[0;36mGroupBy.__init__\u001b[0;34m(self, obj, keys, axis, level, grouper, exclusions, selection, as_index, sort, group_keys, observed, dropna)\u001b[0m\n\u001b[1;32m   1326\u001b[0m \u001b[38;5;28mself\u001b[39m\u001b[38;5;241m.\u001b[39mdropna \u001b[38;5;241m=\u001b[39m dropna\n\u001b[1;32m   1328\u001b[0m \u001b[38;5;28;01mif\u001b[39;00m grouper \u001b[38;5;129;01mis\u001b[39;00m \u001b[38;5;28;01mNone\u001b[39;00m:\n\u001b[0;32m-> 1329\u001b[0m     grouper, exclusions, obj \u001b[38;5;241m=\u001b[39m \u001b[43mget_grouper\u001b[49m\u001b[43m(\u001b[49m\n\u001b[1;32m   1330\u001b[0m \u001b[43m        \u001b[49m\u001b[43mobj\u001b[49m\u001b[43m,\u001b[49m\n\u001b[1;32m   1331\u001b[0m \u001b[43m        \u001b[49m\u001b[43mkeys\u001b[49m\u001b[43m,\u001b[49m\n\u001b[1;32m   1332\u001b[0m \u001b[43m        \u001b[49m\u001b[43maxis\u001b[49m\u001b[38;5;241;43m=\u001b[39;49m\u001b[43maxis\u001b[49m\u001b[43m,\u001b[49m\n\u001b[1;32m   1333\u001b[0m \u001b[43m        \u001b[49m\u001b[43mlevel\u001b[49m\u001b[38;5;241;43m=\u001b[39;49m\u001b[43mlevel\u001b[49m\u001b[43m,\u001b[49m\n\u001b[1;32m   1334\u001b[0m \u001b[43m        \u001b[49m\u001b[43msort\u001b[49m\u001b[38;5;241;43m=\u001b[39;49m\u001b[43msort\u001b[49m\u001b[43m,\u001b[49m\n\u001b[1;32m   1335\u001b[0m \u001b[43m        \u001b[49m\u001b[43mobserved\u001b[49m\u001b[38;5;241;43m=\u001b[39;49m\u001b[38;5;28;43;01mFalse\u001b[39;49;00m\u001b[43m \u001b[49m\u001b[38;5;28;43;01mif\u001b[39;49;00m\u001b[43m \u001b[49m\u001b[43mobserved\u001b[49m\u001b[43m \u001b[49m\u001b[38;5;129;43;01mis\u001b[39;49;00m\u001b[43m \u001b[49m\u001b[43mlib\u001b[49m\u001b[38;5;241;43m.\u001b[39;49m\u001b[43mno_default\u001b[49m\u001b[43m \u001b[49m\u001b[38;5;28;43;01melse\u001b[39;49;00m\u001b[43m \u001b[49m\u001b[43mobserved\u001b[49m\u001b[43m,\u001b[49m\n\u001b[1;32m   1336\u001b[0m \u001b[43m        \u001b[49m\u001b[43mdropna\u001b[49m\u001b[38;5;241;43m=\u001b[39;49m\u001b[38;5;28;43mself\u001b[39;49m\u001b[38;5;241;43m.\u001b[39;49m\u001b[43mdropna\u001b[49m\u001b[43m,\u001b[49m\n\u001b[1;32m   1337\u001b[0m \u001b[43m    \u001b[49m\u001b[43m)\u001b[49m\n\u001b[1;32m   1339\u001b[0m \u001b[38;5;28;01mif\u001b[39;00m observed \u001b[38;5;129;01mis\u001b[39;00m lib\u001b[38;5;241m.\u001b[39mno_default:\n\u001b[1;32m   1340\u001b[0m     \u001b[38;5;28;01mif\u001b[39;00m \u001b[38;5;28many\u001b[39m(ping\u001b[38;5;241m.\u001b[39m_passed_categorical \u001b[38;5;28;01mfor\u001b[39;00m ping \u001b[38;5;129;01min\u001b[39;00m grouper\u001b[38;5;241m.\u001b[39mgroupings):\n",
      "File \u001b[0;32m~/miniconda3/envs/doe/lib/python3.10/site-packages/pandas/core/groupby/grouper.py:1043\u001b[0m, in \u001b[0;36mget_grouper\u001b[0;34m(obj, key, axis, level, sort, observed, validate, dropna)\u001b[0m\n\u001b[1;32m   1041\u001b[0m         in_axis, level, gpr \u001b[38;5;241m=\u001b[39m \u001b[38;5;28;01mFalse\u001b[39;00m, gpr, \u001b[38;5;28;01mNone\u001b[39;00m\n\u001b[1;32m   1042\u001b[0m     \u001b[38;5;28;01melse\u001b[39;00m:\n\u001b[0;32m-> 1043\u001b[0m         \u001b[38;5;28;01mraise\u001b[39;00m \u001b[38;5;167;01mKeyError\u001b[39;00m(gpr)\n\u001b[1;32m   1044\u001b[0m \u001b[38;5;28;01melif\u001b[39;00m \u001b[38;5;28misinstance\u001b[39m(gpr, Grouper) \u001b[38;5;129;01mand\u001b[39;00m gpr\u001b[38;5;241m.\u001b[39mkey \u001b[38;5;129;01mis\u001b[39;00m \u001b[38;5;129;01mnot\u001b[39;00m \u001b[38;5;28;01mNone\u001b[39;00m:\n\u001b[1;32m   1045\u001b[0m     \u001b[38;5;66;03m# Add key to exclusions\u001b[39;00m\n\u001b[1;32m   1046\u001b[0m     exclusions\u001b[38;5;241m.\u001b[39madd(gpr\u001b[38;5;241m.\u001b[39mkey)\n",
      "\u001b[0;31mKeyError\u001b[0m: 'Experiment'"
     ]
    }
   ],
   "source": [
    "from sklearn.model_selection import train_test_split\n",
    "\n",
    "one_out = []\n",
    "i=0\n",
    "for group, validation in df.groupby(['Experiment', 'Temperature(C)', 'Doping(%)', 'Time(min)']):\n",
    "    data = df.copy()\n",
    "    exp, T, d, t = group\n",
    "    validation = validation[features + labels]\n",
    "\n",
    "    # validation = data.query(\n",
    "    #     f'`Temperature(C)` == {T} & `Doping(%)` == {d} & `Time` == {t}'\n",
    "    # )\n",
    "    train_df = data.drop(validation.index)\n",
    "    train, test = train_test_split(train_df[features + labels], test_size=0.2, random_state=42)\n",
    "\n",
    "    model = train_model(train, test)\n",
    "\n",
    "    prediction = test_model(model, validation)\n",
    "    one_out.append((group, prediction))\n"
   ]
  },
  {
   "cell_type": "code",
   "execution_count": null,
   "metadata": {},
   "outputs": [],
   "source": [
    "import matplotlib.pyplot as plt\n",
    "import seaborn as sns\n",
    "\n",
    "fig, axs = plt.subplots(1, 4, figsize=(16, 4))\n",
    "i=0\n",
    "for group, predictions in one_out:\n",
    "    axs = axs.flatten()\n",
    "    exp, T, d, t = group\n",
    "    if exp not in [\"8_NPL-13_(3-8-23)\", \"7_NPL-12_(3-8-23)\"] or T != 0.0 or t != 60:\n",
    "        continue\n",
    "    # title = f\"{exp}: T: {T}ºC, Doping: {d}%, Time: {t}min\"\n",
    "    title = f\"Doping: {d}%\"\n",
    "\n",
    "    if i == 0:\n",
    "        axs[i].plot(predictions[2], predictions[0], color=\"C0\", label='Prediction')\n",
    "        axs[i].plot(predictions[2], predictions[1], color=\"C1\", label='labels')\n",
    "    else:\n",
    "        axs[i].plot(predictions[2], predictions[0], color=\"C0\")\n",
    "        axs[i].plot(predictions[2], predictions[1], color=\"C1\")\n",
    "    axs[i].set_title(title)\n",
    "\n",
    "    i+=1 \n",
    "    # plt.savefig(f'preds/{group}.png')\n",
    "fig.legend(loc='center', bbox_to_anchor=(0.5,0), fancybox=True, shadow=True, ncol=2)\n",
    "fig.suptitle(f\"7_NPL-12_(3-8-23) and 8_NPL-13_(3-8-23): T: 25 ºC, Time: 60 min\")\n",
    "plt.legend()\n",
    "plt.show()\n"
   ]
  },
  {
   "cell_type": "code",
   "execution_count": null,
   "metadata": {},
   "outputs": [],
   "source": [
    "import matplotlib.pyplot as plt\n",
    "import seaborn as sns\n",
    "\n",
    "i=0\n",
    "for group, predictions in one_out:\n",
    "    if i == 0:\n",
    "        exp, T, d, t = group\n",
    "        title = f\"{exp}: T: {T}ºC, Doping: {d}%, Time: {t}min\"\n",
    "        plt.figure()\n",
    "        sns.lineplot(x=predictions[2], y=predictions[1], label='Reference')\n",
    "        sns.lineplot(x=predictions[2], y=predictions[0], label='Prediction')\n",
    "        plt.legend()\n",
    "        # plt.savefig(f'preds/{group}.png')\n",
    "        fig.legend(loc='center', bbox_to_anchor=(0.5,0), fancybox=True, shadow=True, ncol=2)\n",
    "        # plt.title(title)\n",
    "        plt.title(\"XGBoost Model Prediction: Entire Spectra\")\n",
    "        plt.legend()\n",
    "        plt.xlabel(\"Wavelength (nm)\")\n",
    "        plt.ylabel(\"Normalized fluorescence (a.u.)\")\n",
    "        plt.tight_layout()\n",
    "        plt.show()\n",
    "    i += 1\n",
    "\n"
   ]
  },
  {
   "cell_type": "markdown",
   "metadata": {},
   "source": [
    "### Evaluate predictions"
   ]
  },
  {
   "cell_type": "code",
   "execution_count": 13,
   "metadata": {},
   "outputs": [],
   "source": [
    "import numpy as np \n",
    "\n",
    "def _get_peaks(x, y):\n",
    "    peaks = []\n",
    "    th = 0.001\n",
    "    for i in range(1, len(x)-1):\n",
    "        if y[i] > y[i-1]+th and y[i] > y[i+1]+th:\n",
    "            peaks.append((x[i], y[i]))\n",
    "    return peaks\n",
    "\n",
    "def get_peaks(x, y):\n",
    "    x = np.array(x)\n",
    "    p1_i = np.where(x == 450)[0][0]\n",
    "    p1_e = np.where(x == 550)[0][0]\n",
    "    p2_i = np.where(x == 550)[0][0]\n",
    "    p2_e = np.where(x == 700)[0][0]\n",
    "\n",
    "    x1 = x[p1_i:p1_e]\n",
    "    y1 = y[p1_i:p1_e]\n",
    "    x2 = x[p2_i:p2_e]\n",
    "    y2 = y[p2_i:p2_e]\n",
    "\n",
    "    return x1[np.argmax(y1)], x2[np.argmax(y2)]\n",
    "\n",
    "def get_area_under_peaks(x, y, norm=None):\n",
    "    if not norm:\n",
    "        return np.trapz(y, x)\n",
    "    \n",
    "    x = np.array(x)\n",
    "    p1_i = np.where(x == 450)[0][0]\n",
    "    p1_e = np.where(x == 550)[0][0]\n",
    "    p2_i = np.where(x == 550)[0][0]\n",
    "    p2_e = np.where(x == 700)[0][0]\n",
    "\n",
    "    x1 = x[p1_i:p1_e]\n",
    "    y1 = y[p1_i:p1_e]\n",
    "    x2 = x[p2_i:p2_e]\n",
    "    y2 = y[p2_i:p2_e]\n",
    "\n",
    "    return np.trapz(y1, x1)/norm, np.trapz(y2, x2)/norm\n",
    "\n",
    "def process_spectrum(x, y, norm_area):\n",
    "    peaks = get_peaks(x, y)\n",
    "    areas = get_area_under_peaks(x, y, norm_area)\n",
    "    return peaks, areas"
   ]
  },
  {
   "cell_type": "code",
   "execution_count": null,
   "metadata": {},
   "outputs": [],
   "source": [
    "def rmse(a, b):\n",
    "    return np.sqrt(np.mean((a - b)**2))\n",
    "\n",
    "pred_dict = {\n",
    "    \"Peak1\": [],\n",
    "    \"Peak2\": [],\n",
    "    \"Area1\": [],\n",
    "    \"Area2\": [],\n",
    "    \"Distance_peaks\": []\n",
    "}\n",
    "label_dict = {\n",
    "    \"Peak1\": [],\n",
    "    \"Peak2\": [],\n",
    "    \"Area1\": [],\n",
    "    \"Area2\": [],\n",
    "    \"Distance_peaks\": []\n",
    "}\n",
    "\n",
    "for group, predictions in one_out:\n",
    "    pred_peak = get_peaks(predictions[2], predictions[0])\n",
    "    pred_norm_area = get_area_under_peaks(predictions[2], predictions[0])\n",
    "    pred_area = get_area_under_peaks(predictions[2], predictions[0], norm=pred_norm_area)\n",
    "\n",
    "    label_peak = get_peaks(predictions[2], predictions[1])\n",
    "    label_norm_area = get_area_under_peaks(predictions[2], predictions[1])\n",
    "    label_area = get_area_under_peaks(predictions[2], predictions[1], norm=label_norm_area)\n",
    "    \n",
    "    pred_dict[\"Peak1\"].append(pred_peak[0])\n",
    "    pred_dict[\"Peak2\"].append(pred_peak[1])\n",
    "    pred_dict[\"Area1\"].append(pred_area[0])\n",
    "    pred_dict[\"Area2\"].append(pred_area[1])\n",
    "    pred_dict[\"Distance_peaks\"].append(pred_peak[1] - pred_peak[0])\n",
    "\n",
    "    label_dict[\"Peak1\"].append(label_peak[0])\n",
    "    label_dict[\"Peak2\"].append(label_peak[1])\n",
    "    label_dict[\"Area1\"].append(label_area[0])\n",
    "    label_dict[\"Area2\"].append(label_area[1])\n",
    "    label_dict[\"Distance_peaks\"].append(label_peak[1] - label_peak[0])\n",
    "    \n",
    "    #plot\n",
    "    # exp, T, d, t = group\n",
    "    # title = f\"{exp}: T: {T}ºC, Doping: {d}%, Time: {t}min\"\n",
    "    # plt.figure()\n",
    "    # sns.lineplot(x=predictions[2], y=predictions[0], label='Prediction').set(title=title)\n",
    "    # sns.lineplot(x=predictions[2], y=predictions[1], label='label')\n",
    "    # plt.legend()\n",
    "    # plt.show()    \n",
    "\n",
    "for k in pred_dict.keys():\n",
    "    print(k, rmse(np.array(pred_dict[k]), np.array(label_dict[k])))"
   ]
  },
  {
   "cell_type": "code",
   "execution_count": null,
   "metadata": {},
   "outputs": [],
   "source": []
  },
  {
   "cell_type": "markdown",
   "metadata": {},
   "source": [
    "# bolift"
   ]
  },
  {
   "cell_type": "code",
   "execution_count": 3,
   "metadata": {},
   "outputs": [
    {
     "data": {
      "text/plain": [
       "True"
      ]
     },
     "execution_count": 3,
     "metadata": {},
     "output_type": "execute_result"
    }
   ],
   "source": [
    "import os\n",
    "import cloudpickle\n",
    "import bolift\n",
    "import seaborn as sns\n",
    "from dotenv import load_dotenv\n",
    "load_dotenv(\"../.env\", override=True)"
   ]
  },
  {
   "cell_type": "code",
   "execution_count": 4,
   "metadata": {},
   "outputs": [],
   "source": [
    "df = pd.read_csv('Data/procedures.tsv', sep=\"\\t\")\n",
    "\n",
    "import numpy as np\n",
    "indexes = np.arange(len(df))\n",
    "np.random.shuffle(indexes)\n",
    "split = (len(indexes)-12)/len(indexes)\n",
    "\n",
    "train_indexes = indexes[:int(split*len(indexes))]\n",
    "test_indexes = indexes[int(split*len(indexes)):]\n",
    "\n",
    "with open('Data/system_message.txt', 'r') as f:\n",
    "    system_message = f.read()"
   ]
  },
  {
   "cell_type": "code",
   "execution_count": 6,
   "metadata": {},
   "outputs": [
    {
     "data": {
      "image/png": "[encoded data removed]",
      "text/plain": [
       "<Figure size 1200x1200 with 6 Axes>"
      ]
     },
     "metadata": {},
     "output_type": "display_data"
    }
   ],
   "source": [
    "# plot historgram of peak1, peak2, auc1, auc2, qy, and obj_f\n",
    "\n",
    "fig, axs = plt.subplots(3, 2, figsize=(12, 12))\n",
    "axs = axs.flatten()\n",
    "for i, k in enumerate(['peak1', 'peak2', 'auc1', 'auc2', 'QY', 'obj_f']):\n",
    "    sns.histplot(df[k], ax=axs[i], bins=20)\n",
    "    axs[i].set_title(k)\n",
    "plt.tight_layout()\n",
    "plt.show()\n"
   ]
  },
  {
   "cell_type": "markdown",
   "metadata": {},
   "source": [
    "## Predicting peaks"
   ]
  },
  {
   "cell_type": "code",
   "execution_count": 41,
   "metadata": {},
   "outputs": [],
   "source": [
    "asktell_peak1 = bolift.AskTellFewShotTopk(\n",
    "    prefix=\"Complete the scoring ranking the last experiment. Each answer should be numeric and ends with ###. Use the following information to complete the prompt: \\n\",\n",
    "    x_formatter=lambda x: f\"the experimental procedure: {x}\",\n",
    "    y_name=\"first peak in the fluorescence spectrum\",\n",
    "    y_formatter=lambda y: f\"{y:.2f}\",\n",
    "    model=\"gpt-4o\",\n",
    "    selector_k=5,\n",
    "    temperature=0.7\n",
    ")\n",
    "\n",
    "asktell_peak2 = bolift.AskTellFewShotTopk(\n",
    "    prefix=\"Complete the scoring ranking the last experiment. Each answer should be numeric and ends with ###. Use the following information to complete the prompt: \\n\",\n",
    "    x_formatter=lambda x: f\"the experimental procedure: {x}\",\n",
    "    y_name=\"second peak in the fluorescence spectrum\",\n",
    "    y_formatter=lambda y: f\"{y:.2f}\",\n",
    "    model=\"gpt-4o\",\n",
    "    selector_k=5,\n",
    "    temperature=0.7\n",
    ")\n",
    "\n",
    "for i in train_indexes:\n",
    "    asktell_peak1.tell(df['prompt'][i], df['peak1'][i])\n",
    "\n",
    "for i in train_indexes:\n",
    "    asktell_peak2.tell(df['prompt'][i], df['peak2'][i])"
   ]
  },
  {
   "cell_type": "code",
   "execution_count": 42,
   "metadata": {},
   "outputs": [
    {
     "name": "stdout",
     "output_type": "stream",
     "text": [
      "511.00+/-1.59 : 510.0 // 643.00+/-1.79 : 623.0\n",
      "511.00+/-1.59 : 511.0 // 643.00+/-1.79 : 633.0\n",
      "511.00+/-1.59 : 511.0 // 643.00+/-1.79 : 632.0\n",
      "511.00+/-1.59 : 514.0 // 643.00+/-1.79 : 550.0\n",
      "511.00+/-1.59 : 513.0 // 643.00+/-1.79 : 632.0\n",
      "511.00+/-1.59 : 513.0 // 643.00+/-1.79 : 624.0\n",
      "511.00+/-1.59 : 511.0 // 643.00+/-1.79 : 610.0\n",
      "511.00+/-1.59 : 511.0 // 643.00+/-1.79 : 550.0\n",
      "511.00+/-1.59 : 510.0 // 643.00+/-1.79 : 624.0\n",
      "511.00+/-1.59 : 514.0 // 643.00+/-1.79 : 619.0\n",
      "511.00+/-1.59 : 512.0 // 643.00+/-1.79 : 641.0\n",
      "511.00+/-1.59 : 510.0 // 643.00+/-1.79 : 604.0\n"
     ]
    }
   ],
   "source": [
    "# system_message = \"You are a bot that can accurately predict chemical and material properties from their synthesis and experimental procedures. Do not explain answers, just provide numerical predictions.\"\n",
    "\n",
    "yhat_1=[]\n",
    "yhat_2=[]\n",
    "y_1=[]\n",
    "y_2=[]\n",
    "for i in test_indexes:\n",
    "  yhat_1.append(asktell_peak1.predict(df['prompt'][i], system_message=system_message))\n",
    "  yhat_2.append(asktell_peak2.predict(df['prompt'][i], system_message=system_message))\n",
    "  y_1.append(df['peak1'][i])\n",
    "  y_2.append(df['peak2'][i])\n",
    "  print(f\"{yhat_1[-1].mean():.2f}+/-{yhat_1[-1].std():.2f} : {df['peak1'][i]} // {yhat_2[-1].mean():.2f}+/-{yhat_2[-1].std():.2f} : {df['peak2'][i]}\")\n"
   ]
  },
  {
   "cell_type": "code",
   "execution_count": 48,
   "metadata": {},
   "outputs": [
    {
     "data": {
      "image/png": "[encoded data removed]",
      "text/plain": [
       "<Figure size 1200x400 with 2 Axes>"
      ]
     },
     "metadata": {},
     "output_type": "display_data"
    }
   ],
   "source": [
    "fig, axs = plt.subplots(1, 2, figsize=(12, 4))\n",
    "\n",
    "mae = lambda a, b: np.mean(np.abs(a - b))\n",
    "rmse = lambda a, b: np.sqrt(np.mean((a - b)**2))\n",
    "\n",
    "axs[0].set_title(\"Peak1\")\n",
    "sns.scatterplot(x=y_1, y=[yi.mean() for yi in yhat_1], ax=axs[0])\n",
    "axs[0].set_xlabel(\"True value\")\n",
    "axs[0].set_ylabel(\"Predicted value\")\n",
    "axs[0].plot([0, 1], [0, 1], transform=axs[0].transAxes, ls=\"--\", color=\"gray\")\n",
    "axs[0].errorbar(x=y_1, y=[yi.mean() for yi in yhat_1], yerr=[yi.std() for yi in yhat_1], fmt='o', color='gray', alpha=0.2)\n",
    "axs[0].text(0.05, 0.95, f\"MAE: {mae(np.array(y_1), np.array([yi.mean() for yi in yhat_1])):.2f}\", transform=axs[0].transAxes)\n",
    "axs[0].text(0.05, 0.90, f\"R: {np.corrcoef(y_1, [yi.mean() for yi in yhat_1])[0, 1]:.2f}\", transform=axs[0].transAxes)\n",
    "\n",
    "axs[1].set_title(\"Peak2\")\n",
    "sns.scatterplot(x=y_2, y=[yi.mean() for yi in yhat_2], ax=axs[1])\n",
    "axs[1].set_xlabel(\"True value\")\n",
    "axs[1].set_ylabel(\"Predicted value\")\n",
    "axs[1].plot([0, 1], [0, 1], transform=axs[1].transAxes, ls=\"--\", color=\"gray\")\n",
    "axs[1].errorbar(x=y_2, y=[yi.mean() for yi in yhat_2], yerr=[yi.std() for yi in yhat_2], fmt='o', color='gray', alpha=0.2)\n",
    "axs[1].text(0.05, 0.95, f\"MAE: {mae(np.array(y_2), np.array([yi.mean() for yi in yhat_2])):.2f}\", transform=axs[1].transAxes)\n",
    "axs[1].text(0.05, 0.90, f\"R: {np.corrcoef(y_2, [yi.mean() for yi in yhat_2])[0, 1]:.2f}\", transform=axs[1].transAxes)\n",
    "\n",
    "\n",
    "\n",
    "plt.show()"
   ]
  },
  {
   "cell_type": "code",
   "execution_count": null,
   "metadata": {},
   "outputs": [],
   "source": [
    "i=0\n",
    "for group, predictions in one_out:\n",
    "    if i == 0:\n",
    "        exp, T, d, t = group\n",
    "        title = f\"{exp}: T: {T}ºC, Doping: {d}%, Time: {t}min\"\n",
    "        plt.figure()\n",
    "        sns.lineplot(x=predictions[2], y=predictions[1], label='Reference')\n",
    "        plt.axvline(x = asktell1.predict(prompts[0]).mean(), color = 'C1', linestyle = '--', label = 'Peak1')\n",
    "        plt.axvline(x = asktell2.predict(prompts[0]).mean(), color = 'C3', linestyle = '--', label = 'Peak2')\n",
    "        fig.legend(loc='center', bbox_to_anchor=(0.5,0), fancybox=True, shadow=True, ncol=2)\n",
    "        # plt.title(title)\n",
    "        plt.title(\"LLM Prediction: Spectra Metrics\")\n",
    "        plt.legend()\n",
    "        plt.xlabel(\"Wavelength (nm)\")\n",
    "        plt.ylabel(\"Normalized fluorescence (a.u.)\")\n",
    "        plt.tight_layout()\n",
    "        plt.show()\n",
    "    i += 1"
   ]
  },
  {
   "cell_type": "markdown",
   "metadata": {},
   "source": [
    "## Predicting areas"
   ]
  },
  {
   "cell_type": "code",
   "execution_count": 50,
   "metadata": {},
   "outputs": [],
   "source": [
    "asktell_auc1 = bolift.AskTellFewShotTopk(\n",
    "    prefix=\"Complete the scoring ranking the last experiment. Each answer should be numeric and ends with ###. Use the following information to complete the prompt: \\n\",\n",
    "    x_formatter=lambda x: f\"the experimental procedure: {x}\",\n",
    "    y_name=\"area under the first peak in the fluorescence spectrum\",\n",
    "    y_formatter=lambda y: f\"{y:.2f}\",\n",
    "    model=\"gpt-4o\",\n",
    "    selector_k=5,\n",
    "    temperature=0.7\n",
    ")\n",
    "\n",
    "asktell_auc2 = bolift.AskTellFewShotTopk(\n",
    "    prefix=\"Complete the scoring ranking the last experiment. Each answer should be numeric and ends with ###. Use the following information to complete the prompt: \\n\",\n",
    "    x_formatter=lambda x: f\"the experimental procedure: {x}\",\n",
    "    y_name=\"area under the second peak in the fluorescence spectrum\",\n",
    "    y_formatter=lambda y: f\"{y:.2f}\",\n",
    "    model=\"gpt-4o\",\n",
    "    selector_k=5,\n",
    "    temperature=0.7\n",
    ")\n",
    "\n",
    "for i in train_indexes:\n",
    "    asktell_auc1.tell(df['prompt'][i], df['auc1'][i])\n",
    "\n",
    "for i in train_indexes:\n",
    "    asktell_auc2.tell(df['prompt'][i], df['auc2'][i])"
   ]
  },
  {
   "cell_type": "code",
   "execution_count": 53,
   "metadata": {},
   "outputs": [
    {
     "name": "stdout",
     "output_type": "stream",
     "text": [
      "0.74+/-0.03 : 0.669233798373332 // 0.20+/-0.04 : 0.2953657940256268\n",
      "0.56+/-0.15 : 0.6055993906428825 // 0.17+/-0.07 : 0.2828481825878629\n",
      "0.76+/-0.06 : 0.537803447645178 // 0.21+/-0.01 : 0.3898966338880653\n",
      "0.81+/-0.01 : 0.9293561075612538 // 0.13+/-0.02 : 0.0629136968193054\n",
      "0.69+/-0.04 : 0.6642130197359394 // 0.27+/-0.04 : 0.2912090093164146\n",
      "0.53+/-0.04 : 0.4519978530450739 // 0.46+/-0.15 : 0.4682733133999453\n",
      "0.49+/-0.17 : 0.6531595127533121 // 0.54+/-0.05 : 0.3117200227028498\n",
      "0.92+/-0.01 : 0.9303358223223664 // 0.05+/-0.00 : 0.0573401540691778\n",
      "0.89+/-0.01 : 0.9010368098015976 // 0.10+/-0.01 : 0.0840665229012216\n",
      "0.78+/-0.02 : 0.8062569113563689 // 0.14+/-0.01 : 0.1733997206063347\n",
      "0.14+/-0.16 : 0.0482269515458408 // 0.51+/-0.17 : 0.8048366297467044\n",
      "0.86+/-0.01 : 0.9046348559691936 // 0.12+/-0.00 : 0.0841559783264317\n"
     ]
    }
   ],
   "source": [
    "# system_message = \"You are a bot that can accurately predict chemical and material properties from their synthesis and experimental procedures. Do not explain answers, just provide numerical predictions.\"\n",
    "\n",
    "yhat_1=[]\n",
    "yhat_2=[]\n",
    "y_1=[]\n",
    "y_2=[]\n",
    "for i in test_indexes:\n",
    "  yhat_1.append(asktell_auc1.predict(df['prompt'][i], system_message=system_message))\n",
    "  yhat_2.append(asktell_auc2.predict(df['prompt'][i], system_message=system_message))\n",
    "  y_1.append(df['auc1'][i])\n",
    "  y_2.append(df['auc2'][i])\n",
    "  print(f\"{yhat_1[-1].mean():.2f}+/-{yhat_1[-1].std():.2f} : {df['auc1'][i]} // {yhat_2[-1].mean():.2f}+/-{yhat_2[-1].std():.2f} : {df['auc2'][i]}\")\n"
   ]
  },
  {
   "cell_type": "code",
   "execution_count": 54,
   "metadata": {},
   "outputs": [
    {
     "data": {
      "image/png": "[encoded data removed]",
      "text/plain": [
       "<Figure size 1200x400 with 2 Axes>"
      ]
     },
     "metadata": {},
     "output_type": "display_data"
    }
   ],
   "source": [
    "fig, axs = plt.subplots(1, 2, figsize=(12, 4))\n",
    "\n",
    "mae = lambda a, b: np.mean(np.abs(a - b))\n",
    "rmse = lambda a, b: np.sqrt(np.mean((a - b)**2))\n",
    "\n",
    "axs[0].set_title(\"Auc1\")\n",
    "sns.scatterplot(x=y_1, y=[yi.mean() for yi in yhat_1], ax=axs[0])\n",
    "axs[0].set_xlabel(\"True value\")\n",
    "axs[0].set_ylabel(\"Predicted value\")\n",
    "axs[0].plot([0, 1], [0, 1], transform=axs[0].transAxes, ls=\"--\", color=\"gray\")\n",
    "axs[0].errorbar(x=y_1, y=[yi.mean() for yi in yhat_1], yerr=[yi.std() for yi in yhat_1], fmt='o', color='gray', alpha=0.2)\n",
    "axs[0].text(0.05, 0.95, f\"MAE: {mae(np.array(y_1), np.array([yi.mean() for yi in yhat_1])):.2f}\", transform=axs[0].transAxes)\n",
    "axs[0].text(0.05, 0.90, f\"R: {np.corrcoef(y_1, [yi.mean() for yi in yhat_1])[0, 1]:.2f}\", transform=axs[0].transAxes)\n",
    "\n",
    "axs[1].set_title(\"Auc2\")\n",
    "sns.scatterplot(x=y_2, y=[yi.mean() for yi in yhat_2], ax=axs[1])\n",
    "axs[1].set_xlabel(\"True value\")\n",
    "axs[1].set_ylabel(\"Predicted value\")\n",
    "axs[1].plot([0, 1], [0, 1], transform=axs[1].transAxes, ls=\"--\", color=\"gray\")\n",
    "axs[1].errorbar(x=y_2, y=[yi.mean() for yi in yhat_2], yerr=[yi.std() for yi in yhat_2], fmt='o', color='gray', alpha=0.2)\n",
    "axs[1].text(0.05, 0.95, f\"MAE: {mae(np.array(y_2), np.array([yi.mean() for yi in yhat_2])):.2f}\", transform=axs[1].transAxes)\n",
    "axs[1].text(0.05, 0.90, f\"R: {np.corrcoef(y_2, [yi.mean() for yi in yhat_2])[0, 1]:.2f}\", transform=axs[1].transAxes)\n",
    "\n",
    "plt.show()"
   ]
  },
  {
   "cell_type": "markdown",
   "metadata": {},
   "source": [
    "## Predicting QY"
   ]
  },
  {
   "cell_type": "code",
   "execution_count": 55,
   "metadata": {},
   "outputs": [],
   "source": [
    "asktell_qy = bolift.AskTellFewShotTopk(\n",
    "    prefix=\"Complete the scoring ranking the last experiment. Each answer should be numeric and ends with ###. Use the following information to complete the prompt: \\n\",\n",
    "    x_formatter=lambda x: f\"the experimental procedure: {x}\",\n",
    "    y_name=\"quantum yield\",\n",
    "    y_formatter=lambda y: f\"{y:.2f}\",\n",
    "    model=\"gpt-4o\",\n",
    "    selector_k=5,\n",
    "    temperature=0.7\n",
    ")\n",
    "\n",
    "for i in train_indexes:\n",
    "    asktell_qy.tell(df['prompt'][i], df['QY'][i])"
   ]
  },
  {
   "cell_type": "code",
   "execution_count": 61,
   "metadata": {},
   "outputs": [
    {
     "name": "stdout",
     "output_type": "stream",
     "text": [
      "0.68+/-0.10 : 0.3344876494548325\n",
      "0.66+/-0.21 : 0.020962473350054\n",
      "0.75+/-0.08 : 0.1011158776886467\n",
      "0.82+/-0.04 : 0.2993663829142426\n",
      "0.72+/-0.03 : 0.1627421037874981\n",
      "0.58+/-0.04 : 0.0974985692674476\n",
      "0.49+/-0.16 : 0.4548902657655614\n",
      "0.83+/-0.19 : 0.1188516483657638\n",
      "0.89+/-0.00 : 0.4039813397451247\n",
      "0.78+/-0.03 : 0.1751337507694327\n",
      "0.10+/-0.09 : 0.096263399185037\n",
      "0.85+/-0.02 : 0.6001187212109055\n"
     ]
    }
   ],
   "source": [
    "# system_message = \"You are a bot that can accurately predict chemical and material properties from their synthesis and experimental procedures. Do not explain answers, just provide numerical predictions.\"\n",
    "\n",
    "yhat_1=[]\n",
    "y_1=[]\n",
    "for i in test_indexes:\n",
    "  yhat_1.append(asktell_auc1.predict(df['prompt'][i], system_message=system_message))\n",
    "  y_1.append(df['QY'][i])\n",
    "  print(f\"{yhat_1[-1].mean():.2f}+/-{yhat_1[-1].std():.2f} : {df['QY'][i]}\")\n"
   ]
  },
  {
   "cell_type": "code",
   "execution_count": 62,
   "metadata": {},
   "outputs": [
    {
     "data": {
      "image/png": "[encoded data removed]",
      "text/plain": [
       "<Figure size 600x400 with 1 Axes>"
      ]
     },
     "metadata": {},
     "output_type": "display_data"
    }
   ],
   "source": [
    "fig, axs = plt.subplots(1, 1, figsize=(6, 4))\n",
    "\n",
    "mae = lambda a, b: np.mean(np.abs(a - b))\n",
    "rmse = lambda a, b: np.sqrt(np.mean((a - b)**2))\n",
    "\n",
    "axs.set_title(\"QY\")\n",
    "sns.scatterplot(x=y_1, y=[yi.mean() for yi in yhat_1], ax=axs)\n",
    "axs.set_xlabel(\"True value\")\n",
    "axs.set_ylabel(\"Predicted value\")\n",
    "axs.plot([0, 1], [0, 1], transform=axs.transAxes, ls=\"--\", color=\"gray\")\n",
    "axs.errorbar(x=y_1, y=[yi.mean() for yi in yhat_1], yerr=[yi.std() for yi in yhat_1], fmt='o', color='gray', alpha=0.2)\n",
    "axs.text(0.05, 0.95, f\"MAE: {mae(np.array(y_1), np.array([yi.mean() for yi in yhat_1])):.2f}\", transform=axs.transAxes)\n",
    "axs.text(0.05, 0.90, f\"R: {np.corrcoef(y_1, [yi.mean() for yi in yhat_1])[0, 1]:.2f}\", transform=axs.transAxes)\n",
    "\n",
    "plt.show()"
   ]
  },
  {
   "cell_type": "markdown",
   "metadata": {},
   "source": [
    "## Predicting f=QY*AUC2"
   ]
  },
  {
   "cell_type": "code",
   "execution_count": null,
   "metadata": {},
   "outputs": [],
   "source": [
    "asktell = bolift.AskTellFewShotTopk(\n",
    "    prefix=\"Complete the scoring ranking the last experiment. Each answer should be numeric and ends with ###. Use the following information to complete the prompt: \\n\",\n",
    "    x_formatter=lambda x: f\"the experimental procedure: {x}\",\n",
    "    y_name=\"product of the quantum yield with the area under the fluorescence peak at 650 nm\",\n",
    "    y_formatter=lambda y: f\"{y:.2f}\",\n",
    "    model=\"gpt-4o\",\n",
    "    selector_k=5,\n",
    "    temperature=0.7\n",
    ")"
   ]
  },
  {
   "cell_type": "markdown",
   "metadata": {},
   "source": [
    "## Testing prediction"
   ]
  },
  {
   "cell_type": "code",
   "execution_count": 96,
   "metadata": {},
   "outputs": [],
   "source": [
    "df = pd.read_csv('Data/procedures_new.tsv', sep=\"\\t\")\n",
    "prompts = df['prompt'].tolist()\n",
    "labels_f = df['obj_f'].to_list()"
   ]
  },
  {
   "cell_type": "code",
   "execution_count": 97,
   "metadata": {},
   "outputs": [],
   "source": [
    "import numpy as np\n",
    "indexes = np.arange(len(prompts))\n",
    "np.random.shuffle(indexes)\n",
    "split = (len(indexes)-12)/len(indexes)\n",
    "\n",
    "train_indexes = indexes[:int(split*len(indexes))]\n",
    "test_indexes = indexes[int(split*len(indexes)):]"
   ]
  },
  {
   "cell_type": "code",
   "execution_count": 98,
   "metadata": {},
   "outputs": [],
   "source": [
    "asktell = bolift.AskTellFewShotTopk(\n",
    "    prefix=\"Complete the distance between the fluorescence peaks in the spectra measured for the last experiment.\"\\\n",
    "          \" Each answer should be numeric and ends with ###.\" \\\n",
    "          \" Use the following information to complete the prompt: \\n\",\n",
    "    x_formatter=lambda x: f\"the experimental procedure: {x}\",\n",
    "    y_name=\"the product of the quantum yield with the area under the fluorescence peak at 650 nm\",\n",
    "    y_formatter=lambda y: f\"{y:.2f}\",\n",
    "    model=\"gpt-3.5-turbo\",\n",
    "    selector_k=5,\n",
    "    temperature=0.7,\n",
    ")\n",
    "\n",
    "system_message_path = \"Data/system_message.txt\"\n",
    "inv_system_message_path = \"Data/inv_system_message.txt\"\n",
    "\n",
    "if os.path.exists(system_message_path):\n",
    "    with open(system_message_path, \"r\") as f:\n",
    "        system_message = f.read()\n",
    "else:\n",
    "    system_message = \"\"\n",
    "\n",
    "if os.path.exists(inv_system_message_path):\n",
    "    with open(inv_system_message_path, \"r\") as f:\n",
    "        inv_system_message = f.read()\n",
    "else:\n",
    "    inv_system_message = \"\"\n",
    "\n",
    "for i in train_indexes:\n",
    "  if labels_f[i] >= 0:\n",
    "    asktell.tell(prompts[i], labels_f[i])"
   ]
  },
  {
   "cell_type": "code",
   "execution_count": null,
   "metadata": {},
   "outputs": [],
   "source": [
    "yhat=[]\n",
    "y=[]\n",
    "for i in test_indexes:\n",
    "  yhat.append(asktell.predict(prompts[i] , system_message=\"\"))\n",
    "  y.append(labels_f[i]) "
   ]
  },
  {
   "cell_type": "code",
   "execution_count": null,
   "metadata": {},
   "outputs": [],
   "source": [
    "for i in test_indexes:\n",
    "  print(f\"{prompts[i]} => {labels_f[i]}\")\n",
    "\n",
    "# [f\"{i.mean():.2f}\" for i in yhat], y"
   ]
  },
  {
   "cell_type": "code",
   "execution_count": null,
   "metadata": {},
   "outputs": [],
   "source": [
    "def rmse(a, b):\n",
    "    a = np.array(a)\n",
    "    b = np.array(b)\n",
    "    return np.sqrt(np.mean((a - b)**2))\n",
    "\n",
    "sum = 0\n",
    "print(f\"| {'predicted':^23s} | {'label':^10s} | {'AE':^10s} | \")\n",
    "n = 0\n",
    "for ihat, i in zip(yhat, y):\n",
    "  n+=1\n",
    "  mae = abs(ihat.mean()-i)\n",
    "  print(f\"| {ihat.mean():^10.2f}+/-{ihat.std():^10.2f} | {i:^10.2f} | {mae:^10.2f} |\")\n",
    "  sum += mae\n",
    "print(f\"\\n{'RMSE: ':>20s}{rmse([ihat.mean() for ihat in yhat], y):<18.2f}\")\n",
    "\n",
    "import matplotlib.pyplot as plt\n",
    "yhat_mean = [ihat.mean() for ihat in yhat]\n",
    "y_plot    = np.array(y)[np.where(np.array(yhat_mean) <= 1)]\n",
    "yhat_plot = np.array(yhat_mean)[np.where(np.array(yhat_mean) <= 1)]\n",
    "yerr_plot = np.array([ihat.std() for ihat in yhat])[np.where(np.array(yhat_mean) <= 1)]\n",
    "plt.figure(figsize=(6, 4))\n",
    "plt.xlabel('Experimental outcome')\n",
    "plt.ylabel('Predicted outcome')\n",
    "plt.plot(y_plot, yhat_plot, 'o')\n",
    "plt.errorbar(y_plot, yhat_plot, yerr=yerr_plot, fmt='none')\n",
    "plt.title('LLM prediction: f = QY * AUC2')\n",
    "plt.plot((0,0.4), (0,0.4), '--')\n",
    "plt.text(0.75, 0.90, f\"RMSE: {rmse(y_plot, yhat_plot):.2f}\", fontsize=12, transform=plt.gca().transAxes)\n",
    "plt.show()"
   ]
  },
  {
   "cell_type": "markdown",
   "metadata": {},
   "source": [
    "## Bayesian optimization"
   ]
  },
  {
   "cell_type": "code",
   "execution_count": 10,
   "metadata": {},
   "outputs": [],
   "source": [
    "proc_list = pd.read_csv('Data/procedures.tsv', sep='\\t')\n",
    "prompts, labels_f = proc_list['prompt'].tolist(), proc_list['obj_f'].tolist()\n",
    "\n",
    "pool_type = \"processed\"\n",
    "pool_list = pd.read_csv(f\"Data/pool_{pool_type}.txt\", sep=';')\n",
    "# pool = cloudpickle.load(open(f'Data/pool_{pool_type}.pkl', 'rb'))\n",
    "pool = bolift.Pool(pool_list['prompt'].to_list())\n"
   ]
  },
  {
   "cell_type": "code",
   "execution_count": null,
   "metadata": {},
   "outputs": [],
   "source": [
    "asktell = bolift.AskTellFewShotTopk(\n",
    "    prefix=\"Complete the distance between the fluorescence peaks in the spectra measured for the last experiment.\"\\\n",
    "          \" Each answer should be numeric and ends with ###.\" \\\n",
    "          \" Use the following information to complete the prompt: \\n\",\n",
    "    x_formatter=lambda x: f\"the experimental procedure: {x}\",\n",
    "    y_name=\"the product of the quantum yield with the area under the fluorescence peak at 650 nm\",\n",
    "    y_formatter=lambda y: f\"{y:.2f}\",\n",
    "    model=\"gpt-3.5-turbo\",\n",
    "    selector_k=5,\n",
    "    temperature=0.7\n",
    ")\n",
    "\n",
    "system_message_path = \"Data/system_message.txt\"\n",
    "inv_system_message_path = \"Data/inv_system_message.txt\"\n",
    "\n",
    "if os.path.exists(system_message_path):\n",
    "    with open(system_message_path, \"r\") as f:\n",
    "        system_message = f.read()\n",
    "    print(\"Loaded system message\")\n",
    "else:\n",
    "    system_message = \"\"\n",
    "\n",
    "if os.path.exists(inv_system_message_path):\n",
    "    with open(inv_system_message_path, \"r\") as f:\n",
    "        inv_system_message = f.read()\n",
    "    print(\"Loaded inv system message\")\n",
    "else:\n",
    "    inv_system_message = \"\"\n",
    "\n",
    "print(pool)\n",
    "\n",
    "for p,l in zip(prompts, labels_f):\n",
    "  asktell.tell(p, float(l))\n",
    "  try:\n",
    "    pool.choose(p)\n",
    "  except:\n",
    "    continue\n",
    "\n",
    "print(pool)"
   ]
  },
  {
   "cell_type": "code",
   "execution_count": null,
   "metadata": {},
   "outputs": [],
   "source": [
    "max(labels_f)"
   ]
  },
  {
   "cell_type": "code",
   "execution_count": null,
   "metadata": {},
   "outputs": [],
   "source": [
    "selected = asktell.ask(pool, aq_fxn=\"expected_improvement\", k=5, inv_filter=15, aug_random_filter=1, inv_system_message=inv_system_message, system_message=system_message)\n",
    "i = 0\n",
    "for prompt, p in zip(selected[0], asktell.predict(selected[0], system_message=system_message)):\n",
    "    print(f\"{prompt} => {p.mean():.4f} +/- {p.std():.4f}\\n\")\n",
    "    # print(f\"{i+1}: {prompt}\")\n",
    "    i+=1\n"
   ]
  },
  {
   "cell_type": "code",
   "execution_count": null,
   "metadata": {},
   "outputs": [],
   "source": [
    "i=0\n",
    "for prompt in selected[0]:\n",
    "    print(f\"{i+1}: {prompt}\\n\")\n",
    "    i+=1"
   ]
  },
  {
   "cell_type": "code",
   "execution_count": null,
   "metadata": {},
   "outputs": [],
   "source": []
  },
  {
   "cell_type": "markdown",
   "metadata": {},
   "source": [
    "## New exp suggestion"
   ]
  },
  {
   "cell_type": "code",
   "execution_count": 12,
   "metadata": {},
   "outputs": [],
   "source": [
    "proc_list = pd.read_csv('Data/procedures.tsv', sep='\\t')\n",
    "prompts, labels_f = proc_list['prompt'].tolist(), proc_list['obj_f'].tolist()\n",
    "\n",
    "pool_type = \"processed\"\n",
    "pool_list = pd.read_csv(f\"Data/pool_{pool_type}.txt\", sep=';')\n",
    "# pool = cloudpickle.load(open(f'Data/pool_{pool_type}.pkl', 'rb'))\n",
    "pool = bolift.Pool(pool_list['prompt'].to_list())\n"
   ]
  },
  {
   "cell_type": "code",
   "execution_count": null,
   "metadata": {},
   "outputs": [],
   "source": [
    "asktell = bolift.AskTellFewShotTopk(\n",
    "    prefix=\"Complete the distance between the fluorescence peaks in the spectra measured for the last experiment.\"\\\n",
    "          \" Each answer should be numeric and ends with ###.\" \\\n",
    "          \" Use the following information to complete the prompt: \\n\",\n",
    "    x_formatter=lambda x: f\"the experimental procedure: {x}\",\n",
    "    y_name=\"the product of the quantum yield with the area under the fluorescence peak at 650 nm\",\n",
    "    y_formatter=lambda y: f\"{y:.2f}\",\n",
    "    model=\"gpt-3.5-turbo\",\n",
    "    selector_k=5,\n",
    "    temperature=0.7\n",
    ")\n",
    "\n",
    "system_message_path = \"Data/system_message.txt\"\n",
    "inv_system_message_path = \"Data/inv_system_message.txt\"\n",
    "\n",
    "if os.path.exists(system_message_path):\n",
    "    with open(system_message_path, \"r\") as f:\n",
    "        system_message = f.read()\n",
    "    print(\"Loaded system message\")\n",
    "else:\n",
    "    system_message = \"\"\n",
    "\n",
    "if os.path.exists(inv_system_message_path):\n",
    "    with open(inv_system_message_path, \"r\") as f:\n",
    "        inv_system_message = f.read()\n",
    "    print(\"Loaded inv system message\")\n",
    "else:\n",
    "    inv_system_message = \"\"\n",
    "\n",
    "print(pool)\n",
    "\n",
    "for p,l in zip(prompts, labels_f):\n",
    "  asktell.tell(p, float(l))\n",
    "  try:\n",
    "    pool.choose(p)\n",
    "  except:\n",
    "    continue\n",
    "\n",
    "print(pool)"
   ]
  },
  {
   "cell_type": "code",
   "execution_count": null,
   "metadata": {},
   "outputs": [],
   "source": [
    "max(labels_f)"
   ]
  },
  {
   "cell_type": "code",
   "execution_count": 22,
   "metadata": {},
   "outputs": [],
   "source": [
    "propts = []\n",
    "preds_mean = []\n",
    "preds_std = []\n",
    "\n",
    "for p in pool:\n",
    "  propts.append(p)\n",
    "  pred = asktell.predict(p, system_message=system_message)\n",
    "  preds_mean.append(pred.mean())\n",
    "  preds_std.append(pred.std())\n",
    "\n",
    "predicted_pool = pd.DataFrame({\n",
    "  'prompt': propts, \n",
    "  'pred_mean': preds_mean,\n",
    "  'pred_std': preds_std\n",
    "  })"
   ]
  },
  {
   "cell_type": "code",
   "execution_count": null,
   "metadata": {},
   "outputs": [],
   "source": [
    "predicted_pool.sort_values(by='pred_mean', ascending=True, inplace=True)\n",
    "predicted_pool.to_csv(f'Data/predicted_pool_{pool_type}.txt', sep=';', index=False)\n",
    "predicted_pool"
   ]
  },
  {
   "cell_type": "code",
   "execution_count": 56,
   "metadata": {},
   "outputs": [],
   "source": [
    "filtered_pool = predicted_pool[predicted_pool['pred_mean'] < 0.7]\n",
    "filtered_pool = filtered_pool[filtered_pool['pred_std'] < 0.1]"
   ]
  },
  {
   "cell_type": "code",
   "execution_count": null,
   "metadata": {},
   "outputs": [],
   "source": [
    "# plot filtered+pool means using pred_std as error\n",
    "plt.figure(figsize=(6, 4))\n",
    "plt.errorbar(range(len(filtered_pool)), filtered_pool['pred_mean'],yerr=filtered_pool['pred_std'], fmt='.', alpha=0.2, color='gray')\n",
    "plt.scatter(range(len(filtered_pool)), filtered_pool['pred_mean'], label='Filtered pool')\n",
    "plt.xlabel('Predicted outcome')\n",
    "plt.ylabel('Experiment index')\n",
    "plt.title('Predicted outcomes for the filtered pool')\n",
    "plt.show()"
   ]
  },
  {
   "cell_type": "code",
   "execution_count": null,
   "metadata": {},
   "outputs": [],
   "source": [
    "for l in [2,4,23, 950,953,947, 965,964,962]:\n",
    "# for l in range(900, 950):\n",
    "  print(f''' ------------ [index: {l}] ------------\n",
    "  prompt: {filtered_pool.iloc[l]['prompt']}\n",
    "  prediction: {filtered_pool.iloc[l]['pred_mean']} +/- {filtered_pool.iloc[l]['pred_std']}\n",
    "  ''')"
   ]
  }
 ],
 "metadata": {
  "kernelspec": {
   "display_name": "doe",
   "language": "python",
   "name": "python3"
  },
  "language_info": {
   "codemirror_mode": {
    "name": "ipython",
    "version": 3
   },
   "file_extension": ".py",
   "mimetype": "text/x-python",
   "name": "python",
   "nbconvert_exporter": "python",
   "pygments_lexer": "ipython3",
   "version": "3.10.15"
  },
  "orig_nbformat": 4
 },
 "nbformat": 4,
 "nbformat_minor": 2
}
