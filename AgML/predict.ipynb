{
 "cells": [
  {
   "cell_type": "code",
   "execution_count": 20,
   "metadata": {},
   "outputs": [],
   "source": [
    "import bolift\n",
    "import pandas as pd\n",
    "import numpy as np\n",
    "import cloudpickle"
   ]
  },
  {
   "cell_type": "code",
   "execution_count": 5,
   "metadata": {},
   "outputs": [],
   "source": [
    "import matplotlib.pyplot as plt\n",
    "import matplotlib.font_manager as font_manager\n",
    "import urllib.request\n",
    "\n",
    "urllib.request.urlretrieve(\n",
    "    \"https://github.com/google/fonts/raw/main/ofl/ibmplexmono/IBMPlexMono-Regular.ttf\",\n",
    "    \"IBMPlexMono-Regular.ttf\",\n",
    ")\n",
    "fe = font_manager.FontEntry(fname=\"IBMPlexMono-Regular.ttf\", name=\"plexmono\")\n",
    "font_manager.fontManager.ttflist.append(fe)\n",
    "plt.rcParams.update(\n",
    "    {\n",
    "        \"axes.facecolor\": \"#f5f4e9\",\n",
    "        \"grid.color\": \"#AAAAAA\",\n",
    "        \"axes.edgecolor\": \"#333333\",\n",
    "        \"figure.facecolor\": \"#FFFFFF\",\n",
    "        \"axes.grid\": False,\n",
    "        \"axes.prop_cycle\": plt.cycler(\"color\", plt.cm.Dark2.colors),\n",
    "        \"font.family\": fe.name,\n",
    "        \"figure.figsize\": (3.5, 3.5 / 1.2),\n",
    "        \"ytick.left\": True,\n",
    "        \"xtick.bottom\": True,\n",
    "    }\n",
    ")\n",
    "\n",
    "import random\n",
    "\n",
    "np.random.seed(0)\n",
    "random.seed(0)"
   ]
  },
  {
   "cell_type": "markdown",
   "metadata": {},
   "source": [
    "# RF baseline"
   ]
  },
  {
   "cell_type": "markdown",
   "metadata": {},
   "source": [
    "## Experiment outputs"
   ]
  },
  {
   "cell_type": "code",
   "execution_count": null,
   "metadata": {},
   "outputs": [],
   "source": [
    "df = pd.read_csv('Data/processed_data.csv')\n",
    "df.drop(['OD'], axis=1, inplace=True)\n",
    "df.groupby(['Temperature(C)', 'Doping(%)', 'Time(min)']).count()"
   ]
  },
  {
   "cell_type": "code",
   "execution_count": null,
   "metadata": {},
   "outputs": [],
   "source": [
    "index = df.keys().tolist().index('Experiment')\n",
    "features = df.keys()[:index]\n",
    "labels = df.keys()[index+1:-3]\n",
    "features, labels\n"
   ]
  },
  {
   "cell_type": "code",
   "execution_count": null,
   "metadata": {},
   "outputs": [],
   "source": [
    "from xgboost import XGBRegressor\n",
    "from sklearn.metrics import mean_absolute_error\n",
    "from sklearn.model_selection import train_test_split\n",
    "\n",
    "def train_model(train, test):\n",
    "    model = XGBRegressor(\n",
    "    eval_metric=mean_absolute_error \n",
    "    )\n",
    "\n",
    "    X_train, y_train = train\n",
    "    X_test, y_test = test\n",
    "    model.fit(X_train, y_train, eval_set=[(X_test, y_test)], early_stopping_rounds=5)\n",
    "    \n",
    "    return model\n",
    "\n",
    "models = {}\n",
    "train_df, test_df = train_test_split(df, test_size=0.2, random_state=42)\n",
    "print(len(train_df), len(test_df))\n",
    "for i, k in enumerate(labels):\n",
    "    # print(k, i, labels[i])\n",
    "    train = (train_df[features], train_df[labels[i]])\n",
    "    test = (test_df[features], test_df[labels[i]])\n",
    "    models[k] = train_model(train, test)\n",
    "    "
   ]
  },
  {
   "cell_type": "code",
   "execution_count": null,
   "metadata": {},
   "outputs": [],
   "source": [
    "k = 11\n",
    "sample = test_df.iloc[k:k+1]\n",
    "feats = sample[features]\n",
    "labs = sample[labels]\n",
    "\n",
    "def rmse(a, b):\n",
    "    return np.sqrt(np.mean((a - b)**2))\n",
    "\n",
    "for k in labels:\n",
    "    # print(k, rmse(models[k].predict(feats), labs[k].values))\n",
    "    print(k, models[k].predict(feats), labs[k].values)\n",
    "\n",
    "w = [float(a) for a in sample.iloc[0]['Wavelengths'][1:-1].split(',')]\n",
    "i = [float(a) for a in sample.iloc[0]['Fluorescence_norm'][1:-1].split(',')]\n",
    "\n",
    "plt.figure(figsize=(6, 4))\n",
    "plt.plot(w, i, color=\"C0\")\n",
    "plt.title(f\"{sample.iloc[0]['Experiment']}: {sample.iloc[0]['Temperature(C)']}°C, {sample.iloc[0]['Doping(%)']}%, {sample.iloc[0]['Time(min)']}min\")\n",
    "plt.axvline(x = models['Peak1'].predict(sample[features]), color = 'C1', linestyle = '--')\n",
    "plt.axvline(x = models['Peak2'].predict(sample[features]), color = 'C3', linestyle = '--')\n",
    "# change plt figsize\n",
    "plt.xlabel(\"Wavelength (nm)\")\n",
    "plt.ylabel(\"Normalized fluorescence\")\n",
    "plt.tight_layout()\n",
    "plt.show()"
   ]
  },
  {
   "cell_type": "code",
   "execution_count": null,
   "metadata": {},
   "outputs": [],
   "source": []
  },
  {
   "cell_type": "markdown",
   "metadata": {},
   "source": [
    "## Spectra output"
   ]
  },
  {
   "cell_type": "code",
   "execution_count": null,
   "metadata": {},
   "outputs": [],
   "source": [
    "df = pd.read_csv('Data/spectra_data.csv')\n",
    "df.drop(['OD'], axis=1, inplace=True)\n",
    "df.groupby(['Experiment', 'Temperature(C)', 'Doping(%)', 'Time(min)']).count()"
   ]
  },
  {
   "cell_type": "code",
   "execution_count": null,
   "metadata": {},
   "outputs": [],
   "source": [
    "index = df.keys().tolist().index('Experiment')\n",
    "features = list(df.keys()[:index]) + ['Wavelength(nm)']\n",
    "labels = ['Fluorescence_norm']\n",
    "features, labels"
   ]
  },
  {
   "cell_type": "code",
   "execution_count": null,
   "metadata": {},
   "outputs": [],
   "source": [
    "from xgboost import XGBRegressor\n",
    "from sklearn.metrics import mean_absolute_error\n",
    "from sklearn.model_selection import train_test_split\n",
    "\n",
    "def train_model(train, test):\n",
    "    model = XGBRegressor(\n",
    "    eval_metric=mean_absolute_error \n",
    "    )\n",
    "    \n",
    "    X_train, y_train = train[train.columns.difference(['Fluorescence', 'Fluorescence_norm'])], train['Fluorescence_norm']\n",
    "    X_test, y_test = test[test.columns.difference(['Fluorescence', 'Fluorescence_norm'])], test['Fluorescence_norm']\n",
    "    model.fit(X_train, y_train, eval_set=[(X_test, y_test)], early_stopping_rounds=5)\n",
    "    \n",
    "    return model\n",
    "\n",
    "def test_model(model, validation):\n",
    "    val_feats = validation[validation.columns.difference(['Fluorescence', 'Fluorescence_norm'])]\n",
    "    val_labels = validation[\"Fluorescence_norm\"]\n",
    "\n",
    "    pred = model.predict(val_feats)\n",
    "    return (pred, val_labels.to_numpy(), val_feats['Wavelength(nm)'].to_numpy())"
   ]
  },
  {
   "cell_type": "code",
   "execution_count": null,
   "metadata": {},
   "outputs": [],
   "source": [
    "one_out = []\n",
    "i=0\n",
    "for group, validation in df.groupby(['Experiment', 'Temperature(C)', 'Doping(%)', 'Time(min)']):\n",
    "    data = df.copy()\n",
    "    exp, T, d, t = group\n",
    "    validation = validation[features + labels]\n",
    "\n",
    "    # validation = data.query(\n",
    "    #     f'`Temperature(C)` == {T} & `Doping(%)` == {d} & `Time` == {t}'\n",
    "    # )\n",
    "    train_df = data.drop(validation.index)\n",
    "    train, test = train_test_split(train_df[features + labels], test_size=0.2, random_state=42)\n",
    "\n",
    "    model = train_model(train, test)\n",
    "\n",
    "    prediction = test_model(model, validation)\n",
    "    one_out.append((group, prediction))\n"
   ]
  },
  {
   "cell_type": "code",
   "execution_count": null,
   "metadata": {},
   "outputs": [],
   "source": [
    "import matplotlib.pyplot as plt\n",
    "import seaborn as sns\n",
    "\n",
    "fig, axs = plt.subplots(1, 4, figsize=(16, 4))\n",
    "i=0\n",
    "for group, predictions in one_out:\n",
    "    axs = axs.flatten()\n",
    "    exp, T, d, t = group\n",
    "    if exp not in [\"8_NPL-13_(3-8-23)\", \"7_NPL-12_(3-8-23)\"] or T != 0.0 or t != 60:\n",
    "        continue\n",
    "    # title = f\"{exp}: T: {T}ºC, Doping: {d}%, Time: {t}min\"\n",
    "    title = f\"Doping: {d}%\"\n",
    "\n",
    "    if i == 0:\n",
    "        axs[i].plot(predictions[2], predictions[0], color=\"C0\", label='Prediction')\n",
    "        axs[i].plot(predictions[2], predictions[1], color=\"C1\", label='labels')\n",
    "    else:\n",
    "        axs[i].plot(predictions[2], predictions[0], color=\"C0\")\n",
    "        axs[i].plot(predictions[2], predictions[1], color=\"C1\")\n",
    "    axs[i].set_title(title)\n",
    "\n",
    "    i+=1 \n",
    "    plt.savefig(f'preds/{group}.png')\n",
    "fig.legend(loc='center', bbox_to_anchor=(0.5,0), fancybox=True, shadow=True, ncol=2)\n",
    "fig.suptitle(f\"7_NPL-12_(3-8-23) and 8_NPL-13_(3-8-23): T: 25 ºC, Time: 60 min\")\n",
    "plt.legend()\n",
    "plt.show()\n"
   ]
  },
  {
   "cell_type": "code",
   "execution_count": null,
   "metadata": {},
   "outputs": [],
   "source": [
    "import matplotlib.pyplot as plt\n",
    "import seaborn as sns\n",
    "\n",
    "plt.rcParams.update(\n",
    "    {\n",
    "        \"figure.figsize\": (5.0, 5.0 / 1.2),\n",
    "    }\n",
    ")\n",
    "\n",
    "for group, predictions in one_out:\n",
    "    exp, T, d, t = group\n",
    "    title = f\"{exp}: T: {T}ºC, Doping: {d}%, Time: {t}min\"\n",
    "    plt.figure()\n",
    "    sns.lineplot(x=predictions[2], y=predictions[0], label='Prediction').set(title=title)\n",
    "    sns.lineplot(x=predictions[2], y=predictions[1], label='label')\n",
    "    plt.legend()\n",
    "    plt.savefig(f'preds/{group}.png')\n",
    "    fig.legend(loc='center', bbox_to_anchor=(0.5,0), fancybox=True, shadow=True, ncol=2)\n",
    "    plt.show()\n",
    "\n"
   ]
  },
  {
   "cell_type": "markdown",
   "metadata": {},
   "source": [
    "### Evaluate predictions"
   ]
  },
  {
   "cell_type": "code",
   "execution_count": null,
   "metadata": {},
   "outputs": [],
   "source": [
    "import numpy as np \n",
    "\n",
    "def _get_peaks(x, y):\n",
    "    peaks = []\n",
    "    th = 0.001\n",
    "    for i in range(1, len(x)-1):\n",
    "        if y[i] > y[i-1]+th and y[i] > y[i+1]+th:\n",
    "            peaks.append((x[i], y[i]))\n",
    "    return peaks\n",
    "\n",
    "def get_peaks(x, y):\n",
    "    x = np.array(x)\n",
    "    p1_i = np.where(x == 450)[0][0]\n",
    "    p1_e = np.where(x == 550)[0][0]\n",
    "    p2_i = np.where(x == 550)[0][0]\n",
    "    p2_e = np.where(x == 700)[0][0]\n",
    "\n",
    "    x1 = x[p1_i:p1_e]\n",
    "    y1 = y[p1_i:p1_e]\n",
    "    x2 = x[p2_i:p2_e]\n",
    "    y2 = y[p2_i:p2_e]\n",
    "\n",
    "    return x1[np.argmax(y1)], x2[np.argmax(y2)]\n",
    "\n",
    "def get_area_under_peaks(x, y, norm=None):\n",
    "    if not norm:\n",
    "        return np.trapz(y, x)\n",
    "    \n",
    "    x = np.array(x)\n",
    "    p1_i = np.where(x == 450)[0][0]\n",
    "    p1_e = np.where(x == 550)[0][0]\n",
    "    p2_i = np.where(x == 550)[0][0]\n",
    "    p2_e = np.where(x == 700)[0][0]\n",
    "\n",
    "    x1 = x[p1_i:p1_e]\n",
    "    y1 = y[p1_i:p1_e]\n",
    "    x2 = x[p2_i:p2_e]\n",
    "    y2 = y[p2_i:p2_e]\n",
    "\n",
    "    return np.trapz(y1, x1)/norm, np.trapz(y2, x2)/norm\n",
    "\n",
    "def process_spectrum(x, y, norm_area):\n",
    "    peaks = get_peaks(x, y)\n",
    "    areas = get_area_under_peaks(x, y, norm_area)\n",
    "    return peaks, areas"
   ]
  },
  {
   "cell_type": "code",
   "execution_count": null,
   "metadata": {},
   "outputs": [],
   "source": [
    "def rmse(a, b):\n",
    "    return np.sqrt(np.mean((a - b)**2))\n",
    "\n",
    "pred_dict = {\n",
    "    \"Peak1\": [],\n",
    "    \"Peak2\": [],\n",
    "    \"Area1\": [],\n",
    "    \"Area2\": [],\n",
    "    \"Distance_peaks\": []\n",
    "}\n",
    "label_dict = {\n",
    "    \"Peak1\": [],\n",
    "    \"Peak2\": [],\n",
    "    \"Area1\": [],\n",
    "    \"Area2\": [],\n",
    "    \"Distance_peaks\": []\n",
    "}\n",
    "\n",
    "for group, predictions in one_out:\n",
    "    pred_peak = get_peaks(predictions[2], predictions[0])\n",
    "    pred_norm_area = get_area_under_peaks(predictions[2], predictions[0])\n",
    "    pred_area = get_area_under_peaks(predictions[2], predictions[0], norm=pred_norm_area)\n",
    "\n",
    "    label_peak = get_peaks(predictions[2], predictions[1])\n",
    "    label_norm_area = get_area_under_peaks(predictions[2], predictions[1])\n",
    "    label_area = get_area_under_peaks(predictions[2], predictions[1], norm=label_norm_area)\n",
    "    \n",
    "    pred_dict[\"Peak1\"].append(pred_peak[0])\n",
    "    pred_dict[\"Peak2\"].append(pred_peak[1])\n",
    "    pred_dict[\"Area1\"].append(pred_area[0])\n",
    "    pred_dict[\"Area2\"].append(pred_area[1])\n",
    "    pred_dict[\"Distance_peaks\"].append(pred_peak[1] - pred_peak[0])\n",
    "\n",
    "    label_dict[\"Peak1\"].append(label_peak[0])\n",
    "    label_dict[\"Peak2\"].append(label_peak[1])\n",
    "    label_dict[\"Area1\"].append(label_area[0])\n",
    "    label_dict[\"Area2\"].append(label_area[1])\n",
    "    label_dict[\"Distance_peaks\"].append(label_peak[1] - label_peak[0])\n",
    "    \n",
    "    #plot\n",
    "    # exp, T, d, t = group\n",
    "    # title = f\"{exp}: T: {T}ºC, Doping: {d}%, Time: {t}min\"\n",
    "    # plt.figure()\n",
    "    # sns.lineplot(x=predictions[2], y=predictions[0], label='Prediction').set(title=title)\n",
    "    # sns.lineplot(x=predictions[2], y=predictions[1], label='label')\n",
    "    # plt.legend()\n",
    "    # plt.show()    \n",
    "\n",
    "for k in pred_dict.keys():\n",
    "    print(k, rmse(np.array(pred_dict[k]), np.array(label_dict[k])))"
   ]
  },
  {
   "cell_type": "code",
   "execution_count": null,
   "metadata": {},
   "outputs": [],
   "source": []
  },
  {
   "cell_type": "markdown",
   "metadata": {},
   "source": [
    "# bolift"
   ]
  },
  {
   "cell_type": "code",
   "execution_count": 3,
   "metadata": {},
   "outputs": [
    {
     "data": {
      "text/plain": [
       "True"
      ]
     },
     "execution_count": 3,
     "metadata": {},
     "output_type": "execute_result"
    }
   ],
   "source": [
    "import os\n",
    "import cloudpickle\n",
    "import bolift\n",
    "import seaborn as sns\n",
    "from dotenv import load_dotenv\n",
    "load_dotenv(\"../.env\")"
   ]
  },
  {
   "cell_type": "code",
   "execution_count": 17,
   "metadata": {},
   "outputs": [],
   "source": [
    "df = pd.read_csv('Data/procedures.tsv', sep=\"\\t\")\n",
    "prompts = df['prompt'].tolist()\n",
    "labels_f = df['obj_f'].tolist()\n"
   ]
  },
  {
   "cell_type": "markdown",
   "metadata": {},
   "source": [
    "## Testing prediction"
   ]
  },
  {
   "cell_type": "code",
   "execution_count": 18,
   "metadata": {},
   "outputs": [],
   "source": [
    "import numpy as np\n",
    "indexes = np.arange(len(prompts))\n",
    "np.random.shuffle(indexes)\n",
    "split = (len(indexes)-12)/len(indexes)\n",
    "\n",
    "train_indexes = indexes[:int(split*len(indexes))]\n",
    "test_indexes = indexes[int(split*len(indexes)):]"
   ]
  },
  {
   "cell_type": "code",
   "execution_count": 13,
   "metadata": {},
   "outputs": [],
   "source": [
    "asktell = bolift.AskTellFewShotTopk(\n",
    "    prefix=\"Complete the scoring ranking the last experiment.\"\\\n",
    "          \" Each answer should be numeric and ends with ###.\" \\\n",
    "          \" Use the following information to complete the prompt: \\n\",\n",
    "    x_formatter=lambda x: f\"the experimental procedure: {x}\",\n",
    "    y_name=\"the product of the quantum yield with the area under the fluorescence peak at 650 nm\",\n",
    "    y_formatter=lambda y: f\"{y:.2f}\",\n",
    "    model=\"gpt-4\",\n",
    "    selector_k=5,\n",
    "    temperature=0.7\n",
    ")\n",
    "\n",
    "for i in train_indexes:\n",
    "  if labels_f[i] >= 0:\n",
    "    asktell.tell(prompts[i], labels_f[i])"
   ]
  },
  {
   "cell_type": "code",
   "execution_count": 14,
   "metadata": {},
   "outputs": [],
   "source": [
    "yhat=[]\n",
    "y=[]\n",
    "for i in test_indexes:\n",
    "  yhat.append(asktell.predict(prompts[i]))\n",
    "  y.append(labels_f[i])"
   ]
  },
  {
   "cell_type": "code",
   "execution_count": 15,
   "metadata": {},
   "outputs": [
    {
     "name": "stdout",
     "output_type": "stream",
     "text": [
      "Stock nanoplatelets have dimensions 36.27 nm by 6.52 nm and the optical density of 100x hexanes dilution of stock is 0.12% recorded at 512nm. 0.5 mL nanoplatelets stock is diluted 7x by hexanes using 3.5 mL for each trial of doping. Silver acetate solution of 0.0007 M is made with 3.5 mg of silver acetate in 20 mL of MeOH and 8 mL of water. 3.0 % Ag doping requires 41.9 uL of silver doping solution, respectively. The reaction was performed at 1000 rpm for 10 minutes at 25 oC. Fluorescence of each doped sample was collected as a 30x dilution with hexanes. => 0.0594556662944905\n",
      "Stock nanoplatelets have dimensions 46.3494 nm by 8.0954 nm (375.21nm2) and the optical density of 100x hexanes dilution of stock is 0.31% recorded at 511nm. 0.5 mL nanoplatelets stock is diluted 7x by hexanes using 3.5 mL for each trial of doping. Silver acetate solution of 0.006 M is made with 14.0 mg of silver acetate in 9.9854 mL of MeOH and 3.9942 mL of water. 2.0 % Ag doping requires 13.372 uL of silver doping solution, respectively. The reaction was performed at 1000 rpm for 180.0 minutes at 25.0 oC. Fluorescence of each doped sample was collected as a 30x dilution with hexanes. => 0.0774763097680468\n",
      "Stock nanoplatelets have dimensions 18.8 nm by 14.04 nm and the optical density of 100x hexanes dilution of stock is 0.175% recorded at 512nm. 0.25 mL nanoplatelets stock is diluted 7x by hexanes using 1.75 mL for each trial of doping. Silver acetate solution of 0.006 M is made with 7.8 mg of silver acetate in 5 mL of MeOH and 2 mL of water. 10.0 % Ag doping requires 13.7 uL of silver doping solution, respectively. The reaction was performed at 1000 rpm for 60 minutes at 25 oC. Fluorescence of each doped sample was collected as a 30x dilution with hexanes. => 0.0148999021710387\n",
      "Stock nanoplatelets have dimensions 46.3494 nm by 8.095 nm and the optical density of 100x hexanes dilution of stock is 0.42% recorded at 512nm. 0.5 mL nanoplatelets stock is diluted 7x by hexanes using 3.5 mL for each trial of doping. Silver acetate solution of 0.006 M is made with 14.0 mg of silver acetate in 10 mL of MeOH and 4 mL of water. 5.0 % Ag doping requires 45.3 uL of silver doping solution, respectively. The reaction was performed at 1000 rpm for 60 minutes at 0 oC. Fluorescence of each doped sample was collected as a 30x dilution with hexanes. => 0.0754133733366124\n",
      "Stock nanoplatelets have dimensions 45.77 nm by 7.29 nm and the optical density of 100x hexanes dilution of stock is 0.26% recorded at 512nm. 0.5 mL nanoplatelets stock is diluted 7x by hexanes using 3.5 mL for each trial of doping. Silver acetate solution of 0.0007 M is made with 3.5 mg of silver acetate in 20 mL of MeOH and 8 mL of water. 1.0 % Ag doping requires 41.1 uL of silver doping solution, respectively. The reaction was performed at 1000 rpm for 10 minutes at 25 oC. Fluorescence of each doped sample was collected as a 30x dilution with hexanes. => 0.0066368576217327\n",
      "Stock nanoplatelets have dimensions 18.8 nm by 14.04 nm and the optical density of 100x hexanes dilution of stock is 0.175% recorded at 512nm. 0.25 mL nanoplatelets stock is diluted 7x by hexanes using 1.75 mL for each trial of doping. Silver acetate solution of 0.0007 M is made with 3.5 mg of silver acetate in 20 mL of MeOH and 8 mL of water. 0.25 % Ag doping requires 3.0 uL of silver doping solution, respectively. The reaction was performed at 1000 rpm for 60 minutes at 25 oC. Fluorescence of each doped sample was collected as a 30x dilution with hexanes. => 0.0188342458525587\n",
      "Stock nanoplatelets have dimensions 18.8 nm by 14.04 nm and the optical density of 100x hexanes dilution of stock is 0.175% recorded at 512nm. 0.25 mL nanoplatelets stock is diluted 7x by hexanes using 1.75 mL for each trial of doping. Silver acetate solution of 0.0007 M is made with 3.5 mg of silver acetate in 20 mL of MeOH and 8 mL of water. 0.75 % Ag doping requires 9.0 uL of silver doping solution, respectively. The reaction was performed at 1000 rpm for 60 minutes at 25 oC. Fluorescence of each doped sample was collected as a 30x dilution with hexanes. => 0.0312971617998213\n",
      "Stock nanoplatelets have dimensions 45.77 nm by 7.29 nm and the optical density of 100x hexanes dilution of stock is 0.26% recorded at 512nm. 0.5 mL nanoplatelets stock is diluted 7x by hexanes using 3.5 mL for each trial of doping. Silver acetate solution of 0.0007 M is made with 3.5 mg of silver acetate in 20 mL of MeOH and 8 mL of water. 1.0 % Ag doping requires 41.1 uL of silver doping solution, respectively. The reaction was performed at 1000 rpm for 10 minutes at 0 oC. Fluorescence of each doped sample was collected as a 30x dilution with hexanes. => 0.0068149718286686\n",
      "Stock nanoplatelets have dimensions 18.8 nm by 14.04 nm and the optical density of 100x hexanes dilution of stock is 0.175% recorded at 512nm. 0.25 mL nanoplatelets stock is diluted 7x by hexanes using 1.75 mL for each trial of doping. Silver acetate solution of 0.0007 M is made with 3.5 mg of silver acetate in 20 mL of MeOH and 8 mL of water. 3.0 % Ag doping requires 36.0 uL of silver doping solution, respectively. The reaction was performed at 1000 rpm for 60 minutes at 25 oC. Fluorescence of each doped sample was collected as a 30x dilution with hexanes. => 0.0256135675372237\n",
      "Stock nanoplatelets have dimensions 36.9235 nm by 7.4427 nm and the optical density of 100x hexanes dilution of stock is 0.12% recorded at 512nm. 0.5 mL nanoplatelets stock is diluted 7x by hexanes using 3.5 mL for each trial of doping. Silver acetate solution of 0.006 M is made with 14.0 mg of silver acetate in 10 mL of MeOH and 4 mL of water. 0.25 % Ag doping requires 0.51 uL of silver doping solution, respectively. The reaction was performed at 1000 rpm for 60 minutes at 25 oC. Fluorescence of each doped sample was collected as a 30x dilution with hexanes. => 0.0414102187421605\n",
      "Stock nanoplatelets have dimensions 35.0 nm by 15.0 nm and the optical density of 100x hexanes dilution of stock is 0.212% recorded at 512nm. 0.5 mL nanoplatelets stock is diluted 7x by hexanes using 3.5 mL for each trial of doping. Silver acetate solution of 0.0007 M is made with 3.5 mg of silver acetate in 20 mL of MeOH and 8 mL of water. 1.0 % Ag doping requires 46.12 uL of silver doping solution, respectively. The reaction was performed at 1000 rpm for 60 minutes at 25 oC. Fluorescence of each doped sample was collected as a 30x dilution with hexanes. => 0.0369906835535126\n",
      "Stock nanoplatelets have dimensions 18.8 nm by 14.04 nm and the optical density of 100x hexanes dilution of stock is 0.175% recorded at 512nm. 0.25 mL nanoplatelets stock is diluted 7x by hexanes using 1.75 mL for each trial of doping. Silver acetate solution of 0.006 M is made with 7.8 mg of silver acetate in 5 mL of MeOH and 2 mL of water. 1.25 % Ag doping requires 1.4 uL of silver doping solution, respectively. The reaction was performed at 1000 rpm for 60 minutes at 25 oC. Fluorescence of each doped sample was collected as a 30x dilution with hexanes. => 0.0863718694095204\n"
     ]
    },
    {
     "data": {
      "text/plain": [
       "(['0.04',\n",
       "  '0.08',\n",
       "  '0.07',\n",
       "  '0.08',\n",
       "  '0.01',\n",
       "  '0.02',\n",
       "  '0.02',\n",
       "  '0.01',\n",
       "  '0.02',\n",
       "  '0.04',\n",
       "  '0.02',\n",
       "  '0.05'],\n",
       " [0.0594556662944905,\n",
       "  0.0774763097680468,\n",
       "  0.0148999021710387,\n",
       "  0.0754133733366124,\n",
       "  0.0066368576217327,\n",
       "  0.0188342458525587,\n",
       "  0.0312971617998213,\n",
       "  0.0068149718286686,\n",
       "  0.0256135675372237,\n",
       "  0.0414102187421605,\n",
       "  0.0369906835535126,\n",
       "  0.0863718694095204])"
      ]
     },
     "execution_count": 15,
     "metadata": {},
     "output_type": "execute_result"
    }
   ],
   "source": [
    "for i in test_indexes:\n",
    "  print(f\"{prompts[i]} => {labels_f[i]}\")\n",
    "\n",
    "[f\"{i.mean():.2f}\" for i in yhat], y"
   ]
  },
  {
   "cell_type": "code",
   "execution_count": 16,
   "metadata": {},
   "outputs": [
    {
     "name": "stdout",
     "output_type": "stream",
     "text": [
      "|        predicted        |   label    |     AE     | \n",
      "|    0.04   +/-   0.01    |    0.06    |    0.02    |\n",
      "|    0.08   +/-   0.04    |    0.08    |    0.00    |\n",
      "|    0.07   +/-   0.01    |    0.01    |    0.06    |\n",
      "|    0.08   +/-   0.04    |    0.08    |    0.00    |\n",
      "|    0.01   +/-   0.00    |    0.01    |    0.00    |\n",
      "|    0.02   +/-   0.04    |    0.02    |    0.00    |\n",
      "|    0.02   +/-   0.04    |    0.03    |    0.01    |\n",
      "|    0.01   +/-   0.00    |    0.01    |    0.00    |\n",
      "|    0.02   +/-   0.00    |    0.03    |    0.00    |\n",
      "|    0.04   +/-   0.04    |    0.04    |    0.00    |\n",
      "|    0.02   +/-   0.00    |    0.04    |    0.01    |\n",
      "|    0.05   +/-   0.02    |    0.09    |    0.04    |\n",
      "\n",
      "              RMSE: 0.02              \n"
     ]
    },
    {
     "data": {
      "image/png": "[encoded data removed]",
      "text/plain": [
       "<Figure size 600x400 with 1 Axes>"
      ]
     },
     "metadata": {},
     "output_type": "display_data"
    }
   ],
   "source": [
    "def rmse(a, b):\n",
    "    a = np.array(a)\n",
    "    b = np.array(b)\n",
    "    return np.sqrt(np.mean((a - b)**2))\n",
    "\n",
    "sum = 0\n",
    "print(f\"| {'predicted':^23s} | {'label':^10s} | {'AE':^10s} | \")\n",
    "n = 0\n",
    "for ihat, i in zip(yhat, y):\n",
    "  n+=1\n",
    "  mae = abs(ihat.mean()-i)\n",
    "  print(f\"| {ihat.mean():^10.2f}+/-{ihat.std():^10.2f} | {i:^10.2f} | {mae:^10.2f} |\")\n",
    "  sum += mae\n",
    "print(f\"\\n{'RMSE: ':>20s}{rmse([ihat.mean() for ihat in yhat], y):<18.2f}\")\n",
    "\n",
    "import matplotlib.pyplot as plt\n",
    "y_plot    = np.array(y)[np.where(np.array(y) >= 0)]\n",
    "yhat_plot = np.array([ihat.mean() for ihat in yhat])[np.where(np.array(y) >= 0)]\n",
    "yerr_plot = np.array([ihat.std() for ihat in yhat])[np.where(np.array(y) >= 0)]\n",
    "plt.figure(figsize=(6, 4))\n",
    "plt.xlabel('label')\n",
    "plt.ylabel('predicted')\n",
    "plt.plot(y_plot, yhat_plot, 'o')\n",
    "plt.errorbar(y_plot, yhat_plot, yerr=yerr_plot, fmt='none')\n",
    "plt.title('f = QY * AUC2')\n",
    "plt.plot((0,0.2), (0,0.2), '--')\n",
    "plt.text(0, 0.15, f\"RMSE: {rmse(y_plot, yhat_plot):.2f}\", fontsize=12)\n",
    "plt.show()"
   ]
  },
  {
   "cell_type": "markdown",
   "metadata": {},
   "source": [
    "## Bayesian optimization"
   ]
  },
  {
   "cell_type": "code",
   "execution_count": 29,
   "metadata": {},
   "outputs": [],
   "source": [
    "proc_list = pd.read_csv('Data/procedures.tsv', sep='\\t')\n",
    "prompts, labels_f = proc_list['prompt'].tolist(), proc_list['obj_f'].tolist()\n",
    "\n",
    "pool_type = \"fixDim\"\n",
    "pool = cloudpickle.load(open(f'Data/pool_{pool_type}.pkl', 'rb'))\n",
    "pool_list = pd.read_csv(f\"Data/pool_{pool_type}.txt\", sep=';')\n"
   ]
  },
  {
   "cell_type": "code",
   "execution_count": 30,
   "metadata": {},
   "outputs": [
    {
     "name": "stdout",
     "output_type": "stream",
     "text": [
      "Pool of 7200 items with 0 selected\n",
      "Pool of 7200 items with 0 selected\n"
     ]
    }
   ],
   "source": [
    "asktell = bolift.AskTellFewShotTopk(\n",
    "    prefix=\"Complete the distance between the fluorescence peaks in the spectra measured for the last experiment.\"\\\n",
    "          \" Each answer should be numeric and ends with ###.\" \\\n",
    "          \" Use the following information to complete the prompt: \\n\",\n",
    "    x_formatter=lambda x: f\"the experimental procedure: {x}\",\n",
    "    y_name=\"the product of the quantum yield with the area under the fluorescence peak at 650 nm\",\n",
    "    y_formatter=lambda y: f\"{y:.2f}\",\n",
    "    model=\"gpt-4\",\n",
    "    selector_k=5,\n",
    "    temperature=0.7\n",
    ")\n",
    "\n",
    "print(pool)\n",
    "\n",
    "for p,l in zip(prompts, labels_f):\n",
    "  asktell.tell(p, float(l))\n",
    "  try:\n",
    "    pool.choose(p)\n",
    "  except:\n",
    "    continue\n",
    "\n",
    "print(pool)"
   ]
  },
  {
   "cell_type": "code",
   "execution_count": 25,
   "metadata": {},
   "outputs": [
    {
     "data": {
      "text/plain": [
       "0.1721152273629967"
      ]
     },
     "execution_count": 25,
     "metadata": {},
     "output_type": "execute_result"
    }
   ],
   "source": [
    "max(labels_f)"
   ]
  },
  {
   "cell_type": "code",
   "execution_count": 26,
   "metadata": {},
   "outputs": [
    {
     "data": {
      "text/plain": [
       "(['Stock nanoplatelets have dimensions 36.9235 nm by 7.4427 nm and the optical density of 100x hexanes dilution of stock is 0.212% recorded at 512nm. 0.5 mL nanoplatelets stock is diluted 7x by hexanes using 3.5 mL for each trial of doping. Silver acetate solution of 0.006 M is made with 14.0 mg of silver acetate in 10 mL of MeOH and 4 mL of water. 5.0 % Ag doping requires 15.1 uL of silver doping solution, respectively. The reaction was performed at 1000 rpm for 180 minutes at 50 oC. Fluorescence of each doped sample was collected as a 30x dilution with hexanes.',\n",
       "  'Stock nanoplatelets have dimensions 36.9235 nm by 7.4427 nm and the optical density of 100x hexanes dilution of stock is 0.26% recorded at 512nm. 0.5 mL nanoplatelets stock is diluted 7x by hexanes using 3.5 mL for each trial of doping. Silver acetate solution of 0.006 M is made with 14.0 mg of silver acetate in 10 mL of MeOH and 4 mL of water. 5.0 % Ag doping requires 15.1 uL of silver doping solution, respectively. The reaction was performed at 1000 rpm for 180 minutes at 25 oC. Fluorescence of each doped sample was collected as a 30x dilution with hexanes.',\n",
       "  'Stock nanoplatelets have dimensions 36.9235 nm by 7.4427 nm and the optical density of 100x hexanes dilution of stock is 0.42% recorded at 512nm. 0.5 mL nanoplatelets stock is diluted 7x by hexanes using 3.5 mL for each trial of doping. Silver acetate solution of 0.006 M is made with 14.0 mg of silver acetate in 10 mL of MeOH and 4 mL of water. 5.0 % Ag doping requires 30.3 uL of silver doping solution, respectively. The reaction was performed at 1000 rpm for 180 minutes at 50 oC. Fluorescence of each doped sample was collected as a 30x dilution with hexanes.',\n",
       "  'Stock nanoplatelets have dimensions 46.35 nm by 8.09 nm and the optical density of 100x hexanes dilution of stock is 0.42% recorded at 512nm. 0.5 mL nanoplatelets stock is diluted 7x by hexanes using 3.5 mL for each trial of doping. Silver acetate solution of 0.006 M is made with 14.0 mg of silver acetate in 10 mL of MeOH and 4 mL of water. 5.0 % Ag doping requires 30.3 uL of silver doping solution, respectively. The reaction was performed at 1000 rpm for 180 minutes at 25 oC. Fluorescence of each doped sample was collected as a 30x dilution with hexanes.',\n",
       "  'Stock nanoplatelets have dimensions 36.9235 nm by 7.4427 nm and the optical density of 100x hexanes dilution of stock is 0.26% recorded at 512nm. 0.5 mL nanoplatelets stock is diluted 7x by hexanes using 3.5 mL for each trial of doping. Silver acetate solution of 0.006 M is made with 14.0 mg of silver acetate in 10 mL of MeOH and 4 mL of water. 5.0 % Ag doping requires 30.3 uL of silver doping solution, respectively. The reaction was performed at 1000 rpm for 180 minutes at 0 oC. Fluorescence of each doped sample was collected as a 30x dilution with hexanes.'],\n",
       " [0.04188477263700331,\n",
       "  0.02673086358220198,\n",
       "  0.026307818109602643,\n",
       "  0.01357695452740066,\n",
       "  0.009153909054801318],\n",
       " [0.21400000000000002, 0.16, 0.19200000000000003, 0.114, 0.154])"
      ]
     },
     "execution_count": 26,
     "metadata": {},
     "output_type": "execute_result"
    }
   ],
   "source": [
    "selected = asktell.ask(pool, aq_fxn=\"expected_improvement\", k=5, inv_filter=15, aug_random_filter=1)\n",
    "selected"
   ]
  },
  {
   "cell_type": "code",
   "execution_count": 27,
   "metadata": {},
   "outputs": [
    {
     "name": "stdout",
     "output_type": "stream",
     "text": [
      "0.2140 +/- 0.0224\n",
      "0.1600 +/- 0.0704\n",
      "0.1920 +/- 0.0319\n",
      "0.1140 +/- 0.0641\n",
      "0.1540 +/- 0.0413\n"
     ]
    }
   ],
   "source": [
    "for p in asktell.predict(selected[0]):\n",
    "    print(f\"{p.mean():.4f} +/- {p.std():.4f}\")"
   ]
  }
 ],
 "metadata": {
  "kernelspec": {
   "display_name": "doe",
   "language": "python",
   "name": "python3"
  },
  "language_info": {
   "codemirror_mode": {
    "name": "ipython",
    "version": 3
   },
   "file_extension": ".py",
   "mimetype": "text/x-python",
   "name": "python",
   "nbconvert_exporter": "python",
   "pygments_lexer": "ipython3",
   "version": "3.11.4"
  },
  "orig_nbformat": 4
 },
 "nbformat": 4,
 "nbformat_minor": 2
}
